{
 "cells": [
  {
   "attachments": {},
   "cell_type": "markdown",
   "metadata": {},
   "source": [
    "> **Reference**<br>\n",
    "> * 시계열 데이터 분석 with 파이썬 강의(Jose Portilla, Udemy)\n",
    "> * [파이썬으로 배우는 알고리즘 트레이딩](https://wikidocs.net/4370)\n",
    "> * [Datareader GitHub](https://pandas-datareader.readthedocs.io/en/latest/index.html)\n",
    "> * [FinanceDataReader GitHub](https://financedata.github.io/posts/finance-data-reader-users-guide.html)"
   ]
  },
  {
   "attachments": {},
   "cell_type": "markdown",
   "metadata": {},
   "source": [
    "# **데이터 : 2022년 삼성전자 주가**"
   ]
  },
  {
   "attachments": {},
   "cell_type": "markdown",
   "metadata": {},
   "source": [
    "## **1. 주식 데이터 가져오기**"
   ]
  },
  {
   "attachments": {},
   "cell_type": "markdown",
   "metadata": {},
   "source": [
    "### **1) pandas-datareader 이용**\n",
    "* website(yahoo, naver ...)에서 직접 데이터를 가져온다.<br>\n",
    "제공하는 사이트는 다양하다. [github](https://pandas-datareader.readthedocs.io/en/latest/remote_data.html#remote-data-naver)에 사이트마다의 코드 예시가 설명되어 있다. \n",
    "* 종목코드, 시작일, 종료일이 필요하다. \n",
    "* Output: Open(시가), High(고가), Low(저가), Close(종가), Volume(거래량)"
   ]
  },
  {
   "cell_type": "code",
   "execution_count": 115,
   "metadata": {},
   "outputs": [
    {
     "data": {
      "text/html": [
       "<div>\n",
       "<style scoped>\n",
       "    .dataframe tbody tr th:only-of-type {\n",
       "        vertical-align: middle;\n",
       "    }\n",
       "\n",
       "    .dataframe tbody tr th {\n",
       "        vertical-align: top;\n",
       "    }\n",
       "\n",
       "    .dataframe thead th {\n",
       "        text-align: right;\n",
       "    }\n",
       "</style>\n",
       "<table border=\"1\" class=\"dataframe\">\n",
       "  <thead>\n",
       "    <tr style=\"text-align: right;\">\n",
       "      <th></th>\n",
       "      <th>Open</th>\n",
       "      <th>High</th>\n",
       "      <th>Low</th>\n",
       "      <th>Close</th>\n",
       "      <th>Volume</th>\n",
       "    </tr>\n",
       "    <tr>\n",
       "      <th>Date</th>\n",
       "      <th></th>\n",
       "      <th></th>\n",
       "      <th></th>\n",
       "      <th></th>\n",
       "      <th></th>\n",
       "    </tr>\n",
       "  </thead>\n",
       "  <tbody>\n",
       "    <tr>\n",
       "      <th>2022-01-03</th>\n",
       "      <td>79400</td>\n",
       "      <td>79800</td>\n",
       "      <td>78200</td>\n",
       "      <td>78600</td>\n",
       "      <td>13502112</td>\n",
       "    </tr>\n",
       "    <tr>\n",
       "      <th>2022-01-04</th>\n",
       "      <td>78800</td>\n",
       "      <td>79200</td>\n",
       "      <td>78300</td>\n",
       "      <td>78700</td>\n",
       "      <td>12427416</td>\n",
       "    </tr>\n",
       "    <tr>\n",
       "      <th>2022-01-05</th>\n",
       "      <td>78800</td>\n",
       "      <td>79000</td>\n",
       "      <td>76400</td>\n",
       "      <td>77400</td>\n",
       "      <td>25470640</td>\n",
       "    </tr>\n",
       "    <tr>\n",
       "      <th>2022-01-06</th>\n",
       "      <td>76700</td>\n",
       "      <td>77600</td>\n",
       "      <td>76600</td>\n",
       "      <td>76900</td>\n",
       "      <td>12931954</td>\n",
       "    </tr>\n",
       "    <tr>\n",
       "      <th>2022-01-07</th>\n",
       "      <td>78100</td>\n",
       "      <td>78400</td>\n",
       "      <td>77400</td>\n",
       "      <td>78300</td>\n",
       "      <td>15163757</td>\n",
       "    </tr>\n",
       "    <tr>\n",
       "      <th>...</th>\n",
       "      <td>...</td>\n",
       "      <td>...</td>\n",
       "      <td>...</td>\n",
       "      <td>...</td>\n",
       "      <td>...</td>\n",
       "    </tr>\n",
       "    <tr>\n",
       "      <th>2022-12-23</th>\n",
       "      <td>58200</td>\n",
       "      <td>58400</td>\n",
       "      <td>57700</td>\n",
       "      <td>58100</td>\n",
       "      <td>9829407</td>\n",
       "    </tr>\n",
       "    <tr>\n",
       "      <th>2022-12-26</th>\n",
       "      <td>58000</td>\n",
       "      <td>58100</td>\n",
       "      <td>57700</td>\n",
       "      <td>57900</td>\n",
       "      <td>6756411</td>\n",
       "    </tr>\n",
       "    <tr>\n",
       "      <th>2022-12-27</th>\n",
       "      <td>58000</td>\n",
       "      <td>58400</td>\n",
       "      <td>57900</td>\n",
       "      <td>58100</td>\n",
       "      <td>10667027</td>\n",
       "    </tr>\n",
       "    <tr>\n",
       "      <th>2022-12-28</th>\n",
       "      <td>57600</td>\n",
       "      <td>57600</td>\n",
       "      <td>56400</td>\n",
       "      <td>56600</td>\n",
       "      <td>14665410</td>\n",
       "    </tr>\n",
       "    <tr>\n",
       "      <th>2022-12-29</th>\n",
       "      <td>56000</td>\n",
       "      <td>56200</td>\n",
       "      <td>55300</td>\n",
       "      <td>55300</td>\n",
       "      <td>11295935</td>\n",
       "    </tr>\n",
       "  </tbody>\n",
       "</table>\n",
       "<p>246 rows × 5 columns</p>\n",
       "</div>"
      ],
      "text/plain": [
       "             Open   High    Low  Close    Volume\n",
       "Date                                            \n",
       "2022-01-03  79400  79800  78200  78600  13502112\n",
       "2022-01-04  78800  79200  78300  78700  12427416\n",
       "2022-01-05  78800  79000  76400  77400  25470640\n",
       "2022-01-06  76700  77600  76600  76900  12931954\n",
       "2022-01-07  78100  78400  77400  78300  15163757\n",
       "...           ...    ...    ...    ...       ...\n",
       "2022-12-23  58200  58400  57700  58100   9829407\n",
       "2022-12-26  58000  58100  57700  57900   6756411\n",
       "2022-12-27  58000  58400  57900  58100  10667027\n",
       "2022-12-28  57600  57600  56400  56600  14665410\n",
       "2022-12-29  56000  56200  55300  55300  11295935\n",
       "\n",
       "[246 rows x 5 columns]"
      ]
     },
     "execution_count": 115,
     "metadata": {},
     "output_type": "execute_result"
    }
   ],
   "source": [
    "import pandas_datareader.data as web        # pip install pandas-datareader\n",
    "\n",
    "samsung = web.DataReader(\"005930\", \"naver\", start=\"2022-01-01\", end=\"2022-12-31\")\n",
    "samsung"
   ]
  },
  {
   "attachments": {},
   "cell_type": "markdown",
   "metadata": {},
   "source": [
    "### **2) FinanceDataReader 이용**\n",
    "* Github에 따르면 pandas-datareader를 보완하기 위한 목적으로<br>\n",
    "거래소별 종목 코드 리스트를 가져오는 기능이 있다고 한다. \n",
    "* 주식 데이터 뿐만 아니라 각종 지수, 환율, 암호화폐도 가능하다.\n",
    "\n",
    "1. 종목코드 리스트 `fdr.StockListing()`\n",
    "    * KRX = KOSPI + KOSDAQ + KONEX\n",
    "    * NASDAQ\n",
    "    * NYSE\n",
    "    * AMEX\n",
    "    * SP500             \n",
    "&nbsp;\n",
    "\n",
    "2. 가격 데이터 `fdr.DataReader(code, start, end)`\n",
    "    * Output: Open(시가), High(고가), Low(저가), Close(종가), Volume(거래량), Change(전날대비 종가 상승률)    \n",
    "&nbsp;\n",
    "    <table style=\"width:90%\">\n",
    "        <tr>\n",
    "            <th style=\"width:15%; font-weight:bold\">code</th>\n",
    "            <th style=\"width:70%; font-weight:bold\">설명</th>      \n",
    "        </tr>\n",
    "        <tr>\n",
    "            <td>주식코드</td>\n",
    "            <td>한국 : 6자리 코드(ex.005930) / 미국 : 티커(ex.AAPL)</td>\n",
    "        </tr>\n",
    "        <tr>\n",
    "            <td>지수</td>\n",
    "            <td>한국: KS11, KQ11, KS50, KS100, KRX100, KS200<br>\n",
    "                미국: DJI, IXIC, US500, VIX<br>\n",
    "                기타: JP225, STOXX50E, CSI300, HSI, FTSE, DAX, CAC</td>\n",
    "        </tr>\n",
    "        <tr>\n",
    "            <td>환율</td>\n",
    "            <td>USD/KRW, USD/EUR, USD/JPY, CNY/KRW, EUR/USD, USD/JPY<br>\n",
    "                JPY/KRW, AUD/USD, EUR/JPY, USD/RUB</td>\n",
    "        </tr>\n",
    "        <tr>\n",
    "            <td>암호화폐</td>\n",
    "            <td>BTC, ETH, XRP, BCH, EOS, LTC, XLM / KRW, USD<br>\n",
    "                ex. BTC/KRW, BTC/USD</td>\n",
    "        </tr>\n",
    "        <tr>\n",
    "            <td>암호화폐 선물</td>\n",
    "            <td>BTC</td>\n",
    "        </tr>\n",
    "    </table>"
   ]
  },
  {
   "cell_type": "code",
   "execution_count": 116,
   "metadata": {},
   "outputs": [
    {
     "data": {
      "text/html": [
       "<div>\n",
       "<style scoped>\n",
       "    .dataframe tbody tr th:only-of-type {\n",
       "        vertical-align: middle;\n",
       "    }\n",
       "\n",
       "    .dataframe tbody tr th {\n",
       "        vertical-align: top;\n",
       "    }\n",
       "\n",
       "    .dataframe thead th {\n",
       "        text-align: right;\n",
       "    }\n",
       "</style>\n",
       "<table border=\"1\" class=\"dataframe\">\n",
       "  <thead>\n",
       "    <tr style=\"text-align: right;\">\n",
       "      <th></th>\n",
       "      <th>Open</th>\n",
       "      <th>High</th>\n",
       "      <th>Low</th>\n",
       "      <th>Close</th>\n",
       "      <th>Volume</th>\n",
       "      <th>Change</th>\n",
       "    </tr>\n",
       "    <tr>\n",
       "      <th>Date</th>\n",
       "      <th></th>\n",
       "      <th></th>\n",
       "      <th></th>\n",
       "      <th></th>\n",
       "      <th></th>\n",
       "      <th></th>\n",
       "    </tr>\n",
       "  </thead>\n",
       "  <tbody>\n",
       "    <tr>\n",
       "      <th>2022-01-03</th>\n",
       "      <td>79400</td>\n",
       "      <td>79800</td>\n",
       "      <td>78200</td>\n",
       "      <td>78600</td>\n",
       "      <td>13502112</td>\n",
       "      <td>0.003831</td>\n",
       "    </tr>\n",
       "    <tr>\n",
       "      <th>2022-01-04</th>\n",
       "      <td>78800</td>\n",
       "      <td>79200</td>\n",
       "      <td>78300</td>\n",
       "      <td>78700</td>\n",
       "      <td>12427416</td>\n",
       "      <td>0.001272</td>\n",
       "    </tr>\n",
       "    <tr>\n",
       "      <th>2022-01-05</th>\n",
       "      <td>78800</td>\n",
       "      <td>79000</td>\n",
       "      <td>76400</td>\n",
       "      <td>77400</td>\n",
       "      <td>25470640</td>\n",
       "      <td>-0.016518</td>\n",
       "    </tr>\n",
       "    <tr>\n",
       "      <th>2022-01-06</th>\n",
       "      <td>76700</td>\n",
       "      <td>77600</td>\n",
       "      <td>76600</td>\n",
       "      <td>76900</td>\n",
       "      <td>12931954</td>\n",
       "      <td>-0.006460</td>\n",
       "    </tr>\n",
       "    <tr>\n",
       "      <th>2022-01-07</th>\n",
       "      <td>78100</td>\n",
       "      <td>78400</td>\n",
       "      <td>77400</td>\n",
       "      <td>78300</td>\n",
       "      <td>15163757</td>\n",
       "      <td>0.018205</td>\n",
       "    </tr>\n",
       "    <tr>\n",
       "      <th>...</th>\n",
       "      <td>...</td>\n",
       "      <td>...</td>\n",
       "      <td>...</td>\n",
       "      <td>...</td>\n",
       "      <td>...</td>\n",
       "      <td>...</td>\n",
       "    </tr>\n",
       "    <tr>\n",
       "      <th>2022-12-23</th>\n",
       "      <td>58200</td>\n",
       "      <td>58400</td>\n",
       "      <td>57700</td>\n",
       "      <td>58100</td>\n",
       "      <td>9829407</td>\n",
       "      <td>-0.016920</td>\n",
       "    </tr>\n",
       "    <tr>\n",
       "      <th>2022-12-26</th>\n",
       "      <td>58000</td>\n",
       "      <td>58100</td>\n",
       "      <td>57700</td>\n",
       "      <td>57900</td>\n",
       "      <td>6756411</td>\n",
       "      <td>-0.003442</td>\n",
       "    </tr>\n",
       "    <tr>\n",
       "      <th>2022-12-27</th>\n",
       "      <td>58000</td>\n",
       "      <td>58400</td>\n",
       "      <td>57900</td>\n",
       "      <td>58100</td>\n",
       "      <td>10667027</td>\n",
       "      <td>0.003454</td>\n",
       "    </tr>\n",
       "    <tr>\n",
       "      <th>2022-12-28</th>\n",
       "      <td>57600</td>\n",
       "      <td>57600</td>\n",
       "      <td>56400</td>\n",
       "      <td>56600</td>\n",
       "      <td>14665410</td>\n",
       "      <td>-0.025818</td>\n",
       "    </tr>\n",
       "    <tr>\n",
       "      <th>2022-12-29</th>\n",
       "      <td>56000</td>\n",
       "      <td>56200</td>\n",
       "      <td>55300</td>\n",
       "      <td>55300</td>\n",
       "      <td>11295935</td>\n",
       "      <td>-0.022968</td>\n",
       "    </tr>\n",
       "  </tbody>\n",
       "</table>\n",
       "<p>246 rows × 6 columns</p>\n",
       "</div>"
      ],
      "text/plain": [
       "             Open   High    Low  Close    Volume    Change\n",
       "Date                                                      \n",
       "2022-01-03  79400  79800  78200  78600  13502112  0.003831\n",
       "2022-01-04  78800  79200  78300  78700  12427416  0.001272\n",
       "2022-01-05  78800  79000  76400  77400  25470640 -0.016518\n",
       "2022-01-06  76700  77600  76600  76900  12931954 -0.006460\n",
       "2022-01-07  78100  78400  77400  78300  15163757  0.018205\n",
       "...           ...    ...    ...    ...       ...       ...\n",
       "2022-12-23  58200  58400  57700  58100   9829407 -0.016920\n",
       "2022-12-26  58000  58100  57700  57900   6756411 -0.003442\n",
       "2022-12-27  58000  58400  57900  58100  10667027  0.003454\n",
       "2022-12-28  57600  57600  56400  56600  14665410 -0.025818\n",
       "2022-12-29  56000  56200  55300  55300  11295935 -0.022968\n",
       "\n",
       "[246 rows x 6 columns]"
      ]
     },
     "execution_count": 116,
     "metadata": {},
     "output_type": "execute_result"
    }
   ],
   "source": [
    "import FinanceDataReader as fdr     # pip install finance-datareader\n",
    "\n",
    "samsung = fdr.DataReader('005930', '2022-01-01', '2022-12-31')\n",
    "samsung"
   ]
  },
  {
   "attachments": {},
   "cell_type": "markdown",
   "metadata": {},
   "source": [
    "## **2. 주식 데이터 요약하기**"
   ]
  },
  {
   "cell_type": "code",
   "execution_count": 117,
   "metadata": {},
   "outputs": [],
   "source": [
    "import matplotlib.pyplot as plt \n",
    "import matplotlib as mpl\n",
    "from matplotlib import dates\n",
    "\n",
    "# 한글 폰트 설정\n",
    "mpl.rcParams['font.family'] = 'NanumGothic'\n",
    "mpl.rcParams['axes.unicode_minus'] = False"
   ]
  },
  {
   "attachments": {},
   "cell_type": "markdown",
   "metadata": {},
   "source": [
    "### **1) 월별 거래량**"
   ]
  },
  {
   "cell_type": "code",
   "execution_count": 118,
   "metadata": {},
   "outputs": [
    {
     "data": {
      "image/png": "[encoded data removed]",
      "text/plain": [
       "<Figure size 1000x300 with 1 Axes>"
      ]
     },
     "metadata": {},
     "output_type": "display_data"
    }
   ],
   "source": [
    "fig, ax = plt.subplots(figsize=(10, 3))\n",
    "df = samsung['Volume'].resample(rule='M').sum()\n",
    "df.plot.bar(rot=0, ax=ax)\n",
    "ax.set_title('2022년 삼성전자(005930) 월별 거래량', fontsize=15, fontweight='bold')\n",
    "ax.set_xticklabels(df.index.strftime('%b'))\n",
    "\n",
    "plt.show()"
   ]
  },
  {
   "attachments": {},
   "cell_type": "markdown",
   "metadata": {},
   "source": [
    "### **2) 2022년 종가 차트**"
   ]
  },
  {
   "cell_type": "code",
   "execution_count": 119,
   "metadata": {},
   "outputs": [
    {
     "data": {
      "image/png": "[encoded data removed]",
      "text/plain": [
       "<Figure size 1000x500 with 1 Axes>"
      ]
     },
     "metadata": {},
     "output_type": "display_data"
    }
   ],
   "source": [
    "samsung['MA5'] = samsung['Close'].rolling(window=5).mean()\n",
    "samsung['MA20'] = samsung['Close'].rolling(window=20).mean()\n",
    "samsung['MA60'] = samsung['Close'].rolling(window=60).mean()\n",
    "\n",
    "fig, ax = plt.subplots(figsize=(10, 5))\n",
    "\n",
    "samsung[['Close','MA5','MA20','MA60']].plot(ax=ax)\n",
    "ax.set_title('2022년 삼성전자(005930) 종가 차트', fontweight='bold', fontsize=15)\n",
    "ax.tick_params(axis='x', rotation=0)\n",
    "ax.xaxis.set_major_locator(dates.MonthLocator())\n",
    "ax.xaxis.set_major_formatter(dates.DateFormatter(\"%b\"))\n",
    "ax.legend(labels=['종가', '5일 이동평균선', '20일 이동평균선', '60일 이동평균선'])\n",
    "\n",
    "plt.show()"
   ]
  },
  {
   "attachments": {},
   "cell_type": "markdown",
   "metadata": {},
   "source": [
    "## **3) 6월 삼성(005930) 주식 차트 만들기**"
   ]
  },
  {
   "cell_type": "code",
   "execution_count": 141,
   "metadata": {},
   "outputs": [
    {
     "data": {
      "image/png": "[encoded data removed]",
      "text/plain": [
       "<Figure size 1500x1000 with 2 Axes>"
      ]
     },
     "metadata": {},
     "output_type": "display_data"
    }
   ],
   "source": [
    "from mpl_finance import candlestick2_ohlc\n",
    "import matplotlib.ticker as ticker\n",
    "\n",
    "samsung['Month'] = samsung.index.strftime('%m')\n",
    "df = samsung.loc[samsung['Month']==\"06\"]\n",
    "index = df.index.strftime('%d').astype('str')\n",
    "colors = df['Change'].apply(lambda x: 'b' if x > 0 else 'r').tolist()\n",
    "\n",
    "fig, ax = plt.subplots(2, 1, figsize=(15, 10), sharex=True,\n",
    "                       gridspec_kw={'height_ratios':[3,1]})\n",
    "\n",
    "# top figure\n",
    "ax[0].plot(index, df['MA5'])\n",
    "ax[0].plot(index, df['MA20'])\n",
    "ax[0].plot(index, df['MA60'])\n",
    "ax[0].set_title('2022년 6월 삼성전자(005930) 차트', fontweight='bold', fontsize=20, pad=20)\n",
    "candlestick2_ohlc(ax=ax[0], \n",
    "                  opens=df['Open'], \n",
    "                  highs=df['High'], \n",
    "                  lows=df['Low'], \n",
    "                  closes=df['Close'],\n",
    "                  width=0.5, colorup='r', colordown='b')\n",
    "\n",
    "# bottom figure\n",
    "ax[1].bar(index, df['Volume'], width=0.5, color=colors)\n",
    "\n",
    "plt.show()"
   ]
  },
  {
   "cell_type": "code",
   "execution_count": 121,
   "metadata": {},
   "outputs": [
    {
     "data": {
      "application/vnd.plotly.v1+json": {
       "config": {
        "plotlyServerURL": "https://plot.ly"
       },
       "data": [
        {
         "close": [
          78600,
          78700,
          77400,
          76900,
          78300,
          78000,
          78900,
          78900,
          77900,
          77300,
          77500,
          77000,
          76300,
          76500,
          75600,
          75100,
          74000,
          73300,
          71300,
          73300,
          73300,
          74000,
          73000,
          73500,
          74700,
          75400,
          74900,
          73700,
          73700,
          74800,
          75000,
          74300,
          74200,
          73400,
          73000,
          71500,
          71900,
          72100,
          71700,
          72900,
          71500,
          70100,
          69500,
          71200,
          70000,
          70200,
          69500,
          70400,
          71200,
          70700,
          69900,
          70300,
          70500,
          69800,
          69800,
          69700,
          70200,
          69900,
          69600,
          69100,
          69300,
          69200,
          68500,
          68000,
          67800,
          67900,
          67000,
          68700,
          67500,
          66600,
          66700,
          67300,
          67400,
          67700,
          67000,
          66300,
          66100,
          65000,
          64800,
          67400,
          67300,
          67500,
          67900,
          66500,
          66100,
          65700,
          65700,
          64900,
          66500,
          66300,
          67600,
          68100,
          67500,
          68000,
          67900,
          66500,
          66400,
          65900,
          66500,
          67700,
          67400,
          66700,
          66800,
          65500,
          65300,
          65200,
          63800,
          62100,
          61900,
          60700,
          60900,
          59800,
          58700,
          58500,
          57600,
          57400,
          58400,
          58800,
          59400,
          58000,
          57000,
          56200,
          57100,
          57200,
          56400,
          58200,
          58700,
          58800,
          58100,
          58000,
          57500,
          60000,
          61900,
          60900,
          60500,
          61800,
          61300,
          61100,
          61700,
          61800,
          61900,
          61400,
          61300,
          61700,
          61300,
          61500,
          61500,
          60800,
          60000,
          59100,
          59900,
          60200,
          61000,
          60400,
          61500,
          60900,
          60000,
          59100,
          59000,
          59700,
          60000,
          58600,
          58800,
          59700,
          58400,
          57500,
          57100,
          57100,
          56000,
          55600,
          58100,
          56800,
          56000,
          56200,
          56400,
          55800,
          55300,
          54400,
          54500,
          53900,
          54200,
          52900,
          52600,
          53100,
          55200,
          56000,
          56300,
          56200,
          55400,
          55800,
          55200,
          56300,
          56600,
          56500,
          55800,
          55500,
          55900,
          57500,
          57700,
          59400,
          59500,
          57300,
          59400,
          60000,
          59600,
          59200,
          59400,
          60200,
          61800,
          62000,
          60400,
          62900,
          61900,
          62400,
          62700,
          61400,
          61800,
          61400,
          60600,
          61000,
          61400,
          61000,
          60100,
          60600,
          62200,
          62600,
          60400,
          60300,
          59200,
          58900,
          59200,
          60400,
          59500,
          59700,
          60500,
          59300,
          59500,
          59500,
          58600,
          58000,
          59100,
          58100,
          57900,
          58100,
          56600,
          55300
         ],
         "high": [
          79800,
          79200,
          79000,
          77600,
          78400,
          78100,
          79000,
          79600,
          79300,
          78100,
          77800,
          77800,
          76900,
          76700,
          75800,
          75800,
          75000,
          74400,
          74000,
          73700,
          74900,
          74600,
          73600,
          74200,
          74700,
          75800,
          75500,
          74500,
          74200,
          74900,
          75600,
          74800,
          74300,
          73400,
          73800,
          72300,
          72600,
          72100,
          72400,
          73100,
          72700,
          70600,
          70000,
          71200,
          70700,
          70200,
          70100,
          70500,
          71800,
          70900,
          71000,
          70500,
          71200,
          70300,
          70200,
          69900,
          70300,
          70500,
          70200,
          69500,
          69300,
          69600,
          68800,
          68500,
          68300,
          68100,
          67700,
          69000,
          68700,
          67300,
          67100,
          68000,
          67400,
          68300,
          67300,
          66700,
          66700,
          65500,
          65500,
          67600,
          67600,
          68400,
          68400,
          67100,
          66900,
          66300,
          66300,
          65500,
          66700,
          67400,
          67900,
          68700,
          67600,
          68400,
          68800,
          67700,
          67100,
          67200,
          66900,
          67800,
          67500,
          67000,
          67300,
          66400,
          65700,
          65200,
          64400,
          62800,
          62200,
          61500,
          61800,
          59900,
          59900,
          59200,
          59100,
          58000,
          59100,
          59900,
          59500,
          58800,
          57600,
          57500,
          57400,
          58200,
          57300,
          58700,
          59300,
          59600,
          58700,
          58600,
          58200,
          60000,
          62000,
          61500,
          62100,
          61900,
          62200,
          61900,
          61900,
          61900,
          62600,
          62600,
          61700,
          61900,
          61600,
          61800,
          61900,
          61400,
          60700,
          59200,
          60000,
          60700,
          61600,
          61200,
          61900,
          61600,
          60400,
          59600,
          59500,
          59700,
          60900,
          58900,
          59000,
          59900,
          58900,
          58600,
          57800,
          57600,
          56700,
          56400,
          58500,
          57200,
          57100,
          56400,
          57000,
          57000,
          55500,
          54700,
          54900,
          54200,
          54200,
          54400,
          53700,
          53600,
          55400,
          57200,
          57300,
          56900,
          55700,
          57000,
          56100,
          56500,
          57000,
          57100,
          56900,
          56000,
          56300,
          57500,
          58600,
          59600,
          60100,
          59200,
          59900,
          60300,
          60000,
          59800,
          59500,
          60300,
          61900,
          62200,
          61500,
          63200,
          62900,
          62500,
          62700,
          62000,
          62400,
          61800,
          61200,
          61300,
          61700,
          61700,
          60500,
          60600,
          62200,
          63200,
          62500,
          61100,
          60100,
          59600,
          59200,
          60600,
          60000,
          60300,
          60600,
          60200,
          59500,
          59900,
          59100,
          59100,
          59100,
          58400,
          58100,
          58400,
          57600,
          56200
         ],
         "low": [
          78200,
          78300,
          76400,
          76600,
          77400,
          77100,
          78000,
          78600,
          77900,
          77100,
          76900,
          76600,
          76100,
          75900,
          74700,
          74700,
          73200,
          73100,
          71300,
          71200,
          73300,
          73400,
          72400,
          73000,
          74000,
          74700,
          74600,
          73100,
          73100,
          74200,
          74500,
          73700,
          72600,
          72800,
          72800,
          71300,
          71900,
          71000,
          71500,
          72200,
          71200,
          69900,
          68700,
          70500,
          69700,
          69600,
          69500,
          69700,
          70900,
          70200,
          69900,
          69900,
          70300,
          69600,
          69600,
          69200,
          69800,
          69800,
          69600,
          69000,
          68600,
          69100,
          68500,
          68000,
          67700,
          67400,
          67000,
          67200,
          67500,
          66500,
          66100,
          67000,
          66500,
          67500,
          66700,
          66300,
          66100,
          64900,
          64500,
          65000,
          66500,
          67300,
          67500,
          66500,
          66100,
          65300,
          65200,
          64900,
          65200,
          66100,
          66600,
          67600,
          66500,
          67700,
          67600,
          66500,
          65900,
          65500,
          66200,
          66900,
          66700,
          66400,
          66800,
          65400,
          65300,
          64500,
          63800,
          62100,
          61100,
          60200,
          60500,
          59400,
          58100,
          58200,
          57600,
          56800,
          57700,
          58300,
          58700,
          58000,
          57000,
          55900,
          55700,
          57200,
          56400,
          56300,
          58200,
          58700,
          58100,
          58000,
          57400,
          58100,
          60500,
          60200,
          60500,
          60700,
          61200,
          60800,
          60800,
          61200,
          61600,
          61300,
          60300,
          61000,
          61000,
          61200,
          61200,
          60600,
          59600,
          58600,
          59300,
          59400,
          60300,
          60300,
          60000,
          60600,
          59800,
          59000,
          59000,
          59000,
          59900,
          58600,
          58300,
          58200,
          58300,
          57500,
          56800,
          56900,
          55900,
          55600,
          56800,
          56100,
          56000,
          55500,
          56000,
          55800,
          55000,
          54300,
          54200,
          53600,
          53500,
          52500,
          52600,
          51800,
          54500,
          55400,
          56300,
          55200,
          54000,
          55200,
          55200,
          55800,
          55700,
          55800,
          55700,
          55100,
          55100,
          56700,
          57000,
          57700,
          58900,
          57200,
          58000,
          59500,
          59300,
          58100,
          58400,
          59400,
          60500,
          61300,
          60400,
          62300,
          61700,
          61600,
          61700,
          61300,
          61400,
          60800,
          60300,
          60700,
          60900,
          60800,
          59800,
          59800,
          60200,
          62300,
          60400,
          60000,
          59200,
          58500,
          58600,
          59300,
          59400,
          59400,
          59800,
          59300,
          58300,
          59100,
          58500,
          58000,
          58100,
          57700,
          57700,
          57900,
          56400,
          55300
         ],
         "open": [
          79400,
          78800,
          78800,
          76700,
          78100,
          78100,
          78400,
          79500,
          79300,
          77700,
          77600,
          77600,
          76500,
          76200,
          75800,
          75400,
          74800,
          73900,
          73800,
          71300,
          74900,
          74300,
          73500,
          73800,
          74300,
          75600,
          75000,
          74400,
          74100,
          74600,
          75000,
          74600,
          73200,
          73000,
          73800,
          72300,
          72100,
          71100,
          72300,
          72300,
          72700,
          70000,
          68800,
          70800,
          70500,
          70000,
          69800,
          70200,
          71200,
          70600,
          70900,
          69900,
          70600,
          69600,
          70100,
          69500,
          70000,
          70300,
          69900,
          69500,
          68900,
          69400,
          68600,
          68500,
          68100,
          67800,
          67600,
          67300,
          68700,
          67200,
          66500,
          67100,
          67000,
          67600,
          67200,
          66500,
          66400,
          65400,
          65400,
          65100,
          66600,
          67400,
          68000,
          67000,
          66300,
          65900,
          65500,
          65200,
          65300,
          67100,
          66600,
          68300,
          66500,
          67800,
          68800,
          67500,
          66700,
          66300,
          66700,
          67500,
          67500,
          66600,
          67200,
          66200,
          65400,
          65100,
          64000,
          62400,
          61200,
          61300,
          61300,
          59400,
          59800,
          58700,
          59000,
          57700,
          57900,
          59000,
          59200,
          58500,
          57200,
          56900,
          56100,
          57600,
          57300,
          56400,
          58600,
          59300,
          58600,
          58300,
          57500,
          58400,
          60600,
          61400,
          61800,
          61100,
          61800,
          60900,
          60800,
          61300,
          62300,
          62400,
          61000,
          61200,
          61600,
          61700,
          61700,
          61400,
          60600,
          58900,
          59600,
          59500,
          60500,
          61100,
          60300,
          61400,
          60300,
          59000,
          59200,
          59200,
          60300,
          58700,
          58700,
          58200,
          58700,
          58300,
          57400,
          57200,
          56700,
          56200,
          57000,
          56200,
          57000,
          55600,
          56300,
          56400,
          55400,
          54600,
          54400,
          53700,
          53800,
          53900,
          53300,
          52300,
          55300,
          56900,
          56700,
          55900,
          54400,
          55700,
          55400,
          56200,
          55800,
          56700,
          56700,
          55200,
          55100,
          57000,
          57000,
          58000,
          59700,
          58900,
          58100,
          59900,
          59700,
          58600,
          59100,
          59700,
          60500,
          62000,
          61400,
          63100,
          62900,
          62200,
          62400,
          62000,
          61800,
          61400,
          60900,
          61200,
          61200,
          61400,
          60500,
          59900,
          60400,
          63100,
          62500,
          60900,
          59800,
          58800,
          58700,
          59300,
          59900,
          59600,
          59800,
          59800,
          58300,
          59500,
          59000,
          58700,
          58100,
          58200,
          58000,
          58000,
          57600,
          56000
         ],
         "type": "candlestick",
         "x": [
          "2022-01-03T00:00:00",
          "2022-01-04T00:00:00",
          "2022-01-05T00:00:00",
          "2022-01-06T00:00:00",
          "2022-01-07T00:00:00",
          "2022-01-10T00:00:00",
          "2022-01-11T00:00:00",
          "2022-01-12T00:00:00",
          "2022-01-13T00:00:00",
          "2022-01-14T00:00:00",
          "2022-01-17T00:00:00",
          "2022-01-18T00:00:00",
          "2022-01-19T00:00:00",
          "2022-01-20T00:00:00",
          "2022-01-21T00:00:00",
          "2022-01-24T00:00:00",
          "2022-01-25T00:00:00",
          "2022-01-26T00:00:00",
          "2022-01-27T00:00:00",
          "2022-01-28T00:00:00",
          "2022-02-03T00:00:00",
          "2022-02-04T00:00:00",
          "2022-02-07T00:00:00",
          "2022-02-08T00:00:00",
          "2022-02-09T00:00:00",
          "2022-02-10T00:00:00",
          "2022-02-11T00:00:00",
          "2022-02-14T00:00:00",
          "2022-02-15T00:00:00",
          "2022-02-16T00:00:00",
          "2022-02-17T00:00:00",
          "2022-02-18T00:00:00",
          "2022-02-21T00:00:00",
          "2022-02-22T00:00:00",
          "2022-02-23T00:00:00",
          "2022-02-24T00:00:00",
          "2022-02-25T00:00:00",
          "2022-02-28T00:00:00",
          "2022-03-02T00:00:00",
          "2022-03-03T00:00:00",
          "2022-03-04T00:00:00",
          "2022-03-07T00:00:00",
          "2022-03-08T00:00:00",
          "2022-03-10T00:00:00",
          "2022-03-11T00:00:00",
          "2022-03-14T00:00:00",
          "2022-03-15T00:00:00",
          "2022-03-16T00:00:00",
          "2022-03-17T00:00:00",
          "2022-03-18T00:00:00",
          "2022-03-21T00:00:00",
          "2022-03-22T00:00:00",
          "2022-03-23T00:00:00",
          "2022-03-24T00:00:00",
          "2022-03-25T00:00:00",
          "2022-03-28T00:00:00",
          "2022-03-29T00:00:00",
          "2022-03-30T00:00:00",
          "2022-03-31T00:00:00",
          "2022-04-01T00:00:00",
          "2022-04-04T00:00:00",
          "2022-04-05T00:00:00",
          "2022-04-06T00:00:00",
          "2022-04-07T00:00:00",
          "2022-04-08T00:00:00",
          "2022-04-11T00:00:00",
          "2022-04-12T00:00:00",
          "2022-04-13T00:00:00",
          "2022-04-14T00:00:00",
          "2022-04-15T00:00:00",
          "2022-04-18T00:00:00",
          "2022-04-19T00:00:00",
          "2022-04-20T00:00:00",
          "2022-04-21T00:00:00",
          "2022-04-22T00:00:00",
          "2022-04-25T00:00:00",
          "2022-04-26T00:00:00",
          "2022-04-27T00:00:00",
          "2022-04-28T00:00:00",
          "2022-04-29T00:00:00",
          "2022-05-02T00:00:00",
          "2022-05-03T00:00:00",
          "2022-05-04T00:00:00",
          "2022-05-06T00:00:00",
          "2022-05-09T00:00:00",
          "2022-05-10T00:00:00",
          "2022-05-11T00:00:00",
          "2022-05-12T00:00:00",
          "2022-05-13T00:00:00",
          "2022-05-16T00:00:00",
          "2022-05-17T00:00:00",
          "2022-05-18T00:00:00",
          "2022-05-19T00:00:00",
          "2022-05-20T00:00:00",
          "2022-05-23T00:00:00",
          "2022-05-24T00:00:00",
          "2022-05-25T00:00:00",
          "2022-05-26T00:00:00",
          "2022-05-27T00:00:00",
          "2022-05-30T00:00:00",
          "2022-05-31T00:00:00",
          "2022-06-02T00:00:00",
          "2022-06-03T00:00:00",
          "2022-06-07T00:00:00",
          "2022-06-08T00:00:00",
          "2022-06-09T00:00:00",
          "2022-06-10T00:00:00",
          "2022-06-13T00:00:00",
          "2022-06-14T00:00:00",
          "2022-06-15T00:00:00",
          "2022-06-16T00:00:00",
          "2022-06-17T00:00:00",
          "2022-06-20T00:00:00",
          "2022-06-21T00:00:00",
          "2022-06-22T00:00:00",
          "2022-06-23T00:00:00",
          "2022-06-24T00:00:00",
          "2022-06-27T00:00:00",
          "2022-06-28T00:00:00",
          "2022-06-29T00:00:00",
          "2022-06-30T00:00:00",
          "2022-07-01T00:00:00",
          "2022-07-04T00:00:00",
          "2022-07-05T00:00:00",
          "2022-07-06T00:00:00",
          "2022-07-07T00:00:00",
          "2022-07-08T00:00:00",
          "2022-07-11T00:00:00",
          "2022-07-12T00:00:00",
          "2022-07-13T00:00:00",
          "2022-07-14T00:00:00",
          "2022-07-15T00:00:00",
          "2022-07-18T00:00:00",
          "2022-07-19T00:00:00",
          "2022-07-20T00:00:00",
          "2022-07-21T00:00:00",
          "2022-07-22T00:00:00",
          "2022-07-25T00:00:00",
          "2022-07-26T00:00:00",
          "2022-07-27T00:00:00",
          "2022-07-28T00:00:00",
          "2022-07-29T00:00:00",
          "2022-08-01T00:00:00",
          "2022-08-02T00:00:00",
          "2022-08-03T00:00:00",
          "2022-08-04T00:00:00",
          "2022-08-05T00:00:00",
          "2022-08-08T00:00:00",
          "2022-08-09T00:00:00",
          "2022-08-10T00:00:00",
          "2022-08-11T00:00:00",
          "2022-08-12T00:00:00",
          "2022-08-16T00:00:00",
          "2022-08-17T00:00:00",
          "2022-08-18T00:00:00",
          "2022-08-19T00:00:00",
          "2022-08-22T00:00:00",
          "2022-08-23T00:00:00",
          "2022-08-24T00:00:00",
          "2022-08-25T00:00:00",
          "2022-08-26T00:00:00",
          "2022-08-29T00:00:00",
          "2022-08-30T00:00:00",
          "2022-08-31T00:00:00",
          "2022-09-01T00:00:00",
          "2022-09-02T00:00:00",
          "2022-09-05T00:00:00",
          "2022-09-06T00:00:00",
          "2022-09-07T00:00:00",
          "2022-09-08T00:00:00",
          "2022-09-13T00:00:00",
          "2022-09-14T00:00:00",
          "2022-09-15T00:00:00",
          "2022-09-16T00:00:00",
          "2022-09-19T00:00:00",
          "2022-09-20T00:00:00",
          "2022-09-21T00:00:00",
          "2022-09-22T00:00:00",
          "2022-09-23T00:00:00",
          "2022-09-26T00:00:00",
          "2022-09-27T00:00:00",
          "2022-09-28T00:00:00",
          "2022-09-29T00:00:00",
          "2022-09-30T00:00:00",
          "2022-10-04T00:00:00",
          "2022-10-05T00:00:00",
          "2022-10-06T00:00:00",
          "2022-10-07T00:00:00",
          "2022-10-11T00:00:00",
          "2022-10-12T00:00:00",
          "2022-10-13T00:00:00",
          "2022-10-14T00:00:00",
          "2022-10-17T00:00:00",
          "2022-10-18T00:00:00",
          "2022-10-19T00:00:00",
          "2022-10-20T00:00:00",
          "2022-10-21T00:00:00",
          "2022-10-24T00:00:00",
          "2022-10-25T00:00:00",
          "2022-10-26T00:00:00",
          "2022-10-27T00:00:00",
          "2022-10-28T00:00:00",
          "2022-10-31T00:00:00",
          "2022-11-01T00:00:00",
          "2022-11-02T00:00:00",
          "2022-11-03T00:00:00",
          "2022-11-04T00:00:00",
          "2022-11-07T00:00:00",
          "2022-11-08T00:00:00",
          "2022-11-09T00:00:00",
          "2022-11-10T00:00:00",
          "2022-11-11T00:00:00",
          "2022-11-14T00:00:00",
          "2022-11-15T00:00:00",
          "2022-11-16T00:00:00",
          "2022-11-17T00:00:00",
          "2022-11-18T00:00:00",
          "2022-11-21T00:00:00",
          "2022-11-22T00:00:00",
          "2022-11-23T00:00:00",
          "2022-11-24T00:00:00",
          "2022-11-25T00:00:00",
          "2022-11-28T00:00:00",
          "2022-11-29T00:00:00",
          "2022-11-30T00:00:00",
          "2022-12-01T00:00:00",
          "2022-12-02T00:00:00",
          "2022-12-05T00:00:00",
          "2022-12-06T00:00:00",
          "2022-12-07T00:00:00",
          "2022-12-08T00:00:00",
          "2022-12-09T00:00:00",
          "2022-12-12T00:00:00",
          "2022-12-13T00:00:00",
          "2022-12-14T00:00:00",
          "2022-12-15T00:00:00",
          "2022-12-16T00:00:00",
          "2022-12-19T00:00:00",
          "2022-12-20T00:00:00",
          "2022-12-21T00:00:00",
          "2022-12-22T00:00:00",
          "2022-12-23T00:00:00",
          "2022-12-26T00:00:00",
          "2022-12-27T00:00:00",
          "2022-12-28T00:00:00",
          "2022-12-29T00:00:00"
         ]
        }
       ],
       "layout": {
        "template": {
         "data": {
          "bar": [
           {
            "error_x": {
             "color": "#2a3f5f"
            },
            "error_y": {
             "color": "#2a3f5f"
            },
            "marker": {
             "line": {
              "color": "#E5ECF6",
              "width": 0.5
             },
             "pattern": {
              "fillmode": "overlay",
              "size": 10,
              "solidity": 0.2
             }
            },
            "type": "bar"
           }
          ],
          "barpolar": [
           {
            "marker": {
             "line": {
              "color": "#E5ECF6",
              "width": 0.5
             },
             "pattern": {
              "fillmode": "overlay",
              "size": 10,
              "solidity": 0.2
             }
            },
            "type": "barpolar"
           }
          ],
          "carpet": [
           {
            "aaxis": {
             "endlinecolor": "#2a3f5f",
             "gridcolor": "white",
             "linecolor": "white",
             "minorgridcolor": "white",
             "startlinecolor": "#2a3f5f"
            },
            "baxis": {
             "endlinecolor": "#2a3f5f",
             "gridcolor": "white",
             "linecolor": "white",
             "minorgridcolor": "white",
             "startlinecolor": "#2a3f5f"
            },
            "type": "carpet"
           }
          ],
          "choropleth": [
           {
            "colorbar": {
             "outlinewidth": 0,
             "ticks": ""
            },
            "type": "choropleth"
           }
          ],
          "contour": [
           {
            "colorbar": {
             "outlinewidth": 0,
             "ticks": ""
            },
            "colorscale": [
             [
              0,
              "#0d0887"
             ],
             [
              0.1111111111111111,
              "#46039f"
             ],
             [
              0.2222222222222222,
              "#7201a8"
             ],
             [
              0.3333333333333333,
              "#9c179e"
             ],
             [
              0.4444444444444444,
              "#bd3786"
             ],
             [
              0.5555555555555556,
              "#d8576b"
             ],
             [
              0.6666666666666666,
              "#ed7953"
             ],
             [
              0.7777777777777778,
              "#fb9f3a"
             ],
             [
              0.8888888888888888,
              "#fdca26"
             ],
             [
              1,
              "#f0f921"
             ]
            ],
            "type": "contour"
           }
          ],
          "contourcarpet": [
           {
            "colorbar": {
             "outlinewidth": 0,
             "ticks": ""
            },
            "type": "contourcarpet"
           }
          ],
          "heatmap": [
           {
            "colorbar": {
             "outlinewidth": 0,
             "ticks": ""
            },
            "colorscale": [
             [
              0,
              "#0d0887"
             ],
             [
              0.1111111111111111,
              "#46039f"
             ],
             [
              0.2222222222222222,
              "#7201a8"
             ],
             [
              0.3333333333333333,
              "#9c179e"
             ],
             [
              0.4444444444444444,
              "#bd3786"
             ],
             [
              0.5555555555555556,
              "#d8576b"
             ],
             [
              0.6666666666666666,
              "#ed7953"
             ],
             [
              0.7777777777777778,
              "#fb9f3a"
             ],
             [
              0.8888888888888888,
              "#fdca26"
             ],
             [
              1,
              "#f0f921"
             ]
            ],
            "type": "heatmap"
           }
          ],
          "heatmapgl": [
           {
            "colorbar": {
             "outlinewidth": 0,
             "ticks": ""
            },
            "colorscale": [
             [
              0,
              "#0d0887"
             ],
             [
              0.1111111111111111,
              "#46039f"
             ],
             [
              0.2222222222222222,
              "#7201a8"
             ],
             [
              0.3333333333333333,
              "#9c179e"
             ],
             [
              0.4444444444444444,
              "#bd3786"
             ],
             [
              0.5555555555555556,
              "#d8576b"
             ],
             [
              0.6666666666666666,
              "#ed7953"
             ],
             [
              0.7777777777777778,
              "#fb9f3a"
             ],
             [
              0.8888888888888888,
              "#fdca26"
             ],
             [
              1,
              "#f0f921"
             ]
            ],
            "type": "heatmapgl"
           }
          ],
          "histogram": [
           {
            "marker": {
             "pattern": {
              "fillmode": "overlay",
              "size": 10,
              "solidity": 0.2
             }
            },
            "type": "histogram"
           }
          ],
          "histogram2d": [
           {
            "colorbar": {
             "outlinewidth": 0,
             "ticks": ""
            },
            "colorscale": [
             [
              0,
              "#0d0887"
             ],
             [
              0.1111111111111111,
              "#46039f"
             ],
             [
              0.2222222222222222,
              "#7201a8"
             ],
             [
              0.3333333333333333,
              "#9c179e"
             ],
             [
              0.4444444444444444,
              "#bd3786"
             ],
             [
              0.5555555555555556,
              "#d8576b"
             ],
             [
              0.6666666666666666,
              "#ed7953"
             ],
             [
              0.7777777777777778,
              "#fb9f3a"
             ],
             [
              0.8888888888888888,
              "#fdca26"
             ],
             [
              1,
              "#f0f921"
             ]
            ],
            "type": "histogram2d"
           }
          ],
          "histogram2dcontour": [
           {
            "colorbar": {
             "outlinewidth": 0,
             "ticks": ""
            },
            "colorscale": [
             [
              0,
              "#0d0887"
             ],
             [
              0.1111111111111111,
              "#46039f"
             ],
             [
              0.2222222222222222,
              "#7201a8"
             ],
             [
              0.3333333333333333,
              "#9c179e"
             ],
             [
              0.4444444444444444,
              "#bd3786"
             ],
             [
              0.5555555555555556,
              "#d8576b"
             ],
             [
              0.6666666666666666,
              "#ed7953"
             ],
             [
              0.7777777777777778,
              "#fb9f3a"
             ],
             [
              0.8888888888888888,
              "#fdca26"
             ],
             [
              1,
              "#f0f921"
             ]
            ],
            "type": "histogram2dcontour"
           }
          ],
          "mesh3d": [
           {
            "colorbar": {
             "outlinewidth": 0,
             "ticks": ""
            },
            "type": "mesh3d"
           }
          ],
          "parcoords": [
           {
            "line": {
             "colorbar": {
              "outlinewidth": 0,
              "ticks": ""
             }
            },
            "type": "parcoords"
           }
          ],
          "pie": [
           {
            "automargin": true,
            "type": "pie"
           }
          ],
          "scatter": [
           {
            "fillpattern": {
             "fillmode": "overlay",
             "size": 10,
             "solidity": 0.2
            },
            "type": "scatter"
           }
          ],
          "scatter3d": [
           {
            "line": {
             "colorbar": {
              "outlinewidth": 0,
              "ticks": ""
             }
            },
            "marker": {
             "colorbar": {
              "outlinewidth": 0,
              "ticks": ""
             }
            },
            "type": "scatter3d"
           }
          ],
          "scattercarpet": [
           {
            "marker": {
             "colorbar": {
              "outlinewidth": 0,
              "ticks": ""
             }
            },
            "type": "scattercarpet"
           }
          ],
          "scattergeo": [
           {
            "marker": {
             "colorbar": {
              "outlinewidth": 0,
              "ticks": ""
             }
            },
            "type": "scattergeo"
           }
          ],
          "scattergl": [
           {
            "marker": {
             "colorbar": {
              "outlinewidth": 0,
              "ticks": ""
             }
            },
            "type": "scattergl"
           }
          ],
          "scattermapbox": [
           {
            "marker": {
             "colorbar": {
              "outlinewidth": 0,
              "ticks": ""
             }
            },
            "type": "scattermapbox"
           }
          ],
          "scatterpolar": [
           {
            "marker": {
             "colorbar": {
              "outlinewidth": 0,
              "ticks": ""
             }
            },
            "type": "scatterpolar"
           }
          ],
          "scatterpolargl": [
           {
            "marker": {
             "colorbar": {
              "outlinewidth": 0,
              "ticks": ""
             }
            },
            "type": "scatterpolargl"
           }
          ],
          "scatterternary": [
           {
            "marker": {
             "colorbar": {
              "outlinewidth": 0,
              "ticks": ""
             }
            },
            "type": "scatterternary"
           }
          ],
          "surface": [
           {
            "colorbar": {
             "outlinewidth": 0,
             "ticks": ""
            },
            "colorscale": [
             [
              0,
              "#0d0887"
             ],
             [
              0.1111111111111111,
              "#46039f"
             ],
             [
              0.2222222222222222,
              "#7201a8"
             ],
             [
              0.3333333333333333,
              "#9c179e"
             ],
             [
              0.4444444444444444,
              "#bd3786"
             ],
             [
              0.5555555555555556,
              "#d8576b"
             ],
             [
              0.6666666666666666,
              "#ed7953"
             ],
             [
              0.7777777777777778,
              "#fb9f3a"
             ],
             [
              0.8888888888888888,
              "#fdca26"
             ],
             [
              1,
              "#f0f921"
             ]
            ],
            "type": "surface"
           }
          ],
          "table": [
           {
            "cells": {
             "fill": {
              "color": "#EBF0F8"
             },
             "line": {
              "color": "white"
             }
            },
            "header": {
             "fill": {
              "color": "#C8D4E3"
             },
             "line": {
              "color": "white"
             }
            },
            "type": "table"
           }
          ]
         },
         "layout": {
          "annotationdefaults": {
           "arrowcolor": "#2a3f5f",
           "arrowhead": 0,
           "arrowwidth": 1
          },
          "autotypenumbers": "strict",
          "coloraxis": {
           "colorbar": {
            "outlinewidth": 0,
            "ticks": ""
           }
          },
          "colorscale": {
           "diverging": [
            [
             0,
             "#8e0152"
            ],
            [
             0.1,
             "#c51b7d"
            ],
            [
             0.2,
             "#de77ae"
            ],
            [
             0.3,
             "#f1b6da"
            ],
            [
             0.4,
             "#fde0ef"
            ],
            [
             0.5,
             "#f7f7f7"
            ],
            [
             0.6,
             "#e6f5d0"
            ],
            [
             0.7,
             "#b8e186"
            ],
            [
             0.8,
             "#7fbc41"
            ],
            [
             0.9,
             "#4d9221"
            ],
            [
             1,
             "#276419"
            ]
           ],
           "sequential": [
            [
             0,
             "#0d0887"
            ],
            [
             0.1111111111111111,
             "#46039f"
            ],
            [
             0.2222222222222222,
             "#7201a8"
            ],
            [
             0.3333333333333333,
             "#9c179e"
            ],
            [
             0.4444444444444444,
             "#bd3786"
            ],
            [
             0.5555555555555556,
             "#d8576b"
            ],
            [
             0.6666666666666666,
             "#ed7953"
            ],
            [
             0.7777777777777778,
             "#fb9f3a"
            ],
            [
             0.8888888888888888,
             "#fdca26"
            ],
            [
             1,
             "#f0f921"
            ]
           ],
           "sequentialminus": [
            [
             0,
             "#0d0887"
            ],
            [
             0.1111111111111111,
             "#46039f"
            ],
            [
             0.2222222222222222,
             "#7201a8"
            ],
            [
             0.3333333333333333,
             "#9c179e"
            ],
            [
             0.4444444444444444,
             "#bd3786"
            ],
            [
             0.5555555555555556,
             "#d8576b"
            ],
            [
             0.6666666666666666,
             "#ed7953"
            ],
            [
             0.7777777777777778,
             "#fb9f3a"
            ],
            [
             0.8888888888888888,
             "#fdca26"
            ],
            [
             1,
             "#f0f921"
            ]
           ]
          },
          "colorway": [
           "#636efa",
           "#EF553B",
           "#00cc96",
           "#ab63fa",
           "#FFA15A",
           "#19d3f3",
           "#FF6692",
           "#B6E880",
           "#FF97FF",
           "#FECB52"
          ],
          "font": {
           "color": "#2a3f5f"
          },
          "geo": {
           "bgcolor": "white",
           "lakecolor": "white",
           "landcolor": "#E5ECF6",
           "showlakes": true,
           "showland": true,
           "subunitcolor": "white"
          },
          "hoverlabel": {
           "align": "left"
          },
          "hovermode": "closest",
          "mapbox": {
           "style": "light"
          },
          "paper_bgcolor": "white",
          "plot_bgcolor": "#E5ECF6",
          "polar": {
           "angularaxis": {
            "gridcolor": "white",
            "linecolor": "white",
            "ticks": ""
           },
           "bgcolor": "#E5ECF6",
           "radialaxis": {
            "gridcolor": "white",
            "linecolor": "white",
            "ticks": ""
           }
          },
          "scene": {
           "xaxis": {
            "backgroundcolor": "#E5ECF6",
            "gridcolor": "white",
            "gridwidth": 2,
            "linecolor": "white",
            "showbackground": true,
            "ticks": "",
            "zerolinecolor": "white"
           },
           "yaxis": {
            "backgroundcolor": "#E5ECF6",
            "gridcolor": "white",
            "gridwidth": 2,
            "linecolor": "white",
            "showbackground": true,
            "ticks": "",
            "zerolinecolor": "white"
           },
           "zaxis": {
            "backgroundcolor": "#E5ECF6",
            "gridcolor": "white",
            "gridwidth": 2,
            "linecolor": "white",
            "showbackground": true,
            "ticks": "",
            "zerolinecolor": "white"
           }
          },
          "shapedefaults": {
           "line": {
            "color": "#2a3f5f"
           }
          },
          "ternary": {
           "aaxis": {
            "gridcolor": "white",
            "linecolor": "white",
            "ticks": ""
           },
           "baxis": {
            "gridcolor": "white",
            "linecolor": "white",
            "ticks": ""
           },
           "bgcolor": "#E5ECF6",
           "caxis": {
            "gridcolor": "white",
            "linecolor": "white",
            "ticks": ""
           }
          },
          "title": {
           "x": 0.05
          },
          "xaxis": {
           "automargin": true,
           "gridcolor": "white",
           "linecolor": "white",
           "ticks": "",
           "title": {
            "standoff": 15
           },
           "zerolinecolor": "white",
           "zerolinewidth": 2
          },
          "yaxis": {
           "automargin": true,
           "gridcolor": "white",
           "linecolor": "white",
           "ticks": "",
           "title": {
            "standoff": 15
           },
           "zerolinecolor": "white",
           "zerolinewidth": 2
          }
         }
        }
       }
      }
     },
     "metadata": {},
     "output_type": "display_data"
    }
   ],
   "source": [
    "import plotly.graph_objs as go \n",
    "\n",
    "trace = go.Candlestick(x=samsung.index,\n",
    "                       open=samsung['Open'],\n",
    "                       high=samsung['High'],\n",
    "                       low=samsung['Low'],\n",
    "                       close=samsung['Close'])\n",
    "\n",
    "fig = go.Figure(data=[trace])\n",
    "fig.show()"
   ]
  }
 ],
 "metadata": {
  "kernelspec": {
   "display_name": "Python 3",
   "language": "python",
   "name": "python3"
  },
  "language_info": {
   "codemirror_mode": {
    "name": "ipython",
    "version": 3
   },
   "file_extension": ".py",
   "mimetype": "text/x-python",
   "name": "python",
   "nbconvert_exporter": "python",
   "pygments_lexer": "ipython3",
   "version": "3.10.10"
  },
  "orig_nbformat": 4
 },
 "nbformat": 4,
 "nbformat_minor": 2
}
