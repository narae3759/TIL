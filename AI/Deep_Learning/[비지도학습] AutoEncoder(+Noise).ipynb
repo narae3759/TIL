{
 "cells": [
  {
   "cell_type": "markdown",
   "id": "bae98dcd",
   "metadata": {},
   "source": [
    "# **Auto Encoder(+Noise)**"
   ]
  },
  {
   "cell_type": "markdown",
   "id": "5b90f39a",
   "metadata": {},
   "source": [
    "# **Settings**"
   ]
  },
  {
   "cell_type": "code",
   "execution_count": 1,
   "id": "8b67ce95",
   "metadata": {},
   "outputs": [],
   "source": [
    "import os\n",
    "# os.chdir('/content/drive/MyDrive/Colab Notebooks/메타버스 아카데미/Data/')\n",
    "import warnings\n",
    "warnings.filterwarnings('ignore')                       # warning 출력 false\n",
    "\n",
    "import pandas as pd\n",
    "import numpy as np\n",
    "import matplotlib.pyplot as plt\n",
    "import koreanize_matplotlib\n",
    "from mpl_toolkits.mplot3d import Axes3D\n",
    "from matplotlib import cm \n",
    "\n",
    "import torch\n",
    "import torchvision \n",
    "import torch.nn.functional as F\n",
    "from torch import nn, optim\n",
    "from torchvision.transforms import ToTensor\n",
    "from torchvision.datasets.mnist import MNIST"
   ]
  },
  {
   "cell_type": "markdown",
   "id": "ed5107e0",
   "metadata": {},
   "source": [
    "# **1. 데이터 불러오기**"
   ]
  },
  {
   "cell_type": "code",
   "execution_count": 2,
   "id": "f9ac0edf",
   "metadata": {},
   "outputs": [],
   "source": [
    "# 가우시안 노이즈 추가 함수\n",
    "def gaussian_noise(x, scale=0.8):\n",
    "    gaussian_data_x = x + np.random.normal(loc=0, scale=scale, size=x.shape)\n",
    "    gaussian_data_x = np.clip(gaussian_data_x,0,1)\n",
    "    gaussian_data_x = torch.tensor(gaussian_data_x)\n",
    "    gaussian_data_x = gaussian_data_x.type(torch.FloatTensor)\n",
    "    \n",
    "    return gaussian_data_x"
   ]
  },
  {
   "cell_type": "code",
   "execution_count": 3,
   "id": "a0d102ec",
   "metadata": {},
   "outputs": [],
   "source": [
    "train_data = MNIST(root='./metaverse',train=True,download=True,transform=ToTensor())\n",
    "test_data = MNIST(root='./metaverse',train=False,download=True,transform=ToTensor())"
   ]
  },
  {
   "cell_type": "code",
   "execution_count": 4,
   "id": "aa0a6c23",
   "metadata": {},
   "outputs": [
    {
     "data": {
      "text/plain": [
       "Text(0.5, 1.0, '가우시안 노이즈 추가')"
      ]
     },
     "execution_count": 4,
     "metadata": {},
     "output_type": "execute_result"
    },
    {
     "data": {
      "image/png": "[encoded data removed]",
      "text/plain": [
       "<Figure size 700x400 with 2 Axes>"
      ]
     },
     "metadata": {},
     "output_type": "display_data"
    }
   ],
   "source": [
    "img = train_data.data[0]\n",
    "img_noise = gaussian_noise(img)\n",
    "\n",
    "fig, ax = plt.subplots(1,2,figsize=(7,4))\n",
    "ax[0].imshow(img.numpy(),cmap='gray')\n",
    "ax[0].set_title('원본')\n",
    "ax[1].imshow(img_noise.numpy(),cmap='gray')\n",
    "ax[1].set_title('가우시안 노이즈 추가')"
   ]
  },
  {
   "cell_type": "markdown",
   "id": "1b4486a0",
   "metadata": {},
   "source": [
    "# **2. 데이터 만들기**"
   ]
  },
  {
   "cell_type": "code",
   "execution_count": 5,
   "id": "ae5ed194",
   "metadata": {},
   "outputs": [],
   "source": [
    "from torch.utils.data.dataset import Dataset\n",
    "\n",
    "class Denoising(Dataset):\n",
    "    def __init__(self):\n",
    "        self.mnist = MNIST(root='./metaverse',train=True,download=True,transform=ToTensor())\n",
    "        \n",
    "        self.data = []\n",
    "        for temp in range(len(self.mnist)):\n",
    "            noise_input = gaussian_noise(self.mnist.data[temp])\n",
    "            input_tensor = torch.tensor(noise_input)\n",
    "            self.data.append(torch.unsqueeze(input_tensor,dim=0))\n",
    "        \n",
    "    def __len__(self):\n",
    "        return len(self.data)\n",
    "    \n",
    "    def __getitem__(self, i):\n",
    "        data = self.data[i]\n",
    "        label = self.mnist.data[i]/255\n",
    "        \n",
    "        return data, label"
   ]
  },
  {
   "cell_type": "code",
   "execution_count": 6,
   "id": "f6ffc970",
   "metadata": {},
   "outputs": [],
   "source": [
    "device = 'cuda' if torch.cuda.is_available() else 'cpu'"
   ]
  },
  {
   "cell_type": "markdown",
   "id": "274b57fa",
   "metadata": {},
   "source": [
    "# **3. 모델 설정**"
   ]
  },
  {
   "cell_type": "code",
   "execution_count": 7,
   "id": "4a4a0207",
   "metadata": {},
   "outputs": [],
   "source": [
    "class BasicBlock(nn.Module):\n",
    "    def __init__(self, in_channel, out_channel, hidden_dim):\n",
    "        super(BasicBlock,self).__init__()\n",
    "        \n",
    "        self.conv1 = nn.Conv2d(in_channel,hidden_dim,kernel_size=3,padding=1)\n",
    "        self.conv2 = nn.Conv2d(hidden_dim,out_channel,kernel_size=3,padding=1)\n",
    "        \n",
    "        self.relu = nn.ReLU()\n",
    "        \n",
    "    def forward(self, x):\n",
    "        x = self.conv1(x)\n",
    "        x = self.relu(x)\n",
    "        x = self.conv2(x)\n",
    "        x = self.relu(x)\n",
    "        \n",
    "        return x\n"
   ]
  },
  {
   "cell_type": "code",
   "execution_count": 8,
   "id": "5d5e29f0",
   "metadata": {},
   "outputs": [],
   "source": [
    "class Encoder(nn.Module):\n",
    "    def __init__(self):\n",
    "        super(Encoder,self).__init__()\n",
    "        \n",
    "        self.conv1 = BasicBlock(in_channel=1,hidden_dim=16,out_channel=16)\n",
    "        self.conv2 = BasicBlock(in_channel=16,hidden_dim=8,out_channel=8)\n",
    "        \n",
    "        self.pool = nn.AvgPool2d(kernel_size=2, stride=2)\n",
    "        \n",
    "    def forward(self, x):\n",
    "        x = self.conv1(x)\n",
    "        x = self.pool(x)\n",
    "        x = self.conv2(x)\n",
    "        x = self.pool(x)\n",
    "        \n",
    "        return x"
   ]
  },
  {
   "cell_type": "code",
   "execution_count": 9,
   "id": "2a695714",
   "metadata": {},
   "outputs": [
    {
     "name": "stdout",
     "output_type": "stream",
     "text": [
      "----------------------------------------------------------------\n",
      "        Layer (type)               Output Shape         Param #\n",
      "================================================================\n",
      "            Conv2d-1           [-1, 16, 28, 28]             160\n",
      "              ReLU-2           [-1, 16, 28, 28]               0\n",
      "            Conv2d-3           [-1, 16, 28, 28]           2,320\n",
      "              ReLU-4           [-1, 16, 28, 28]               0\n",
      "        BasicBlock-5           [-1, 16, 28, 28]               0\n",
      "         AvgPool2d-6           [-1, 16, 14, 14]               0\n",
      "            Conv2d-7            [-1, 8, 14, 14]           1,160\n",
      "              ReLU-8            [-1, 8, 14, 14]               0\n",
      "            Conv2d-9            [-1, 8, 14, 14]             584\n",
      "             ReLU-10            [-1, 8, 14, 14]               0\n",
      "       BasicBlock-11            [-1, 8, 14, 14]               0\n",
      "        AvgPool2d-12              [-1, 8, 7, 7]               0\n",
      "================================================================\n",
      "Total params: 4,224\n",
      "Trainable params: 4,224\n",
      "Non-trainable params: 0\n",
      "----------------------------------------------------------------\n",
      "Input size (MB): 0.00\n",
      "Forward/backward pass size (MB): 0.57\n",
      "Params size (MB): 0.02\n",
      "Estimated Total Size (MB): 0.58\n",
      "----------------------------------------------------------------\n"
     ]
    }
   ],
   "source": [
    "from torchsummary import summary\n",
    "\n",
    "encoder = Encoder().to(device)\n",
    "summary(encoder, input_size=(1,28,28))"
   ]
  },
  {
   "cell_type": "markdown",
   "id": "0131a07b",
   "metadata": {},
   "source": [
    "## ***! Note `nn.ConvTranspose2d`***\n",
    "* 이미지 복원 계산법 nn.ConvTranspose2d\n",
    "* (size - 1) * stride - 2*padding + kernel_size"
   ]
  },
  {
   "cell_type": "code",
   "execution_count": 10,
   "id": "f2ff3953",
   "metadata": {},
   "outputs": [],
   "source": [
    "class Decoder(nn.Module):\n",
    "    def __init__(self):\n",
    "        super(Decoder, self).__init__()\n",
    "\n",
    "        self.conv1 = BasicBlock(8,8,8)\n",
    "        self.conv2 = BasicBlock(8,16,16)\n",
    "        self.conv3 = nn.Conv2d(16,1,kernel_size=3,padding=1)\n",
    "\n",
    "        self.upsample1= nn.ConvTranspose2d(8,8,kernel_size=2,stride=2)\n",
    "        self.upsample2= nn.ConvTranspose2d(16,16,kernel_size=2,stride=2)\n",
    "\n",
    "    def forward(self,x):\n",
    "        x = self.conv1(x)\n",
    "        x = self.upsample1(x)\n",
    "        x = self.conv2(x)\n",
    "        x = self.upsample2(x)\n",
    "        x = self.conv3(x)\n",
    "        \n",
    "        return x"
   ]
  },
  {
   "cell_type": "code",
   "execution_count": 11,
   "id": "e4b5847f",
   "metadata": {},
   "outputs": [
    {
     "name": "stdout",
     "output_type": "stream",
     "text": [
      "----------------------------------------------------------------\n",
      "        Layer (type)               Output Shape         Param #\n",
      "================================================================\n",
      "            Conv2d-1              [-1, 8, 7, 7]             584\n",
      "              ReLU-2              [-1, 8, 7, 7]               0\n",
      "            Conv2d-3              [-1, 8, 7, 7]             584\n",
      "              ReLU-4              [-1, 8, 7, 7]               0\n",
      "        BasicBlock-5              [-1, 8, 7, 7]               0\n",
      "   ConvTranspose2d-6            [-1, 8, 14, 14]             264\n",
      "            Conv2d-7           [-1, 16, 14, 14]           1,168\n",
      "              ReLU-8           [-1, 16, 14, 14]               0\n",
      "            Conv2d-9           [-1, 16, 14, 14]           2,320\n",
      "             ReLU-10           [-1, 16, 14, 14]               0\n",
      "       BasicBlock-11           [-1, 16, 14, 14]               0\n",
      "  ConvTranspose2d-12           [-1, 16, 28, 28]           1,040\n",
      "           Conv2d-13            [-1, 1, 28, 28]             145\n",
      "================================================================\n",
      "Total params: 6,105\n",
      "Trainable params: 6,105\n",
      "Non-trainable params: 0\n",
      "----------------------------------------------------------------\n",
      "Input size (MB): 0.00\n",
      "Forward/backward pass size (MB): 0.25\n",
      "Params size (MB): 0.02\n",
      "Estimated Total Size (MB): 0.27\n",
      "----------------------------------------------------------------\n"
     ]
    }
   ],
   "source": [
    "decoder = Decoder().to(device)\n",
    "summary(decoder, input_size=(8,7,7))"
   ]
  },
  {
   "cell_type": "code",
   "execution_count": 12,
   "id": "44ec8dbe",
   "metadata": {},
   "outputs": [],
   "source": [
    "class Model(nn.Module):\n",
    "    def __init__(self):\n",
    "        super(Model,self).__init__()\n",
    "        \n",
    "        self.encoder = Encoder()\n",
    "        self.decoder = Decoder()\n",
    "        \n",
    "    def forward(self, x):\n",
    "        x = self.encoder(x)\n",
    "        x = self.decoder(x)\n",
    "        x = torch.squeeze(x)\n",
    "    \n",
    "        return x"
   ]
  },
  {
   "cell_type": "code",
   "execution_count": 13,
   "id": "aa6c8cc9",
   "metadata": {},
   "outputs": [],
   "source": [
    "device = 'cuda' if torch.cuda.is_available() else 'cpu'"
   ]
  },
  {
   "cell_type": "code",
   "execution_count": 14,
   "id": "241a55ea",
   "metadata": {},
   "outputs": [],
   "source": [
    "from torch.utils.data import DataLoader\n",
    "from torch.optim import Adam\n",
    "\n",
    "train_data = Denoising()\n",
    "train_loader = DataLoader(train_data, batch_size=32)\n",
    "\n",
    "model = Model().to(device)\n",
    "\n",
    "optimizer = Adam(model.parameters(), lr=1e-3)\n",
    "criterion = nn.MSELoss()"
   ]
  },
  {
   "cell_type": "code",
   "execution_count": 15,
   "id": "4f8f836b",
   "metadata": {},
   "outputs": [
    {
     "name": "stderr",
     "output_type": "stream",
     "text": [
      "100%|█████████████████████████████████████████████████████████████████████████████| 1875/1875 [00:11<00:00, 161.99it/s]\n"
     ]
    },
    {
     "name": "stdout",
     "output_type": "stream",
     "text": [
      "epoch 1  loss 0.013161206617951393\n"
     ]
    },
    {
     "name": "stderr",
     "output_type": "stream",
     "text": [
      "100%|█████████████████████████████████████████████████████████████████████████████| 1875/1875 [00:11<00:00, 165.03it/s]\n"
     ]
    },
    {
     "name": "stdout",
     "output_type": "stream",
     "text": [
      "epoch 2  loss 0.010907971300184727\n"
     ]
    },
    {
     "name": "stderr",
     "output_type": "stream",
     "text": [
      "100%|█████████████████████████████████████████████████████████████████████████████| 1875/1875 [00:11<00:00, 160.85it/s]\n"
     ]
    },
    {
     "name": "stdout",
     "output_type": "stream",
     "text": [
      "epoch 3  loss 0.009781445376574993\n"
     ]
    },
    {
     "name": "stderr",
     "output_type": "stream",
     "text": [
      "100%|█████████████████████████████████████████████████████████████████████████████| 1875/1875 [00:12<00:00, 149.78it/s]\n"
     ]
    },
    {
     "name": "stdout",
     "output_type": "stream",
     "text": [
      "epoch 4  loss 0.009502368047833443\n"
     ]
    },
    {
     "name": "stderr",
     "output_type": "stream",
     "text": [
      "100%|█████████████████████████████████████████████████████████████████████████████| 1875/1875 [00:12<00:00, 149.04it/s]\n"
     ]
    },
    {
     "name": "stdout",
     "output_type": "stream",
     "text": [
      "epoch 5  loss 0.009510456584393978\n"
     ]
    },
    {
     "name": "stderr",
     "output_type": "stream",
     "text": [
      "100%|█████████████████████████████████████████████████████████████████████████████| 1875/1875 [00:12<00:00, 149.91it/s]\n"
     ]
    },
    {
     "name": "stdout",
     "output_type": "stream",
     "text": [
      "epoch 6  loss 0.009393141604959965\n"
     ]
    },
    {
     "name": "stderr",
     "output_type": "stream",
     "text": [
      "100%|█████████████████████████████████████████████████████████████████████████████| 1875/1875 [00:12<00:00, 151.46it/s]\n"
     ]
    },
    {
     "name": "stdout",
     "output_type": "stream",
     "text": [
      "epoch 7  loss 0.009005752392113209\n"
     ]
    },
    {
     "name": "stderr",
     "output_type": "stream",
     "text": [
      "100%|█████████████████████████████████████████████████████████████████████████████| 1875/1875 [00:12<00:00, 152.69it/s]\n"
     ]
    },
    {
     "name": "stdout",
     "output_type": "stream",
     "text": [
      "epoch 8  loss 0.008093627169728279\n"
     ]
    },
    {
     "name": "stderr",
     "output_type": "stream",
     "text": [
      "100%|█████████████████████████████████████████████████████████████████████████████| 1875/1875 [00:12<00:00, 151.53it/s]\n"
     ]
    },
    {
     "name": "stdout",
     "output_type": "stream",
     "text": [
      "epoch 9  loss 0.007820319384336472\n"
     ]
    },
    {
     "name": "stderr",
     "output_type": "stream",
     "text": [
      "100%|█████████████████████████████████████████████████████████████████████████████| 1875/1875 [00:12<00:00, 151.08it/s]\n"
     ]
    },
    {
     "name": "stdout",
     "output_type": "stream",
     "text": [
      "epoch 10  loss 0.007693931460380554\n"
     ]
    },
    {
     "name": "stderr",
     "output_type": "stream",
     "text": [
      "100%|█████████████████████████████████████████████████████████████████████████████| 1875/1875 [00:12<00:00, 155.05it/s]\n"
     ]
    },
    {
     "name": "stdout",
     "output_type": "stream",
     "text": [
      "epoch 11  loss 0.007457586005330086\n"
     ]
    },
    {
     "name": "stderr",
     "output_type": "stream",
     "text": [
      "100%|█████████████████████████████████████████████████████████████████████████████| 1875/1875 [00:12<00:00, 155.19it/s]\n"
     ]
    },
    {
     "name": "stdout",
     "output_type": "stream",
     "text": [
      "epoch 12  loss 0.00737000210210681\n"
     ]
    },
    {
     "name": "stderr",
     "output_type": "stream",
     "text": [
      "100%|█████████████████████████████████████████████████████████████████████████████| 1875/1875 [00:11<00:00, 159.07it/s]\n"
     ]
    },
    {
     "name": "stdout",
     "output_type": "stream",
     "text": [
      "epoch 13  loss 0.007228498347103596\n"
     ]
    },
    {
     "name": "stderr",
     "output_type": "stream",
     "text": [
      "100%|█████████████████████████████████████████████████████████████████████████████| 1875/1875 [00:12<00:00, 154.62it/s]\n"
     ]
    },
    {
     "name": "stdout",
     "output_type": "stream",
     "text": [
      "epoch 14  loss 0.007211359683424234\n"
     ]
    },
    {
     "name": "stderr",
     "output_type": "stream",
     "text": [
      "100%|█████████████████████████████████████████████████████████████████████████████| 1875/1875 [00:12<00:00, 155.23it/s]\n"
     ]
    },
    {
     "name": "stdout",
     "output_type": "stream",
     "text": [
      "epoch 15  loss 0.0072212242521345615\n"
     ]
    },
    {
     "name": "stderr",
     "output_type": "stream",
     "text": [
      "100%|█████████████████████████████████████████████████████████████████████████████| 1875/1875 [00:12<00:00, 152.05it/s]\n"
     ]
    },
    {
     "name": "stdout",
     "output_type": "stream",
     "text": [
      "epoch 16  loss 0.007156199309974909\n"
     ]
    },
    {
     "name": "stderr",
     "output_type": "stream",
     "text": [
      "100%|█████████████████████████████████████████████████████████████████████████████| 1875/1875 [00:11<00:00, 159.20it/s]\n"
     ]
    },
    {
     "name": "stdout",
     "output_type": "stream",
     "text": [
      "epoch 17  loss 0.007123816758394241\n"
     ]
    },
    {
     "name": "stderr",
     "output_type": "stream",
     "text": [
      "100%|█████████████████████████████████████████████████████████████████████████████| 1875/1875 [00:11<00:00, 161.58it/s]\n"
     ]
    },
    {
     "name": "stdout",
     "output_type": "stream",
     "text": [
      "epoch 18  loss 0.007134990766644478\n"
     ]
    },
    {
     "name": "stderr",
     "output_type": "stream",
     "text": [
      "100%|█████████████████████████████████████████████████████████████████████████████| 1875/1875 [00:11<00:00, 157.37it/s]\n"
     ]
    },
    {
     "name": "stdout",
     "output_type": "stream",
     "text": [
      "epoch 19  loss 0.0070840222761034966\n"
     ]
    },
    {
     "name": "stderr",
     "output_type": "stream",
     "text": [
      "100%|█████████████████████████████████████████████████████████████████████████████| 1875/1875 [00:12<00:00, 152.21it/s]"
     ]
    },
    {
     "name": "stdout",
     "output_type": "stream",
     "text": [
      "epoch 20  loss 0.007070596795529127\n"
     ]
    },
    {
     "name": "stderr",
     "output_type": "stream",
     "text": [
      "\n"
     ]
    }
   ],
   "source": [
    "from tqdm import tqdm \n",
    "\n",
    "epochs = 20\n",
    "\n",
    "for epoch in range(epochs):\n",
    "    for data, label in tqdm(train_loader):\n",
    "        optimizer.zero_grad()\n",
    "        pred = model(data.to(device))\n",
    "        \n",
    "        loss = criterion(torch.squeeze(pred),label.to(device))\n",
    "        loss.backward()\n",
    "        optimizer.step()\n",
    "        \n",
    "    print(f'epoch {epoch+1}  loss {loss.item()}')"
   ]
  },
  {
   "cell_type": "code",
   "execution_count": 18,
   "id": "af9248f7",
   "metadata": {},
   "outputs": [
    {
     "data": {
      "image/png": "[encoded data removed]",
      "text/plain": [
       "<Figure size 640x480 with 3 Axes>"
      ]
     },
     "metadata": {},
     "output_type": "display_data"
    }
   ],
   "source": [
    "model.cpu()\n",
    "model.eval()\n",
    "\n",
    "with torch.no_grad():\n",
    "    img = test_data.data[0]\n",
    "    noise = gaussian_noise(img)\n",
    "    \n",
    "    input = torch.unsqueeze(noise, dim=0)\n",
    "    input.type(torch.FloatTensor)\n",
    "    input.to(device)\n",
    "    input = torch.unsqueeze(input, dim=0)\n",
    "    \n",
    "    plt.subplot(1,3,1)\n",
    "    plt.imshow(torch.squeeze(noise),cmap='gray')\n",
    "    plt.subplot(1,3,2)\n",
    "    plt.imshow(torch.squeeze(model(input)),cmap='gray')\n",
    "    plt.subplot(1,3,3)\n",
    "    plt.imshow(torch.squeeze(img),cmap='gray')"
   ]
  },
  {
   "cell_type": "code",
   "execution_count": null,
   "id": "021e2c35",
   "metadata": {},
   "outputs": [],
   "source": []
  }
 ],
 "metadata": {
  "kernelspec": {
   "display_name": "meta0627",
   "language": "python",
   "name": "meta0627"
  },
  "language_info": {
   "codemirror_mode": {
    "name": "ipython",
    "version": 3
   },
   "file_extension": ".py",
   "mimetype": "text/x-python",
   "name": "python",
   "nbconvert_exporter": "python",
   "pygments_lexer": "ipython3",
   "version": "3.7.16"
  }
 },
 "nbformat": 4,
 "nbformat_minor": 5
}
