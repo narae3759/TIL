{
 "cells": [
  {
   "attachments": {},
   "cell_type": "markdown",
   "metadata": {},
   "source": [
    "# **Selenium**"
   ]
  },
  {
   "attachments": {},
   "cell_type": "markdown",
   "metadata": {},
   "source": [
    "**장점**\n",
    "* table 형태가 아니더라도 내가 얻고 싶은 정보를 입맛대로 가져올 수 있다.\n",
    "* 여러 페이지에서 정보를 가져올 수 있다.\n",
    "* 로그인, 마우스 클릭, 캡쳐 등 동적으로 많은 자동화 업무를 할 수 있다.\n",
    "\n",
    "**단점**\n",
    "* 컴퓨터 사양에 따라 속도가 달라 원하는 정보를 추출하는데 시간이 걸릴 수도 있다.<br>\n",
    "* 불러오는 속도와 python의 실행 속도가 맞지 않으면 오류가 난다."
   ]
  },
  {
   "cell_type": "markdown",
   "metadata": {},
   "source": [
    "## **세계 축구선수 Top200**\n"
   ]
  },
  {
   "attachments": {},
   "cell_type": "markdown",
   "metadata": {},
   "source": [
    "* **학습 목표**\n",
    "    * 200위까지 선수명, 포지션, 나이, 국적, 소속, Market Value가 나타나는 데이터 프레임을 만들 수 있다.\n",
    "    * 국적, 소속, 포지션 등을 통해 시각화하고, 데이터를 분석할 수 있다.\n",
    "\n",
    "<div markdown=\"1\" style=\"text-align:center; margin-bottom:10px\">        \n",
    "    <img src=\"./images/soccer_html.PNG\" width=\"50%\">\n",
    "</div>\n"
   ]
  },
  {
   "attachments": {},
   "cell_type": "markdown",
   "metadata": {},
   "source": [
    "## **1) Chrome 창 열기**"
   ]
  },
  {
   "cell_type": "code",
   "execution_count": 22,
   "metadata": {},
   "outputs": [],
   "source": [
    "from selenium import webdriver\n",
    "from selenium.webdriver.chrome.service import Service\n",
    "from webdriver_manager.chrome import ChromeDriverManager\n",
    "\n",
    "chrome_options = webdriver.ChromeOptions()\n",
    "driver = webdriver.Chrome(service=Service(ChromeDriverManager().install()), options=chrome_options)"
   ]
  },
  {
   "attachments": {},
   "cell_type": "markdown",
   "metadata": {},
   "source": [
    "## **2) 사이트 이동**"
   ]
  },
  {
   "cell_type": "code",
   "execution_count": 23,
   "metadata": {},
   "outputs": [],
   "source": [
    "# Chrome 열기\n",
    "url = 'https://www.transfermarkt.com'\n",
    "driver.get(url)"
   ]
  },
  {
   "cell_type": "code",
   "execution_count": 24,
   "metadata": {},
   "outputs": [],
   "source": [
    "from selenium.webdriver.common.by import By  \n",
    "\n",
    "privacy_iframe = 'sp_message_iframe_764226'\n",
    "driver.switch_to.frame(privacy_iframe)"
   ]
  },
  {
   "cell_type": "code",
   "execution_count": 25,
   "metadata": {},
   "outputs": [],
   "source": [
    "privacy_css = '#notice > div.message-component.message-row.mobile-reverse > div:nth-child(2) > button'\n",
    "driver.find_element(By.CSS_SELECTOR, privacy_css).click()"
   ]
  },
  {
   "cell_type": "code",
   "execution_count": 26,
   "metadata": {},
   "outputs": [],
   "source": [
    "driver.switch_to.default_content()"
   ]
  },
  {
   "cell_type": "code",
   "execution_count": 33,
   "metadata": {},
   "outputs": [],
   "source": [
    "# onclick인 경우\n",
    "players_css = '#main > header > nav > ul > li:nth-child(4) > div > div:nth-child(2) > ul > li:nth-child(2) > a'\n",
    "players_url = driver.find_element(By.CSS_SELECTOR, players_css)\n",
    "driver.execute_script('arguments[0].click();', players_url)"
   ]
  },
  {
   "cell_type": "code",
   "execution_count": 85,
   "metadata": {},
   "outputs": [
    {
     "name": "stdout",
     "output_type": "stream",
     "text": [
      "Start | 1페이지 > 2페이지 > 3페이지 > 4페이지 > End\n"
     ]
    },
    {
     "data": {
      "text/html": [
       "<div>\n",
       "<style scoped>\n",
       "    .dataframe tbody tr th:only-of-type {\n",
       "        vertical-align: middle;\n",
       "    }\n",
       "\n",
       "    .dataframe tbody tr th {\n",
       "        vertical-align: top;\n",
       "    }\n",
       "\n",
       "    .dataframe thead th {\n",
       "        text-align: right;\n",
       "    }\n",
       "</style>\n",
       "<table border=\"1\" class=\"dataframe\">\n",
       "  <thead>\n",
       "    <tr style=\"text-align: right;\">\n",
       "      <th></th>\n",
       "      <th>0</th>\n",
       "      <th>1</th>\n",
       "      <th>2</th>\n",
       "      <th>3</th>\n",
       "      <th>4</th>\n",
       "      <th>5</th>\n",
       "    </tr>\n",
       "  </thead>\n",
       "  <tbody>\n",
       "    <tr>\n",
       "      <th>0</th>\n",
       "      <td>1</td>\n",
       "      <td>Kylian Mbappé</td>\n",
       "      <td>Centre-Forward</td>\n",
       "      <td>France, Cameroon</td>\n",
       "      <td>Paris Saint-Germain</td>\n",
       "      <td>180.00</td>\n",
       "    </tr>\n",
       "    <tr>\n",
       "      <th>1</th>\n",
       "      <td>2</td>\n",
       "      <td>Erling Haaland</td>\n",
       "      <td>Centre-Forward</td>\n",
       "      <td>Norway</td>\n",
       "      <td>Manchester City</td>\n",
       "      <td>170.00</td>\n",
       "    </tr>\n",
       "    <tr>\n",
       "      <th>2</th>\n",
       "      <td>3</td>\n",
       "      <td>Jude Bellingham</td>\n",
       "      <td>Central Midfield</td>\n",
       "      <td>England</td>\n",
       "      <td>Borussia Dortmund</td>\n",
       "      <td>120.00</td>\n",
       "    </tr>\n",
       "    <tr>\n",
       "      <th>3</th>\n",
       "      <td>4</td>\n",
       "      <td>Vinicius Junior</td>\n",
       "      <td>Left Winger</td>\n",
       "      <td>Brazil, Spain</td>\n",
       "      <td>Real Madrid</td>\n",
       "      <td>120.00</td>\n",
       "    </tr>\n",
       "    <tr>\n",
       "      <th>4</th>\n",
       "      <td>5</td>\n",
       "      <td>Jamal Musiala</td>\n",
       "      <td>Attacking Midfield</td>\n",
       "      <td>Germany, England</td>\n",
       "      <td>Bayern Munich</td>\n",
       "      <td>110.00</td>\n",
       "    </tr>\n",
       "    <tr>\n",
       "      <th>...</th>\n",
       "      <td>...</td>\n",
       "      <td>...</td>\n",
       "      <td>...</td>\n",
       "      <td>...</td>\n",
       "      <td>...</td>\n",
       "      <td>...</td>\n",
       "    </tr>\n",
       "    <tr>\n",
       "      <th>95</th>\n",
       "      <td>96</td>\n",
       "      <td>Gianluigi Donnarumma</td>\n",
       "      <td>Goalkeeper</td>\n",
       "      <td>Italy</td>\n",
       "      <td>Paris Saint-Germain</td>\n",
       "      <td>50.00</td>\n",
       "    </tr>\n",
       "    <tr>\n",
       "      <th>96</th>\n",
       "      <td>97</td>\n",
       "      <td>Lucas Hernández</td>\n",
       "      <td>Centre-Back</td>\n",
       "      <td>France, Spain</td>\n",
       "      <td>Bayern Munich</td>\n",
       "      <td>50.00</td>\n",
       "    </tr>\n",
       "    <tr>\n",
       "      <th>97</th>\n",
       "      <td>98</td>\n",
       "      <td>Ivan Toney</td>\n",
       "      <td>Centre-Forward</td>\n",
       "      <td>England, Jamaica</td>\n",
       "      <td>Brentford FC</td>\n",
       "      <td>50.00</td>\n",
       "    </tr>\n",
       "    <tr>\n",
       "      <th>98</th>\n",
       "      <td>99</td>\n",
       "      <td>Marco Verratti</td>\n",
       "      <td>Central Midfield</td>\n",
       "      <td>Italy</td>\n",
       "      <td>Paris Saint-Germain</td>\n",
       "      <td>50.00</td>\n",
       "    </tr>\n",
       "    <tr>\n",
       "      <th>99</th>\n",
       "      <td>100</td>\n",
       "      <td>David Alaba</td>\n",
       "      <td>Centre-Back</td>\n",
       "      <td>Austria</td>\n",
       "      <td>Real Madrid</td>\n",
       "      <td>50.00</td>\n",
       "    </tr>\n",
       "  </tbody>\n",
       "</table>\n",
       "<p>100 rows × 6 columns</p>\n",
       "</div>"
      ],
      "text/plain": [
       "      0                     1                   2                 3  \\\n",
       "0     1         Kylian Mbappé      Centre-Forward  France, Cameroon   \n",
       "1     2        Erling Haaland      Centre-Forward            Norway   \n",
       "2     3       Jude Bellingham    Central Midfield           England   \n",
       "3     4       Vinicius Junior         Left Winger     Brazil, Spain   \n",
       "4     5         Jamal Musiala  Attacking Midfield  Germany, England   \n",
       "..  ...                   ...                 ...               ...   \n",
       "95   96  Gianluigi Donnarumma          Goalkeeper             Italy   \n",
       "96   97       Lucas Hernández         Centre-Back     France, Spain   \n",
       "97   98            Ivan Toney      Centre-Forward  England, Jamaica   \n",
       "98   99        Marco Verratti    Central Midfield             Italy   \n",
       "99  100           David Alaba         Centre-Back           Austria   \n",
       "\n",
       "                      4       5  \n",
       "0   Paris Saint-Germain  180.00  \n",
       "1       Manchester City  170.00  \n",
       "2     Borussia Dortmund  120.00  \n",
       "3           Real Madrid  120.00  \n",
       "4         Bayern Munich  110.00  \n",
       "..                  ...     ...  \n",
       "95  Paris Saint-Germain   50.00  \n",
       "96        Bayern Munich   50.00  \n",
       "97         Brentford FC   50.00  \n",
       "98  Paris Saint-Germain   50.00  \n",
       "99          Real Madrid   50.00  \n",
       "\n",
       "[100 rows x 6 columns]"
      ]
     },
     "execution_count": 85,
     "metadata": {},
     "output_type": "execute_result"
    }
   ],
   "source": [
    "import re\n",
    "import pandas as pd\n",
    "import time\n",
    "\n",
    "rank_n = 100\n",
    "cnt = 0\n",
    "page = 1\n",
    "rows = []\n",
    "\n",
    "print('Start | ', end='')\n",
    "while True:\n",
    "    print(f'{page}페이지 > ', end='')\n",
    "    players = driver.find_elements(By.CSS_SELECTOR, 'table.items > tbody > tr')\n",
    "\n",
    "    for player in players:\n",
    "        rank = player.find_element(By.CSS_SELECTOR, f'td:nth-child({1})').text\n",
    "        name, position = player.find_element(By.CSS_SELECTOR, f'td:nth-child({2})').text.split('\\n')\n",
    "        age = player.find_element(By.CSS_SELECTOR, f'td:nth-child({3})').text\n",
    "        nat_sel = player.find_elements(By.CSS_SELECTOR, f'td:nth-child({4}) > img')\n",
    "        nationality = ', '.join([nat.get_attribute('title') for nat in nat_sel])\n",
    "        club = player.find_element(By.CSS_SELECTOR, f'td:nth-child({5}) > a').get_attribute('title')\n",
    "        value_text = player.find_element(By.CSS_SELECTOR, f'td:nth-child({6}) > a').text\n",
    "        value = re.sub('[^0-9.]','',value_text)\n",
    "\n",
    "        cnt += 1\n",
    "        rows.append([rank, name, position, nationality, club, value])\n",
    "\n",
    "        if cnt >= rank_n:\n",
    "            break\n",
    "    \n",
    "    if cnt < rank_n:\n",
    "        page += 1\n",
    "        page_css = f'#yw1 > div.pager > ul > li:nth-child({page}) > a'\n",
    "        driver.find_element(By.CSS_SELECTOR, page_css).click()\n",
    "        time.sleep(3)\n",
    "    else:\n",
    "        break\n",
    "print('End')\n",
    "pd.DataFrame(rows)"
   ]
  },
  {
   "attachments": {},
   "cell_type": "markdown",
   "metadata": {},
   "source": [
    "## **2) 정보 추출**"
   ]
  },
  {
   "cell_type": "code",
   "execution_count": null,
   "metadata": {},
   "outputs": [],
   "source": [
    "from bs4 import BeautifulSoup\n",
    "\n",
    "soup = BeautifulSoup(html, 'html.parser')\n",
    "# soup.prettify()"
   ]
  },
  {
   "attachments": {},
   "cell_type": "markdown",
   "metadata": {},
   "source": [
    "<div markdown=\"1\" style=\"justify-content:center; align-items:center; margin-bottom:10px;\">\n",
    "<img src=\"./images/beautifulsoup01.png\" width=\"20%\">\n",
    "<img src=\"./images/beautifulsoup02.png\" width=\"20%\" style=\"margin-left:20px\">\n",
    "</div> "
   ]
  },
  {
   "attachments": {},
   "cell_type": "markdown",
   "metadata": {},
   "source": [
    "* 웹 페이지에서 곡 리스트 테이블은 class가 'lst50`과 'lst100'으로 나뉘어져 있다. \n",
    "* 필요한 정보     \n",
    "\n",
    "    <table>\n",
    "        <tr> <th>필요한 정보</th><th>태그/id/class</th> </tr>\n",
    "        <tr> <td>순위</th><td>class=\"rank\"</td> </tr>\n",
    "        <tr> <td>곡 명</th><td>class=\"ellipsis rank01\"</td> </tr>\n",
    "        <tr> <td>가수 명</th><td>class=\"ellipsis rank02\"</td> </tr>\n",
    "    </table>"
   ]
  },
  {
   "cell_type": "code",
   "execution_count": 74,
   "metadata": {},
   "outputs": [
    {
     "name": "stdout",
     "output_type": "stream",
     "text": [
      "2023.04.12 17:00 기준 Melon 차트\n"
     ]
    },
    {
     "data": {
      "text/html": [
       "<div>\n",
       "<style scoped>\n",
       "    .dataframe tbody tr th:only-of-type {\n",
       "        vertical-align: middle;\n",
       "    }\n",
       "\n",
       "    .dataframe tbody tr th {\n",
       "        vertical-align: top;\n",
       "    }\n",
       "\n",
       "    .dataframe thead th {\n",
       "        text-align: right;\n",
       "    }\n",
       "</style>\n",
       "<table border=\"1\" class=\"dataframe\">\n",
       "  <thead>\n",
       "    <tr style=\"text-align: right;\">\n",
       "      <th></th>\n",
       "      <th>곡 명</th>\n",
       "      <th>가수 명</th>\n",
       "    </tr>\n",
       "    <tr>\n",
       "      <th>순위</th>\n",
       "      <th></th>\n",
       "      <th></th>\n",
       "    </tr>\n",
       "  </thead>\n",
       "  <tbody>\n",
       "    <tr>\n",
       "      <th>1</th>\n",
       "      <td>Kitsch</td>\n",
       "      <td>IVE (아이브)</td>\n",
       "    </tr>\n",
       "    <tr>\n",
       "      <th>2</th>\n",
       "      <td>I AM</td>\n",
       "      <td>IVE (아이브)</td>\n",
       "    </tr>\n",
       "    <tr>\n",
       "      <th>3</th>\n",
       "      <td>꽃</td>\n",
       "      <td>지수 (JISOO)</td>\n",
       "    </tr>\n",
       "    <tr>\n",
       "      <th>4</th>\n",
       "      <td>Ditto</td>\n",
       "      <td>NewJeans</td>\n",
       "    </tr>\n",
       "    <tr>\n",
       "      <th>5</th>\n",
       "      <td>Hype boy</td>\n",
       "      <td>NewJeans</td>\n",
       "    </tr>\n",
       "    <tr>\n",
       "      <th>...</th>\n",
       "      <td>...</td>\n",
       "      <td>...</td>\n",
       "    </tr>\n",
       "    <tr>\n",
       "      <th>96</th>\n",
       "      <td>그중에 그대를 만나</td>\n",
       "      <td>김호중</td>\n",
       "    </tr>\n",
       "    <tr>\n",
       "      <th>97</th>\n",
       "      <td>That’s Not How This Works (feat. Dan + Shay)</td>\n",
       "      <td>Charlie Puth</td>\n",
       "    </tr>\n",
       "    <tr>\n",
       "      <th>98</th>\n",
       "      <td>딱 10CM만</td>\n",
       "      <td>10CM, BIG Naughty (서동현)</td>\n",
       "    </tr>\n",
       "    <tr>\n",
       "      <th>99</th>\n",
       "      <td>아모르 파티</td>\n",
       "      <td>이홍기 (FT아일랜드)</td>\n",
       "    </tr>\n",
       "    <tr>\n",
       "      <th>100</th>\n",
       "      <td>당신을 만나</td>\n",
       "      <td>김호중, 송가인</td>\n",
       "    </tr>\n",
       "  </tbody>\n",
       "</table>\n",
       "<p>100 rows × 2 columns</p>\n",
       "</div>"
      ],
      "text/plain": [
       "                                              곡 명                     가수 명\n",
       "순위                                                                        \n",
       "1                                          Kitsch                IVE (아이브)\n",
       "2                                            I AM                IVE (아이브)\n",
       "3                                               꽃               지수 (JISOO)\n",
       "4                                           Ditto                 NewJeans\n",
       "5                                        Hype boy                 NewJeans\n",
       "..                                            ...                      ...\n",
       "96                                     그중에 그대를 만나                      김호중\n",
       "97   That’s Not How This Works (feat. Dan + Shay)             Charlie Puth\n",
       "98                                        딱 10CM만  10CM, BIG Naughty (서동현)\n",
       "99                                         아모르 파티             이홍기 (FT아일랜드)\n",
       "100                                        당신을 만나                 김호중, 송가인\n",
       "\n",
       "[100 rows x 2 columns]"
      ]
     },
     "execution_count": 74,
     "metadata": {},
     "output_type": "execute_result"
    }
   ],
   "source": [
    "import pandas as pd\n",
    "play_lst = []\n",
    "for lst in ['lst50', 'lst100']:\n",
    "    rows = soup.find_all('tr', class_=lst)\n",
    "    for row in rows:\n",
    "        rank = row.find(class_='rank').text\n",
    "        song = row.find(class_='ellipsis rank01').text.strip()\n",
    "        singer = row.find(class_='ellipsis rank02').span.text.strip()\n",
    "        play_lst.append([rank, song, singer])\n",
    "\n",
    "day = soup.find(class_='year').text + ' ' + soup.find(class_='hour').text\n",
    "print(day, '기준 Melon 차트')\n",
    "melon = pd.DataFrame(play_lst, columns=['순위', '곡 명', '가수 명'])\n",
    "melon.set_index('순위', inplace=True)\n",
    "melon"
   ]
  }
 ],
 "metadata": {
  "kernelspec": {
   "display_name": "Python 3",
   "language": "python",
   "name": "python3"
  },
  "language_info": {
   "codemirror_mode": {
    "name": "ipython",
    "version": 3
   },
   "file_extension": ".py",
   "mimetype": "text/x-python",
   "name": "python",
   "nbconvert_exporter": "python",
   "pygments_lexer": "ipython3",
   "version": "3.10.10"
  },
  "orig_nbformat": 4
 },
 "nbformat": 4,
 "nbformat_minor": 2
}
