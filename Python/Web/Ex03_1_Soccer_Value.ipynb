{
 "cells": [
  {
   "attachments": {},
   "cell_type": "markdown",
   "metadata": {},
   "source": [
    "## **세계 축구선수 Top200**\n"
   ]
  },
  {
   "attachments": {},
   "cell_type": "markdown",
   "metadata": {},
   "source": [
    "* **학습 목표**\n",
    "    * 200위까지 선수명, 포지션, 나이, 국적, 소속, Market Value가 나타나는 데이터 프레임을 만들 수 있다.\n",
    "    * 국적, 소속, 포지션 등을 통해 시각화하고, 데이터를 분석할 수 있다.\n",
    "\n",
    "<div markdown=\"1\" style=\"text-align:center; margin-bottom:10px\">\n",
    "<img src=\"./images/soccer_html.png\" width=\"50%\">\n",
    "</div> "
   ]
  },
  {
   "cell_type": "markdown",
   "metadata": {},
   "source": [
    "## **1) URL 파악하기**"
   ]
  },
  {
   "attachments": {},
   "cell_type": "markdown",
   "metadata": {},
   "source": [
    "* `https://www.transfermarkt.com/spieler-statistik/wertvollstespieler/marktwertetop`\n",
    "* 조건들: 여러 조건일 때 '&'로 구분한다.\n",
    "\n",
    "    <table>\n",
    "        <tr> <th>key</th> <th>설명</th> </tr>\n",
    "        <tr> <td>keyword</td> <td>검색할 상품 명</td>\n",
    "        <tr> <td>p</td> <td>페이지 번호</td></tr>\n",
    "        <tr> \n",
    "            <td>s</td> \n",
    "            <td> \n",
    "                - 1 : 낮은 가격 순<br>\n",
    "                - 2 : 높은 가격 순<br>\n",
    "                - 3 : 신규 상품 순<br>\n",
    "                - 7 : G마켓 링크 순<br>\n",
    "                - 8 : 판매 인기 순<br>\n",
    "                - 13 : 상품평 많은 순<br>\n",
    "            </td> \n",
    "        </tr>  \n",
    "    </table>\n"
   ]
  },
  {
   "cell_type": "markdown",
   "metadata": {},
   "source": [
    "## **2) HTML 파악하기**"
   ]
  },
  {
   "cell_type": "markdown",
   "metadata": {},
   "source": [
    "* div, class='box__information'\n",
    "    * div, class='box__information-major' \n",
    "        * span, class='text__brand'의 text $\\rightarrow$ `brand(브랜드명)`\n",
    "        * span, class='text__item'의 title 속성 $\\rightarrow$ `item_name(상품명)`\n",
    "        * strong, calss='text text__value'의 text $\\rightarrow$ `price(가격)`\n",
    "        * span, class='text__tag' $\\rightarrow$ `fee(배송비)`\n",
    "            * 무료배송인 경우 : img의 alt 속성 \n",
    "            * 배송비가 있는 경우 : text ('착불'인 경우도 있다)\n",
    "    * div, class='box__information-score' :\n",
    "        * span, class='image__awards-points'에서 span의 text $\\rightarrow$ `awards(만족도)`<br>\n",
    "        (output: 만족도 00% 입니다.)\n",
    "        * li, class='list-item list-item__feedback-count'의 text $\\rightarrow$ `feedback(리뷰 수)`<br>\n",
    "        (output: 상품평(000)건)\n",
    "        * li, class='list-item list-item__pay-count'의 text $\\rightarrow$ `pay_cnt(구매 수)`<br>\n",
    "        (output: 구매 00건)"
   ]
  },
  {
   "cell_type": "markdown",
   "metadata": {},
   "source": [
    "## **3) 함수 만들기**"
   ]
  }
 ],
 "metadata": {
  "language_info": {
   "name": "python"
  },
  "orig_nbformat": 4
 },
 "nbformat": 4,
 "nbformat_minor": 2
}
