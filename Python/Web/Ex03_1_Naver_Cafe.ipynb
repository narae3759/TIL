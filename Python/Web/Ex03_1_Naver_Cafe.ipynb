{
 "cells": [
  {
   "attachments": {},
   "cell_type": "markdown",
   "metadata": {},
   "source": [
    "## **네이버 카페 게시글 제목 수집**"
   ]
  },
  {
   "attachments": {},
   "cell_type": "markdown",
   "metadata": {},
   "source": [
    "* **학습 목표**\n",
    "    * 네이버 카페 사이트에서 자유게시판 위치를 입력하면 게시글 제목을 크롤링할 수 있다.\n",
    "\n",
    "    ※ <u>카페마다 자유게시판 위치가 다르므로 input할 수 있도록 parameter를 설정한다.</u><br>\n",
    "    ※ <u>페이지에 따라 css_selector가 바뀌니 주의해야 한다.</u><br>\n",
    "    ※ <u>네이버의 경우 게시글 영역은 iframe으로 구성되어 있다. 따라서 창 전환이 필요하다.</u>\n",
    "\n",
    "<div markdown=\"1\" style=\"text-align:center; margin-bottom:10px\">\n",
    "<img src=\"./images/naver_cafe.PNG\" width=\"50%\">\n",
    "</div> \n"
   ]
  },
  {
   "attachments": {},
   "cell_type": "markdown",
   "metadata": {},
   "source": [
    "### **Settings**"
   ]
  },
  {
   "cell_type": "code",
   "execution_count": 123,
   "metadata": {},
   "outputs": [],
   "source": [
    "# Settings\n",
    "from selenium import webdriver\n",
    "from selenium.webdriver.chrome.service import Service\n",
    "from webdriver_manager.chrome import ChromeDriverManager\n",
    "from selenium.webdriver.common.by import By\n",
    "from selenium.webdriver.common.keys import Keys\n",
    "import pandas as pd "
   ]
  },
  {
   "attachments": {},
   "cell_type": "markdown",
   "metadata": {},
   "source": [
    "### **1) 하나씩 살펴보기**"
   ]
  },
  {
   "attachments": {},
   "cell_type": "markdown",
   "metadata": {},
   "source": [
    "#### **Chrome 창 열기**"
   ]
  },
  {
   "cell_type": "code",
   "execution_count": 124,
   "metadata": {},
   "outputs": [
    {
     "name": "stderr",
     "output_type": "stream",
     "text": [
      "[WDM] - Downloading: 100%|██████████| 6.81M/6.81M [00:00<00:00, 10.6MB/s]\n"
     ]
    }
   ],
   "source": [
    "# Chrome 창 열기\n",
    "chrome_options = webdriver.ChromeOptions()\n",
    "chrome_options.add_argument(\"user-agent=Mozilla/5.0 (Windows NT 6.1; Win64; x64)\")\n",
    "driver = webdriver.Chrome(service=Service(ChromeDriverManager().install()), options=chrome_options)"
   ]
  },
  {
   "attachments": {},
   "cell_type": "markdown",
   "metadata": {},
   "source": [
    "#### **카페 URL 이동**"
   ]
  },
  {
   "cell_type": "code",
   "execution_count": 126,
   "metadata": {},
   "outputs": [],
   "source": [
    "# 카페 URL로 이동\n",
    "url = 'https://cafe.naver.com/eleccigar'\n",
    "driver.get(url)"
   ]
  },
  {
   "attachments": {},
   "cell_type": "markdown",
   "metadata": {},
   "source": [
    "#### **자유게시판 클릭**"
   ]
  },
  {
   "cell_type": "code",
   "execution_count": 127,
   "metadata": {},
   "outputs": [],
   "source": [
    "# navigation bar에서 자유게시판 Click\n",
    "nav_css = '#menuLink15'\n",
    "driver.find_element(By.CSS_SELECTOR, nav_css).click()"
   ]
  },
  {
   "attachments": {},
   "cell_type": "markdown",
   "metadata": {},
   "source": [
    "#### **게시글 영역 창 전환**"
   ]
  },
  {
   "cell_type": "code",
   "execution_count": 128,
   "metadata": {},
   "outputs": [],
   "source": [
    "# 게시글 iframe으로 창 전환\n",
    "driver.switch_to.frame('cafe_main')\n",
    "# driver.switch_to.default_content()        # 원래 창으로 돌아감"
   ]
  },
  {
   "attachments": {},
   "cell_type": "markdown",
   "metadata": {},
   "source": [
    "#### **글 목록 가져오기(해당 페이지만)**"
   ]
  },
  {
   "cell_type": "code",
   "execution_count": 132,
   "metadata": {},
   "outputs": [],
   "source": [
    "# 게시글 목록 가져오기\n",
    "## 게시글 목록은 공지, 추천, 글 세가지로 분류되는데 추천글이 있으면 5 아니면 4 이다.\n",
    "posts_css = '#main-area > div:nth-child(5) > table > tbody > tr'\n",
    "posts = driver.find_elements(By.CSS_SELECTOR, posts_css)"
   ]
  },
  {
   "cell_type": "code",
   "execution_count": 135,
   "metadata": {},
   "outputs": [
    {
     "data": {
      "text/plain": [
       "['아웅 배터지네여',\n",
       " '가습이 왔어요',\n",
       " '기기 변경 ㅠ',\n",
       " '[일상] 폰에 모아둔 생활팁 들이요~',\n",
       " '아보카도 새 팟인데 초기불량인가여?',\n",
       " '피코 구했습니다ㅋㅋ',\n",
       " '[일상] 발맥 추가로 들였는데',\n",
       " '[일상] 상여자의 avp ax 코팅',\n",
       " '[일상] 큰 맘먹고 rda 주문했는데',\n",
       " '[전담뉴스] 아스몬 전색상 재입고됐네요',\n",
       " '[일상] 목감기 걸린거 같은데',\n",
       " '테일러 마르키사 알로에 곰돌이 젤리 액상',\n",
       " 'avp ax~~~♡',\n",
       " '유행한다는 식빵등 했어요~',\n",
       " '[일상] 좀 늦게 알아버린 바보같은....']"
      ]
     },
     "execution_count": 135,
     "metadata": {},
     "output_type": "execute_result"
    }
   ],
   "source": [
    "# 게시글 제목 출력하기\n",
    "post_lst = []\n",
    "\n",
    "for post in posts:\n",
    "    title = post.find_element(By.CSS_SELECTOR, 'td > div.board-list > div.inner_list > a').text\n",
    "    post_lst.append(title)\n",
    "\n",
    "post_lst"
   ]
  },
  {
   "attachments": {},
   "cell_type": "markdown",
   "metadata": {},
   "source": [
    "#### **글 목록 가져오기(여러 페이지)**"
   ]
  },
  {
   "cell_type": "code",
   "execution_count": 145,
   "metadata": {},
   "outputs": [
    {
     "data": {
      "text/plain": [
       "['아웅 배터지네여',\n",
       " '가습이 왔어요',\n",
       " '기기 변경 ㅠ',\n",
       " '[일상] 폰에 모아둔 생활팁 들이요~',\n",
       " '아보카도 새 팟인데 초기불량인가여?',\n",
       " '피코 구했습니다ㅋㅋ',\n",
       " '[일상] 발맥 추가로 들였는데',\n",
       " '[일상] 상여자의 avp ax 코팅',\n",
       " '[일상] 큰 맘먹고 rda 주문했는데',\n",
       " '[전담뉴스] 아스몬 전색상 재입고됐네요',\n",
       " '[일상] 목감기 걸린거 같은데',\n",
       " '테일러 마르키사 알로에 곰돌이 젤리 액상',\n",
       " 'avp ax~~~♡',\n",
       " '유행한다는 식빵등 했어요~',\n",
       " '[일상] 좀 늦게 알아버린 바보같은....',\n",
       " '[감동] 감사합니다 팍스베이프ㅜㅜ',\n",
       " '[일상] 액상이 왔네요.. ㅎㅎㅎ',\n",
       " '울적한 하루',\n",
       " '전담 추천해주세요',\n",
       " '[일상] 아주재밌는걸 발견했네요',\n",
       " '이노포그 만족하면서 사용하고 있는데...질문이요',\n",
       " '피코 브실이 너무땡기네용...ㅠ',\n",
       " '[일상] 유물 발견',\n",
       " '[일상] 기추 했습니다',\n",
       " '발라 맥스 질문',\n",
       " '하....ㅠㅡㅠ',\n",
       " '[일상] avp ax 색상',\n",
       " '[일상] 다크가 왔어요',\n",
       " '기기 주문한거마냥 AVP AX 겁나 빨리 오고 있네요 ^^',\n",
       " '리즌 18350 개이뿌네 ㅠㅠ',\n",
       " '아ㅏㅏㅏ....... 술먹고 전담 잃어버렸네용 ㅠㅠㅠㅠ',\n",
       " '이번 베이프 엑스포는,',\n",
       " '[일상] 섞먹도 매력있네요 ㅎㅎ',\n",
       " '핸첵 말머리 있는 줄 모르고 하나하나 치고 있었네요ㅋㅋㅋㅋ',\n",
       " '둘 중 하나를 나눔한다면 무엇이 끌리시나요..?',\n",
       " '[일상] 이시간 즐거운 벙개~^^',\n",
       " '좋은건 7개👍🏻럭키 쎄븐😉✨',\n",
       " '[일상] 브이쓰루 기추했습니다~',\n",
       " '젤로로 입문, 쓰루로 기추...',\n",
       " '한달 5만원으로 전담 즐기는 여러가지 방법 공유해 봐요 ㅋㅋㅋ',\n",
       " '[일상] 오늘 하루 길고 기네요..',\n",
       " '오늘도 한가하네여 ㅎㅎ',\n",
       " '전담상회 추천인 한분 해드려영~',\n",
       " '[일상] 메이데이 자허블',\n",
       " '[일상] 또 충동구매했네요',\n",
       " '젤로 와트수는 원래 계속 바뀌나요? ㅜㅜ',\n",
       " '트루 돌체시가 저렴한 판매처 추천 부탁드립니다',\n",
       " '흡압감 좋은 드립팁 추천해(골라)주세요!',\n",
       " '[전담뉴스] 위넥스Q 한국 정발 했네요. 오호라~ 사진 왕창 투척하고 갑니다.',\n",
       " '서울 서초강남 쪽 전문적인 전담샵 알려주세여',\n",
       " '젤로 기추!!!',\n",
       " '[일상] 2년을 버틴 제 브이쓰루..',\n",
       " '블랙유니콘 (블유) 온라인 구매처 있을까요?',\n",
       " '네스티 픽스고 오는군용!!!',\n",
       " '[일상] 좋은 스승님만나면 빌드가쉬워집니다',\n",
       " 'TMD 보로탱크.. TMD 0.8코일.. 과멘 연디 극과극',\n",
       " '연초향 액상 저하고는 안맞나봐요 ㅠㅠ',\n",
       " '[일상] 요즘 가장자주 쓰는기기!',\n",
       " '솜',\n",
       " '[일상] 드뎌 아스몬이 왔습니다',\n",
       " '동생 폐호흡 뺏어피는중 입니다',\n",
       " '[일상] 퇴근하세요~',\n",
       " '[일상] 드디어왔네요',\n",
       " '반차 쓰고 집에 왔더니 택배가 뙇!!!',\n",
       " '발라리안팟 테이핑',\n",
       " '[일상] 집에서 전담을 깜빡하고 안가지고 왔을때 어떻게 하나요? ㅜㅜ',\n",
       " '발라리안 팟 누수',\n",
       " '[일상] 사이버g 들어가는 파우치',\n",
       " '한가한 오후네요 ~',\n",
       " '내 스몬이는 씩씩할거라는 자만',\n",
       " '드디어 왔습니다!!',\n",
       " '[일상] 덕쿠 액상 덕질 스타트...?',\n",
       " '[일상] 닷모드 맛과 멋 둘다 성공했습니다',\n",
       " '회원님들의 핸첵을 보다가 다시 기추의 뿜이 와서 그만 돌돌피 가게 되었습니다. ㅎ',\n",
       " '[감동] 저도 확인해보니 오고 있네요!',\n",
       " '짱구를왜말려님 글보고 조회하니 오네요~',\n",
       " '머리 아픈 액상',\n",
       " '[일상] 발라리안 코일 6/8옴 수명',\n",
       " '발맥 이벤트 당첨자분들 -!',\n",
       " '브이쓰루 사용 두달반만에 알게된 사실',\n",
       " '[감동] 저도 이런 시절이 ~',\n",
       " '와 시아버지 요물이네요',\n",
       " '뭔가 은은한 액상을 피고 싶은데 ㅠㅠ',\n",
       " '타 커뮤니티에서 넘어왔습니다 ㅠㅠ',\n",
       " '혹시 매장가면 아보카도베이비 팟 낱개로도 파나요?',\n",
       " '드디어 홍삼맛 나는 이유를 알았다……',\n",
       " '젤로 팟 질문',\n",
       " '이분처럼 한국에도 전담 커스텀 해주시는 분이계신가요?',\n",
       " '[일상] 블유 타격감 어떤편이에요?',\n",
       " '액기스닷컴,전담상회',\n",
       " '여름맞이 과멘액상 구매',\n",
       " '액상 추천/ 질문하고싶습니다!',\n",
       " '발라리안맥스 세척 질문좀드립니다',\n",
       " '발라리안맥스 세척 질문좀드립니다',\n",
       " '[일상] 액상 소모 주기 어떻게 되시나요?',\n",
       " '요즘 최애 액상!!',\n",
       " '[일상] 이게 이렇게 되네요...',\n",
       " '[일상] 우연히본 영상하나;; 전담트릭?',\n",
       " '금연한지 벌써 1년6개월차….!!!!!',\n",
       " '사이버지 색상 좀 골라주세요',\n",
       " '닷aio v2는 감성기계인듯합니다',\n",
       " '아스몬 질문드립니다',\n",
       " '[일상] 입폐...기기가 한 20몇개 있는거 같은데....',\n",
       " '[일상] 자동차 안에서 베이핑 하시는분들 질문요..ㅎ',\n",
       " '롤라장왔습니다😁',\n",
       " '아스몬 품졀 ㅜㅜ힝',\n",
       " '사이버g 색상 추천 부탁드려요',\n",
       " '[일상] 노래방에 전담팔아용ㅋㅋㅋㅋ',\n",
       " '대구 오프라인매장 중 고농도 액상 시연해보고 구매하고싶은데 구매할수있는 매장 있나요 ?',\n",
       " '[일상] 발라리안맥스 드립팁교체 완료~!',\n",
       " '[일상] 젤로',\n",
       " '[감동] 춘식이!!',\n",
       " '부푸 드래그 나노 P1🙂🙃',\n",
       " '버니My7,로스트타바코 구매처',\n",
       " '[일상] 이제 기기는 더이상 추가 안할려구요',\n",
       " '브이쓰루 프로 탄맛 해결법좀 알려주세요 ㅠㅠ',\n",
       " '브이쓰루 프로 탄맛 해결법좀 알려주세요 ㅠㅠ',\n",
       " '[일상] 이거 삼성 정품 맞나요?',\n",
       " '팟교환형원해서 젤로를 삿더니',\n",
       " '기추욕구가 스멀스멀 올라오네용',\n",
       " '해외에서 전자담배',\n",
       " '다들 팟디 얼마나 쓰세요?',\n",
       " '실내 컴터앞 베이핑 어케 생각하시나요?',\n",
       " '불금이예요',\n",
       " '[일상] RDA시작해봐야하겠네요',\n",
       " '요즘 아보베',\n",
       " '잠이안와요 큰일났어요',\n",
       " '[일상] 안녕하세요~~',\n",
       " '[일상] 기기 나눔이벤트 수고많으셨어요^^',\n",
       " '혹시 전담2년이상 피신분중에 마르키사멜론아시는분..?',\n",
       " '배 맛나는 액상 추천해주세용',\n",
       " '선선한날씨최고!!!',\n",
       " '출장갑니다..ㅜㅜ',\n",
       " '브이쓰루 풀충전 후 바로 베이핑시 탄맛 나네요',\n",
       " '[일상] 속상하네요 ㅠㅠㅠ',\n",
       " '액상샀어요~!!! 기부니가 좋네요!!',\n",
       " '오늘도착한 새액상들 입니다!',\n",
       " '디톡스 알로에베라 구매했는뎅',\n",
       " '닷aio',\n",
       " '첫 빌드.. 드바루&돌체시가',\n",
       " '춘천에 액상 괜찬ㄹ은 곳 있을까용~~',\n",
       " '[일상] 발라리안 이벤트',\n",
       " '[일상] 액상 세 병을 샀는데 하나가 더 왔어용 헤헤',\n",
       " '회사 한가해서 지루하네요',\n",
       " '[일상] 아스파이어가 유독 뽑기운이 강한듯',\n",
       " '아지트2..',\n",
       " '회사창고에 저만의 아지트~',\n",
       " '[일상] 오늘의 빌드',\n",
       " '[일상] TMF RDA V2 기추~',\n",
       " '오늘먹방',\n",
       " '[일상] ㅏ......꼴랑 한카토 비웠는데......',\n",
       " '쿠X에 젤로 입점',\n",
       " '어제 10만원 수업료내고.. 보로입문 리빌드 해밧는데….',\n",
       " '[일상] 긱베이프 썬더Q를 접하며...',\n",
       " '린코 젤리박스',\n",
       " '혹시 회원님들중에 닷tmd탱크 안쓰시는분 있으신가요?',\n",
       " '아스몬 신규 컬러',\n",
       " '불량팟 당첨ㅠㅠ',\n",
       " '[일상] 아스몬 고민중인데 살까요 ㅠㅠ',\n",
       " '[일상] 안녕하세요 입호흡 유저입니당',\n",
       " '[일상] 젤로 들였습니다',\n",
       " '아스몬 신규(실버 및 레드) 판매하고 있네요~',\n",
       " '요즘은 전자담배가 유행 인가요?',\n",
       " '[일상] 메이데이 액상 도착!!',\n",
       " '보로 리빌드로 크오크 묵으니까..',\n",
       " '[일상] 닷 사용초기화법좀 알려주세요',\n",
       " '[일상] 저도 보로 입문 합니다.',\n",
       " '혹시 몰라서 섞어 봤는데 너무 좋아요 ㅋㅋ',\n",
       " '파이오니아 인사이더 첫리빌드 입문후기..',\n",
       " '부푸 브이쓰루 프로 팟',\n",
       " '더이상 모드기 기추는 없을꺼같아요',\n",
       " '젤로에 벌레 후기?결말...',\n",
       " '[일상] 쉽지않은 디바이스 중고거래...에효...😔',\n",
       " '브이쓰루 프로 사용하시는분',\n",
       " '스위든체리다크',\n",
       " '[일상] 요새 좀 입호흡으로 마음이 흔들리고 있어요',\n",
       " '젤로 벌레....(?)',\n",
       " '[일상] 아스몬 v3팟도 우네요.. 저는..',\n",
       " '입호흡 액상 추천 부탁드립니다',\n",
       " '호기심을 참지 못하고 보로 입문..']"
      ]
     },
     "execution_count": 145,
     "metadata": {},
     "output_type": "execute_result"
    }
   ],
   "source": [
    "# 게시글 제목 출력하기(여러 페이지)\n",
    "pages = 12\n",
    "post_lst = []\n",
    "\n",
    "page = 1   \n",
    "while True:\n",
    "    # 게시글 목록 가져오기\n",
    "    posts_css = '#main-area > div:nth-child(5) > table > tbody > tr'\n",
    "    posts = driver.find_elements(By.CSS_SELECTOR, posts_css)\n",
    "\n",
    "    # 게시글 제목 가져오기\n",
    "    for post in posts:\n",
    "        title = post.find_element(By.CSS_SELECTOR, 'td > div.board-list > div.inner_list > a').text\n",
    "        post_lst.append(title)\n",
    "    \n",
    "    # 페이지 조작\n",
    "    if page == pages:       # 현재 페이지가 pages이면 stop\n",
    "        break\n",
    "    elif page % 10 == 0:    # 현재 페이지가 10의 배수이면 '다음' 클릭\n",
    "        next_css = '#main-area > div.prev-next > a.pgR'\n",
    "        driver.find_element(By.CSS_SELECTOR, next_css).click()\n",
    "    else:                   # 다음 페이지 클릭\n",
    "        pos = 2 if page <= 10 else 3    # 첫 페이지는 이전 버튼이 없어서 2 그 이후로는 3이다.\n",
    "        page_css = f'#main-area > div.prev-next > a:nth-child({page % 10 + pos})'\n",
    "        driver.find_element(By.CSS_SELECTOR, page_css).click()\n",
    "\n",
    "    page += 1\n",
    "\n",
    "post_lst"
   ]
  },
  {
   "attachments": {},
   "cell_type": "markdown",
   "metadata": {},
   "source": [
    "### **2) 함수로 나타내기**"
   ]
  },
  {
   "cell_type": "code",
   "execution_count": 169,
   "metadata": {},
   "outputs": [],
   "source": [
    "def naver_cafe_title_crawling(url, nav_css, recommend, pages):\n",
    "    prt = 10                          # 최대 출력 수\n",
    "    interval = (pages // prt) + 1     # 출력할 페이지 간격\n",
    "\n",
    "    # 카페 URL로 이동\n",
    "    driver.get(url)         \n",
    "\n",
    "    # navigation bar에서 자유게시판 Click\n",
    "    driver.find_element(By.CSS_SELECTOR, nav_css).click()\n",
    "    \n",
    "    # 게시글 iframe으로 창 전환\n",
    "    driver.switch_to.frame('cafe_main')\n",
    "\n",
    "    post_lst = []\n",
    "\n",
    "    depth = 5 if recommend == 1 else 4\n",
    "    page = 1   \n",
    "    \n",
    "    print('Start!', end='')\n",
    "    while True:\n",
    "        if page % interval == 0:\n",
    "            print(f' > {page}', end='')\n",
    "        \n",
    "        # 게시글 목록 가져오기\n",
    "        posts_css = f'#main-area > div:nth-child({depth}) > table > tbody > tr'\n",
    "        posts = driver.find_elements(By.CSS_SELECTOR, posts_css)\n",
    "\n",
    "        # 게시글 제목 가져오기\n",
    "        for post in posts:\n",
    "            title = post.find_element(By.CSS_SELECTOR, 'td > div.board-list > div.inner_list > a').text\n",
    "            # post_lst.append(title)    # title만 저장\n",
    "            post_lst.append([url.split('/')[-1], title])\n",
    "        \n",
    "        # 페이지 조작\n",
    "        if page == pages:       # 현재 페이지가 pages이면 stop\n",
    "            print(' >>> End!')\n",
    "            break\n",
    "        elif page % 10 == 0:    # 현재 페이지가 10의 배수이면 '다음' 클릭\n",
    "            next_css = '#main-area > div.prev-next > a.pgR'\n",
    "            driver.find_element(By.CSS_SELECTOR, next_css).click()\n",
    "        else:                   # 다음 페이지 클릭\n",
    "            pos = 2 if page <= 10 else 3    # 첫 페이지는 이전 버튼이 없어서 2 그 이후로는 3이다.\n",
    "            page_css = f'#main-area > div.prev-next > a:nth-child({page % 10 + pos})'\n",
    "            driver.find_element(By.CSS_SELECTOR, page_css).click()\n",
    "\n",
    "        page += 1\n",
    "    \n",
    "    return post_lst\n"
   ]
  },
  {
   "attachments": {},
   "cell_type": "markdown",
   "metadata": {},
   "source": [
    "### **3) 실습**"
   ]
  },
  {
   "cell_type": "code",
   "execution_count": null,
   "metadata": {},
   "outputs": [],
   "source": [
    "# Chrome 창 열기\n",
    "chrome_options = webdriver.ChromeOptions()\n",
    "chrome_options.add_argument(\"user-agent=Mozilla/5.0 (Windows NT 6.1; Win64; x64)\")\n",
    "driver = webdriver.Chrome(service=Service(ChromeDriverManager().install()), options=chrome_options)"
   ]
  },
  {
   "attachments": {},
   "cell_type": "markdown",
   "metadata": {},
   "source": [
    "#### **전자담배 카페**"
   ]
  },
  {
   "cell_type": "code",
   "execution_count": 170,
   "metadata": {},
   "outputs": [
    {
     "name": "stdout",
     "output_type": "stream",
     "text": [
      "Start! > 2 > 4 > 6 > 8 > 10 > 12 >>> End!\n"
     ]
    }
   ],
   "source": [
    "# 전자담배 카페\n",
    "\n",
    "url = 'https://cafe.naver.com/eleccigar'\n",
    "nav_css = '#menuLink15'\n",
    "recommend = 1\n",
    "pages = 12\n",
    "\n",
    "posts = naver_cafe_title_crawling(url, nav_css, recommend, pages)"
   ]
  },
  {
   "attachments": {},
   "cell_type": "markdown",
   "metadata": {},
   "source": [
    "#### **이찬원 글로벌 팬카페**"
   ]
  },
  {
   "cell_type": "code",
   "execution_count": 171,
   "metadata": {},
   "outputs": [
    {
     "name": "stdout",
     "output_type": "stream",
     "text": [
      "Start! > 2 > 4 > 6 > 8 > 10 > 12 >>> End!\n"
     ]
    }
   ],
   "source": [
    "# 이찬원 글로벌 팬카페\n",
    "\n",
    "url = 'https://cafe.naver.com/wordglobalchans'\n",
    "nav_css = '#menuLink11'\n",
    "recommend = 0\n",
    "pages = 12\n",
    "\n",
    "posts = naver_cafe_title_crawling(url, nav_css, recommend, pages)"
   ]
  },
  {
   "attachments": {},
   "cell_type": "markdown",
   "metadata": {},
   "source": [
    "#### **하나의 데이터프레임으로 통합**"
   ]
  },
  {
   "cell_type": "code",
   "execution_count": 172,
   "metadata": {},
   "outputs": [
    {
     "name": "stdout",
     "output_type": "stream",
     "text": [
      "Start! > 2 > 4 > 6 > 8 > 10 > 12 >>> End!\n",
      "Start! > 2 > 4 > 6 > 8 > 10 > 12 >>> End!\n"
     ]
    }
   ],
   "source": [
    "# 여러 카페의 게시물 하나의 데이터 프레임으로 통합\n",
    "pages = 12\n",
    "cafe_dict = {'https://cafe.naver.com/eleccigar':('#menuLink15', 1),\n",
    "             'https://cafe.naver.com/wordglobalchans':('#menuLink11', 0)}\n",
    "\n",
    "cafe_posts = []\n",
    "for url, (nav_css, recommend) in cafe_dict.items():\n",
    "    posts = naver_cafe_title_crawling(url, nav_css, recommend, pages)\n",
    "    cafe_posts.extend(posts)"
   ]
  },
  {
   "cell_type": "code",
   "execution_count": 173,
   "metadata": {},
   "outputs": [
    {
     "data": {
      "text/html": [
       "<div>\n",
       "<style scoped>\n",
       "    .dataframe tbody tr th:only-of-type {\n",
       "        vertical-align: middle;\n",
       "    }\n",
       "\n",
       "    .dataframe tbody tr th {\n",
       "        vertical-align: top;\n",
       "    }\n",
       "\n",
       "    .dataframe thead th {\n",
       "        text-align: right;\n",
       "    }\n",
       "</style>\n",
       "<table border=\"1\" class=\"dataframe\">\n",
       "  <thead>\n",
       "    <tr style=\"text-align: right;\">\n",
       "      <th></th>\n",
       "      <th>cafe</th>\n",
       "      <th>post</th>\n",
       "    </tr>\n",
       "  </thead>\n",
       "  <tbody>\n",
       "    <tr>\n",
       "      <th>0</th>\n",
       "      <td>eleccigar</td>\n",
       "      <td>아웅 배터지네여</td>\n",
       "    </tr>\n",
       "    <tr>\n",
       "      <th>1</th>\n",
       "      <td>eleccigar</td>\n",
       "      <td>가습이 왔어요</td>\n",
       "    </tr>\n",
       "    <tr>\n",
       "      <th>2</th>\n",
       "      <td>eleccigar</td>\n",
       "      <td>기기 변경 ㅠ</td>\n",
       "    </tr>\n",
       "    <tr>\n",
       "      <th>3</th>\n",
       "      <td>eleccigar</td>\n",
       "      <td>[일상] 폰에 모아둔 생활팁 들이요~</td>\n",
       "    </tr>\n",
       "    <tr>\n",
       "      <th>4</th>\n",
       "      <td>eleccigar</td>\n",
       "      <td>아보카도 새 팟인데 초기불량인가여?</td>\n",
       "    </tr>\n",
       "    <tr>\n",
       "      <th>...</th>\n",
       "      <td>...</td>\n",
       "      <td>...</td>\n",
       "    </tr>\n",
       "    <tr>\n",
       "      <th>355</th>\n",
       "      <td>wordglobalchans</td>\n",
       "      <td>世界一好きな歌手イチャンウォン</td>\n",
       "    </tr>\n",
       "    <tr>\n",
       "      <th>356</th>\n",
       "      <td>wordglobalchans</td>\n",
       "      <td>이쁜 이찬원 홧팅</td>\n",
       "    </tr>\n",
       "    <tr>\n",
       "      <th>357</th>\n",
       "      <td>wordglobalchans</td>\n",
       "      <td>전세계 찬스님들 모여주세요</td>\n",
       "    </tr>\n",
       "    <tr>\n",
       "      <th>358</th>\n",
       "      <td>wordglobalchans</td>\n",
       "      <td>이찬원 므싯다 매력남 최고</td>\n",
       "    </tr>\n",
       "    <tr>\n",
       "      <th>359</th>\n",
       "      <td>wordglobalchans</td>\n",
       "      <td>우리 이찬원 형아 울산 MG새마을금고 음악회 출격하시네요 💕💕💕</td>\n",
       "    </tr>\n",
       "  </tbody>\n",
       "</table>\n",
       "<p>360 rows × 2 columns</p>\n",
       "</div>"
      ],
      "text/plain": [
       "                cafe                                 post\n",
       "0          eleccigar                             아웅 배터지네여\n",
       "1          eleccigar                              가습이 왔어요\n",
       "2          eleccigar                              기기 변경 ㅠ\n",
       "3          eleccigar                 [일상] 폰에 모아둔 생활팁 들이요~\n",
       "4          eleccigar                  아보카도 새 팟인데 초기불량인가여?\n",
       "..               ...                                  ...\n",
       "355  wordglobalchans                      世界一好きな歌手イチャンウォン\n",
       "356  wordglobalchans                            이쁜 이찬원 홧팅\n",
       "357  wordglobalchans                       전세계 찬스님들 모여주세요\n",
       "358  wordglobalchans                       이찬원 므싯다 매력남 최고\n",
       "359  wordglobalchans  우리 이찬원 형아 울산 MG새마을금고 음악회 출격하시네요 💕💕💕\n",
       "\n",
       "[360 rows x 2 columns]"
      ]
     },
     "execution_count": 173,
     "metadata": {},
     "output_type": "execute_result"
    }
   ],
   "source": [
    "df = pd.DataFrame(cafe_posts, columns=['cafe','post'])\n",
    "df    "
   ]
  }
 ],
 "metadata": {
  "kernelspec": {
   "display_name": "Python 3",
   "language": "python",
   "name": "python3"
  },
  "language_info": {
   "codemirror_mode": {
    "name": "ipython",
    "version": 3
   },
   "file_extension": ".py",
   "mimetype": "text/x-python",
   "name": "python",
   "nbconvert_exporter": "python",
   "pygments_lexer": "ipython3",
   "version": "3.10.10"
  },
  "orig_nbformat": 4
 },
 "nbformat": 4,
 "nbformat_minor": 2
}
