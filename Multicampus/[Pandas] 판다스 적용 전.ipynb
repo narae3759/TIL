{
 "cells": [
  {
   "cell_type": "markdown",
   "metadata": {},
   "source": [
    "# 데이터 읽기"
   ]
  },
  {
   "cell_type": "code",
   "execution_count": 8,
   "metadata": {},
   "outputs": [
    {
     "name": "stdout",
     "output_type": "stream",
     "text": [
      "Header: ['customerNumber', 'customerName', 'contactLastName', 'contactFirstName', 'phone', 'addressLine1', 'addressLine2', 'city', 'state', 'postalCode', 'country', 'salesRepEmployeeNumber', 'creditLimit\\n']\n",
      "Data 0 : ['103', 'Atelier graphique', 'Schmitt', 'Carine ', '40.32.2555', '\"54', ' rue Royale\"', 'NULL', 'Nantes', 'NULL', '44000', 'France', '1370', '21000\\n']\n",
      "Data 1 : ['112', 'Signal Gift Stores', 'King', 'Jean', '7025551838', '8489 Strong St.', 'NULL', 'Las Vegas', 'NV', '83030', 'USA', '1166', '71800\\n']\n",
      "Data 2 : ['114', '\"Australian Collectors', ' Co.\"', 'Ferguson', 'Peter', '03 9520 4555', '636 St Kilda Road', 'Level 3', 'Melbourne', 'Victoria', '3004', 'Australia', '1611', '117300\\n']\n",
      "Data 3 : ['119', 'La Rochelle Gifts', 'Labrune', 'Janine ', '40.67.8555', '\"67', ' rue des Cinquante Otages\"', 'NULL', 'Nantes', 'NULL', '44000', 'France', '1370', '118200\\n']\n",
      "Data 4 : ['121', 'Baane Mini Imports', 'Bergulfsen', 'Jonas ', '07-98 9555', 'Erling Skakkes gate 78', 'NULL', 'Stavern', 'NULL', '4110', 'Norway', '1504', '81700\\n']\n",
      "Data 5 : ['124', 'Mini Gifts Distributors Ltd.', 'Nelson', 'Susan', '4155551450', '5677 Strong St.', 'NULL', 'San Rafael', 'CA', '97562', 'USA', '1165', '210500\\n']\n",
      "Data 6 : ['125', 'Havel & Zbyszek Co', 'Piestrzeniewicz', 'Zbyszek ', '(26) 642-7555', 'ul. Filtrowa 68', 'NULL', 'Warszawa', 'NULL', '01-012', 'Poland', 'NULL', '0\\n']\n",
      "Data 7 : ['128', '\"Blauer See Auto', ' Co.\"', 'Keitel', 'Roland', '+49 69 66 90 2555', 'Lyonerstr. 34', 'NULL', 'Frankfurt', 'NULL', '60528', 'Germany', '1504', '59700\\n']\n",
      "Data 8 : ['129', 'Mini Wheels Co.', 'Murphy', 'Julie', '6505555787', '5557 North Pendale Street', 'NULL', 'San Francisco', 'CA', '94217', 'USA', '1165', '64600\\n']\n",
      "Data 9 : ['131', 'Land of Toys Inc.', 'Lee', 'Kwai', '2125557818', '897 Long Airport Avenue', 'NULL', 'NYC', 'NY', '10022', 'USA', '1323', '114900\\n']\n",
      "122\n"
     ]
    }
   ],
   "source": [
    "line_counter = 0 \n",
    "data_header = []\n",
    "customer_list = []\n",
    "\n",
    "with open('customers.csv') as customer_data:\n",
    "    while 1:\n",
    "        data = customer_data.readline()\n",
    "        if not data:break\n",
    "        if line_counter == 0:\n",
    "            data_header = data.split(',')\n",
    "            \n",
    "        else:\n",
    "            customer_list.append(data.split(','))\n",
    "        \n",
    "        line_counter += 1\n",
    "        \n",
    "print('Header:', data_header)\n",
    "for i in range(10):\n",
    "    print('Data',i,':',customer_list[i])\n",
    "print(len(customer_list))"
   ]
  },
  {
   "cell_type": "markdown",
   "metadata": {},
   "source": [
    "# 데이터 읽기(using `csv`)"
   ]
  },
  {
   "cell_type": "code",
   "execution_count": 10,
   "metadata": {},
   "outputs": [],
   "source": [
    "import csv \n",
    "seoung_nam_data = []\n",
    "header = []\n",
    "rownum = 0\n",
    "\n",
    "with open('korea_floating_population_data.csv', 'r', encoding='cp949') as p_file:\n",
    "    csv_data = csv.reader(p_file)\n",
    "    \n",
    "    for row in csv_data:\n",
    "        if rownum == 0:\n",
    "            header = row \n",
    "        location = row[7]\n",
    "        if location.find(u'성남시') != -1:\n",
    "            seoung_nam_data.append(row)\n",
    "            \n",
    "        rownum += 1\n",
    "\n",
    "with open('seoung_nam_floating_population_data.csv', 'w', encoding='utf8') as s_p_file:\n",
    "    writer = csv.writer(s_p_file, delimiter='\\t', quotechar=\"'\", quoting=csv.QUOTE_ALL)\n",
    "    \n",
    "    writer.writerow(header)\n",
    "    for row in seoung_nam_data:\n",
    "        writer.writerow(row)"
   ]
  },
  {
   "cell_type": "code",
   "execution_count": 2,
   "metadata": {},
   "outputs": [],
   "source": [
    "import csv\n",
    "\n",
    "weather = []\n",
    "\n",
    "f = open('seoul_weather.csv', 'r', encoding='cp949')\n",
    "data = csv.reader(f, delimiter=',')\n",
    "for row in data:\n",
    "    weather.append(row)\n",
    "f.close()"
   ]
  },
  {
   "cell_type": "code",
   "execution_count": 12,
   "metadata": {},
   "outputs": [
    {
     "data": {
      "text/plain": [
       "[['\\t\\t지점번호',\n",
       "  '지점명',\n",
       "  '일시',\n",
       "  '평균기온(℃)',\n",
       "  '최고기온(℃)',\n",
       "  '\\t최고기온시각',\n",
       "  '최저기온(℃)',\n",
       "  '최저기온시각일교차'],\n",
       " ['\\t\\t108', '서울', '1907-10-01', '13.5', '20.7', '', '7.9', '', '12.8'],\n",
       " ['\\t\\t108', '서울', '1907-10-02', '16.2', '22.0', '', '7.9', '', '14.1'],\n",
       " ['\\t\\t108', '서울', '1907-10-03', '16.2', '21.3', '', '13.1', '', '8.2'],\n",
       " ['\\t\\t108', '서울', '1907-10-04', '16.5', '22.0', '', '11.2', '', '10.8']]"
      ]
     },
     "execution_count": 12,
     "metadata": {},
     "output_type": "execute_result"
    }
   ],
   "source": [
    "weather[:5]"
   ]
  },
  {
   "cell_type": "markdown",
   "metadata": {},
   "source": [
    "# 데이터 탐색"
   ]
  },
  {
   "cell_type": "code",
   "execution_count": 3,
   "metadata": {},
   "outputs": [],
   "source": [
    "for i in range(len(weather)):\n",
    "    # print(weather[i])\n",
    "    if i == 0:\n",
    "        continue\n",
    "    # 108에서 \\t 제거\n",
    "    weather[i][0] = weather[i][0].strip('\\t')\n",
    "    \n",
    "    # 평균기온, 최고기온, 최저기온, 일교차\n",
    "    for j in [3, 4, 6, 8]:\n",
    "        if weather[i][j] == '':\n",
    "            continue\n",
    "        weather[i][j] = float(weather[i][j])\n",
    "        \n",
    "    # print(weather[i][0])"
   ]
  },
  {
   "cell_type": "code",
   "execution_count": 14,
   "metadata": {},
   "outputs": [
    {
     "data": {
      "text/plain": [
       "[['\\t\\t지점번호',\n",
       "  '지점명',\n",
       "  '일시',\n",
       "  '평균기온(℃)',\n",
       "  '최고기온(℃)',\n",
       "  '\\t최고기온시각',\n",
       "  '최저기온(℃)',\n",
       "  '최저기온시각일교차'],\n",
       " ['108', '서울', '1907-10-01', 13.5, 20.7, '', 7.9, '', 12.8],\n",
       " ['108', '서울', '1907-10-02', 16.2, 22.0, '', 7.9, '', 14.1],\n",
       " ['108', '서울', '1907-10-03', 16.2, 21.3, '', 13.1, '', 8.2],\n",
       " ['108', '서울', '1907-10-04', 16.5, 22.0, '', 11.2, '', 10.8]]"
      ]
     },
     "execution_count": 14,
     "metadata": {},
     "output_type": "execute_result"
    }
   ],
   "source": [
    "weather[:5]"
   ]
  },
  {
   "cell_type": "code",
   "execution_count": 4,
   "metadata": {},
   "outputs": [],
   "source": [
    "highest_temp = -999\n",
    "lowest_temp = 999\n",
    "gap_temp = -999\n",
    "\n",
    "FirstLine = True\n",
    "for row in weather:\n",
    "    if FirstLine == True:\n",
    "        FirstLine = False\n",
    "        continue\n",
    "    \n",
    "    if '' in [row[4], row[6], row[8]]:\n",
    "        continue\n",
    "\n",
    "    if row[4] > highest_temp:\n",
    "        highest_temp = row[4]\n",
    "        highest_date = row[2]\n",
    "        highest_time = row[5]\n",
    "        \n",
    "    if row[6] < lowest_temp:\n",
    "        lowest_temp = row[6]\n",
    "        lowest_date = row[2]\n",
    "        lowest_time = row[7]\n",
    "        \n",
    "    if row[8] > gap_temp:\n",
    "        gap_temp = row[8]\n",
    "        gap_date = row[2]"
   ]
  },
  {
   "cell_type": "code",
   "execution_count": 6,
   "metadata": {},
   "outputs": [
    {
     "name": "stdout",
     "output_type": "stream",
     "text": [
      "가장 더웠던 날: 39.6, 2018-08-01 15:36\n",
      "가장 낮았던 날: -23.1, 1927-12-31 \n",
      "가장 일교차가 컸던 날: 21.8, 1942-04-19\n"
     ]
    }
   ],
   "source": [
    "print('가장 더웠던 날: {}, {} {}'.format(highest_temp, highest_date, highest_time))\n",
    "print('가장 낮았던 날: {}, {} {}'.format(lowest_temp, lowest_date, lowest_time))\n",
    "print('가장 일교차가 컸던 날: {}, {}'.format(gap_temp, gap_date))\n"
   ]
  }
 ],
 "metadata": {
  "kernelspec": {
   "display_name": "Python 3.10.0 64-bit",
   "language": "python",
   "name": "python3"
  },
  "language_info": {
   "codemirror_mode": {
    "name": "ipython",
    "version": 3
   },
   "file_extension": ".py",
   "mimetype": "text/x-python",
   "name": "python",
   "nbconvert_exporter": "python",
   "pygments_lexer": "ipython3",
   "version": "3.10.0"
  },
  "orig_nbformat": 4,
  "vscode": {
   "interpreter": {
    "hash": "1ed1f76483e4d532c2a47a0bad31080b16a7f7d0106ba342ff005fcfacb5105f"
   }
  }
 },
 "nbformat": 4,
 "nbformat_minor": 2
}
