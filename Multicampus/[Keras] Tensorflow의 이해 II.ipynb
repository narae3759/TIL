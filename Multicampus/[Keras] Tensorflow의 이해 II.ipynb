{
  "nbformat": 4,
  "nbformat_minor": 0,
  "metadata": {
    "colab": {
      "provenance": [],
      "toc_visible": true
    },
    "kernelspec": {
      "name": "python3",
      "display_name": "Python 3"
    },
    "language_info": {
      "name": "python"
    }
  },
  "cells": [
    {
      "cell_type": "markdown",
      "source": [
        "# 실습1. 경사하강법 (단층)"
      ],
      "metadata": {
        "id": "p-jQN4vUmaGp"
      }
    },
    {
      "cell_type": "code",
      "execution_count": null,
      "metadata": {
        "colab": {
          "base_uri": "https://localhost:8080/"
        },
        "id": "Gcq8_txBhq_A",
        "outputId": "8a9ce212-a4a3-4928-c80d-28a03a9a1be9"
      },
      "outputs": [
        {
          "output_type": "stream",
          "name": "stdout",
          "text": [
            "0\t0.45854315\n",
            "100\t0.6154725\n",
            "200\t0.6239661\n",
            "300\t0.6296285\n",
            "400\t0.6328641\n",
            "500\t0.63650423\n",
            "600\t0.6377176\n",
            "700\t0.63933545\n",
            "800\t0.6413577\n",
            "900\t0.64297557\n",
            "1000\t0.64459336\n",
            "1100\t0.6462112\n",
            "1200\t0.6474246\n",
            "1300\t0.64782906\n",
            "1400\t0.6482335\n",
            "1500\t0.64863795\n",
            "1600\t0.6490424\n",
            "1700\t0.64944685\n",
            "1800\t0.6510647\n",
            "1900\t0.6518736\n",
            "2000\t0.6518736\n",
            "2100\t0.6518736\n",
            "2200\t0.65268254\n",
            "2300\t0.65268254\n",
            "2400\t0.65308696\n",
            "2500\t0.65308696\n",
            "2600\t0.65308696\n",
            "2700\t0.65349144\n",
            "2800\t0.65349144\n",
            "2900\t0.65349144\n",
            "Accuracy:  0.65349144\n"
          ]
        }
      ],
      "source": [
        "##############################################\n",
        "# tf1.x - 당뇨데이터 (이진분류)\n",
        "##############################################\n",
        "import tensorflow.compat.v1 as tf\n",
        "tf.disable_v2_behavior()\n",
        "import numpy as np\n",
        "\n",
        "data = np.loadtxt('/content/drive/MyDrive/Colab Notebooks/data/data-03-diabetes.csv', delimiter=',', dtype=np.float32)\n",
        "x_data = data[:, :-1]\n",
        "y_data = data[:, -1]\n",
        "\n",
        "# Placeholder 정의 : Shape에 주의! 총 X:(N, 8) Y: (N,)\n",
        "X = tf.placeholder(tf.float32, shape=[None, 8])\n",
        "Y = tf.placeholder(tf.float32, shape=None)\n",
        "\n",
        "# Variable (tensor) 정의 (업데이트 할 변수들) - 초기값 설정 (random)\n",
        "W = tf.Variable(tf.random_normal([8, 1]), )  # tf2.x -> tf.random.normal\n",
        "b = tf.Variable(tf.random_normal([1]))  # broadcasting예정\n",
        "\n",
        "# 가설(hypothesis) 정의 : 2진 분류 (sigmoid)\n",
        "hypothesis = tf.sigmoid(tf.matmul(X, W) + b)\n",
        "# hypothesis = 1 / (1 + tf.exp(- (tf.matmul(X, W) + b)))  # sigmoid함수 정의\n",
        "\n",
        "# Loss(Cost)함수 정의\n",
        "cost = -tf.reduce_mean(Y * tf.log(hypothesis) + (1 - Y) * tf.log(1 - hypothesis))\n",
        "\n",
        "# Hyper Parameter 정의\n",
        "lr = 0.05\n",
        "epochs = 3000\n",
        "\n",
        "# Optimizer 정의 (경사하강법, 학습률)\n",
        "train = tf.train.GradientDescentOptimizer(learning_rate=lr).minimize(cost)\n",
        "\n",
        "# 정확도 평가 hypothesis(sigmoid) > 0.5 -> 1 else 0\n",
        "predicted = tf.cast(hypothesis > 0.5, dtype=tf.float32)\n",
        "accuracy = tf.reduce_mean(tf.cast(tf.equal(predicted, Y), dtype=tf.float32))\n",
        "\n",
        "history = {'loss': [], 'accuracy': []}\n",
        "# 세션 시작! (학습)\n",
        "with tf.Session() as sess:\n",
        "    sess.run(tf.global_variables_initializer())  # Variable이 있다면 반드시 variable 초기화!!!\n",
        "\n",
        "    for step in range(epochs):\n",
        "        cost_val, _, h, p, a = sess.run([cost, train, hypothesis, predicted, accuracy], feed_dict={X: x_data, Y: y_data})    # 학습\n",
        "        history['loss'].append(cost_val)\n",
        "        history['accuracy'].append(a)\n",
        "        if step % 100 == 0:\n",
        "            print(step, a, sep='\\t')\n",
        "\n",
        "    # 정확도 77%\n",
        "    h, p, a = sess.run([hypothesis, predicted, accuracy], feed_dict={X: x_data, Y: y_data})\n",
        "    #a = sess.run(accuracy, feed_dict={X: x_data, Y: y_data}) 같이 해도 문제는 안됨\n",
        "    #grph가 구성되어 있으므로\n",
        "    print(\"Accuracy: \", a)\n",
        "    # Accuracy: 0.769433\n",
        "\n",
        "    W_val, b_val = sess.run([W, b], feed_dict={X: x_data, Y:y_data})\n"
      ]
    },
    {
      "cell_type": "code",
      "source": [
        "import matplotlib.pyplot as plt\n",
        "import pandas as pd\n",
        "df_history = pd.DataFrame(history)\n",
        "df_history.plot()\n",
        "plt.show()"
      ],
      "metadata": {
        "colab": {
          "base_uri": "https://localhost:8080/",
          "height": 265
        },
        "id": "yOpuhG22nddi",
        "outputId": "9986168d-a903-4429-86e3-d1e58d7ea86a"
      },
      "execution_count": null,
      "outputs": [
        {
          "output_type": "display_data",
          "data": {
            "text/plain": [
              "<Figure size 432x288 with 1 Axes>"
            ],
            "image/png": "[encoded data removed]"
          },
          "metadata": {
            "needs_background": "light"
          }
        }
      ]
    },
    {
      "cell_type": "code",
      "source": [
        "# 파라미터 값\n",
        "print('W >\\n', W_val)\n",
        "print('b >\\n', b_val)"
      ],
      "metadata": {
        "colab": {
          "base_uri": "https://localhost:8080/"
        },
        "id": "-yk6xEr9m7jo",
        "outputId": "2d4ecac0-494d-4b73-f639-cbc1a30fee72"
      },
      "execution_count": null,
      "outputs": [
        {
          "output_type": "stream",
          "name": "stdout",
          "text": [
            "W >\n",
            " [[-0.04127072]\n",
            " [ 0.1238573 ]\n",
            " [ 0.23917271]\n",
            " [-0.29699335]\n",
            " [ 0.0334263 ]\n",
            " [ 0.18792304]\n",
            " [-0.30342194]\n",
            " [-0.07212781]]\n",
            "b >\n",
            " [0.2281755]\n"
          ]
        }
      ]
    },
    {
      "cell_type": "markdown",
      "source": [
        "# 퍼셉트론의 과제(AND 연산)"
      ],
      "metadata": {
        "id": "y_x4bkGOo6RA"
      }
    },
    {
      "cell_type": "code",
      "source": [
        "import tensorflow.compat.v1 as tf\n",
        "tf.disable_v2_behavior()\n",
        "import numpy as np\n",
        "\n",
        "x_data = np.array([[0, 0], [0, 1], [1, 0], [1, 1]], dtype=np.float32)\n",
        "y_data = np.array([[0], [0], [0], [1]], dtype=np.float32)\n",
        "\n",
        "X = tf.placeholder(tf.float32, [None, 2], name='x-input')\n",
        "Y = tf.placeholder(tf.float32, [None, 1], name='y-input')\n",
        "\n",
        "W = tf.Variable(tf.random_normal([2, 1]), name='weight')\n",
        "b = tf.Variable(tf.random_normal([]), name='bias')\n",
        "\n",
        "# Hyper Parameter 정하기\n",
        "epochs = 1000\n",
        "lr = 0.1\n",
        "#활성화 함수(hypothesis : 가설)\n",
        "hypothesis = tf.sigmoid(tf.matmul(X, W) + b)\n",
        "# cost/loss function\n",
        "cost = -tf.reduce_mean(Y * tf.log(hypothesis) + (1 - Y) * tf.log(1 - hypothesis))\n",
        "train = tf.train.GradientDescentOptimizer(learning_rate=lr).minimize(cost)\n",
        "# 예측값 결과 계산 및 Accuracy 계산\n",
        "predicted = tf.cast(hypothesis > 0.5, dtype=tf.float32)\n",
        "accuracy = tf.reduce_mean(tf.cast(tf.equal(predicted, Y), dtype=tf.float32))\n",
        "# Launch graph\n",
        "with tf.Session() as sess:\n",
        "   # TensorFlow variables 초기화\n",
        "   sess.run(tf.global_variables_initializer())\n",
        "   for step in range(epochs + 1):\n",
        "       sess.run(train, feed_dict={X: x_data, Y: y_data})\n",
        "       if step % 100 == 0:\n",
        "           W_, b_, cost_, a_ = sess.run([W, b, cost, accuracy],\n",
        "                                          feed_dict={X: x_data, Y: y_data})\n",
        "           print(\"step = \", step,\n",
        "                 \"\\tW = \", W_.flatten().round(4),\n",
        "                 \"\\tb = \", b_.round(4),\n",
        "                 \"\\tAccuracy = \", a_)\n",
        "\n",
        "   # Accuracy report\n",
        "   h, p, a = sess.run([hypothesis, predicted, accuracy],\n",
        "                      feed_dict={X: x_data, Y: y_data})\n",
        "   print(\"\\nHypothesis:\\n\", h, \"\\nPredicted:\\n\", p, \"\\nAccuracy:\\n\", a, sep='')\n"
      ],
      "metadata": {
        "colab": {
          "base_uri": "https://localhost:8080/"
        },
        "id": "myzrMzZHpFMs",
        "outputId": "735fc489-fc30-49f3-cfd6-7debc191be19"
      },
      "execution_count": null,
      "outputs": [
        {
          "output_type": "stream",
          "name": "stdout",
          "text": [
            "step =  0 \tW =  [ 1.6188 -0.7765] \tb =  0.3917 \tAccuracy =  0.5\n",
            "step =  100 \tW =  [ 1.2698 -0.1119] \tb =  -1.3554 \tAccuracy =  0.75\n",
            "step =  200 \tW =  [1.4905 0.6654] \tb =  -2.0169 \tAccuracy =  1.0\n",
            "step =  300 \tW =  [1.7249 1.2196] \tb =  -2.5391 \tAccuracy =  1.0\n",
            "step =  400 \tW =  [1.9536 1.6354] \tb =  -2.9827 \tAccuracy =  1.0\n",
            "step =  500 \tW =  [2.1721 1.9661] \tb =  -3.3698 \tAccuracy =  1.0\n",
            "step =  600 \tW =  [2.3782 2.2413] \tb =  -3.7143 \tAccuracy =  1.0\n",
            "step =  700 \tW =  [2.5713 2.4782] \tb =  -4.025 \tAccuracy =  1.0\n",
            "step =  800 \tW =  [2.752  2.6872] \tb =  -4.3084 \tAccuracy =  1.0\n",
            "step =  900 \tW =  [2.9209 2.875 ] \tb =  -4.569 \tAccuracy =  1.0\n",
            "step =  1000 \tW =  [3.0792 3.046 ] \tb =  -4.8104 \tAccuracy =  1.0\n",
            "\n",
            "Hypothesis:\n",
            "[[0.00807894]\n",
            " [0.1462374 ]\n",
            " [0.15043221]\n",
            " [0.7883062 ]]\n",
            "Predicted:\n",
            "[[0.]\n",
            " [0.]\n",
            " [0.]\n",
            " [1.]]\n",
            "Accuracy:\n",
            "1.0\n"
          ]
        }
      ]
    },
    {
      "cell_type": "markdown",
      "source": [
        "# 퍼셉트론의 과제(OR연산)"
      ],
      "metadata": {
        "id": "3Sg3Qjh9rU2a"
      }
    },
    {
      "cell_type": "code",
      "source": [
        "import tensorflow.compat.v1 as tf\n",
        "tf.disable_v2_behavior()\n",
        "import numpy as np\n",
        "\n",
        "x_data = np.array([[0, 0], [0, 1], [1, 0], [1, 1]], dtype=np.float32)\n",
        "y_data = np.array([[0], [1], [1], [1]], dtype=np.float32)\n",
        "\n",
        "X = tf.placeholder(tf.float32, [None, 2], name='x-input')\n",
        "Y = tf.placeholder(tf.float32, [None, 1], name='y-input')\n",
        "\n",
        "W = tf.Variable(tf.random_normal([2, 1]), name='weight')\n",
        "b = tf.Variable(tf.random_normal([]), name='bias')\n",
        "\n",
        "# Hyper Parameter 정하기\n",
        "epochs = 1000\n",
        "lr = 0.1\n",
        "#활성화 함수(hypothesis : 가설)\n",
        "hypothesis = tf.sigmoid(tf.matmul(X, W) + b)\n",
        "# cost/loss function\n",
        "cost = -tf.reduce_mean(Y * tf.log(hypothesis) + (1 - Y) * tf.log(1 - hypothesis))\n",
        "train = tf.train.GradientDescentOptimizer(learning_rate=lr).minimize(cost)\n",
        "# 예측값 결과 계산 및 Accuracy 계산\n",
        "predicted = tf.cast(hypothesis > 0.5, dtype=tf.float32)\n",
        "accuracy = tf.reduce_mean(tf.cast(tf.equal(predicted, Y), dtype=tf.float32))\n",
        "# Launch graph\n",
        "with tf.Session() as sess:\n",
        "   # TensorFlow variables 초기화\n",
        "   sess.run(tf.global_variables_initializer())\n",
        "   for step in range(epochs + 1):\n",
        "       sess.run(train, feed_dict={X: x_data, Y: y_data})\n",
        "       if step % 100 == 0:\n",
        "           W_, b_, cost_, a_ = sess.run([W, b, cost, accuracy],\n",
        "                                          feed_dict={X: x_data, Y: y_data})\n",
        "           print(\"step = \", step,\n",
        "                 \"\\tW = \", W_.flatten().round(4),\n",
        "                 \"\\tb = \", b_.round(4),\n",
        "                 \"\\tAccuracy = \", a_)\n",
        "\n",
        "   # Accuracy report\n",
        "   h, p, a = sess.run([hypothesis, predicted, accuracy],\n",
        "                      feed_dict={X: x_data, Y: y_data})\n",
        "   print(\"\\nHypothesis:\\n\", h, \"\\nPredicted:\\n\", p, \"\\nAccuracy:\\n\", a, sep='')\n"
      ],
      "metadata": {
        "colab": {
          "base_uri": "https://localhost:8080/"
        },
        "id": "2K7YIMqRrYbf",
        "outputId": "3b867f7e-e26d-4b28-f9b9-be08eed2bc6f"
      },
      "execution_count": null,
      "outputs": [
        {
          "output_type": "stream",
          "name": "stdout",
          "text": [
            "step =  0 \tW =  [0.9231 0.219 ] \tb =  1.5072 \tAccuracy =  0.75\n",
            "step =  100 \tW =  [1.3582 0.838 ] \tb =  0.5785 \tAccuracy =  0.75\n",
            "step =  200 \tW =  [1.8042 1.4323] \tb =  0.0644 \tAccuracy =  0.75\n",
            "step =  300 \tW =  [2.2018 1.932 ] \tb =  -0.2841 \tAccuracy =  1.0\n",
            "step =  400 \tW =  [2.5519 2.3511] \tb =  -0.5476 \tAccuracy =  1.0\n",
            "step =  500 \tW =  [2.862  2.7088] \tb =  -0.7598 \tAccuracy =  1.0\n",
            "step =  600 \tW =  [3.1391 3.0193] \tb =  -0.9374 \tAccuracy =  1.0\n",
            "step =  700 \tW =  [3.3888 3.2932] \tb =  -1.0904 \tAccuracy =  1.0\n",
            "step =  800 \tW =  [3.6155 3.5378] \tb =  -1.2247 \tAccuracy =  1.0\n",
            "step =  900 \tW =  [3.8227 3.7585] \tb =  -1.3444 \tAccuracy =  1.0\n",
            "step =  1000 \tW =  [4.0132 3.9594] \tb =  -1.4523 \tAccuracy =  1.0\n",
            "\n",
            "Hypothesis:\n",
            "[[0.18964581]\n",
            " [0.92463905]\n",
            " [0.9283007 ]\n",
            " [0.99852896]]\n",
            "Predicted:\n",
            "[[0.]\n",
            " [1.]\n",
            " [1.]\n",
            " [1.]]\n",
            "Accuracy:\n",
            "1.0\n"
          ]
        }
      ]
    },
    {
      "cell_type": "markdown",
      "source": [
        "# 퍼셉트론의 과제(XOR 연산)\n"
      ],
      "metadata": {
        "id": "0RER2j78qiy8"
      }
    },
    {
      "cell_type": "code",
      "source": [
        "import tensorflow.compat.v1 as tf\n",
        "tf.disable_v2_behavior()\n",
        "import numpy as np\n",
        "\n",
        "x_data = np.array([[0, 0], [0, 1], [1, 0], [1, 1]], dtype=np.float32)\n",
        "y_data = np.array([[0], [1], [1], [0]], dtype=np.float32)\n",
        "\n",
        "X = tf.placeholder(tf.float32, [None, 2], name='x-input')\n",
        "Y = tf.placeholder(tf.float32, [None, 1], name='y-input')\n",
        "\n",
        "W = tf.Variable(tf.random_normal([2, 1]), name='weight')\n",
        "b = tf.Variable(tf.random_normal([]), name='bias')\n",
        "\n",
        "# Hyper Parameter 정하기\n",
        "epochs = 1000\n",
        "lr = 0.1\n",
        "#활성화 함수(hypothesis : 가설)\n",
        "hypothesis = tf.sigmoid(tf.matmul(X, W) + b)\n",
        "# cost/loss function\n",
        "cost = -tf.reduce_mean(Y * tf.log(hypothesis) + (1 - Y) * tf.log(1 - hypothesis))\n",
        "train = tf.train.GradientDescentOptimizer(learning_rate=lr).minimize(cost)\n",
        "# 예측값 결과 계산 및 Accuracy 계산\n",
        "predicted = tf.cast(hypothesis > 0.5, dtype=tf.float32)\n",
        "accuracy = tf.reduce_mean(tf.cast(tf.equal(predicted, Y), dtype=tf.float32))\n",
        "# Launch graph\n",
        "with tf.Session() as sess:\n",
        "   # TensorFlow variables 초기화\n",
        "   sess.run(tf.global_variables_initializer())\n",
        "   for step in range(epochs + 1):\n",
        "       sess.run(train, feed_dict={X: x_data, Y: y_data})\n",
        "       if step % 100 == 0:\n",
        "           W_, b_, cost_, a_ = sess.run([W, b, cost, accuracy],\n",
        "                                          feed_dict={X: x_data, Y: y_data})\n",
        "           print(\"step = \", step,\n",
        "                 \"\\tW = \", W_.flatten().round(4),\n",
        "                 \"\\tb = \", b_.round(4),\n",
        "                 \"\\tAccuracy = \", a_)\n",
        "\n",
        "   # Accuracy report\n",
        "   h, p, a = sess.run([hypothesis, predicted, accuracy],\n",
        "                      feed_dict={X: x_data, Y: y_data})\n",
        "   print(\"\\nHypothesis:\\n\", h, \"\\nPredicted:\\n\", p, \"\\nAccuracy:\\n\", a, sep='')\n"
      ],
      "metadata": {
        "colab": {
          "base_uri": "https://localhost:8080/"
        },
        "id": "sbbtM4y0q0Jj",
        "outputId": "6c5fdf15-74c4-4993-aa10-f2b9c92d2886"
      },
      "execution_count": null,
      "outputs": [
        {
          "output_type": "stream",
          "name": "stdout",
          "text": [
            "step =  0 \tW =  [-0.9138  0.1843] \tb =  0.0693 \tAccuracy =  0.5\n",
            "step =  100 \tW =  [-0.4597  0.133 ] \tb =  0.1873 \tAccuracy =  0.5\n",
            "step =  200 \tW =  [-0.2676  0.0499] \tb =  0.1291 \tAccuracy =  0.5\n",
            "step =  300 \tW =  [-0.1584  0.0114] \tb =  0.0872 \tAccuracy =  0.5\n",
            "step =  400 \tW =  [-0.095  -0.0043] \tb =  0.0588 \tAccuracy =  0.5\n",
            "step =  500 \tW =  [-0.0577 -0.0093] \tb =  0.0397 \tAccuracy =  0.5\n",
            "step =  600 \tW =  [-0.0355 -0.0097] \tb =  0.0268 \tAccuracy =  0.5\n",
            "step =  700 \tW =  [-0.0222 -0.0083] \tb =  0.0181 \tAccuracy =  0.5\n",
            "step =  800 \tW =  [-0.014  -0.0066] \tb =  0.0122 \tAccuracy =  0.5\n",
            "step =  900 \tW =  [-0.0089 -0.005 ] \tb =  0.0082 \tAccuracy =  0.5\n",
            "step =  1000 \tW =  [-0.0057 -0.0036] \tb =  0.0056 \tAccuracy =  0.5\n",
            "\n",
            "Hypothesis:\n",
            "[[0.5013912 ]\n",
            " [0.5004819 ]\n",
            " [0.49995476]\n",
            " [0.49904546]]\n",
            "Predicted:\n",
            "[[1.]\n",
            " [1.]\n",
            " [0.]\n",
            " [0.]]\n",
            "Accuracy:\n",
            "0.5\n"
          ]
        }
      ]
    },
    {
      "cell_type": "markdown",
      "source": [
        "## XOR연산 layer 2층으로"
      ],
      "metadata": {
        "id": "GyrS_0HPr9oJ"
      }
    },
    {
      "cell_type": "code",
      "source": [
        "import tensorflow.compat.v1 as tf\n",
        "tf.disable_v2_behavior()\n",
        "import numpy as np\n",
        "\n",
        "x_data = np.array([[0, 0], [0, 1], [1, 0], [1, 1]], dtype=np.float32)\n",
        "y_data = np.array([[0], [0], [0], [1]], dtype=np.float32)\n",
        "\n",
        "X = tf.placeholder(tf.float32, [None, 2], name='x-input')\n",
        "Y = tf.placeholder(tf.float32, [None, 1], name='y-input')\n",
        "\n",
        "W1 = tf.Variable(tf.random_normal([2, 2]), name='weight1')\n",
        "b1 = tf.Variable(tf.random_normal([2]), name='bias1')\n",
        "layer1 = tf.sigmoid(tf.matmul(X, W1) + b1)\n",
        "\n",
        "W2 = tf.Variable(tf.random_normal([2, 1]), name='weight2')\n",
        "b2 = tf.Variable(tf.random_normal([]), name='bias2')\n",
        "hypothesis = tf.sigmoid(tf.matmul(layer1, W2) + b2)\n",
        "\n",
        "# Hyper Parameter 정하기\n",
        "epochs = 1000\n",
        "lr = 0.1\n",
        "\n",
        "# cost/loss function\n",
        "cost = -tf.reduce_mean(Y * tf.log(hypothesis) + (1 - Y) * tf.log(1 - hypothesis))\n",
        "train = tf.train.GradientDescentOptimizer(learning_rate=lr).minimize(cost)\n",
        "\n",
        "# 예측값 결과 계산 및 Accuracy 계산\n",
        "predicted = tf.cast(hypothesis > 0.5, dtype=tf.float32)\n",
        "accuracy = tf.reduce_mean(tf.cast(tf.equal(predicted, Y), dtype=tf.float32))\n",
        "\n",
        "history = {'loss': [], 'accuracy': []}\n",
        "# Launch graph\n",
        "with tf.Session() as sess:\n",
        "   # TensorFlow variables 초기화\n",
        "   sess.run(tf.global_variables_initializer())\n",
        "   for step in range(epochs + 1):\n",
        "       sess.run(train, feed_dict={X: x_data, Y: y_data})\n",
        "\n",
        "       W1_, b1_, cost_, a_ = sess.run([W1, b1, cost, accuracy],\n",
        "                                          feed_dict={X: x_data, Y: y_data})\n",
        "\n",
        "       history['loss'].append(cost_)\n",
        "       history['accuracy'].append(a_)\n",
        "\n",
        "\n",
        "       if step % 100 == 0:\n",
        "\n",
        "           print(\"step = \", step,\n",
        "                 \"\\tW1 = \", W1_.flatten().round(4),\n",
        "                 \"\\tb1 = \", b1_.round(4),\n",
        "                 \"\\tAccuracy = \", a_)\n",
        "\n",
        "   # Accuracy report\n",
        "   h, p, a = sess.run([hypothesis, predicted, accuracy], feed_dict={X: x_data, Y: y_data})\n",
        "   print(\"\\nHypothesis:\\n\", h, \"\\nPredicted:\\n\", p, \"\\nAccuracy:\\n\", a, sep='')\n"
      ],
      "metadata": {
        "colab": {
          "base_uri": "https://localhost:8080/"
        },
        "id": "Wi2WNGYDsBB0",
        "outputId": "e7a7035c-5e98-4099-cd77-578a3a90ba47"
      },
      "execution_count": null,
      "outputs": [
        {
          "output_type": "stream",
          "name": "stdout",
          "text": [
            "step =  0 \tW1 =  [-0.9515  0.1683  0.8062  0.4056] \tb1 =  [-1.1967 -1.4045] \tAccuracy =  0.75\n",
            "step =  100 \tW1 =  [-1.0847  0.1018  0.7032  0.339 ] \tb1 =  [-1.2371 -1.4428] \tAccuracy =  0.75\n",
            "step =  200 \tW1 =  [-1.1929  0.0959  0.6394  0.3332] \tb1 =  [-1.2165 -1.4446] \tAccuracy =  0.75\n",
            "step =  300 \tW1 =  [-1.3086  0.1179  0.5799  0.3553] \tb1 =  [-1.17   -1.4398] \tAccuracy =  0.75\n",
            "step =  400 \tW1 =  [-1.4358  0.1696  0.5218  0.408 ] \tb1 =  [-1.0972 -1.4278] \tAccuracy =  0.75\n",
            "step =  500 \tW1 =  [-1.5749  0.2615  0.4662  0.5036] \tb1 =  [-0.9916 -1.4035] \tAccuracy =  0.75\n",
            "step =  600 \tW1 =  [-1.7255  0.411   0.4141  0.6638] \tb1 =  [-0.8462 -1.3608] \tAccuracy =  0.75\n",
            "step =  700 \tW1 =  [-1.8857  0.6246  0.3672  0.905 ] \tb1 =  [-0.655  -1.3104] \tAccuracy =  0.75\n",
            "step =  800 \tW1 =  [-2.0501  0.851   0.3244  1.1942] \tb1 =  [-0.4224 -1.3116] \tAccuracy =  0.75\n",
            "step =  900 \tW1 =  [-2.2129  1.0196  0.2772  1.4761] \tb1 =  [-0.1742 -1.4142] \tAccuracy =  0.75\n",
            "step =  1000 \tW1 =  [-2.3671  1.1217  0.2195  1.7397] \tb1 =  [ 0.062  -1.5977] \tAccuracy =  1.0\n",
            "\n",
            "Hypothesis:\n",
            "[[0.08734891]\n",
            " [0.15889297]\n",
            " [0.30416042]\n",
            " [0.5005886 ]]\n",
            "Predicted:\n",
            "[[0.]\n",
            " [0.]\n",
            " [0.]\n",
            " [1.]]\n",
            "Accuracy:\n",
            "1.0\n"
          ]
        }
      ]
    },
    {
      "cell_type": "code",
      "source": [
        "import matplotlib.pyplot as plt\n",
        "import pandas as pd\n",
        "df_history = pd.DataFrame(history)\n",
        "df_history.plot()\n",
        "plt.show()"
      ],
      "metadata": {
        "colab": {
          "base_uri": "https://localhost:8080/",
          "height": 265
        },
        "id": "3pwJh3iK2M_6",
        "outputId": "815a2468-9582-4b73-d39d-ee807e947d18"
      },
      "execution_count": null,
      "outputs": [
        {
          "output_type": "display_data",
          "data": {
            "text/plain": [
              "<Figure size 432x288 with 1 Axes>"
            ],
            "image/png": "[encoded data removed]"
          },
          "metadata": {
            "needs_background": "light"
          }
        }
      ]
    },
    {
      "cell_type": "markdown",
      "source": [
        "# Tensor 은닉층 3층으로 node 5개로 설정하기\n",
        "* 내 설정 입력층(2) 은닉1층(4) 은닉2층(5) 은닉3층(3) 출력(1)"
      ],
      "metadata": {
        "id": "9DpAcfgH3qKu"
      }
    },
    {
      "cell_type": "code",
      "source": [
        "import tensorflow.compat.v1 as tf\n",
        "tf.disable_v2_behavior()\n",
        "import numpy as np\n",
        "import matplotlib.pyplot as plt\n",
        "import pandas as pd\n",
        "\n",
        "x_data = np.array([[0, 0], [0, 1], [1, 0], [1, 1]], dtype=np.float32)\n",
        "y_data = np.array([[0], [0], [0], [1]], dtype=np.float32)\n",
        "\n",
        "X = tf.placeholder(tf.float32, [None, 2], name='x-input')\n",
        "Y = tf.placeholder(tf.float32, [None, 1], name='y-input')\n",
        "\n",
        "W1 = tf.Variable(tf.random_normal([2, 4]), name='weight1')\n",
        "b1 = tf.Variable(tf.random_normal([4]), name='bias1')\n",
        "z1 = tf.sigmoid(tf.matmul(X, W1) + b1)\n",
        "\n",
        "W2 = tf.Variable(tf.random_normal([4, 5]), name='weight2')\n",
        "b2 = tf.Variable(tf.random_normal([5]), name='bias2')\n",
        "z2 = tf.sigmoid(tf.matmul(z1, W2) + b2)\n",
        "\n",
        "W3 = tf.Variable(tf.random_normal([5, 3]), name='weight3')\n",
        "b3 = tf.Variable(tf.random_normal([3]), name='bias3')\n",
        "z3 = tf.sigmoid(tf.matmul(z2, W3) + b3)\n",
        "\n",
        "W4 = tf.Variable(tf.random_normal([3, 1]), name='weight4')\n",
        "b4 = tf.Variable(tf.random_normal([]), name='bias4')\n",
        "hypothesis = tf.sigmoid(tf.matmul(z3, W4) + b4)\n",
        "\n",
        "# Hyper Parameter 정하기\n",
        "epochs = 2000\n",
        "lr = 0.3\n",
        "\n",
        "# cost/loss function\n",
        "cost = -tf.reduce_mean(Y * tf.log(hypothesis) + (1 - Y) * tf.log(1 - hypothesis))\n",
        "train = tf.train.GradientDescentOptimizer(learning_rate=lr).minimize(cost)\n",
        "\n",
        "# 예측값 결과 계산 및 Accuracy 계산\n",
        "predicted = tf.cast(hypothesis > 0.5, dtype=tf.float32)\n",
        "accuracy = tf.reduce_mean(tf.cast(tf.equal(predicted, Y), dtype=tf.float32))\n",
        "\n",
        "history = {'loss': [], 'accuracy': []}\n",
        "# Launch graph\n",
        "with tf.Session() as sess:\n",
        "   # TensorFlow variables 초기화\n",
        "   sess.run(tf.global_variables_initializer())\n",
        "   for step in range(epochs + 1):\n",
        "       sess.run(train, feed_dict={X: x_data, Y: y_data})\n",
        "\n",
        "       W1_, b1_, cost_, a_ = sess.run([W1, b1, cost, accuracy],\n",
        "                                          feed_dict={X: x_data, Y: y_data})\n",
        "\n",
        "       history['loss'].append(cost_)\n",
        "       history['accuracy'].append(a_)\n",
        "\n",
        "\n",
        "       if step % 100 == 0:\n",
        "\n",
        "           print(\"step = \", step,\n",
        "                 \"\\tW1 = \", W1_.flatten().round(4),\n",
        "                 \"\\tb1 = \", b1_.round(4),\n",
        "                 \"\\tAccuracy = \", a_)\n",
        "\n",
        "   # Accuracy report\n",
        "   h, p, a = sess.run([hypothesis, predicted, accuracy], feed_dict={X: x_data, Y: y_data})\n",
        "   print(\"\\nHypothesis:\\n\", h, \"\\nPredicted:\\n\", p, \"\\nAccuracy:\\n\", a, sep='')\n"
      ],
      "metadata": {
        "colab": {
          "base_uri": "https://localhost:8080/"
        },
        "id": "LZHN-AMc3tDQ",
        "outputId": "c2917d7c-4908-4ead-811b-395e4d1ed1f1"
      },
      "execution_count": null,
      "outputs": [
        {
          "output_type": "stream",
          "name": "stdout",
          "text": [
            "step =  0 \tW1 =  [-1.4565  0.0919 -1.5381  1.818   0.6328 -2.2694 -0.9985 -0.338 ] \tb1 =  [ 0.454  -0.7543 -0.5736 -1.9299] \tAccuracy =  0.25\n",
            "step =  100 \tW1 =  [-1.3269  0.1017 -1.5473  1.661   0.7645 -2.2842 -0.9919 -0.5512] \tb1 =  [ 0.4822 -0.7044 -0.492  -2.0089] \tAccuracy =  0.75\n",
            "step =  200 \tW1 =  [-1.1704  0.1125 -1.5661  1.5346  0.9313 -2.3071 -0.985  -0.7323] \tb1 =  [ 0.5332 -0.6402 -0.3699 -2.0764] \tAccuracy =  0.75\n",
            "step =  300 \tW1 =  [-0.9744  0.1281 -1.6012  1.4349  1.1571 -2.3433 -0.9745 -0.8916] \tb1 =  [ 0.5884 -0.5445 -0.1712 -2.1202] \tAccuracy =  0.75\n",
            "step =  400 \tW1 =  [-0.7412  0.1514 -1.6813  1.3498  1.4636 -2.4074 -0.9502 -1.0452] \tb1 =  [ 0.6032 -0.3874  0.1826 -2.1456] \tAccuracy =  0.75\n",
            "step =  500 \tW1 =  [-0.5071  0.1728 -1.9289  1.2689  1.8281 -2.5254 -0.8528 -1.2028] \tb1 =  [ 0.5076 -0.1481  0.8103 -2.1639] \tAccuracy =  0.75\n",
            "step =  600 \tW1 =  [-0.3383  0.168  -2.5085  1.1998  2.1345 -2.6777 -0.7346 -1.3445] \tb1 =  [ 0.3377  0.0884  1.5224 -2.1842] \tAccuracy =  1.0\n",
            "step =  700 \tW1 =  [-0.2934  0.1768 -2.9405  1.1728  2.3265 -2.8017 -0.7967 -1.432 ] \tb1 =  [ 0.1805  0.2549  1.9367 -2.1858] \tAccuracy =  1.0\n",
            "step =  800 \tW1 =  [-0.2829  0.1823 -3.1576  1.164   2.4375 -2.881  -0.8701 -1.4796] \tb1 =  [ 0.0821  0.3499  2.1634 -2.1814] \tAccuracy =  1.0\n",
            "step =  900 \tW1 =  [-0.2771  0.183  -3.284   1.16    2.5072 -2.9328 -0.924  -1.5088] \tb1 =  [ 0.0203  0.4074  2.3043 -2.1773] \tAccuracy =  1.0\n",
            "step =  1000 \tW1 =  [-0.2726  0.1817 -3.3684  1.1577  2.5555 -2.9695 -0.964  -1.5289] \tb1 =  [-0.0222  0.4464  2.402  -2.174 ] \tAccuracy =  1.0\n",
            "step =  1100 \tW1 =  [-0.2688  0.1798 -3.43    1.1562  2.5915 -2.9971 -0.9952 -1.5439] \tb1 =  [-0.0538  0.475   2.475  -2.1713] \tAccuracy =  1.0\n",
            "step =  1200 \tW1 =  [-0.2655  0.1778 -3.4777  1.1551  2.6198 -3.019  -1.0204 -1.5557] \tb1 =  [-0.0785  0.4973  2.5326 -2.169 ] \tAccuracy =  1.0\n",
            "step =  1300 \tW1 =  [-0.2625  0.1757 -3.5161  1.1543  2.6428 -3.0369 -1.0415 -1.5653] \tb1 =  [-0.0986  0.5153  2.5798 -2.1671] \tAccuracy =  1.0\n",
            "step =  1400 \tW1 =  [-0.2598  0.1737 -3.5481  1.1536  2.6621 -3.052  -1.0595 -1.5734] \tb1 =  [-0.1154  0.5303  2.6194 -2.1654] \tAccuracy =  1.0\n",
            "step =  1500 \tW1 =  [-0.2574  0.1718 -3.5753  1.1531  2.6786 -3.0649 -1.0751 -1.5803] \tb1 =  [-0.1297  0.5431  2.6534 -2.164 ] \tAccuracy =  1.0\n",
            "step =  1600 \tW1 =  [-0.2552  0.1699 -3.5988  1.1526  2.6929 -3.0762 -1.0889 -1.5864] \tb1 =  [-0.1422  0.5543  2.6831 -2.1627] \tAccuracy =  1.0\n",
            "step =  1700 \tW1 =  [-0.2532  0.1682 -3.6195  1.1522  2.7056 -3.0861 -1.1012 -1.5917] \tb1 =  [-0.1532  0.564   2.7094 -2.1615] \tAccuracy =  1.0\n",
            "step =  1800 \tW1 =  [-0.2513  0.1666 -3.638   1.1519  2.7168 -3.095  -1.1123 -1.5965] \tb1 =  [-0.163   0.5728  2.7329 -2.1604] \tAccuracy =  1.0\n",
            "step =  1900 \tW1 =  [-0.2496  0.165  -3.6545  1.1516  2.727  -3.1031 -1.1224 -1.6008] \tb1 =  [-0.1719  0.5806  2.7542 -2.1595] \tAccuracy =  1.0\n",
            "step =  2000 \tW1 =  [-0.248   0.1635 -3.6695  1.1513  2.7362 -3.1104 -1.1317 -1.6048] \tb1 =  [-0.1799  0.5878  2.7735 -2.1586] \tAccuracy =  1.0\n",
            "\n",
            "Hypothesis:\n",
            "[[0.00116785]\n",
            " [0.00464058]\n",
            " [0.00332295]\n",
            " [0.98179764]]\n",
            "Predicted:\n",
            "[[0.]\n",
            " [0.]\n",
            " [0.]\n",
            " [1.]]\n",
            "Accuracy:\n",
            "1.0\n"
          ]
        }
      ]
    },
    {
      "cell_type": "code",
      "source": [
        "import matplotlib.pyplot as plt\n",
        "import pandas as pd\n",
        "df_history = pd.DataFrame(history)\n",
        "df_history.plot()\n",
        "plt.show()"
      ],
      "metadata": {
        "colab": {
          "base_uri": "https://localhost:8080/",
          "height": 265
        },
        "id": "iTtjLDUg6C9a",
        "outputId": "f3c3bf1b-682e-44e6-a21d-d8123bd16544"
      },
      "execution_count": null,
      "outputs": [
        {
          "output_type": "display_data",
          "data": {
            "text/plain": [
              "<Figure size 432x288 with 1 Axes>"
            ],
            "image/png": "[encoded data removed]"
          },
          "metadata": {
            "needs_background": "light"
          }
        }
      ]
    },
    {
      "cell_type": "markdown",
      "source": [
        "# 기울기 소실의 문제\n",
        "\n"
      ],
      "metadata": {
        "id": "HpPG72CAAj8B"
      }
    },
    {
      "cell_type": "code",
      "source": [
        "import tensorflow.compat.v1 as tf\n",
        "tf.disable_v2_behavior()\n",
        "import numpy as np\n",
        "import matplotlib.pyplot as plt\n",
        "import pandas as pd\n",
        "\n",
        "x_data = np.array([[0, 0], [0, 1], [1, 0], [1, 1]], dtype=np.float32)\n",
        "y_data = np.array([[0], [0], [0], [1]], dtype=np.float32)\n",
        "\n",
        "X = tf.placeholder(tf.float32, [None, 2], name='x-input')\n",
        "Y = tf.placeholder(tf.float32, [None, 1], name='y-input')\n",
        "\n",
        "W1 = tf.Variable(tf.random_normal([2, 4]), name='weight1')\n",
        "b1 = tf.Variable(tf.random_normal([4]), name='bias1')\n",
        "z1 = tf.sigmoid(tf.matmul(X, W1) + b1)\n",
        "\n",
        "W2 = tf.Variable(tf.random_normal([4, 5]), name='weight2')\n",
        "b2 = tf.Variable(tf.random_normal([5]), name='bias2')\n",
        "z2 = tf.sigmoid(tf.matmul(z1, W2) + b2)\n",
        "\n",
        "W3 = tf.Variable(tf.random_normal([5, 5]), name='weight3')\n",
        "b3 = tf.Variable(tf.random_normal([5]), name='bias3')\n",
        "z3 = tf.sigmoid(tf.matmul(z2, W3) + b3)\n",
        "\n",
        "W4 = tf.Variable(tf.random_normal([5, 5]), name='weight4')\n",
        "b4 = tf.Variable(tf.random_normal([5]), name='bias4')\n",
        "z4 = tf.sigmoid(tf.matmul(z3, W4) + b4)\n",
        "\n",
        "W5 = tf.Variable(tf.random_normal([5, 5]), name='weight5')\n",
        "b5 = tf.Variable(tf.random_normal([5]), name='bias5')\n",
        "z5 = tf.sigmoid(tf.matmul(z4, W5) + b5)\n",
        "\n",
        "W6 = tf.Variable(tf.random_normal([5, 5]), name='weight6')\n",
        "b6 = tf.Variable(tf.random_normal([5]), name='bias6')\n",
        "z6 = tf.sigmoid(tf.matmul(z5, W6) + b6)\n",
        "\n",
        "W7 = tf.Variable(tf.random_normal([5, 3]), name='weight7')\n",
        "b7 = tf.Variable(tf.random_normal([3]), name='bias7')\n",
        "z7 = tf.sigmoid(tf.matmul(z6, W7) + b7)\n",
        "\n",
        "W8 = tf.Variable(tf.random_normal([3, 1]), name='weight8')\n",
        "b8 = tf.Variable(tf.random_normal([]), name='bias8')\n",
        "hypothesis = tf.sigmoid(tf.matmul(z7, W8) + b8)\n",
        "\n",
        "# Hyper Parameter 정하기\n",
        "epochs = 2000\n",
        "lr = 0.3\n",
        "\n",
        "# cost/loss function\n",
        "cost = -tf.reduce_mean(Y * tf.log(hypothesis) + (1 - Y) * tf.log(1 - hypothesis))\n",
        "train = tf.train.GradientDescentOptimizer(learning_rate=lr).minimize(cost)\n",
        "\n",
        "# 예측값 결과 계산 및 Accuracy 계산\n",
        "predicted = tf.cast(hypothesis > 0.5, dtype=tf.float32)\n",
        "accuracy = tf.reduce_mean(tf.cast(tf.equal(predicted, Y), dtype=tf.float32))\n",
        "\n",
        "history = {'loss': [], 'accuracy': []}\n",
        "# Launch graph\n",
        "with tf.Session() as sess:\n",
        "   # TensorFlow variables 초기화\n",
        "   sess.run(tf.global_variables_initializer())\n",
        "   for step in range(epochs + 1):\n",
        "       sess.run(train, feed_dict={X: x_data, Y: y_data})\n",
        "\n",
        "       W1_, b1_, cost_, a_ = sess.run([W1, b1, cost, accuracy],\n",
        "                                          feed_dict={X: x_data, Y: y_data})\n",
        "\n",
        "       history['loss'].append(cost_)\n",
        "       history['accuracy'].append(a_)\n",
        "\n",
        "\n",
        "       if step % 100 == 0:\n",
        "\n",
        "           print(\"step = \", step,\n",
        "                 \"\\tW1 = \", W1_.flatten().round(4),\n",
        "                 \"\\tb1 = \", b1_.round(4),\n",
        "                 \"\\tAccuracy = \", a_)\n",
        "\n",
        "   # Accuracy report\n",
        "   h, p, a = sess.run([hypothesis, predicted, accuracy], feed_dict={X: x_data, Y: y_data})\n",
        "   print(\"\\nHypothesis:\\n\", h, \"\\nPredicted:\\n\", p, \"\\nAccuracy:\\n\", a, sep='')\n"
      ],
      "metadata": {
        "colab": {
          "base_uri": "https://localhost:8080/"
        },
        "id": "tZKzhvv3AjOo",
        "outputId": "3fc5c9c3-098c-4c70-b0ea-83ef952c34dd"
      },
      "execution_count": null,
      "outputs": [
        {
          "output_type": "stream",
          "name": "stdout",
          "text": [
            "step =  0 \tW1 =  [ 1.262   1.1251  0.3069 -0.6306  1.0202 -0.4634  0.9958  0.5953] \tb1 =  [ 0.4067  0.0089 -0.9295 -0.3182] \tAccuracy =  0.25\n",
            "step =  100 \tW1 =  [ 1.262   1.1251  0.307  -0.6307  1.0202 -0.4634  0.9959  0.5953] \tb1 =  [ 0.4067  0.0088 -0.9296 -0.3182] \tAccuracy =  0.75\n",
            "step =  200 \tW1 =  [ 1.262   1.1252  0.3071 -0.6307  1.0202 -0.4634  0.996   0.5952] \tb1 =  [ 0.4066  0.0088 -0.9296 -0.3181] \tAccuracy =  0.75\n",
            "step =  300 \tW1 =  [ 1.262   1.1252  0.3072 -0.6308  1.0202 -0.4634  0.9961  0.5952] \tb1 =  [ 0.4066  0.0088 -0.9296 -0.3181] \tAccuracy =  0.75\n",
            "step =  400 \tW1 =  [ 1.262   1.1252  0.3073 -0.6308  1.0202 -0.4634  0.9962  0.5951] \tb1 =  [ 0.4065  0.0087 -0.9296 -0.3181] \tAccuracy =  0.75\n",
            "step =  500 \tW1 =  [ 1.262   1.1252  0.3074 -0.6309  1.0202 -0.4634  0.9963  0.5951] \tb1 =  [ 0.4065  0.0087 -0.9296 -0.3181] \tAccuracy =  0.75\n",
            "step =  600 \tW1 =  [ 1.262   1.1252  0.3075 -0.6309  1.0202 -0.4635  0.9964  0.5951] \tb1 =  [ 0.4064  0.0087 -0.9297 -0.3181] \tAccuracy =  0.75\n",
            "step =  700 \tW1 =  [ 1.262   1.1252  0.3076 -0.631   1.0202 -0.4635  0.9964  0.595 ] \tb1 =  [ 0.4064  0.0086 -0.9297 -0.3181] \tAccuracy =  0.75\n",
            "step =  800 \tW1 =  [ 1.262   1.1252  0.3077 -0.631   1.0202 -0.4635  0.9965  0.595 ] \tb1 =  [ 0.4063  0.0086 -0.9297 -0.3181] \tAccuracy =  0.75\n",
            "step =  900 \tW1 =  [ 1.262   1.1252  0.3079 -0.6311  1.0202 -0.4635  0.9966  0.5949] \tb1 =  [ 0.4063  0.0085 -0.9297 -0.3181] \tAccuracy =  0.75\n",
            "step =  1000 \tW1 =  [ 1.262   1.1252  0.308  -0.6311  1.0202 -0.4635  0.9967  0.5949] \tb1 =  [ 0.4062  0.0085 -0.9297 -0.3181] \tAccuracy =  0.75\n",
            "step =  1100 \tW1 =  [ 1.262   1.1252  0.3081 -0.6312  1.0202 -0.4635  0.9968  0.5948] \tb1 =  [ 0.4062  0.0085 -0.9297 -0.3181] \tAccuracy =  0.75\n",
            "step =  1200 \tW1 =  [ 1.262   1.1252  0.3082 -0.6312  1.0202 -0.4635  0.9969  0.5948] \tb1 =  [ 0.4061  0.0084 -0.9298 -0.3181] \tAccuracy =  0.75\n",
            "step =  1300 \tW1 =  [ 1.262   1.1252  0.3083 -0.6313  1.0202 -0.4635  0.997   0.5948] \tb1 =  [ 0.4061  0.0084 -0.9298 -0.318 ] \tAccuracy =  0.75\n",
            "step =  1400 \tW1 =  [ 1.262   1.1252  0.3084 -0.6314  1.0202 -0.4635  0.9971  0.5947] \tb1 =  [ 0.406   0.0084 -0.9298 -0.318 ] \tAccuracy =  0.75\n",
            "step =  1500 \tW1 =  [ 1.262   1.1252  0.3085 -0.6314  1.0202 -0.4635  0.9972  0.5947] \tb1 =  [ 0.406   0.0083 -0.9298 -0.318 ] \tAccuracy =  0.75\n",
            "step =  1600 \tW1 =  [ 1.262   1.1252  0.3086 -0.6315  1.0202 -0.4635  0.9973  0.5946] \tb1 =  [ 0.4059  0.0083 -0.9298 -0.318 ] \tAccuracy =  0.75\n",
            "step =  1700 \tW1 =  [ 1.262   1.1252  0.3088 -0.6315  1.0202 -0.4636  0.9974  0.5946] \tb1 =  [ 0.4059  0.0082 -0.9298 -0.318 ] \tAccuracy =  0.75\n",
            "step =  1800 \tW1 =  [ 1.262   1.1252  0.3089 -0.6316  1.0202 -0.4636  0.9975  0.5945] \tb1 =  [ 0.4058  0.0082 -0.9299 -0.318 ] \tAccuracy =  0.75\n",
            "step =  1900 \tW1 =  [ 1.262   1.1252  0.309  -0.6317  1.0202 -0.4636  0.9976  0.5945] \tb1 =  [ 0.4058  0.0082 -0.9299 -0.318 ] \tAccuracy =  0.75\n",
            "step =  2000 \tW1 =  [ 1.262   1.1252  0.3091 -0.6317  1.0202 -0.4636  0.9977  0.5944] \tb1 =  [ 0.4057  0.0081 -0.9299 -0.318 ] \tAccuracy =  0.75\n",
            "\n",
            "Hypothesis:\n",
            "[[0.24999137]\n",
            " [0.2499988 ]\n",
            " [0.25      ]\n",
            " [0.25000575]]\n",
            "Predicted:\n",
            "[[0.]\n",
            " [0.]\n",
            " [0.]\n",
            " [0.]]\n",
            "Accuracy:\n",
            "0.75\n"
          ]
        }
      ]
    },
    {
      "cell_type": "code",
      "source": [
        "import matplotlib.pyplot as plt\n",
        "import pandas as pd\n",
        "df_history = pd.DataFrame(history)\n",
        "df_history.plot()\n",
        "plt.show()"
      ],
      "metadata": {
        "colab": {
          "base_uri": "https://localhost:8080/",
          "height": 265
        },
        "id": "NCDGMsK6Br46",
        "outputId": "39b4a4ed-1ec9-4765-ee74-a3926c007e31"
      },
      "execution_count": null,
      "outputs": [
        {
          "output_type": "display_data",
          "data": {
            "text/plain": [
              "<Figure size 432x288 with 1 Axes>"
            ],
            "image/png": "[encoded data removed]"
          },
          "metadata": {
            "needs_background": "light"
          }
        }
      ]
    },
    {
      "cell_type": "code",
      "source": [
        "import tensorflow as tf\n",
        "tf.__version__"
      ],
      "metadata": {
        "colab": {
          "base_uri": "https://localhost:8080/",
          "height": 35
        },
        "id": "HvyIMp0yBriS",
        "outputId": "395c5426-ed58-49a6-aa17-b0de658e89ea"
      },
      "execution_count": null,
      "outputs": [
        {
          "output_type": "execute_result",
          "data": {
            "text/plain": [
              "'2.9.2'"
            ],
            "application/vnd.google.colaboratory.intrinsic+json": {
              "type": "string"
            }
          },
          "metadata": {},
          "execution_count": 12
        }
      ]
    }
  ]
}