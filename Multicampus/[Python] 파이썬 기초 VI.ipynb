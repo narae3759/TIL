{
 "cells": [
  {
   "cell_type": "markdown",
   "metadata": {},
   "source": [
    "## 회문 판별과 N-gram  만들기\n",
    "* 회문은 유전자 염기서열 분석에서 많이 쓰고,<br>\n",
    "N-gram은 빅 데이터 분석, 검색 엔진에서 많이 쓰임.\n",
    "* 회문(palindrome) : 순서를 거꾸로 읽어도 제대로 읽은 것과 같은 단어와 문장을 말함. ex) level "
   ]
  },
  {
   "cell_type": "code",
   "execution_count": 3,
   "metadata": {},
   "outputs": [
    {
     "name": "stdout",
     "output_type": "stream",
     "text": [
      "입력값: \n",
      "True\n"
     ]
    }
   ],
   "source": [
    "word = input('단어를 입력하세요.')\n",
    "\n",
    "print(f'입력값: {word}')\n",
    "\n",
    "is_palindrome = True\n",
    "for i in range(len(word)//2):\n",
    "    if word[i] != word[-1-i]:\n",
    "        is_palindrome = False\n",
    "        break \n",
    "    \n",
    "print(is_palindrome)"
   ]
  },
  {
   "cell_type": "code",
   "execution_count": 4,
   "metadata": {},
   "outputs": [
    {
     "name": "stdout",
     "output_type": "stream",
     "text": [
      "입력값: \n",
      "True\n"
     ]
    }
   ],
   "source": [
    "word = input('단어를 입력하세요.')\n",
    "\n",
    "print(f'입력값: {word}')\n",
    "\n",
    "print(word == word[::-1])"
   ]
  },
  {
   "cell_type": "code",
   "execution_count": 5,
   "metadata": {},
   "outputs": [
    {
     "name": "stdout",
     "output_type": "stream",
     "text": [
      "입력값: \n",
      "True\n"
     ]
    }
   ],
   "source": [
    "word = input('단어를 입력하세요.')\n",
    "\n",
    "print(f'입력값: {word}')\n",
    "\n",
    "print(list(word) == list(reversed(word)))"
   ]
  },
  {
   "cell_type": "code",
   "execution_count": 6,
   "metadata": {},
   "outputs": [
    {
     "name": "stdout",
     "output_type": "stream",
     "text": [
      "입력값: \n",
      "True\n"
     ]
    }
   ],
   "source": [
    "word = input('단어를 입력하세요.')\n",
    "\n",
    "print(f'입력값: {word}')\n",
    "\n",
    "print(word == ''.join(reversed(word)))"
   ]
  },
  {
   "cell_type": "markdown",
   "metadata": {},
   "source": [
    "### N-gram"
   ]
  },
  {
   "cell_type": "code",
   "execution_count": 7,
   "metadata": {},
   "outputs": [
    {
     "name": "stdout",
     "output_type": "stream",
     "text": [
      "He\n",
      "el\n",
      "ll\n",
      "lo\n"
     ]
    }
   ],
   "source": [
    "# 2-gram\n",
    "text = 'Hello'\n",
    "\n",
    "for i in range(len(text)-1):\n",
    "    print(text[i:i+2])          # print(text[i],text[i+1],sep='')"
   ]
  },
  {
   "cell_type": "code",
   "execution_count": 8,
   "metadata": {},
   "outputs": [
    {
     "name": "stdout",
     "output_type": "stream",
     "text": [
      "Hel\n",
      "ell\n",
      "llo\n",
      "loP\n",
      "oPy\n",
      "Pyt\n",
      "yth\n",
      "tho\n",
      "hon\n"
     ]
    }
   ],
   "source": [
    "# N-gram (문자 단위)\n",
    "N = 3\n",
    "\n",
    "text = 'HelloPython'\n",
    "\n",
    "for i in range(len(text)-(N-1)):\n",
    "    print(text[i:i+N])          \n"
   ]
  },
  {
   "cell_type": "code",
   "execution_count": 9,
   "metadata": {},
   "outputs": [
    {
     "name": "stdout",
     "output_type": "stream",
     "text": [
      "He\n",
      "el\n",
      "ll\n",
      "lo\n",
      "oP\n",
      "Py\n",
      "yt\n",
      "th\n",
      "ho\n",
      "on\n"
     ]
    }
   ],
   "source": [
    "# N-gram (문자 단위)\n",
    "N = 3\n",
    "\n",
    "text = 'HelloPython'\n",
    "\n",
    "two_gram = zip(text,text[1:])\n",
    "for i in two_gram:\n",
    "    print(i[0],i[1],sep='')\n"
   ]
  },
  {
   "cell_type": "code",
   "execution_count": 10,
   "metadata": {},
   "outputs": [
    {
     "name": "stdout",
     "output_type": "stream",
     "text": [
      "['This', 'is']\n",
      "['is', 'Python']\n",
      "['Python', 'Script']\n"
     ]
    }
   ],
   "source": [
    "# N-gram (단어 단위)\n",
    "N = 2\n",
    "\n",
    "text = 'This is Python Script'\n",
    "words = text.split()\n",
    "\n",
    "for i in range(len(words)-(N-1)):\n",
    "    print(words[i:i+N])\n"
   ]
  },
  {
   "cell_type": "code",
   "execution_count": 11,
   "metadata": {},
   "outputs": [
    {
     "data": {
      "text/plain": [
       "[('This', 'is', 'Python'), ('is', 'Python', 'Script')]"
      ]
     },
     "execution_count": 11,
     "metadata": {},
     "output_type": "execute_result"
    }
   ],
   "source": [
    "# N-gram (단어 단위)\n",
    "text = 'This is Python Script'\n",
    "words = text.split()\n",
    "\n",
    "list(zip(words, words[1:], words[2:]))"
   ]
  },
  {
   "cell_type": "markdown",
   "metadata": {},
   "source": [
    "## 파일 다루기 \n",
    "* binary file\n",
    "    * 컴퓨터만 이해할 수 있는 형태인 이진(법) 형식으로 저장된 파일 \n",
    "    * 일반적으로 메모장으로 열면 내용이 깨져서 보인다. \n",
    "    * ex. excel, word\n",
    "* text file \n",
    "    * 사람도 이해할 수 있는 형태인 문자열 형식으로 저장된 파일\n",
    "    * 메모장을 열면 내용을 확인할 수 있다. \n",
    "    * ex. txt, html, python"
   ]
  },
  {
   "cell_type": "code",
   "execution_count": 12,
   "metadata": {},
   "outputs": [
    {
     "data": {
      "text/plain": [
       "'c:\\\\Users\\\\narae\\\\Dropbox\\\\취업일기\\\\코딩강의\\\\멀티캠퍼스'"
      ]
     },
     "execution_count": 12,
     "metadata": {},
     "output_type": "execute_result"
    }
   ],
   "source": [
    "# 내 경로 알기 \n",
    "import os \n",
    "os.getcwd()"
   ]
  },
  {
   "cell_type": "code",
   "execution_count": 13,
   "metadata": {},
   "outputs": [
    {
     "name": "stdout",
     "output_type": "stream",
     "text": [
      "I have a dream a song to sing\n",
      "to help me cope with anything\n",
      "if you see the wonder of a fairy tale\n",
      "you can take the future even\n",
      "if you fail I believe in angels\n",
      "something good in everything\n",
      "\n",
      "<class 'str'>\n",
      "I have a dream a song to sing\n",
      "to help me cope with anything\n",
      "if you see the wonder of a fairy tale\n",
      "you can take the future even\n",
      "if you fail I believe in angels\n",
      "something good in everything\n",
      "\n"
     ]
    }
   ],
   "source": [
    "# 파일 열기(r(읽기 모드), w(쓰기 모드), a(추가 모드)) \n",
    "f = open('dream.txt','r')\n",
    "contents = f.read()\n",
    "print(contents)\n",
    "f.close()\n",
    "\n",
    "with open('dream.txt','r') as f:\n",
    "    contents = f.read()\n",
    "    print(type(contents),contents,sep='\\n')\n"
   ]
  },
  {
   "cell_type": "code",
   "execution_count": 14,
   "metadata": {},
   "outputs": [
    {
     "name": "stdout",
     "output_type": "stream",
     "text": [
      "I have a dream a song to sing\n",
      "to help me cope with anything\n",
      "if you see the wonder of a fairy tale\n",
      "you can take the future even\n",
      "if you fail I believe in angels\n",
      "something good in everything\n",
      "\n",
      "I have a dream a song to sing\n",
      "to help me cope with anything\n",
      "if you see the wonder of a fairy tale\n",
      "you can take the future even\n",
      "if you fail I believe in angels\n",
      "something good in everything\n"
     ]
    }
   ],
   "source": [
    "f = open('dream.txt','r')\n",
    "while True:\n",
    "    line = f.readline()\n",
    "    if line == '':\n",
    "        break \n",
    "    print(line, end='')\n",
    "f.close()\n",
    "\n",
    "print()\n",
    "\n",
    "with open('dream.txt','r') as f:\n",
    "    while True:\n",
    "        line = f.readline()\n",
    "        if line == '':\n",
    "            break \n",
    "        print(line, end='')"
   ]
  },
  {
   "cell_type": "code",
   "execution_count": 15,
   "metadata": {},
   "outputs": [
    {
     "name": "stdout",
     "output_type": "stream",
     "text": [
      "['I have a dream a song to sing', 'to help me cope with anything', 'if you see the wonder of a fairy tale', 'you can take the future even', 'if you fail I believe in angels', 'something good in everything']\n"
     ]
    }
   ],
   "source": [
    "with open('dream.txt','r',encoding='utf-8') as f:\n",
    "    inList = f.readlines()\n",
    "    for index, line in enumerate(inList):\n",
    "        inList[index] = line.strip('\\n')\n",
    "        \n",
    "print(inList)"
   ]
  },
  {
   "cell_type": "code",
   "execution_count": 16,
   "metadata": {},
   "outputs": [
    {
     "ename": "FileNotFoundError",
     "evalue": "[Errno 2] No such file or directory: ''",
     "output_type": "error",
     "traceback": [
      "\u001b[1;31m---------------------------------------------------------------------------\u001b[0m",
      "\u001b[1;31mFileNotFoundError\u001b[0m                         Traceback (most recent call last)",
      "\u001b[1;32m~\\AppData\\Local\\Temp\\ipykernel_20072\\3133468550.py\u001b[0m in \u001b[0;36m<module>\u001b[1;34m\u001b[0m\n\u001b[0;32m      1\u001b[0m \u001b[0mfName\u001b[0m \u001b[1;33m=\u001b[0m \u001b[0minput\u001b[0m\u001b[1;33m(\u001b[0m\u001b[1;34m'파일 이름을 입력하세요.'\u001b[0m\u001b[1;33m)\u001b[0m\u001b[1;33m\u001b[0m\u001b[1;33m\u001b[0m\u001b[0m\n\u001b[0;32m      2\u001b[0m \u001b[1;33m\u001b[0m\u001b[0m\n\u001b[1;32m----> 3\u001b[1;33m \u001b[1;32mwith\u001b[0m \u001b[0mopen\u001b[0m\u001b[1;33m(\u001b[0m\u001b[0mfName\u001b[0m\u001b[1;33m,\u001b[0m\u001b[1;34m'w'\u001b[0m\u001b[1;33m,\u001b[0m\u001b[0mencoding\u001b[0m\u001b[1;33m=\u001b[0m\u001b[1;34m'utf-8'\u001b[0m\u001b[1;33m)\u001b[0m \u001b[1;32mas\u001b[0m \u001b[0mf\u001b[0m\u001b[1;33m:\u001b[0m\u001b[1;33m\u001b[0m\u001b[1;33m\u001b[0m\u001b[0m\n\u001b[0m\u001b[0;32m      4\u001b[0m     \u001b[1;32mwhile\u001b[0m \u001b[1;32mTrue\u001b[0m\u001b[1;33m:\u001b[0m\u001b[1;33m\u001b[0m\u001b[1;33m\u001b[0m\u001b[0m\n\u001b[0;32m      5\u001b[0m         \u001b[0mtext\u001b[0m \u001b[1;33m=\u001b[0m \u001b[0minput\u001b[0m\u001b[1;33m(\u001b[0m\u001b[1;34m\"내용을 입력해주세요\"\u001b[0m\u001b[1;33m)\u001b[0m\u001b[1;33m\u001b[0m\u001b[1;33m\u001b[0m\u001b[0m\n",
      "\u001b[1;31mFileNotFoundError\u001b[0m: [Errno 2] No such file or directory: ''"
     ]
    }
   ],
   "source": [
    "fName = input('파일 이름을 입력하세요.')\n",
    "\n",
    "with open(fName,'w',encoding='utf-8') as f:\n",
    "    while True:\n",
    "        text = input(\"내용을 입력해주세요\")\n",
    "        if text != \"\":\n",
    "            f.write(text + '\\n')\n",
    "        else:\n",
    "            break\n",
    "    print('파일 쓰기를 종료합니다.')"
   ]
  },
  {
   "cell_type": "code",
   "execution_count": null,
   "metadata": {},
   "outputs": [
    {
     "name": "stdout",
     "output_type": "stream",
     "text": [
      "정상적으로 copy 되었습니다.\n"
     ]
    }
   ],
   "source": [
    "# 이름 통일성 있게 짓기\n",
    "# 문자열 서식 한 방법으로만 쓰지 말기, 여러 방법으로 그때마다 쉬운 방법으로 쓰기\n",
    "import datetime\n",
    "\n",
    "fName = input('파일 이름을 입력하세요')\n",
    "\n",
    "# 이름에도 .이 존재할 수 있다.\n",
    "# name, extension = fName.split('.')\n",
    "# newname = name + '_copy.' + extension\n",
    "dot = fName.rfind('.')\n",
    "new = fName[:dot] + '_copy' + fName[dot:]\n",
    "dt = datetime.datetime.now()\n",
    "\n",
    "f = open(fName, 'r', encoding='utf-8')\n",
    "fcopy = open(new,'w',encoding='utf-8')\n",
    "\n",
    "fcopy.write(f'{dt.year}년 {dt.month}월 {dt.day}일 {dt.hour}:{dt.minute}:{dt.second} copy 시작\\n')\n",
    "# readlines, writelines로 쓸수도 있다.\n",
    "f.copy.writelines(f.readlines())\n",
    "# fcopy.write(f.read())\n",
    "fcopy.write(f'{dt.year}년 {dt.month}월 {dt.day}일 {dt.hour}:{dt.minute}:{dt.second} copy 완료')\n",
    "\n",
    "f.close()\n",
    "fcopy.close()\n",
    "\n",
    "print('정상적으로 copy 되었습니다.')"
   ]
  },
  {
   "cell_type": "code",
   "execution_count": null,
   "metadata": {},
   "outputs": [
    {
     "name": "stdout",
     "output_type": "stream",
     "text": [
      "11\n",
      "dream.dream_copy.txt\n"
     ]
    }
   ],
   "source": [
    "text = 'dream.dream.txt'\n",
    "dot = text.rfind('.')\n",
    "print(dot)\n",
    "print(text[:dot]+'_copy'+text[dot:])"
   ]
  },
  {
   "cell_type": "code",
   "execution_count": null,
   "metadata": {},
   "outputs": [
    {
     "name": "stdout",
     "output_type": "stream",
     "text": [
      "글자 수(공백 포함): 188\n",
      "글자 수(공백 제거): 148\n",
      "단어 수: 40\n",
      "단어 수: 7\n"
     ]
    }
   ],
   "source": [
    "f = open('dream.txt','r')\n",
    "contents = f.read()\n",
    "word_list = contents.split()        # 공백 제거(공백이란 스페이스 또는 \\n을 말한다.)     \n",
    "line_list = contents.split('\\n')\n",
    "f.close()\n",
    "\n",
    "print(f'글자 수(공백 포함): {len(contents)}')\n",
    "print(f'글자 수(공백 제거): {sum(map(len,word_list))}')\n",
    "print(f'단어 수: {len(word_list)}')\n",
    "print(f'단어 수: {len(line_list)}')"
   ]
  },
  {
   "cell_type": "code",
   "execution_count": null,
   "metadata": {},
   "outputs": [
    {
     "name": "stdout",
     "output_type": "stream",
     "text": [
      "1번째 라인입니다.\n",
      "2번째 라인입니다.\n",
      "3번째 라인입니다.\n",
      "4번째 라인입니다.\n",
      "5번째 라인입니다.\n",
      "6번째 라인입니다.\n",
      "7번째 라인입니다.\n",
      "8번째 라인입니다.\n",
      "9번째 라인입니다.\n",
      "10번째 라인입니다.\n",
      "1번재 추가된 라인 입니다.\n",
      "2번재 추가된 라인 입니다.\n",
      "3번재 추가된 라인 입니다.\n",
      "4번재 추가된 라인 입니다.\n",
      "5번재 추가된 라인 입니다.\n",
      "6번재 추가된 라인 입니다.\n",
      "7번재 추가된 라인 입니다.\n",
      "8번재 추가된 라인 입니다.\n",
      "9번재 추가된 라인 입니다.\n",
      "10번재 추가된 라인 입니다.\n"
     ]
    }
   ],
   "source": [
    "f = open('count_log.txt','w',encoding='utf8')\n",
    "for i in range(1,11):\n",
    "    data = '%d번째 라인입니다.\\n' % i \n",
    "    f.write(data)\n",
    "f.close()\n",
    "\n",
    "f = open('count_log.txt','a',encoding='utf8')\n",
    "for i in range(1,11):\n",
    "    data = '%d번재 추가된 라인 입니다.\\n' % i\n",
    "    f.write(data)\n",
    "f.close()"
   ]
  },
  {
   "cell_type": "code",
   "execution_count": null,
   "metadata": {},
   "outputs": [],
   "source": [
    "# make directory 'log' (log라는 폴더 만들기)\n",
    "import os\n",
    "# os.mkdir('log')         \n",
    "\n",
    "if not os.path.isdir('log'):\n",
    "    os.mkdir('log')"
   ]
  },
  {
   "cell_type": "code",
   "execution_count": null,
   "metadata": {},
   "outputs": [
    {
     "name": "stdout",
     "output_type": "stream",
     "text": [
      "동일한 이름의 파일이 존재해서 count_log.txt를 생성하지 않습니다.\n"
     ]
    }
   ],
   "source": [
    "import os \n",
    "import random, datetime\n",
    "\n",
    "if not os.path.isdir('log'):\n",
    "    os.mkdir('log')\n",
    "    \n",
    "if not os.path.exists('log/count_log.txt'):\n",
    "    f = open('log/count_log.txt','w', encoding='utf8')\n",
    "    f.write('기록이 시작된다.\\n')\n",
    "    f.close()\n",
    "else:\n",
    "    print('동일한 이름의 파일이 존재해서 count_log.txt를 생성하지 않습니다.')\n",
    "    \n",
    "with open('log/count_log.txt','a',encoding='utf8') as f:\n",
    "    for i in range(1, 11):\n",
    "        stamp = str(datetime.datetime.now())\n",
    "        value = random.random() * 1000000\n",
    "        \n",
    "        log_line = stamp + '\\t' + str(value) + '값이 생성되었다.' + '\\n'\n",
    "        f.write(log_line)"
   ]
  },
  {
   "cell_type": "code",
   "execution_count": null,
   "metadata": {},
   "outputs": [],
   "source": [
    "f = open('Fanfare.txt','w')\n",
    "f.write(''' \n",
    "코끝을 간지럽히는 살랑 부는 바람이 \n",
    "눈 감으면 어디든 네 곁에 데려다 주길\n",
    "어느새 내 맘이 춤을 추네 \n",
    "한없이 예쁜 날이야 \n",
    "꿈꾸던 시간이 마치 오늘인 것만 같아\n",
    "맘이 두근거리다 심장이 쿵 떨어져 \n",
    "후 살며시 네가 불어와 \n",
    "눈부신 하늘이 되어 다 물들어가요\n",
    "''')\n",
    "f.close()"
   ]
  },
  {
   "cell_type": "code",
   "execution_count": null,
   "metadata": {},
   "outputs": [
    {
     "name": "stdout",
     "output_type": "stream",
     "text": [
      "[1, 2, 3, 4, 5] <class 'list'>\n"
     ]
    }
   ],
   "source": [
    "# pickle : 객체를 저장할 수 있는 파일\n",
    "import pickle\n",
    "\n",
    "with open('list.pickle','wb') as f:\n",
    "    test = [1, 2, 3, 4, 5]\n",
    "    pickle.dump(test, f)\n",
    "    \n",
    "f = open('list.pickle','rb')\n",
    "test_pickle = pickle.load(f)\n",
    "print(test_pickle,type(test_pickle))\n",
    "f.close()\n",
    "    "
   ]
  },
  {
   "cell_type": "code",
   "execution_count": null,
   "metadata": {},
   "outputs": [
    {
     "name": "stdout",
     "output_type": "stream",
     "text": [
      "50\n",
      "500\n",
      "<class '__main__.Multiply'>\n"
     ]
    }
   ],
   "source": [
    "class Multiply:\n",
    "    def __init__(self,multiplier):\n",
    "        self.multiplier = multiplier\n",
    "        \n",
    "    def multiply(self,number):\n",
    "        return number * self.multiplier\n",
    "    \n",
    "multiply = Multiply(5)\n",
    "print(multiply.multiply(10))\n",
    "\n",
    "import pickle \n",
    "\n",
    "with open('multiply_object.pickle','wb') as f:\n",
    "    pickle.dump(multiply,f)                 # multiply는 instance\n",
    "    \n",
    "f = open('multiply_object.pickle','rb')\n",
    "multiply_pickle = pickle.load(f)\n",
    "print(multiply_pickle.multiply(100))\n",
    "print(type(multiply_pickle))\n",
    "f.close()"
   ]
  },
  {
   "cell_type": "markdown",
   "metadata": {},
   "source": [
    "## 파일 암호화 및 암호 해독 프로그램 \n",
    "* `ord()` : 문자의 고유한 숫자를 알려줌 \n",
    "* `chr()` : 숫자에 해당하는 문자를 알려줌"
   ]
  },
  {
   "cell_type": "code",
   "execution_count": null,
   "metadata": {},
   "outputs": [
    {
     "name": "stdout",
     "output_type": "stream",
     "text": [
      "54028\n",
      "파\n"
     ]
    }
   ],
   "source": [
    "print(ord('파'))\n",
    "print(chr(54028))"
   ]
  },
  {
   "cell_type": "code",
   "execution_count": 47,
   "metadata": {},
   "outputs": [
    {
     "name": "stdout",
     "output_type": "stream",
     "text": [
      "dream_encript.txt-->dream_encript_decoding.txt 변환 완료\n"
     ]
    }
   ],
   "source": [
    "def make_file():\n",
    "    f1 = open(infile,'r',encoding='utf-8')\n",
    "    f2 = open(outfile,'w',encoding='utf-8')\n",
    "\n",
    "    if choice == 1:\n",
    "        lines = f1.read()\n",
    "        for char in lines:\n",
    "            f2.write(str(ord(char) + shift) + '\\n')\n",
    "    else:\n",
    "        while True:\n",
    "            char = f1.readline()\n",
    "            if char == '':\n",
    "                break\n",
    "            f2.write(chr(int(char) - shift))\n",
    "        \n",
    "    f1.close()\n",
    "    f2.close()\n",
    "    print(infile + '-->' + outfile, '변환 완료')\n",
    "\n",
    "while True:\n",
    "    choice = int(input('1. 암호화 2. 암호해석 중 선택:'))\n",
    "    if choice not in [1,2]:\n",
    "        continue\n",
    "    \n",
    "    infile = input('입력 파일명을 입력하세요')\n",
    "    shift = 100\n",
    "\n",
    "    dot = infile.rfind('.')\n",
    "    if choice == 1:\n",
    "        outfile = infile[:dot] + '_encript' + infile[dot:]\n",
    "    else:\n",
    "        outfile = infile[:dot] + '_decoding' + infile[dot:]\n",
    "\n",
    "    make_file()\n",
    "    break"
   ]
  },
  {
   "cell_type": "markdown",
   "metadata": {},
   "source": [
    "## 정규표현식 사용"
   ]
  },
  {
   "cell_type": "code",
   "execution_count": 58,
   "metadata": {},
   "outputs": [
    {
     "name": "stdout",
     "output_type": "stream",
     "text": [
      "<re.Match object; span=(0, 5), match='Hello'>\n",
      "<re.Match object; span=(0, 13), match='010-0000-0000'>\n",
      "None\n"
     ]
    }
   ],
   "source": [
    "import re \n",
    "print(re.match('Hello', 'Hello, Python'))\n",
    "print(re.match('[0-9]{3}-[0-9]{4}-[0-9]{4}', '010-0000-0000'))\n",
    "print(re.match('[0-9]{3}-[0-9]{4}-[0-9]{4}', '010-0000-000'))"
   ]
  },
  {
   "cell_type": "code",
   "execution_count": 64,
   "metadata": {},
   "outputs": [
    {
     "name": "stdout",
     "output_type": "stream",
     "text": [
      "<re.Match object; span=(0, 3), match='abd'>\n",
      "None\n",
      "None\n",
      "<re.Match object; span=(0, 4), match='ab3c'>\n",
      "<re.Match object; span=(0, 4), match='ab0c'>\n"
     ]
    }
   ],
   "source": [
    "# ? : ? 앞의 문자가 0개 또는 1개인가?\n",
    "print(re.match('ab?d', 'abd'))\n",
    "print(re.match('ab?d', 'abbd'))\n",
    "print(re.match('ab?d', 'abb'))\n",
    "\n",
    "print(re.match('ab[0-9]?c', 'ab3c'))\n",
    "print(re.match('ab[0-9]?c', 'ab0c'))"
   ]
  },
  {
   "cell_type": "code",
   "execution_count": 67,
   "metadata": {},
   "outputs": [
    {
     "name": "stdout",
     "output_type": "stream",
     "text": [
      "<re.Match object; span=(0, 1), match='b'>\n",
      "<re.Match object; span=(0, 5), match='aaaab'>\n",
      "None\n",
      "<re.Match object; span=(0, 5), match='aaaab'>\n"
     ]
    }
   ],
   "source": [
    "# *\n",
    "print(re.match('a*b','b'))\n",
    "print(re.match('a*b','aaaab'))\n",
    "# +\n",
    "print(re.match('a+b','b'))\n",
    "print(re.match('a+b','aaaab'))"
   ]
  },
  {
   "cell_type": "code",
   "execution_count": 81,
   "metadata": {},
   "outputs": [
    {
     "name": "stdout",
     "output_type": "stream",
     "text": [
      "<re.Match object; span=(0, 3), match='hhh'>\n",
      "<re.Match object; span=(0, 15), match='hellohellohello'>\n",
      "<re.Match object; span=(0, 15), match='hellohellohello'>\n",
      "<re.Match object; span=(0, 20), match='hellohellohellohello'>\n"
     ]
    }
   ],
   "source": [
    "print(re.match('h{3}', 'hhhello'))\n",
    "print(re.match('(hello){3}', 'hellohellohelloworld'))\n",
    "print(re.match('(hello){3}', 'hellohellohellohelloworld'))\n",
    "print(re.match('(hello){3,4}', 'hellohellohellohelloworld'))"
   ]
  },
  {
   "cell_type": "code",
   "execution_count": 70,
   "metadata": {},
   "outputs": [
    {
     "name": "stdout",
     "output_type": "stream",
     "text": [
      "<re.Match object; span=(0, 11), match='02-100-1000'>\n",
      "None\n"
     ]
    }
   ],
   "source": [
    "print(re.match('[0-9]{2,3}-[0-9]{3,4}-[0-9]{4}', '02-100-1000'))\n",
    "print(re.match('[0-9]{2,3}-[0-9]{3,4}-[0-9]{4}', '02-10-1000'))"
   ]
  },
  {
   "cell_type": "code",
   "execution_count": 78,
   "metadata": {},
   "outputs": [
    {
     "name": "stdout",
     "output_type": "stream",
     "text": [
      "<re.Match object; span=(0, 5), match='hello'>\n",
      "None\n",
      "<re.Match object; span=(6, 11), match='hello'>\n",
      "hello\n"
     ]
    }
   ],
   "source": [
    "print(re.match('hello|world', 'hello'))\n",
    "print(re.match('hello|world', 'dkdkdkhello'))\n",
    "print(re.search('hello|world', 'dkdkdkhello'))\n",
    "print('dkdkdkhello'[6:11])"
   ]
  },
  {
   "cell_type": "code",
   "execution_count": 87,
   "metadata": {},
   "outputs": [
    {
     "name": "stdout",
     "output_type": "stream",
     "text": [
      "<re.Match object; span=(0, 1), match='홍'>\n",
      "<re.Match object; span=(0, 6), match='he llo'>\n"
     ]
    }
   ],
   "source": [
    "print(re.match('[가-힣]+','홍 길동'))\n",
    "\n",
    "print(re.match('[^A-Z]+', 'he llo'))"
   ]
  },
  {
   "cell_type": "code",
   "execution_count": 89,
   "metadata": {},
   "outputs": [
    {
     "name": "stdout",
     "output_type": "stream",
     "text": [
      "<re.Match object; span=(2, 4), match='**'>\n",
      "<re.Match object; span=(0, 11), match='$()document'>\n"
     ]
    }
   ],
   "source": [
    "print(re.search('\\*+', '1 ** 2'))\n",
    "print(re.search('[$()a-zA-Z0-9]+', '$()document'))"
   ]
  }
 ],
 "metadata": {
  "kernelspec": {
   "display_name": "Python 3.10.0 64-bit",
   "language": "python",
   "name": "python3"
  },
  "language_info": {
   "codemirror_mode": {
    "name": "ipython",
    "version": 3
   },
   "file_extension": ".py",
   "mimetype": "text/x-python",
   "name": "python",
   "nbconvert_exporter": "python",
   "pygments_lexer": "ipython3",
   "version": "3.10.10"
  },
  "orig_nbformat": 4,
  "vscode": {
   "interpreter": {
    "hash": "1ed1f76483e4d532c2a47a0bad31080b16a7f7d0106ba342ff005fcfacb5105f"
   }
  }
 },
 "nbformat": 4,
 "nbformat_minor": 2
}
