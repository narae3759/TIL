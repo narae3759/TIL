{
 "cells": [
  {
   "cell_type": "markdown",
   "metadata": {},
   "source": [
    "# 20220920 파이썬 기초(2)\n",
    "\n",
    "## 딕셔너리(Dictionary)"
   ]
  },
  {
   "cell_type": "code",
   "execution_count": 2,
   "metadata": {},
   "outputs": [
    {
     "name": "stdout",
     "output_type": "stream",
     "text": [
      "{'health': 573.6, 'mana': 308.8, 'melee': 600.0, 'attack_speed': 0.625, 'magic_resistance': 35.7}\n"
     ]
    }
   ],
   "source": [
    "# 연습문제\n",
    "mykey = input('key를 입력하세요.(공백으로 구분)').split()\n",
    "myvalue = map(float,input('value를 입력하세요.(공백으로 구분)').split())\n",
    "\n",
    "mydic = dict(zip(mykey, myvalue))\n",
    "print(mydic)"
   ]
  },
  {
   "cell_type": "markdown",
   "metadata": {},
   "source": [
    "## 조건문\n",
    "* 들여쓰기 중요하다.\n",
    "* `pass`: 아무 일도 하지 않고 그냥 넘어간다는 뜻(틀 먼저 만들 때 유용하다.)"
   ]
  },
  {
   "cell_type": "code",
   "execution_count": 5,
   "metadata": {},
   "outputs": [
    {
     "name": "stdout",
     "output_type": "stream",
     "text": [
      "10입니다.\n"
     ]
    }
   ],
   "source": [
    "x = 10\n",
    "if x == 10:\n",
    "    print('10입니다.')"
   ]
  },
  {
   "cell_type": "code",
   "execution_count": 6,
   "metadata": {},
   "outputs": [
    {
     "ename": "IndentationError",
     "evalue": "unexpected indent (999396429.py, line 4)",
     "output_type": "error",
     "traceback": [
      "\u001b[1;36m  File \u001b[1;32m\"C:\\Users\\narae\\AppData\\Local\\Temp\\ipykernel_23516\\999396429.py\"\u001b[1;36m, line \u001b[1;32m4\u001b[0m\n\u001b[1;33m    print('10입니다.')\u001b[0m\n\u001b[1;37m    ^\u001b[0m\n\u001b[1;31mIndentationError\u001b[0m\u001b[1;31m:\u001b[0m unexpected indent\n"
     ]
    }
   ],
   "source": [
    "x = 10 \n",
    "if x == 10:\n",
    "    print('x에 들어있는 숫자는')\n",
    "        print('10입니다.')          # indent 매우 중요하다. "
   ]
  },
  {
   "cell_type": "code",
   "execution_count": 8,
   "metadata": {},
   "outputs": [
    {
     "name": "stdout",
     "output_type": "stream",
     "text": [
      "10입니다.\n"
     ]
    }
   ],
   "source": [
    "x = 5 \n",
    "if x == 10:\n",
    "    print('x에 들어있는 숫자는')\n",
    "print('10입니다.')"
   ]
  },
  {
   "cell_type": "code",
   "execution_count": 9,
   "metadata": {},
   "outputs": [
    {
     "name": "stdout",
     "output_type": "stream",
     "text": [
      "10 이상입니다.\n",
      "15 입니다.\n"
     ]
    }
   ],
   "source": [
    "x = 15\n",
    "if x >= 10:\n",
    "    print('10 이상입니다.')\n",
    "    if x == 15:\n",
    "        print('15 입니다.')\n",
    "    if x == 20:\n",
    "        print('20 입니다.')"
   ]
  },
  {
   "cell_type": "code",
   "execution_count": 10,
   "metadata": {},
   "outputs": [
    {
     "name": "stdout",
     "output_type": "stream",
     "text": [
      "OK\n"
     ]
    }
   ],
   "source": [
    "# 연습문제 \n",
    "x = 5\n",
    "if x != 10:\n",
    "    print('OK')"
   ]
  },
  {
   "cell_type": "code",
   "execution_count": 12,
   "metadata": {},
   "outputs": [
    {
     "name": "stdout",
     "output_type": "stream",
     "text": [
      "할인된 가격은 67000 원 입니다.\n"
     ]
    }
   ],
   "source": [
    "# 연습문제 \n",
    "# Tip: 데이터의 자료형을 변수로 표현해주면 효율적이다.(nMoney, strCpn)\n",
    "price = int(input('가격을 입력하세요'))\n",
    "coupon = input('쿠폰을 입력하세요.')\n",
    "\n",
    "if coupon == 'Cash3000':\n",
    "    print('할인된 가격은',price-3000,'원 입니다.')72\n",
    "if coupon == 'Cash5000':\n",
    "    print('할인된 가격은',price-5000,'원 입니다.')\n"
   ]
  },
  {
   "cell_type": "code",
   "execution_count": 14,
   "metadata": {},
   "outputs": [
    {
     "name": "stdout",
     "output_type": "stream",
     "text": [
      "입력하신 값 44 은(는) 짝수입니다.\n"
     ]
    }
   ],
   "source": [
    "# 연습문제 \n",
    "intnum = int(input('값(정수)를 입력하세요.'))\n",
    "\n",
    "if intnum % 2 == 0:\n",
    "    print('입력하신 값',intnum,'은(는) 짝수입니다.')\n",
    "if intnum % 2 == 1:\n",
    "    print('입력하신 값',intnum,'은(는) 홀수입니다.')"
   ]
  },
  {
   "cell_type": "code",
   "execution_count": 17,
   "metadata": {},
   "outputs": [
    {
     "name": "stdout",
     "output_type": "stream",
     "text": [
      "입력하신 값 10 은(는) 10입니다.\n"
     ]
    }
   ],
   "source": [
    "# 연습문제 \n",
    "intnum = int(input('값(정수)를 입력하세요.'))\n",
    "\n",
    "if intnum > 10:\n",
    "    print('입력하신 값',intnum,'은(는) 10보다 큽니다.')\n",
    "if intnum < 10:\n",
    "    print('입력하신 값',intnum,'은(는) 10보다 작습니다.')\n",
    "if intnum == 10:\n",
    "    print('입력하신 값',intnum,'은(는) 10입니다.')"
   ]
  },
  {
   "cell_type": "code",
   "execution_count": 18,
   "metadata": {},
   "outputs": [
    {
     "name": "stdout",
     "output_type": "stream",
     "text": [
      "True\n"
     ]
    }
   ],
   "source": [
    "x = 10\n",
    "y = 20\n",
    "if x == 10 and y == 20:\n",
    "    print('True')\n",
    "else:\n",
    "    print('False')"
   ]
  },
  {
   "cell_type": "code",
   "execution_count": 19,
   "metadata": {},
   "outputs": [
    {
     "name": "stdout",
     "output_type": "stream",
     "text": [
      "20보다 작은 양수입니다.\n"
     ]
    }
   ],
   "source": [
    "if 0 < x < 20:\n",
    "    print('20보다 작은 양수입니다.')"
   ]
  },
  {
   "cell_type": "code",
   "execution_count": 22,
   "metadata": {},
   "outputs": [
    {
     "name": "stdout",
     "output_type": "stream",
     "text": [
      "불합격입니다.\n"
     ]
    }
   ],
   "source": [
    "# 연습문제\n",
    "written_test = 75\n",
    "coding_test = True \n",
    "\n",
    "if written_test >= 80 and coding_test == True:\n",
    "    print('합격입니다!!!')\n",
    "else:\n",
    "    print('불합격입니다.')"
   ]
  },
  {
   "cell_type": "code",
   "execution_count": 26,
   "metadata": {},
   "outputs": [
    {
     "name": "stdout",
     "output_type": "stream",
     "text": [
      "평균점수: 80.75 , 합격입니다.\n"
     ]
    }
   ],
   "source": [
    "# 연습문제\n",
    "kor, eng, mat, sci = map(int,input('국어, 영어, 수학, 과학 점수를 차례대로 입력하세요.(공백으로 구분)').split())\n",
    "\n",
    "if kor > 100 or eng > 100 or mat > 100 or sci > 100:\n",
    "    print('범위를 벗어났습니다. 다시 입력해주세요.')\n",
    "    print('입력값: kor=',kor,'eng=',eng,'mat=',mat,'sci=',sci)\n",
    "else:\n",
    "    avg = (kor + eng + mat + sci)/4\n",
    "    if avg >= 80:\n",
    "        print('평균점수:',round(avg,2),', 합격입니다.')\n",
    "    else: \n",
    "        print('평균점수:',round(avg,2),', 불합격입니다.')\n"
   ]
  },
  {
   "cell_type": "code",
   "execution_count": 29,
   "metadata": {},
   "outputs": [
    {
     "name": "stdout",
     "output_type": "stream",
     "text": [
      "Your grade is C\n"
     ]
    }
   ],
   "source": [
    "# 연습문제 \n",
    "score = int(input('Enter your score:'))\n",
    "\n",
    "if score >= 90:\n",
    "    grade = 'A'\n",
    "elif score >= 80:\n",
    "    grade = 'B'\n",
    "elif score >= 70:\n",
    "    grade = 'C'\n",
    "elif score >= 60:\n",
    "    grade = 'D'\n",
    "else:\n",
    "    grade = 'F'\n",
    "\n",
    "print('Your grade is',grade)\n",
    "        "
   ]
  },
  {
   "cell_type": "code",
   "execution_count": 30,
   "metadata": {},
   "outputs": [
    {
     "name": "stdout",
     "output_type": "stream",
     "text": [
      "사이다가 선택되었습니다.\n"
     ]
    }
   ],
   "source": [
    "# 연습문제 \n",
    "button = int(input('button을 클릭하세요.'))\n",
    "\n",
    "if button == 1:\n",
    "    print('콜라가 선택되었습니다.')\n",
    "elif button == 2:\n",
    "    print('사이다가 선택되었습니다.')\n",
    "elif button ==3:\n",
    "    print('환타가 선택되었습니다.')\n",
    "else:\n",
    "    print('준비되지 않은 음료수입니다.')"
   ]
  },
  {
   "cell_type": "code",
   "execution_count": 40,
   "metadata": {},
   "outputs": [
    {
     "name": "stdout",
     "output_type": "stream",
     "text": [
      "잔액은 1700 원 입니다\n"
     ]
    }
   ],
   "source": [
    "# 연습문제 \n",
    "money = int(input('요금을 투입해주세요.'))\n",
    "button = int(input('자판기 번호를 클릭하세요.'))\n",
    "\n",
    "menu = {'콜라':600, '사이다':700, '환타':800}\n",
    "\n",
    "if button == 1:\n",
    "    if money < menu['콜라']:\n",
    "        print('요금이 부족합니다.')\n",
    "        print('투입된 금액:',money,'콜라: 600')\n",
    "    else:\n",
    "        print('잔액은',money - menu['콜라'],'원 입니다')\n",
    "elif button == 2:\n",
    "    if money < menu['사이다']:\n",
    "        print('요금이 부족합니다.')\n",
    "        print('투입된 금액:',money,'사이다: 700')\n",
    "    else:\n",
    "        print('잔액은',money - menu['사이다'],'원 입니다')\n",
    "elif button == 3:\n",
    "    if money < menu['환타']:\n",
    "        print('요금이 부족합니다.')\n",
    "        print('투입된 금액:',money,'환타: 800')\n",
    "    else:\n",
    "        print('잔액은',money - menu['환타'],'원 입니다')\n",
    "else:\n",
    "    print('잘못 선택되었습니다. 다시 번호를 입력해주세요.')    \n",
    "    "
   ]
  },
  {
   "cell_type": "code",
   "execution_count": 32,
   "metadata": {},
   "outputs": [
    {
     "name": "stdout",
     "output_type": "stream",
     "text": [
      "아무것도 해당하지 않음\n"
     ]
    }
   ],
   "source": [
    "# 연습문제 \n",
    "x = int(input('정수를 입력하세요'))\n",
    "\n",
    "if 11 <= x <= 20:\n",
    "    print('11~20')\n",
    "elif 21 <= x <= 30:\n",
    "    print('21~30')\n",
    "else:\n",
    "    print('아무것도 해당하지 않음')"
   ]
  },
  {
   "cell_type": "code",
   "execution_count": 43,
   "metadata": {},
   "outputs": [
    {
     "name": "stdout",
     "output_type": "stream",
     "text": [
      "7세 미만으로 무료입니다.\n",
      "교통카드 잔액은  9000 원 입니다.\n"
     ]
    }
   ],
   "source": [
    "# 연습문제 \n",
    "age = int(input('나이(만 나이)를 입력하세요'))\n",
    "balance = 9000\n",
    "\n",
    "if age >= 19:\n",
    "    print('어른 입니다.')\n",
    "    balance = balance - 1250\n",
    "elif age >= 13:\n",
    "    print('청소년 입니다.')\n",
    "    balance = balance - 1050\n",
    "elif age >= 7:\n",
    "    print('어린이 입니다.')\n",
    "    balance = balance - 650\n",
    "else:\n",
    "    print('7세 미만으로 무료입니다.')\n",
    "    \n",
    "print('교통카드 잔액은 ',balance,'원 입니다.')"
   ]
  },
  {
   "cell_type": "code",
   "execution_count": 48,
   "metadata": {},
   "outputs": [
    {
     "name": "stdout",
     "output_type": "stream",
     "text": [
      "255\n"
     ]
    }
   ],
   "source": [
    "# 연습문제 \n",
    "x = int(input('정수를 입력하세요'))\n",
    "y = x + 20\n",
    "if y > 255:\n",
    "    y = 255\n",
    "\n",
    "print(y)"
   ]
  },
  {
   "cell_type": "code",
   "execution_count": 49,
   "metadata": {},
   "outputs": [
    {
     "name": "stdout",
     "output_type": "stream",
     "text": [
      "0\n"
     ]
    }
   ],
   "source": [
    "# 연습문제 \n",
    "x = int(input('정수를 입력하세요'))\n",
    "y = x - 20\n",
    "if y < 0:\n",
    "    y = 0\n",
    "\n",
    "print(y)"
   ]
  },
  {
   "cell_type": "code",
   "execution_count": 51,
   "metadata": {},
   "outputs": [
    {
     "name": "stdout",
     "output_type": "stream",
     "text": [
      "정각이 아닙니다.\n"
     ]
    }
   ],
   "source": [
    "time = input('현재 시간을 입력하세요(00:00)')\n",
    "\n",
    "if time[-2:] == '00':\n",
    "    print('정각입니다.')\n",
    "else:\n",
    "    print('정각이 아닙니다.')"
   ]
  },
  {
   "cell_type": "code",
   "execution_count": 55,
   "metadata": {},
   "outputs": [
    {
     "name": "stdout",
     "output_type": "stream",
     "text": [
      "정답입니다!\n"
     ]
    }
   ],
   "source": [
    "# 연습문제 \n",
    "like = input('제가 좋아하는 과일을 맞춰보세요')\n",
    "\n",
    "fruits = ['사과', '포도', '홍시']\n",
    "\n",
    "if like in fruit:\n",
    "    print('정답입니다!')\n",
    "else:\n",
    "    print('틀렸어요! 저에게 관심이 없군요.')\n"
   ]
  },
  {
   "cell_type": "code",
   "execution_count": 66,
   "metadata": {},
   "outputs": [
    {
     "name": "stdout",
     "output_type": "stream",
     "text": [
      "dict_keys(['봄', '여름', '가을']) <class 'dict_keys'>\n",
      "dict_values(['딸기', '토마토', '사과']) <class 'dict_values'>\n",
      "True\n",
      "True\n",
      "False\n",
      "True\n"
     ]
    }
   ],
   "source": [
    "fruits = {'봄':'딸기','여름':'토마토','가을':'사과'}\n",
    "\n",
    "print(fruits.keys(), type(fruits.keys()))\n",
    "print(fruits.values(), type(fruits.values()))\n",
    "print('봄' in fruits)\n",
    "print('봄' in fruits.keys())\n",
    "print('딸기' in fruits)\n",
    "print('딸기' in fruits.values())"
   ]
  },
  {
   "cell_type": "code",
   "execution_count": 58,
   "metadata": {},
   "outputs": [
    {
     "name": "stdout",
     "output_type": "stream",
     "text": [
      "틀렸어요! 저에게 관심이 없군요.\n"
     ]
    }
   ],
   "source": [
    "# 연습문제 \n",
    "like = input('제가 좋아하는 계절은 무엇일까요?')\n",
    "\n",
    "fruits = {'봄':'딸기','여름':'토마토','가을':'사과'}\n",
    "\n",
    "if like in fruits.keys():\n",
    "    print('정답입니다!')\n",
    "else:\n",
    "    print('틀렸어요! 저에게 관심이 없군요.')"
   ]
  },
  {
   "cell_type": "code",
   "execution_count": 68,
   "metadata": {},
   "outputs": [
    {
     "name": "stdout",
     "output_type": "stream",
     "text": [
      "정답입니다!\n"
     ]
    }
   ],
   "source": [
    "# 연습문제 \n",
    "like = input('제가 좋아하는 과일은 무엇일까요?')\n",
    "\n",
    "fruits = {'봄':'딸기','여름':'토마토','가을':'사과'}\n",
    "\n",
    "if like in fruits.values():\n",
    "    print('정답입니다!')\n",
    "else:\n",
    "    print('틀렸어요! 저에게 관심이 없군요.')"
   ]
  },
  {
   "cell_type": "code",
   "execution_count": 93,
   "metadata": {},
   "outputs": [
    {
     "name": "stdout",
     "output_type": "stream",
     "text": [
      "1500 원이 투입되었습니다.\n",
      "콜라 를 선택하셨습니다. 콜라 는 600 원 입니다.\n",
      "잔액은 900 원 입니다.\n"
     ]
    }
   ],
   "source": [
    "# 자판기 만들기 (딕셔너리 이용하지 않기)\n",
    "money = int(input('금액을 투입해주세요'))\n",
    "\n",
    "if money > 10000:\n",
    "    print('10000원이 초과되었습니다. 투입하실 수 있는 최대금액은 10000원입니다.')\n",
    "else:\n",
    "    print(money,'원이 투입되었습니다.')\n",
    "    button = int(input('음료를 선택하세요'))\n",
    "    \n",
    "    if button == 1:\n",
    "        drink = '사이다'\n",
    "        price = 700\n",
    "    elif button == 2:\n",
    "        drink = '콜라'\n",
    "        price = 600\n",
    "    elif button == 3:\n",
    "        drink = '오렌지주스'\n",
    "        price = 800\n",
    "    else: \n",
    "        print('잘못된 선택입니다')\n",
    "        \n",
    "    print(drink,'를 선택하셨습니다.',drink,'는',price,'원 입니다.')\n",
    "\n",
    "    if money < price:\n",
    "        print('금액이 부족합니다.')\n",
    "    else:\n",
    "        print('잔액은',money - price,'원 입니다.')"
   ]
  },
  {
   "cell_type": "code",
   "execution_count": 104,
   "metadata": {},
   "outputs": [
    {
     "name": "stdout",
     "output_type": "stream",
     "text": [
      "800 원이 투입되었습니다.\n",
      "콜라를 선택하셨습니다.\n",
      "콜라는 600원 입니다.\n",
      "잔액은 200원 입니다.\n"
     ]
    }
   ],
   "source": [
    "# 자판기 만들기 (딕셔너리 이용하기)\n",
    "drinks = {'사이다':700, '콜라':600, '오렌지쥬스':800}\n",
    "\n",
    "money = int(input('금액을 투입해주세요'))\n",
    "\n",
    "if money > 10000:\n",
    "    print('10000원이 초과되었습니다. 투입하실 수 있는 최대금액은 10000원입니다.')\n",
    "else:\n",
    "    print(money,'원이 투입되었습니다.')\n",
    "    \n",
    "    button = int(input('음료를 선택하세요'))\n",
    "    \n",
    "    if button > len(drink):\n",
    "        print('잘못된 선택입니다.')\n",
    "    else:\n",
    "        drink = list(drinks.keys())[button-1]\n",
    "        price = list(drinks.values())[button-1]\n",
    "        print(drink,'를 선택하셨습니다.',sep=\"\")\n",
    "        print(drink,'는 ',price,'원 입니다.',sep=\"\")\n",
    "    \n",
    "        if money < price:\n",
    "            print('금액이 부족합니다.')\n",
    "        else:\n",
    "            print('잔액은 ',money - price,'원 입니다.',sep=\"\")\n",
    "    "
   ]
  },
  {
   "cell_type": "code",
   "execution_count": 105,
   "metadata": {},
   "outputs": [
    {
     "name": "stdout",
     "output_type": "stream",
     "text": [
      "5000 원이 투입되었습니다.\n",
      "콜라를 선택하셨습니다.\n",
      "콜라는 600원 입니다.\n",
      "잔액은 4400원 입니다.\n"
     ]
    }
   ],
   "source": [
    "# 자판기 만들기 (딕셔너리 2개 이용하기)\n",
    "drink_dict = {1:'사이다',2:'콜라',3:'오렌지주스'}\n",
    "price_dict = {1:700, 2: 600, 3: 800}\n",
    "\n",
    "money = int(input('금액을 투입해주세요'))\n",
    "\n",
    "if money > 10000:\n",
    "    print('10,000원이 초과되었습니다. 투입하실 수 있는 최대금액은 10,000원입니다.')\n",
    "else:\n",
    "    print(money,'원이 투입되었습니다.')\n",
    "    \n",
    "    button = int(input('음료를 선택하세요'))\n",
    "    \n",
    "    if button not in drink_dict.keys():\n",
    "        print('잘못된 선택입니다.')\n",
    "    else:\n",
    "        drink = drink_dict[button]\n",
    "        price = price_dict[button]\n",
    "        \n",
    "        print(drink,'를 선택하셨습니다.',sep=\"\")\n",
    "        print(drink,'는 ',price,'원 입니다.',sep=\"\")\n",
    "    \n",
    "        if money < price:\n",
    "            print('금액이 부족합니다.')\n",
    "        else:\n",
    "            print('잔액은 ',money - price,'원 입니다.',sep=\"\")\n",
    "    "
   ]
  },
  {
   "cell_type": "code",
   "execution_count": 112,
   "metadata": {},
   "outputs": [
    {
     "name": "stdout",
     "output_type": "stream",
     "text": [
      "0으로 나눌 수 없습니다.\n"
     ]
    }
   ],
   "source": [
    "# 연습문제 \n",
    "x = float(input('첫번째 숫자를 입력하세요'))\n",
    "y = float(input('두번째 숫자를 입력하세요'))\n",
    "calc = input('연산자를 입력하세요')\n",
    "\n",
    "calcs = ['+','-','*','/']\n",
    "\n",
    "if y == 0 and calc == '/':\n",
    "    print('0으로 나눌 수 없습니다.')\n",
    "else:\n",
    "    if calc in calcs:\n",
    "        if calc == '+':\n",
    "            value = x + y\n",
    "        elif calc == '-':\n",
    "            value = x + y\n",
    "        elif calc == '*':\n",
    "            value = x * y\n",
    "        elif calc == '/':\n",
    "            value = x / y\n",
    "                \n",
    "        print(x,calc,y,'=',value)    \n",
    "    else:\n",
    "        print('잘못된 연산자 입니다.')\n",
    "\n"
   ]
  },
  {
   "cell_type": "code",
   "execution_count": 118,
   "metadata": {},
   "outputs": [
    {
     "name": "stdout",
     "output_type": "stream",
     "text": [
      "나이 30\n",
      "학생이 아닙니다\n"
     ]
    }
   ],
   "source": [
    "# 연습문제 \n",
    "birth_year = int(input('태어난 연도를 입력하세요'))\n",
    "age = 2022 - birth_year + 1\n",
    "\n",
    "print('나이',age)\n",
    "if age < 8 or age > 26:\n",
    "    print('학생이 아닙니다')\n",
    "elif age >= 20:\n",
    "    print('대학생입니다')\n",
    "elif age >= 17:\n",
    "    print('고등학생입니다')\n",
    "elif age > 14:\n",
    "    print('중학생입니다')\n",
    "else:\n",
    "    print('초등학생입니다')\n",
    "    "
   ]
  },
  {
   "cell_type": "markdown",
   "metadata": {},
   "source": [
    "## 반복문"
   ]
  },
  {
   "cell_type": "code",
   "execution_count": 126,
   "metadata": {},
   "outputs": [
    {
     "name": "stdout",
     "output_type": "stream",
     "text": [
      "looper 1, hello!!\n",
      "looper 2, hello!!\n",
      "looper 3, hello!!\n",
      "looper 4, hello!!\n",
      "looper 5, hello!!\n",
      "==============================\n",
      "looper 1, hello!!\n",
      "looper 2, hello!!\n",
      "looper 3, hello!!\n",
      "looper 4, hello!!\n",
      "looper 5, hello!!\n",
      "==============================\n",
      "looper 0, hello!!\n",
      "looper 1, hello!!\n",
      "looper 2, hello!!\n",
      "looper 3, hello!!\n",
      "looper 4, hello!!\n",
      "==============================\n",
      "looper h, hello!!\n",
      "looper e, hello!!\n",
      "looper l, hello!!\n",
      "looper l, hello!!\n",
      "looper o, hello!!\n"
     ]
    }
   ],
   "source": [
    "# 리스트\n",
    "for looper in [1, 2, 3, 4, 5]:\n",
    "    print('looper',looper,end=', ')\n",
    "    print('hello!!')\n",
    "\n",
    "print('='*30)\n",
    "# 튜플\n",
    "for looper in (1, 2, 3, 4, 5):\n",
    "    print('looper',looper,end=', ')\n",
    "    print('hello!!')\n",
    "\n",
    "print('='*30)    \n",
    "# range\n",
    "for looper in range(5):\n",
    "    print('looper',looper,end=', ')\n",
    "    print('hello!!')\n",
    "\n",
    "print('='*30)\n",
    "# 문자열\n",
    "for looper in 'hello':\n",
    "    print('looper',looper,end=', ')\n",
    "    print('hello!!')"
   ]
  },
  {
   "cell_type": "code",
   "execution_count": 127,
   "metadata": {},
   "outputs": [
    {
     "name": "stdout",
     "output_type": "stream",
     "text": [
      "looper 5, hello!!\n",
      "looper 4, hello!!\n",
      "looper 3, hello!!\n",
      "looper 2, hello!!\n",
      "looper 1, hello!!\n",
      "==============================\n",
      "looper 5, hello!!\n",
      "looper 4, hello!!\n",
      "looper 3, hello!!\n",
      "looper 2, hello!!\n",
      "looper 1, hello!!\n",
      "==============================\n",
      "looper 4, hello!!\n",
      "looper 3, hello!!\n",
      "looper 2, hello!!\n",
      "looper 1, hello!!\n",
      "looper 0, hello!!\n",
      "==============================\n",
      "looper o, hello!!\n",
      "looper l, hello!!\n",
      "looper l, hello!!\n",
      "looper e, hello!!\n",
      "looper h, hello!!\n"
     ]
    }
   ],
   "source": [
    "# 리스트\n",
    "for looper in reversed([1, 2, 3, 4, 5]):\n",
    "    print('looper',looper,end=', ')\n",
    "    print('hello!!')\n",
    "\n",
    "print('='*30)\n",
    "# 튜플\n",
    "for looper in reversed((1, 2, 3, 4, 5)):\n",
    "    print('looper',looper,end=', ')\n",
    "    print('hello!!')\n",
    "\n",
    "print('='*30)    \n",
    "# range\n",
    "for looper in reversed(range(5)):\n",
    "    print('looper',looper,end=', ')\n",
    "    print('hello!!')\n",
    "\n",
    "print('='*30)\n",
    "# 문자열\n",
    "for looper in reversed('hello'):\n",
    "    print('looper',looper,end=', ')\n",
    "    print('hello!!')"
   ]
  },
  {
   "cell_type": "code",
   "execution_count": 130,
   "metadata": {},
   "outputs": [
    {
     "name": "stdout",
     "output_type": "stream",
     "text": [
      "490 -170 250 1020 80 620 210 "
     ]
    }
   ],
   "source": [
    "x = [49, -17, 25, 102, 8, 62, 21]\n",
    "\n",
    "for i in x:\n",
    "    print(i * 10, end=\" \")"
   ]
  },
  {
   "cell_type": "code",
   "execution_count": 131,
   "metadata": {},
   "outputs": [
    {
     "name": "stdout",
     "output_type": "stream",
     "text": [
      "2 단 구구단 외우기\n",
      "2 * 1 = 2\n",
      "2 * 2 = 4\n",
      "2 * 3 = 6\n",
      "2 * 4 = 8\n",
      "2 * 5 = 10\n",
      "2 * 6 = 12\n",
      "2 * 7 = 14\n",
      "2 * 8 = 16\n",
      "2 * 9 = 18\n"
     ]
    }
   ],
   "source": [
    "# 구구단 출력하기 \n",
    "num = int(input('구구단 입력:'))\n",
    "print(num,'단 구구단 외우기')\n",
    "\n",
    "for i in range(1,10):\n",
    "    print(num,'*',i,'=',num * i)"
   ]
  },
  {
   "cell_type": "code",
   "execution_count": 134,
   "metadata": {},
   "outputs": [
    {
     "name": "stdout",
     "output_type": "stream",
     "text": [
      "0부터 10 까지의 합: 55\n"
     ]
    }
   ],
   "source": [
    "# 정수의 합\n",
    "num = int(input('정수를 입력하세요.'))\n",
    "x = 0\n",
    "for i in range(0,num+1):\n",
    "    x += i\n",
    "\n",
    "print('0부터',num,'까지의 합:',x)"
   ]
  },
  {
   "cell_type": "code",
   "execution_count": 147,
   "metadata": {},
   "outputs": [
    {
     "name": "stdout",
     "output_type": "stream",
     "text": [
      "1\n",
      "2\n",
      "3\n",
      "4\n",
      "==============================\n",
      "Hello Python 1\n",
      "Hello Python 2\n",
      "Hello Python 3\n",
      "Hello Python 4\n",
      "Hello Python 5\n",
      "==============================\n",
      "Hello, Python 5\n",
      "Hello, Python 4\n",
      "Hello, Python 3\n",
      "Hello, Python 2\n",
      "Hello, Python 1\n"
     ]
    }
   ],
   "source": [
    "# while 문 : 초기식, 조건식, 변화식\n",
    "# 변화식이 없으면 무한루프\n",
    "i = 1\n",
    "while i < 5:\n",
    "    print(i)\n",
    "    i += 1\n",
    "    \n",
    "print('='*30)\n",
    "\n",
    "i = 1 \n",
    "while i <= 5:\n",
    "    print('Hello Python', i)\n",
    "    i += 1\n",
    "\n",
    "print('='*30)    \n",
    "i = 5\n",
    "while i > 0:\n",
    "    print('Hello, Python', i)\n",
    "    i -= 1"
   ]
  },
  {
   "cell_type": "code",
   "execution_count": 148,
   "metadata": {},
   "outputs": [
    {
     "name": "stdout",
     "output_type": "stream",
     "text": [
      "Hello, Python 0\n",
      "Hello, Python 1\n",
      "Hello, Python 2\n"
     ]
    }
   ],
   "source": [
    "cnt = int(input('반복할 횟수를 입력하세요'))\n",
    "\n",
    "i = 0\n",
    "while i < cnt:\n",
    "    print('Hello, Python', i)\n",
    "    i += 1"
   ]
  },
  {
   "cell_type": "code",
   "execution_count": 149,
   "metadata": {},
   "outputs": [
    {
     "name": "stdout",
     "output_type": "stream",
     "text": [
      "Hello, Python 3\n",
      "Hello, Python 2\n",
      "Hello, Python 1\n"
     ]
    }
   ],
   "source": [
    "cnt = int(input('반복할 횟수를 입력하세요'))\n",
    "\n",
    "while cnt > 0:\n",
    "    print('Hello, Python', cnt)\n",
    "    cnt -= 1"
   ]
  },
  {
   "cell_type": "code",
   "execution_count": 144,
   "metadata": {},
   "outputs": [
    {
     "name": "stdout",
     "output_type": "stream",
     "text": [
      "0부터 10 까지의 합: 55\n"
     ]
    }
   ],
   "source": [
    "# 정수의 합\n",
    "num = int(input('정수를 입력하세요.'))\n",
    "x = 0\n",
    "i = 0\n",
    "\n",
    "while i <= num:\n",
    "    x += i\n",
    "    i += 1\n",
    "\n",
    "print('0부터',num,'까지의 합:',x)"
   ]
  },
  {
   "cell_type": "markdown",
   "metadata": {},
   "source": [
    "## 난수 생성 \n",
    "* `import random`을 통해 사용\n",
    "* `random()`: 0과 1사이의 수를 랜덤으로 반환함"
   ]
  },
  {
   "cell_type": "code",
   "execution_count": 152,
   "metadata": {},
   "outputs": [
    {
     "name": "stdout",
     "output_type": "stream",
     "text": [
      "0.5319500632073966\n",
      "0.5044807669153432\n",
      "0.66364794287317\n"
     ]
    }
   ],
   "source": [
    "import random \n",
    "print(random.random())\n"
   ]
  },
  {
   "cell_type": "code",
   "execution_count": 156,
   "metadata": {},
   "outputs": [
    {
     "name": "stdout",
     "output_type": "stream",
     "text": [
      "iter 1 , 0.872890747233371\n",
      "iter 2 , 0.27746856532468167\n",
      "iter 3 , 0.63775022593235\n",
      "iter 4 , 0.45181091145295105\n",
      "iter 5 , 0.24724179564668602\n",
      "iter 6 , 0.701208200331138\n",
      "iter 7 , 0.436517865405606\n",
      "iter 8 , 0.25498700311725275\n",
      "iter 9 , 0.6683431505960321\n",
      "iter 10 , 0.9868914581090394\n"
     ]
    }
   ],
   "source": [
    "import random \n",
    "i = 1 \n",
    "while i <= 10:\n",
    "    print('iter',i,',',random.random())\n",
    "    i += 1"
   ]
  },
  {
   "cell_type": "code",
   "execution_count": 157,
   "metadata": {},
   "outputs": [
    {
     "name": "stdout",
     "output_type": "stream",
     "text": [
      "4\n"
     ]
    }
   ],
   "source": [
    "# randint 1이상 6이하의 정수 추출\n",
    "print(random.randint(1, 6))"
   ]
  },
  {
   "cell_type": "code",
   "execution_count": 179,
   "metadata": {},
   "outputs": [
    {
     "name": "stdout",
     "output_type": "stream",
     "text": [
      "15\n",
      "13\n",
      "20\n",
      "20\n",
      "19\n",
      "14\n",
      "10\n",
      "12\n",
      "11\n",
      "15\n",
      "17\n",
      "20\n",
      "11\n",
      "12\n",
      "15\n",
      "11\n",
      "18\n",
      "12\n",
      "17\n",
      "16\n"
     ]
    }
   ],
   "source": [
    "# random으로 randint처럼 만들기 \n",
    "a = 10\n",
    "b = 21\n",
    "\n",
    "for i in range(10):\n",
    "    print(int(random.random()*(b-a) + a))\n",
    "    print(int(random.randint(10,20)))\n"
   ]
  },
  {
   "cell_type": "code",
   "execution_count": 181,
   "metadata": {},
   "outputs": [
    {
     "name": "stdout",
     "output_type": "stream",
     "text": [
      "2 5\n",
      "4 4\n",
      "8 3\n",
      "16 2\n",
      "32 1\n"
     ]
    }
   ],
   "source": [
    "i = 2\n",
    "j = 5\n",
    "\n",
    "while i <= 32 or j >= 1:\n",
    "    print(i, j)\n",
    "    i *= 2\n",
    "    j -= 1\n",
    "    "
   ]
  },
  {
   "cell_type": "code",
   "execution_count": 187,
   "metadata": {},
   "outputs": [
    {
     "name": "stdout",
     "output_type": "stream",
     "text": [
      "13500 원 충전되었습니다.\n",
      "1 회 사용. 잔액: 12150 원\n",
      "2 회 사용. 잔액: 10800 원\n",
      "3 회 사용. 잔액: 9450 원\n",
      "4 회 사용. 잔액: 8100 원\n",
      "5 회 사용. 잔액: 6750 원\n",
      "6 회 사용. 잔액: 5400 원\n",
      "7 회 사용. 잔액: 4050 원\n",
      "8 회 사용. 잔액: 2700 원\n",
      "9 회 사용. 잔액: 1350 원\n",
      "10 회 사용. 잔액: 0 원\n"
     ]
    }
   ],
   "source": [
    "money = int(input('충전할 금액을 입력해주세요.'))\n",
    "print(money,'원 충전되었습니다.')\n",
    "\n",
    "i = 1\n",
    "\n",
    "while money > 0:\n",
    "    money -= 1350\n",
    "    if money < 0:\n",
    "        print('잔액이 부족합니다. 충전해주세요')\n",
    "    else:\n",
    "        print(i,'회 사용. 잔액:',money,'원')\n",
    "        i += 1\n",
    "    "
   ]
  },
  {
   "cell_type": "code",
   "execution_count": 191,
   "metadata": {},
   "outputs": [
    {
     "name": "stdout",
     "output_type": "stream",
     "text": [
      "0\n",
      "1\n",
      "2\n",
      "3\n",
      "4\n",
      "5\n",
      "6\n",
      "7\n",
      "8\n",
      "9\n",
      "10\n",
      "==============================\n",
      "0\n",
      "1\n",
      "2\n",
      "3\n",
      "4\n",
      "5\n",
      "6\n",
      "7\n",
      "8\n",
      "9\n"
     ]
    }
   ],
   "source": [
    "i = 0 \n",
    "while True:\n",
    "    print(i)\n",
    "    if i == 10:\n",
    "        break\n",
    "    i += 1\n",
    "\n",
    "print('='*30)\n",
    "\n",
    "i = 0 \n",
    "while True:\n",
    "    print(i)\n",
    "    i += 1\n",
    "    if i == 10:\n",
    "        break"
   ]
  },
  {
   "cell_type": "code",
   "execution_count": 193,
   "metadata": {},
   "outputs": [
    {
     "name": "stdout",
     "output_type": "stream",
     "text": [
      "1\n",
      "3\n",
      "5\n",
      "7\n",
      "9\n"
     ]
    }
   ],
   "source": [
    "# break : 그만하기, continue : 처음으로 돌아가기(건너뛰기)\n",
    "for i in range(10):\n",
    "    if i % 2 == 0:\n",
    "        continue\n",
    "    print(i)"
   ]
  },
  {
   "cell_type": "code",
   "execution_count": 195,
   "metadata": {},
   "outputs": [
    {
     "name": "stdout",
     "output_type": "stream",
     "text": [
      "1\n",
      "3\n",
      "5\n",
      "7\n",
      "9\n",
      "==============================\n"
     ]
    },
    {
     "ename": "KeyboardInterrupt",
     "evalue": "",
     "output_type": "error",
     "traceback": [
      "\u001b[1;31m---------------------------------------------------------------------------\u001b[0m",
      "\u001b[1;31mKeyboardInterrupt\u001b[0m                         Traceback (most recent call last)",
      "\u001b[1;32m~\\AppData\\Local\\Temp\\ipykernel_23516\\280512712.py\u001b[0m in \u001b[0;36m<module>\u001b[1;34m\u001b[0m\n\u001b[0;32m     11\u001b[0m \u001b[1;32mwhile\u001b[0m \u001b[0mi\u001b[0m \u001b[1;33m<\u001b[0m \u001b[1;36m10\u001b[0m\u001b[1;33m:\u001b[0m\u001b[1;33m\u001b[0m\u001b[1;33m\u001b[0m\u001b[0m\n\u001b[0;32m     12\u001b[0m     \u001b[1;32mif\u001b[0m \u001b[0mi\u001b[0m \u001b[1;33m%\u001b[0m \u001b[1;36m2\u001b[0m \u001b[1;33m==\u001b[0m \u001b[1;36m0\u001b[0m\u001b[1;33m:\u001b[0m\u001b[1;33m\u001b[0m\u001b[1;33m\u001b[0m\u001b[0m\n\u001b[1;32m---> 13\u001b[1;33m         \u001b[1;32mcontinue\u001b[0m\u001b[1;33m\u001b[0m\u001b[1;33m\u001b[0m\u001b[0m\n\u001b[0m\u001b[0;32m     14\u001b[0m     \u001b[0mi\u001b[0m \u001b[1;33m+=\u001b[0m \u001b[1;36m1\u001b[0m\u001b[1;33m\u001b[0m\u001b[1;33m\u001b[0m\u001b[0m\n\u001b[0;32m     15\u001b[0m     \u001b[0mprint\u001b[0m\u001b[1;33m(\u001b[0m\u001b[0mi\u001b[0m\u001b[1;33m)\u001b[0m\u001b[1;33m\u001b[0m\u001b[1;33m\u001b[0m\u001b[0m\n",
      "\u001b[1;31mKeyboardInterrupt\u001b[0m: "
     ]
    }
   ],
   "source": [
    "i = 0\n",
    "while i < 10:\n",
    "    i += 1\n",
    "    if i % 2 == 0:\n",
    "        continue\n",
    "    print(i)\n",
    "\n",
    "print('='*30)\n",
    "\n",
    "i = 0\n",
    "while i < 10:\n",
    "    if i % 2 == 0:\n",
    "        continue\n",
    "    i += 1\n",
    "    print(i)"
   ]
  },
  {
   "cell_type": "code",
   "execution_count": 197,
   "metadata": {},
   "outputs": [
    {
     "name": "stdout",
     "output_type": "stream",
     "text": [
      "1\n",
      "3\n",
      "5\n",
      "7\n",
      "9\n"
     ]
    }
   ],
   "source": [
    "cnt = int(input('반복할 횟수를 입력하세요'))\n",
    "\n",
    "for i in range(1,cnt+1):\n",
    "    if i % 2 == 0:\n",
    "        continue\n",
    "    print(i)"
   ]
  },
  {
   "cell_type": "code",
   "execution_count": 201,
   "metadata": {},
   "outputs": [
    {
     "name": "stdout",
     "output_type": "stream",
     "text": [
      "3 13 23 33 43 53 63 73 "
     ]
    }
   ],
   "source": [
    "# 연습문제 \n",
    "i = 0 \n",
    "while True:\n",
    "    if i % 10 != 3:\n",
    "        i += 1\n",
    "        continue\n",
    "    if i > 73:\n",
    "        break\n",
    "    print(i, end=\" \")\n",
    "    i += 1"
   ]
  },
  {
   "cell_type": "code",
   "execution_count": 204,
   "metadata": {},
   "outputs": [
    {
     "name": "stdout",
     "output_type": "stream",
     "text": [
      "1 2 4 5 6 7 8 9 10 11 12 14 15 16 17 18 19 20 "
     ]
    }
   ],
   "source": [
    "# 연습문제 \n",
    "num1 = int(input('첫번째 정수값을 입력하세요'))\n",
    "num2 = int(input('두번째 정수값을 입력하세요'))\n",
    "\n",
    "while True:\n",
    "    if num1 % 10 == 3:\n",
    "        num1 += 1\n",
    "        continue\n",
    "    if num1 > num2:\n",
    "        break\n",
    "    print(num1, end=\" \")\n",
    "    num1 += 1"
   ]
  },
  {
   "cell_type": "code",
   "execution_count": 206,
   "metadata": {},
   "outputs": [
    {
     "name": "stdout",
     "output_type": "stream",
     "text": [
      "1010 \n"
     ]
    }
   ],
   "source": [
    "# 이진법으로 바꾸기 \n",
    "decimal = 10 \n",
    "result = ' '\n",
    "while (decimal > 0):\n",
    "    remainder = decimal % 2\n",
    "    decimal = decimal // 2\n",
    "    result = str(remainder) + result \n",
    "print(result)"
   ]
  },
  {
   "cell_type": "code",
   "execution_count": 208,
   "metadata": {},
   "outputs": [
    {
     "name": "stdout",
     "output_type": "stream",
     "text": [
      "20 숫자가 너무 작습니다.\n",
      "50 숫자가 너무 큽니다.\n",
      "30 숫자가 너무 큽니다.\n",
      "30 숫자가 너무 큽니다.\n",
      "25 숫자가 너무 큽니다.\n",
      "22 숫자가 너무 작습니다.\n",
      "23 정답입니다.\n"
     ]
    }
   ],
   "source": [
    "# 숫자 맞추기 게임 (효율적인 답안)\n",
    "import random \n",
    "\n",
    "answer = random.randint(1,100)\n",
    "\n",
    "while True:\n",
    "    myans = int(input(\"숫자를 맞춰보세요!\"))\n",
    "    print(myans, end=\" \")\n",
    "    if myans == answer:\n",
    "        print(\"정답입니다.\")\n",
    "        break \n",
    "    elif myans > answer:\n",
    "        print(\"숫자가 너무 큽니다.\")\n",
    "        continue\n",
    "    else:\n",
    "        print(\"숫자가 너무 작습니다.\")\n",
    "        continue\n",
    "    "
   ]
  },
  {
   "cell_type": "markdown",
   "metadata": {},
   "source": [
    "## 오류 처리하기 \n",
    "* 버그(bug) : 프로그래밍에서의 오류 \n",
    "* 디버그(debug) : 오류를 수정하는 과정\n",
    "* 디버깅(debugging) : 코드에서 오류를 만났을 대, 프로그램의 잘못을 찾아내고 고치는 것"
   ]
  },
  {
   "cell_type": "markdown",
   "metadata": {},
   "source": [
    "## 리스트 응용하기"
   ]
  },
  {
   "cell_type": "code",
   "execution_count": 5,
   "metadata": {},
   "outputs": [
    {
     "name": "stdout",
     "output_type": "stream",
     "text": [
      "[0, 1, 2, 3, 4, 5, 6, 7, 8, 9]\n",
      "짝수: [0, 2, 4, 6, 8, 10, 12, 14, 16, 18, 20, 22, 24, 26, 28, 30, 32, 34, 36, 38, 40, 42, 44, 46, 48, 50, 52, 54, 56, 58, 60, 62, 64, 66, 68, 70, 72, 74, 76, 78, 80, 82, 84, 86, 88, 90, 92, 94, 96, 98, 100]\n",
      "홀수: [1, 3, 5, 7, 9, 11, 13, 15, 17, 19, 21, 23, 25, 27, 29, 31, 33, 35, 37, 39, 41, 43, 45, 47, 49, 51, 53, 55, 57, 59, 61, 63, 65, 67, 69, 71, 73, 75, 77, 79, 81, 83, 85, 87, 89, 91, 93, 95, 97, 99, 101]\n"
     ]
    }
   ],
   "source": [
    "a = []\n",
    "for i in range(10):\n",
    "    a.append(i)\n",
    "print(a)\n",
    "\n",
    "a = []\n",
    "for i in range(51):\n",
    "    a.append(i*2)\n",
    "print('짝수:',a)\n",
    "\n",
    "a = []\n",
    "for i in range(51):\n",
    "    a.append(i*2+1)\n",
    "print('홀수:',a)"
   ]
  },
  {
   "cell_type": "code",
   "execution_count": 14,
   "metadata": {},
   "outputs": [
    {
     "name": "stdout",
     "output_type": "stream",
     "text": [
      "[10, 20, 30, 40, 50] 5\n",
      "[10, 20, '삽입1', '삽입2', 30, 40, 50] 7\n",
      "[10, '삽입3', 20, '삽입1', '삽입2', 30, 40, 50] 8\n",
      "['삽입4', 10, '삽입3', 20, '삽입1', '삽입2', 30, 40, 50] 9\n",
      "['삽입4', 10, '삽입3', 20, '삽입1', '삽입2', 30, 40, 50, '삽입5'] 10\n"
     ]
    }
   ],
   "source": [
    "a = [10, 20, 30]\n",
    "a.extend([40, 50])\n",
    "print(a,len(a))\n",
    "a[2:2] = ['삽입1','삽입2']\n",
    "print(a,len(a))\n",
    "\n",
    "a.insert(1,'삽입3')\n",
    "print(a,len(a))\n",
    "a.insert(0,'삽입4')\n",
    "print(a,len(a))\n",
    "a.insert(len(a),'삽입5')\n",
    "print(a,len(a))"
   ]
  },
  {
   "cell_type": "code",
   "execution_count": 23,
   "metadata": {},
   "outputs": [
    {
     "name": "stdout",
     "output_type": "stream",
     "text": [
      "[20] 30 10\n",
      "[10, 20, 20, 10, 50] None\n",
      "[20, 20, 10, 50] None\n"
     ]
    }
   ],
   "source": [
    "# pop과 del의 차이점 \n",
    "# pop은 return값이 있으나 del은 return값이 없다.\n",
    "a = [10, 20, 30]\n",
    "b = a.pop()\n",
    "c = a.pop(0)\n",
    "print(a,b,c)\n",
    "\n",
    "# remove, 중복된 값인 경우 앞 순서의 원소만 제거된다. \n",
    "# pop처럼 반환하지 않는다. \n",
    "a = [10, 20, 30, 20 , 10, 50]\n",
    "b = a.remove(30)\n",
    "print(a, b)\n",
    "c = a.remove(10)\n",
    "print(a, c)"
   ]
  },
  {
   "cell_type": "code",
   "execution_count": 26,
   "metadata": {},
   "outputs": [
    {
     "name": "stdout",
     "output_type": "stream",
     "text": [
      "[10]\n",
      "[10, 20]\n",
      "[10, 20, 30]\n",
      "[10, 20, 30, 40]\n",
      "[10, 20, 30]\n",
      "[10, 20]\n",
      "[10]\n"
     ]
    }
   ],
   "source": [
    "# 스택 이해하기 \n",
    "a = []\n",
    "a.append(10)\n",
    "print(a)\n",
    "a.append(20)\n",
    "print(a)\n",
    "a.append(30)\n",
    "print(a)\n",
    "a.append(40)\n",
    "print(a)\n",
    "a.pop()\n",
    "print(a)\n",
    "a.pop()\n",
    "print(a)\n",
    "a.pop()\n",
    "print(a)"
   ]
  },
  {
   "cell_type": "code",
   "execution_count": 31,
   "metadata": {},
   "outputs": [
    {
     "name": "stdout",
     "output_type": "stream",
     "text": [
      "1\n",
      "0\n"
     ]
    },
    {
     "ename": "ValueError",
     "evalue": "60 is not in list",
     "output_type": "error",
     "traceback": [
      "\u001b[1;31m---------------------------------------------------------------------------\u001b[0m",
      "\u001b[1;31mValueError\u001b[0m                                Traceback (most recent call last)",
      "\u001b[1;32m~\\AppData\\Local\\Temp\\ipykernel_14796\\1446132191.py\u001b[0m in \u001b[0;36m<module>\u001b[1;34m\u001b[0m\n\u001b[0;32m      2\u001b[0m \u001b[0mprint\u001b[0m\u001b[1;33m(\u001b[0m\u001b[0ma\u001b[0m\u001b[1;33m.\u001b[0m\u001b[0mindex\u001b[0m\u001b[1;33m(\u001b[0m\u001b[1;36m20\u001b[0m\u001b[1;33m)\u001b[0m\u001b[1;33m)\u001b[0m\u001b[1;33m\u001b[0m\u001b[1;33m\u001b[0m\u001b[0m\n\u001b[0;32m      3\u001b[0m \u001b[0mprint\u001b[0m\u001b[1;33m(\u001b[0m\u001b[0ma\u001b[0m\u001b[1;33m.\u001b[0m\u001b[0mindex\u001b[0m\u001b[1;33m(\u001b[0m\u001b[1;36m10\u001b[0m\u001b[1;33m)\u001b[0m\u001b[1;33m)\u001b[0m\u001b[1;33m\u001b[0m\u001b[1;33m\u001b[0m\u001b[0m\n\u001b[1;32m----> 4\u001b[1;33m \u001b[0mprint\u001b[0m\u001b[1;33m(\u001b[0m\u001b[0ma\u001b[0m\u001b[1;33m.\u001b[0m\u001b[0mindex\u001b[0m\u001b[1;33m(\u001b[0m\u001b[1;36m60\u001b[0m\u001b[1;33m)\u001b[0m\u001b[1;33m)\u001b[0m\u001b[1;33m\u001b[0m\u001b[1;33m\u001b[0m\u001b[0m\n\u001b[0m",
      "\u001b[1;31mValueError\u001b[0m: 60 is not in list"
     ]
    }
   ],
   "source": [
    "a = [10, 20, 30, 40, 50, 10]\n",
    "print(a.index(20))\n",
    "print(a.index(10))\n",
    "print(a.index(60))          # 없는 원소를 입력하면 오류"
   ]
  },
  {
   "cell_type": "code",
   "execution_count": 39,
   "metadata": {},
   "outputs": [
    {
     "name": "stdout",
     "output_type": "stream",
     "text": [
      "[10, 'O', 30, 40, 'O', 50, 'O', 30, 60, 70, 'O']\n",
      "[1, 4, 6, 10]\n"
     ]
    }
   ],
   "source": [
    "# 연습문제\n",
    "a = [10, 20, 30, 40, 20, 50, 20, 30, 60, 70, 20]\n",
    "result = []\n",
    "\n",
    "while 20 in a:\n",
    "    idx = a.index(20)\n",
    "    result.append(idx)\n",
    "    a[idx] = 'O'\n",
    "\n",
    "print(a)\n",
    "print(result)"
   ]
  },
  {
   "cell_type": "code",
   "execution_count": 50,
   "metadata": {},
   "outputs": [
    {
     "name": "stdout",
     "output_type": "stream",
     "text": [
      "2\n",
      "[40, 20, 15, 30, 20, 10]\n",
      "[10, 20, 30, 15, 20, 40]\n",
      "[10, 15, 20, 20, 30, 40]\n",
      "[40, 30, 20, 20, 15, 10]\n",
      "[]\n",
      "[10, 20, 30, 15, 20, 40]\n",
      "[]\n"
     ]
    }
   ],
   "source": [
    "a = [10, 20, 30, 15, 20, 40]\n",
    "b = [10, 20, 30, 15, 20, 40]\n",
    "print(a.count(20))\n",
    "\n",
    "a.reverse()\n",
    "print(a)\n",
    "\n",
    "print(a[::-1])\n",
    "\n",
    "a.sort()\n",
    "print(a)\n",
    "\n",
    "a.sort(reverse=True)\n",
    "print(a)\n",
    "\n",
    "a.clear()\n",
    "print(a)\n",
    "\n",
    "print(b)\n",
    "del b[:]\n",
    "print(b)"
   ]
  }
 ],
 "metadata": {
  "kernelspec": {
   "display_name": "Python 3.10.0 64-bit",
   "language": "python",
   "name": "python3"
  },
  "language_info": {
   "codemirror_mode": {
    "name": "ipython",
    "version": 3
   },
   "file_extension": ".py",
   "mimetype": "text/x-python",
   "name": "python",
   "nbconvert_exporter": "python",
   "pygments_lexer": "ipython3",
   "version": "3.10.0"
  },
  "orig_nbformat": 4,
  "vscode": {
   "interpreter": {
    "hash": "1ed1f76483e4d532c2a47a0bad31080b16a7f7d0106ba342ff005fcfacb5105f"
   }
  }
 },
 "nbformat": 4,
 "nbformat_minor": 2
}
