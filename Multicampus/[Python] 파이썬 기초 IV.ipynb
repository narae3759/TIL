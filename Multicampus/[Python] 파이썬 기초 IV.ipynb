{
 "cells": [
  {
   "cell_type": "markdown",
   "metadata": {},
   "source": [
    "## 집합\n",
    "* 요소는 중복이 없다. \n",
    "* 요소의 순서는 상관이 없다.\n",
    "* 요소의 수정이 가능하다. "
   ]
  },
  {
   "cell_type": "code",
   "execution_count": 93,
   "metadata": {},
   "outputs": [
    {
     "name": "stdout",
     "output_type": "stream",
     "text": [
      "{1, 2, 3}\n"
     ]
    }
   ],
   "source": [
    "s = set([1, 2, 3, 1, 2, 3])\n",
    "print(s)"
   ]
  },
  {
   "cell_type": "code",
   "execution_count": 102,
   "metadata": {},
   "outputs": [
    {
     "name": "stdout",
     "output_type": "stream",
     "text": [
      "{1, 2, 3, 4, 5, 6}\n",
      "{1, 2, 3, 4, 5, 6}\n",
      "{1, 2, 3, 4, 6}\n",
      "{1, 2, 4, 6}\n",
      "{1, 2, 4, 5, 6, 7, 8, 9, 10}\n",
      "set()\n"
     ]
    }
   ],
   "source": [
    "s = {1, 2, 3, 4, 5}\n",
    "\n",
    "# 추가 \n",
    "s.add(6)\n",
    "print(s)\n",
    "s.add(1)\n",
    "print(s)\n",
    "\n",
    "# 제거 \n",
    "s.remove(5)\n",
    "print(s)\n",
    "s.discard(3)\n",
    "print(s)\n",
    "\n",
    "# 여러 개 추가 \n",
    "s.update([5, 6, 7, 8, 9, 10])\n",
    "print(s)\n",
    "\n",
    "# 전체 제거\n",
    "s.clear()\n",
    "print(s)\n"
   ]
  },
  {
   "cell_type": "code",
   "execution_count": 108,
   "metadata": {},
   "outputs": [
    {
     "name": "stdout",
     "output_type": "stream",
     "text": [
      "{1, 2, 3, 4, 5, 6, 7}\n",
      "{1, 2, 3, 4, 5, 6, 7}\n",
      "{3, 4, 5}\n",
      "{3, 4, 5}\n"
     ]
    }
   ],
   "source": [
    "s1 = set([1, 2, 3, 4, 5])\n",
    "s2 = set([3, 4, 5, 6, 7])\n",
    "\n",
    "print(s1.union(s2))             # 합집합\n",
    "print(s1 | s2)\n",
    "print(s1.intersection(s2))      # 교집합\n",
    "print(s1 & s2)"
   ]
  },
  {
   "cell_type": "markdown",
   "metadata": {},
   "source": [
    "## 클래스\n",
    "* object를 다루는 프로그램\n",
    "* 클래스 : 필드(속성), 메소드(기능), 인스턴스"
   ]
  },
  {
   "cell_type": "code",
   "execution_count": 148,
   "metadata": {},
   "outputs": [
    {
     "name": "stdout",
     "output_type": "stream",
     "text": [
      "myCar1의 색상은 빨강이며, 현재 속도는 30 km/h 입니다.\n",
      "myCar2의 색상은 파랑이며, 현재 속도는 50 km/h 입니다.\n",
      "myCar3의 색상은 초록이며, 현재 속도는 0 km/h 입니다.\n",
      "<class 'type'>\n"
     ]
    }
   ],
   "source": [
    "class Car:\n",
    "    \n",
    "    def upSpeed(self, value):\n",
    "        self.speed += value\n",
    "    \n",
    "    def downSpeed(self, value):\n",
    "        self.speed -= value\n",
    "\n",
    "myCar1 = Car()\n",
    "myCar1.color = '빨강'\n",
    "myCar1.speed = 0\n",
    "\n",
    "myCar2 = Car()\n",
    "myCar2.color = '파랑'\n",
    "myCar2.speed = 0\n",
    "\n",
    "myCar3 = Car()\n",
    "myCar3.color = '초록'\n",
    "myCar3.speed = 0\n",
    "\n",
    "myCar1.upSpeed(30)\n",
    "print(f'myCar1의 색상은 {myCar1.color}이며, 현재 속도는 {myCar1.speed} km/h 입니다.')\n",
    "\n",
    "myCar2.upSpeed(50)\n",
    "print(f'myCar2의 색상은 {myCar2.color}이며, 현재 속도는 {myCar2.speed} km/h 입니다.')\n",
    "\n",
    "myCar3.upSpeed(0)\n",
    "print(f'myCar3의 색상은 {myCar3.color}이며, 현재 속도는 {myCar3.speed} km/h 입니다.')\n",
    "\n",
    "print(type(Car))"
   ]
  },
  {
   "cell_type": "code",
   "execution_count": 117,
   "metadata": {},
   "outputs": [
    {
     "name": "stdout",
     "output_type": "stream",
     "text": [
      "myCar1의 색상은 블랙이며, 현재 속도는 0 km/h 입니다.\n",
      "myCar2의 색상은 블랙이며, 현재 속도는 0 km/h 입니다.\n"
     ]
    }
   ],
   "source": [
    "# 생성자 : 인스턴스를 생성할 때 무조건 호출되는 메소드 , 즉 초기값 설정\n",
    "\n",
    "class Car:\n",
    "    \n",
    "    def __init__(self):\n",
    "        self.color = '블랙'\n",
    "        self.speed = 0\n",
    "\n",
    "myCar1 = Car()\n",
    "print(f'myCar1의 색상은 {myCar1.color}이며, 현재 속도는 {myCar1.speed} km/h 입니다.')\n",
    "\n",
    "myCar2 = Car()\n",
    "print(f'myCar2의 색상은 {myCar2.color}이며, 현재 속도는 {myCar2.speed} km/h 입니다.')"
   ]
  },
  {
   "cell_type": "code",
   "execution_count": 119,
   "metadata": {},
   "outputs": [
    {
     "name": "stdout",
     "output_type": "stream",
     "text": [
      "myCar1의 색상은 노랑이며, 현재 속도는 20 km/h 입니다.\n",
      "myCar2의 색상은 그레이이며, 현재 속도는 10 km/h 입니다.\n"
     ]
    }
   ],
   "source": [
    "# 생성자 : 요구사항 미리 넣기 \n",
    "\n",
    "class Car:\n",
    "    \n",
    "    def __init__(self,value1,value2):\n",
    "        self.color = value1\n",
    "        self.speed = value2\n",
    "\n",
    "myCar1 = Car('노랑',20)\n",
    "print(f'myCar1의 색상은 {myCar1.color}이며, 현재 속도는 {myCar1.speed} km/h 입니다.')\n",
    "\n",
    "myCar2 = Car('그레이',10)\n",
    "print(f'myCar2의 색상은 {myCar2.color}이며, 현재 속도는 {myCar2.speed} km/h 입니다.')"
   ]
  },
  {
   "cell_type": "code",
   "execution_count": 122,
   "metadata": {},
   "outputs": [
    {
     "name": "stdout",
     "output_type": "stream",
     "text": [
      "제 차는 아우디이며, 현재 속도는 20 km/h 입니다.\n",
      "제 차는 제네시스이며, 현재 속도는 10 km/h 입니다.\n"
     ]
    }
   ],
   "source": [
    "# 생성자 : 요구사항 자동으로 함수로 반환하기\n",
    "\n",
    "class Car:\n",
    "    \n",
    "    def __init__(self,name,speed):\n",
    "        self.name = name\n",
    "        self.speed = speed\n",
    "    \n",
    "    def getName(self):\n",
    "        return self.name\n",
    "    \n",
    "    def getSpeed(self):\n",
    "        return self.speed\n",
    "        \n",
    "\n",
    "myCar1 = Car('아우디',20)\n",
    "print(f'제 차는 {myCar1.getName()}이며, 현재 속도는 {myCar1.getSpeed()} km/h 입니다.')\n",
    "\n",
    "myCar2 = Car('제네시스',10)\n",
    "print(f'제 차는 {myCar2.getName()}이며, 현재 속도는 {myCar2.getSpeed()} km/h 입니다.')"
   ]
  },
  {
   "cell_type": "code",
   "execution_count": 123,
   "metadata": {},
   "outputs": [
    {
     "name": "stdout",
     "output_type": "stream",
     "text": [
      "제 차는 아우디이며, 현재 속도는 20 km/h 입니다.\n",
      "생성된 자동차는 총 1대 입니다.\n",
      "제 차는 제네시스이며, 현재 속도는 10 km/h 입니다.\n",
      "생성된 자동차는 총 2대 입니다.\n"
     ]
    }
   ],
   "source": [
    "# 생성자 : 클래스에 대한 속성 만들기\n",
    "\n",
    "class Car:\n",
    "    \n",
    "    count = 0\n",
    "    def __init__(self,name,speed):\n",
    "        self.name = name\n",
    "        self.speed = speed\n",
    "        Car.count += 1\n",
    "    \n",
    "    def getName(self):\n",
    "        return self.name\n",
    "    \n",
    "    def getSpeed(self):\n",
    "        return self.speed\n",
    "        \n",
    "\n",
    "myCar1 = Car('아우디',20)\n",
    "print(f'제 차는 {myCar1.getName()}이며, 현재 속도는 {myCar1.getSpeed()} km/h 입니다.')\n",
    "print(f'생성된 자동차는 총 {Car.count}대 입니다.')\n",
    "\n",
    "myCar2 = Car('제네시스',10)\n",
    "print(f'제 차는 {myCar2.getName()}이며, 현재 속도는 {myCar2.getSpeed()} km/h 입니다.')\n",
    "print(f'생성된 자동차는 총 {Car.count}대 입니다.')"
   ]
  },
  {
   "cell_type": "code",
   "execution_count": 129,
   "metadata": {},
   "outputs": [
    {
     "name": "stdout",
     "output_type": "stream",
     "text": [
      "승용차의 현재 속도는 10 km/h 입니다.\n",
      "승용차의 좌석 수는 30대 입니다.\n",
      "트럭의 현재 속도는 30 km/h 입니다.\n",
      "트럭의 중량은 50kg 입니다.\n"
     ]
    }
   ],
   "source": [
    "# 상속\n",
    "class Car:\n",
    "    \n",
    "    def __init__(self):\n",
    "        self.speed = 0\n",
    "    \n",
    "    def upSpeed(self, value):\n",
    "        self.speed += value\n",
    "    \n",
    "    def downSpeed(self, value):\n",
    "        self.speed -= value\n",
    "\n",
    "class Sedan(Car):\n",
    "    seatNum = 0\n",
    "    \n",
    "    def getSeatNum(self):\n",
    "        return self.seatNum\n",
    "\n",
    "class Truck(Car):\n",
    "    capacity = 0\n",
    "    \n",
    "    def getCapacity(self):\n",
    "        return self.capacity\n",
    "\n",
    "sedan1 = Sedan()\n",
    "truck1 = Truck()\n",
    "\n",
    "sedan1.upSpeed(10)\n",
    "truck1.upSpeed(30)\n",
    "\n",
    "sedan1.seatNum = 30\n",
    "truck1.capacity = 50\n",
    "    \n",
    "print(f'승용차의 현재 속도는 {sedan1.speed} km/h 입니다.')\n",
    "print(f'승용차의 좌석 수는 {sedan1.getSeatNum()}대 입니다.')\n",
    "\n",
    "print(f'트럭의 현재 속도는 {truck1.speed} km/h 입니다.')\n",
    "print(f'트럭의 중량은 {truck1.getCapacity()}kg 입니다.')\n"
   ]
  },
  {
   "cell_type": "code",
   "execution_count": 146,
   "metadata": {},
   "outputs": [
    {
     "name": "stdout",
     "output_type": "stream",
     "text": [
      "승용차:현재 속도(Sub Class): 150 km/h 초과!! Warning!!\n",
      "트럭:현재 속도(Super Class): 200\n",
      "<class 'type'>\n",
      "<class 'type'>\n"
     ]
    }
   ],
   "source": [
    "# 메소드 오버라이딩\n",
    "\n",
    "class Car:\n",
    "    \n",
    "    def __init__(self):\n",
    "        self.speed = 0\n",
    "    \n",
    "    def upSpeed(self, value):\n",
    "        self.speed += value\n",
    "        print('현재 속도(Super Class):',self.speed)\n",
    "\n",
    "class Sedan(Car):\n",
    "    def upSpeed(self, value):\n",
    "        if value > 150:\n",
    "            self.speed = 150\n",
    "            print('현재 속도(Sub Class):',self.speed,'km/h 초과!! Warning!!')\n",
    "        else:\n",
    "            self.speed += value\n",
    "            print('현재 속도(Sub Class):',self.speed,'km/h ')\n",
    "        \n",
    "    def getSeatNum(self):\n",
    "        return self.seatNum\n",
    "\n",
    "class Truck(Car):\n",
    "    capacity = 0\n",
    "    \n",
    "    def getCapacity(self):\n",
    "        return self.capacity\n",
    "\n",
    "sedan1 = Sedan()\n",
    "truck1 = Truck()\n",
    "\n",
    "print('승용차:',end='')\n",
    "sedan1.upSpeed(200)\n",
    "print('트럭:',end='')\n",
    "truck1.upSpeed(200)\n",
    "\n",
    "print(type(Car))\n",
    "print(type(Sedan))\n"
   ]
  },
  {
   "cell_type": "code",
   "execution_count": 152,
   "metadata": {},
   "outputs": [
    {
     "name": "stdout",
     "output_type": "stream",
     "text": [
      "<class '__main__.Person'>\n",
      "안녕하세요! 반갑습니다.\n",
      "안녕하세요. 저는 제임스에요!\n"
     ]
    }
   ],
   "source": [
    "# 속성 사용하기 \n",
    "\n",
    "class Person():\n",
    "    def __init__(self):\n",
    "        self.hello = '안녕하세요! 반갑습니다.'\n",
    "    \n",
    "    def greeting(self):\n",
    "        print(self.hello)\n",
    "\n",
    "print(type(Person()))\n",
    "james = Person()\n",
    "james.greeting()\n",
    "\n",
    "james.hello = '안녕하세요. 저는 제임스에요!'\n",
    "james.greeting()"
   ]
  },
  {
   "cell_type": "code",
   "execution_count": 167,
   "metadata": {},
   "outputs": [
    {
     "name": "stdout",
     "output_type": "stream",
     "text": [
      "안녕하세요. 저는 Maria이고 나이는 20살 입니다.\n",
      "이름: Maria\n",
      "나이: 20\n",
      "주소: 광주광역시 동구 문화전당로 38\n",
      "안녕하세요. 저는 Maria이고 나이는 20살 입니다.\n",
      "잔액: 8000원\n",
      "잔액: 5000원\n",
      "잔액 부족!!!\n"
     ]
    }
   ],
   "source": [
    "# 연습문제 \n",
    "# '__'을 통해 비공개 속성을 만들 수 있다. \n",
    "class Person:\n",
    "    def __init__(self, name, age, adress, wallet):\n",
    "        self.name = name \n",
    "        self.age = age\n",
    "        self.adress = adress\n",
    "        self.__wallet = wallet\n",
    "        \n",
    "    def greeting(self):\n",
    "        print(f'안녕하세요. 저는 {self.name}이고 나이는 {self.age}살 입니다.')\n",
    "        \n",
    "    def pay(self, amount):\n",
    "        if self.__wallet < amount:\n",
    "            print('잔액 부족!!!')\n",
    "            return\n",
    "        else:\n",
    "            self.__wallet -= amount\n",
    "            print(f'잔액: {self.__wallet}원')\n",
    "\n",
    "maria = Person('Maria', 20, '광주광역시 동구 문화전당로 38', 10000)\n",
    "maria.greeting()\n",
    "\n",
    "print('이름:',maria.name)\n",
    "print('나이:',maria.age)\n",
    "print('주소:',maria.adress)\n",
    "\n",
    "# print(maria.__wallet) Error: 'Person' object has no attribute '__wallet'\n",
    "maria.pay(2000)\n",
    "maria.pay(3000)\n",
    "maria.pay(7000)\n"
   ]
  },
  {
   "cell_type": "code",
   "execution_count": 177,
   "metadata": {},
   "outputs": [
    {
     "name": "stdout",
     "output_type": "stream",
     "text": [
      "James의 가방: ['아이패드', '휴지']\n",
      "Maria의 가방: ['아이패드', '휴지']\n",
      "{}\n",
      "{'__module__': '__main__', 'bag': ['아이패드', '휴지'], 'put_bag': <function Person.put_bag at 0x00000263530D8430>, '__dict__': <attribute '__dict__' of 'Person' objects>, '__weakref__': <attribute '__weakref__' of 'Person' objects>, '__doc__': None}\n"
     ]
    }
   ],
   "source": [
    "# 연습문제 : 가방에 넣었다가 뺐다가 하기 \n",
    "class Person():\n",
    "    bag = []\n",
    "    \n",
    "    def put_bag(self, stuff):\n",
    "        self.bag.append(stuff) # Person.bag.append(stuff)와 같다.\n",
    "\n",
    "James = Person()\n",
    "James.put_bag('아이패드')\n",
    "\n",
    "Maria = Person()\n",
    "Maria.put_bag('휴지')\n",
    "\n",
    "print('James의 가방:',James.bag)\n",
    "print('Maria의 가방:',Maria.bag)\n",
    "\n",
    "print(James.__dict__)\n",
    "print(Person.__dict__)"
   ]
  },
  {
   "cell_type": "code",
   "execution_count": 181,
   "metadata": {},
   "outputs": [
    {
     "name": "stdout",
     "output_type": "stream",
     "text": [
      "James의 가방: ['아이패드', '책']\n",
      "Maria의 가방: ['휴지', '우산']\n"
     ]
    }
   ],
   "source": [
    "# 연습문제 : 가방에 넣기 \n",
    "class Person():\n",
    "    def __init__(self):\n",
    "        self.bag = []\n",
    "    \n",
    "    def put_bag(self, stuff):\n",
    "        self.bag.append(stuff)\n",
    "\n",
    "James = Person()\n",
    "James.put_bag('아이패드')\n",
    "James.put_bag('책')\n",
    "\n",
    "Maria = Person()\n",
    "Maria.put_bag('휴지')\n",
    "Maria.put_bag('우산')\n",
    "\n",
    "print('James의 가방:',James.bag)\n",
    "print('Maria의 가방:',Maria.bag)"
   ]
  },
  {
   "cell_type": "code",
   "execution_count": 184,
   "metadata": {},
   "outputs": [
    {
     "name": "stdout",
     "output_type": "stream",
     "text": [
      "10\n"
     ]
    },
    {
     "ename": "AttributeError",
     "evalue": "type object 'Knight' has no attribute '__item_limit'",
     "output_type": "error",
     "traceback": [
      "\u001b[1;31m---------------------------------------------------------------------------\u001b[0m",
      "\u001b[1;31mAttributeError\u001b[0m                            Traceback (most recent call last)",
      "\u001b[1;32m~\\AppData\\Local\\Temp\\ipykernel_17548\\4177064289.py\u001b[0m in \u001b[0;36m<module>\u001b[1;34m\u001b[0m\n\u001b[0;32m      9\u001b[0m \u001b[0mx\u001b[0m\u001b[1;33m.\u001b[0m\u001b[0mprint_item_limit\u001b[0m\u001b[1;33m(\u001b[0m\u001b[1;33m)\u001b[0m\u001b[1;33m\u001b[0m\u001b[1;33m\u001b[0m\u001b[0m\n\u001b[0;32m     10\u001b[0m \u001b[1;33m\u001b[0m\u001b[0m\n\u001b[1;32m---> 11\u001b[1;33m \u001b[0mprint\u001b[0m\u001b[1;33m(\u001b[0m\u001b[0mKnight\u001b[0m\u001b[1;33m.\u001b[0m\u001b[0m__item_limit\u001b[0m\u001b[1;33m)\u001b[0m\u001b[1;33m\u001b[0m\u001b[1;33m\u001b[0m\u001b[0m\n\u001b[0m",
      "\u001b[1;31mAttributeError\u001b[0m: type object 'Knight' has no attribute '__item_limit'"
     ]
    }
   ],
   "source": [
    "# 클래서 비공개 \n",
    "class Knight:\n",
    "    __item_limit = 10\n",
    "    \n",
    "    def print_item_limit(self):\n",
    "        print(Knight.__item_limit)\n",
    "        \n",
    "x = Knight()\n",
    "x.print_item_limit()\n",
    "\n",
    "print(Knight.__item_limit)"
   ]
  },
  {
   "cell_type": "code",
   "execution_count": 194,
   "metadata": {},
   "outputs": [
    {
     "name": "stdout",
     "output_type": "stream",
     "text": [
      "30\n",
      "200\n",
      "-10\n",
      "{'__module__': '__main__', 'sub': <function Calc.sub at 0x00000263530DA9E0>, 'add': <staticmethod(<function Calc.add at 0x00000263530DAB00>)>, 'mul': <function Calc.mul at 0x00000263530DAE60>, '__dict__': <attribute '__dict__' of 'Calc' objects>, '__weakref__': <attribute '__weakref__' of 'Calc' objects>, '__doc__': None}\n"
     ]
    }
   ],
   "source": [
    "# 정적 메서드 : self를 받지 않는다. 인스턴스 속성에서는 접근할 수 없다. \n",
    "class Calc:\n",
    "    def sub(a, b):\n",
    "        return a - b\n",
    "    \n",
    "    @staticmethod \n",
    "    def add(a, b):\n",
    "        return a + b\n",
    "    \n",
    "    def mul(a, b):\n",
    "        return a * b\n",
    "\n",
    "print(Calc.add(10, 20))\n",
    "print(Calc.mul(10, 20))\n",
    "\n",
    "print(Calc.sub(10, 20))\n",
    "\n",
    "print(Calc.__dict__)"
   ]
  },
  {
   "cell_type": "code",
   "execution_count": 189,
   "metadata": {},
   "outputs": [
    {
     "name": "stdout",
     "output_type": "stream",
     "text": [
      "3명 생성되었습니다.\n"
     ]
    }
   ],
   "source": [
    "# 클래스 메서드 : self 대신에 class를 쓴다.\n",
    "class Person:\n",
    "    count = 0 \n",
    "    \n",
    "    def __init__(self):\n",
    "        Person.count += 1\n",
    "    \n",
    "    @classmethod \n",
    "    def print_count(cls):\n",
    "        print(f'{cls.count}명 생성되었습니다.')\n",
    "\n",
    "James = Person()\n",
    "Maria = Person()\n",
    "Jacob = Person()\n",
    "\n",
    "Person.print_count()"
   ]
  },
  {
   "cell_type": "code",
   "execution_count": 195,
   "metadata": {},
   "outputs": [
    {
     "name": "stdout",
     "output_type": "stream",
     "text": [
      "Student __init__\n",
      "ICT 이노베이션\n"
     ]
    },
    {
     "ename": "AttributeError",
     "evalue": "'Student' object has no attribute 'hello'",
     "output_type": "error",
     "traceback": [
      "\u001b[1;31m---------------------------------------------------------------------------\u001b[0m",
      "\u001b[1;31mAttributeError\u001b[0m                            Traceback (most recent call last)",
      "\u001b[1;32m~\\AppData\\Local\\Temp\\ipykernel_17548\\1451374456.py\u001b[0m in \u001b[0;36m<module>\u001b[1;34m\u001b[0m\n\u001b[0;32m     12\u001b[0m \u001b[0mJames\u001b[0m \u001b[1;33m=\u001b[0m \u001b[0mStudent\u001b[0m\u001b[1;33m(\u001b[0m\u001b[1;33m)\u001b[0m\u001b[1;33m\u001b[0m\u001b[1;33m\u001b[0m\u001b[0m\n\u001b[0;32m     13\u001b[0m \u001b[0mprint\u001b[0m\u001b[1;33m(\u001b[0m\u001b[0mJames\u001b[0m\u001b[1;33m.\u001b[0m\u001b[0mschool\u001b[0m\u001b[1;33m)\u001b[0m\u001b[1;33m\u001b[0m\u001b[1;33m\u001b[0m\u001b[0m\n\u001b[1;32m---> 14\u001b[1;33m \u001b[0mprint\u001b[0m\u001b[1;33m(\u001b[0m\u001b[0mJames\u001b[0m\u001b[1;33m.\u001b[0m\u001b[0mhello\u001b[0m\u001b[1;33m)\u001b[0m\u001b[1;33m\u001b[0m\u001b[1;33m\u001b[0m\u001b[0m\n\u001b[0m",
      "\u001b[1;31mAttributeError\u001b[0m: 'Student' object has no attribute 'hello'"
     ]
    }
   ],
   "source": [
    "# 연습하기 : 상속 시 __init__이 중복되었을 때 \n",
    "class Person:\n",
    "    def __init__(self):\n",
    "        print('Person __init__')\n",
    "        self.hello = '안녕하세요' \n",
    "\n",
    "class Student(Person):\n",
    "    def __init__(self):\n",
    "        print('Student __init__')\n",
    "        self.school = 'ICT 이노베이션'\n",
    "    \n",
    "James = Student()\n",
    "print(James.school)\n",
    "print(James.hello)    # 없는 함수이면 오류"
   ]
  },
  {
   "cell_type": "code",
   "execution_count": 199,
   "metadata": {},
   "outputs": [
    {
     "name": "stdout",
     "output_type": "stream",
     "text": [
      "Student __init__\n",
      "Person __init__\n",
      "ICT 이노베이션\n",
      "안녕하세요\n"
     ]
    }
   ],
   "source": [
    "# 연습하기 : 상속 시 __init__이 중복되었을 때 \n",
    "class Person:\n",
    "    def __init__(self):\n",
    "        print('Person __init__')\n",
    "        self.hello = '안녕하세요' \n",
    "        self.school = '삼성 전자'\n",
    "\n",
    "class Student(Person):\n",
    "    def __init__(self):\n",
    "        print('Student __init__')\n",
    "        super().__init__()\n",
    "        self.school = 'ICT 이노베이션'\n",
    "    \n",
    "James = Student()\n",
    "print(James.school)\n",
    "print(James.hello)    "
   ]
  },
  {
   "cell_type": "code",
   "execution_count": 200,
   "metadata": {},
   "outputs": [
    {
     "name": "stdout",
     "output_type": "stream",
     "text": [
      "Person __init__\n",
      "안녕하세요\n"
     ]
    }
   ],
   "source": [
    "# 연습하기 \n",
    "class Person:\n",
    "    def __init__(self):\n",
    "        print('Person __init__')\n",
    "        self.hello = '안녕하세요' \n",
    "\n",
    "class Student(Person):\n",
    "    pass\n",
    "    \n",
    "James = Student()\n",
    "print(James.hello)    "
   ]
  },
  {
   "cell_type": "code",
   "execution_count": 202,
   "metadata": {},
   "outputs": [
    {
     "name": "stdout",
     "output_type": "stream",
     "text": [
      "Person: 안녕하세요.\n",
      "Student: 반갑습니다.\n"
     ]
    }
   ],
   "source": [
    "# 연습하기 \n",
    "\n",
    "class Person:\n",
    "    def greeting(self):\n",
    "        print('Person: 안녕하세요.')\n",
    "        \n",
    "class Student(Person):\n",
    "    def greeting(self):\n",
    "        super().greeting()\n",
    "        print('Student: 반갑습니다.')\n",
    "        \n",
    "david = Student()\n",
    "david.greeting()"
   ]
  },
  {
   "cell_type": "code",
   "execution_count": 205,
   "metadata": {},
   "outputs": [
    {
     "name": "stdout",
     "output_type": "stream",
     "text": [
      "Person: 안녕하세요.\n",
      "University: 학점 관리\n",
      "Undergraduate: 공부하기\n"
     ]
    }
   ],
   "source": [
    "# 다중 상속 사용하기 \n",
    "\n",
    "class Person:\n",
    "    def greeting(self):\n",
    "        print('Person: 안녕하세요.')\n",
    "        \n",
    "class University:\n",
    "    def manage_credit(self):\n",
    "        print('University: 학점 관리')\n",
    "        \n",
    "class Undergraduate(Person, University):\n",
    "    def study(self):\n",
    "        print('Undergraduate: 공부하기')\n",
    "        \n",
    "david = Undergraduate()\n",
    "david.greeting()\n",
    "david.manage_credit()\n",
    "david.study()"
   ]
  },
  {
   "cell_type": "code",
   "execution_count": 221,
   "metadata": {},
   "outputs": [
    {
     "name": "stdout",
     "output_type": "stream",
     "text": [
      "x=30, y=40, dist=50.00\n",
      "x=60, y=50, dist=78.10\n"
     ]
    }
   ],
   "source": [
    "# 두 점 사이의 거리 구하기 \n",
    "class Point2D:\n",
    "    def __init__(self, x, y):\n",
    "        self.x = x\n",
    "        self.y = y\n",
    "    \n",
    "    def calc_dist(self):\n",
    "        import math\n",
    "        # return math.sqrt(self.x**2 + self.y**2)\n",
    "        return math.sqrt(math.pow(self.x,2) + math.pow(self.y,2))\n",
    "\n",
    "p1 = Point2D(x=30, y=40)\n",
    "p2 = Point2D(60,50)\n",
    "\n",
    "print('x={0}, y={1}, dist={2:.2f}'.format(p1.x, p1.y, p1.calc_dist()))\n",
    "print('x={0}, y={1}, dist={2:.2f}'.format(p2.x, p2.y, p2.calc_dist()))"
   ]
  },
  {
   "cell_type": "markdown",
   "metadata": {},
   "source": [
    "## 예외 처리\n",
    "* try : 실행할 코드 \n",
    "* except : 예외가 발생했을 때 처리하는 코드 \n",
    "* else : 예외가 아닐 때 실행할 코드\n",
    "* finally : 예외 발생 여부와 상관없이 실행할 코드 "
   ]
  },
  {
   "cell_type": "code",
   "execution_count": 223,
   "metadata": {},
   "outputs": [
    {
     "ename": "ZeroDivisionError",
     "evalue": "division by zero",
     "output_type": "error",
     "traceback": [
      "\u001b[1;31m---------------------------------------------------------------------------\u001b[0m",
      "\u001b[1;31mZeroDivisionError\u001b[0m                         Traceback (most recent call last)",
      "\u001b[1;32m~\\AppData\\Local\\Temp\\ipykernel_17548\\3126193193.py\u001b[0m in \u001b[0;36m<module>\u001b[1;34m\u001b[0m\n\u001b[0;32m      4\u001b[0m \u001b[1;33m\u001b[0m\u001b[0m\n\u001b[0;32m      5\u001b[0m \u001b[0mten_div\u001b[0m\u001b[1;33m(\u001b[0m\u001b[1;36m2\u001b[0m\u001b[1;33m)\u001b[0m\u001b[1;33m\u001b[0m\u001b[1;33m\u001b[0m\u001b[0m\n\u001b[1;32m----> 6\u001b[1;33m \u001b[0mten_div\u001b[0m\u001b[1;33m(\u001b[0m\u001b[1;36m0\u001b[0m\u001b[1;33m)\u001b[0m\u001b[1;33m\u001b[0m\u001b[1;33m\u001b[0m\u001b[0m\n\u001b[0m",
      "\u001b[1;32m~\\AppData\\Local\\Temp\\ipykernel_17548\\3126193193.py\u001b[0m in \u001b[0;36mten_div\u001b[1;34m(x)\u001b[0m\n\u001b[0;32m      1\u001b[0m \u001b[1;31m# 예외 처리 사용하기 : 발생할 수 있는 에러를 막기 위함\u001b[0m\u001b[1;33m\u001b[0m\u001b[1;33m\u001b[0m\u001b[0m\n\u001b[0;32m      2\u001b[0m \u001b[1;32mdef\u001b[0m \u001b[0mten_div\u001b[0m\u001b[1;33m(\u001b[0m\u001b[0mx\u001b[0m\u001b[1;33m)\u001b[0m\u001b[1;33m:\u001b[0m\u001b[1;33m\u001b[0m\u001b[1;33m\u001b[0m\u001b[0m\n\u001b[1;32m----> 3\u001b[1;33m     \u001b[1;32mreturn\u001b[0m \u001b[1;36m10\u001b[0m \u001b[1;33m/\u001b[0m \u001b[0mx\u001b[0m\u001b[1;33m\u001b[0m\u001b[1;33m\u001b[0m\u001b[0m\n\u001b[0m\u001b[0;32m      4\u001b[0m \u001b[1;33m\u001b[0m\u001b[0m\n\u001b[0;32m      5\u001b[0m \u001b[0mten_div\u001b[0m\u001b[1;33m(\u001b[0m\u001b[1;36m2\u001b[0m\u001b[1;33m)\u001b[0m\u001b[1;33m\u001b[0m\u001b[1;33m\u001b[0m\u001b[0m\n",
      "\u001b[1;31mZeroDivisionError\u001b[0m: division by zero"
     ]
    }
   ],
   "source": [
    "# 예외 처리 사용하기 : 발생할 수 있는 에러를 막기 위함\n",
    "def ten_div(x):\n",
    "    return 10 / x \n",
    "\n",
    "ten_div(2)\n",
    "ten_div(0)      # 예외처리를 하지 않으면 오류가 난다."
   ]
  },
  {
   "cell_type": "code",
   "execution_count": 232,
   "metadata": {},
   "outputs": [
    {
     "name": "stdout",
     "output_type": "stream",
     "text": [
      "문자를 입력하셨습니다. 숫자를 정확하게 입력해주세요.\n"
     ]
    }
   ],
   "source": [
    "# 예외 처리 사용하기 : 발생할 수 있는 에러를 막기 위함. Error의 이름을 정확히 알아야 한다.\n",
    "y = [10, 20, 30]\n",
    "try:\n",
    "    index, x = map(int,input('인덱스와 나눌 숫자를 입력하세요:').split())\n",
    "    y = y[index] / x\n",
    "    print(y)\n",
    "except ZeroDivisionError:\n",
    "    print('숫자를 0으로 나눌 수 없습니다.')\n",
    "except IndexError:\n",
    "    print('잘못된 인덱스입니다.')\n",
    "except ValueError:\n",
    "    print('문자를 입력하셨습니다. 숫자를 정확하게 입력해주세요.')\n",
    "    "
   ]
  },
  {
   "cell_type": "code",
   "execution_count": 242,
   "metadata": {},
   "outputs": [
    {
     "name": "stdout",
     "output_type": "stream",
     "text": [
      "예외 발생: invalid literal for int() with base 10: 'a'\n"
     ]
    }
   ],
   "source": [
    "# 예외의 에러 메시지 받아오기 \n",
    "y = [10, 20, 30]\n",
    "try:\n",
    "    index, x = map(int,input('인덱스와 나눌 숫자를 입력하세요:').split())\n",
    "    y = y[index] / x\n",
    "    print(y)\n",
    "except ZeroDivisionError as e:\n",
    "    print('숫자를 0으로 나눌 수 없습니다.', e)\n",
    "except IndexError as e:\n",
    "    print('잘못된 인덱스입니다.', e)\n",
    "# except ValueError as e:\n",
    "#   print('문자를 입력하셨습니다. 숫자를 정확하게 입력해주세요.',e)\n",
    "except Exception as e:          # 예상치 못한 에러에 대한 대응 \n",
    "    print('예외 발생:', e)"
   ]
  },
  {
   "cell_type": "code",
   "execution_count": 246,
   "metadata": {},
   "outputs": [
    {
     "name": "stdout",
     "output_type": "stream",
     "text": [
      "5.0\n",
      "코드 실행이 끝났습니다.\n"
     ]
    }
   ],
   "source": [
    "# 연습문제 \n",
    "try:\n",
    "    x = int(input('나눌 숫자를 입력하세요'))\n",
    "    y = 10 / x \n",
    "except ZeroDivisionError:\n",
    "    print('0으로 나눌 수 없습니다.')\n",
    "else:\n",
    "    print(y)\n",
    "finally:\n",
    "    print('코드 실행이 끝났습니다.')\n"
   ]
  },
  {
   "cell_type": "code",
   "execution_count": 247,
   "metadata": {},
   "outputs": [
    {
     "name": "stdout",
     "output_type": "stream",
     "text": [
      "예외 발생! 3의 배수가 아닙니다.\n"
     ]
    }
   ],
   "source": [
    "# 예외 발생시키기 \n",
    "try:\n",
    "    x = int(input('3의 배수를 입력하세요'))\n",
    "    if x % 3 != 0:\n",
    "        raise Exception('3의 배수가 아닙니다.')\n",
    "    print(x)\n",
    "except Exception as e:\n",
    "    print('예외 발생!', e)"
   ]
  },
  {
   "cell_type": "code",
   "execution_count": 252,
   "metadata": {},
   "outputs": [
    {
     "name": "stdout",
     "output_type": "stream",
     "text": [
      "예외 발생! 3의 배수가 아닙니다.\n"
     ]
    }
   ],
   "source": [
    "# 예외 발생시키기 \n",
    "def three_multiple():\n",
    "    x = int(input('3의 배수를 입력하세요'))\n",
    "    if x % 3 != 0:\n",
    "        raise Exception('3의 배수가 아닙니다.')\n",
    "    print(x)\n",
    "\n",
    "# three_multiple()\n",
    "\n",
    "try:\n",
    "    three_multiple()\n",
    "except Exception as e:\n",
    "    print('예외 발생!', e)"
   ]
  },
  {
   "cell_type": "code",
   "execution_count": 255,
   "metadata": {},
   "outputs": [
    {
     "name": "stdout",
     "output_type": "stream",
     "text": [
      "three_multiple 함수에서 예외 발생! 3의 배수가 아닙니다.\n",
      "예외 발생! 3의 배수가 아닙니다.\n"
     ]
    }
   ],
   "source": [
    "# 연습문제 \n",
    "def three_multiple():\n",
    "    try:\n",
    "        x = int(input('3의 배수를 입력하세요'))\n",
    "        if x % 3 != 0:\n",
    "            raise Exception('3의 배수가 아닙니다.')\n",
    "        print(x)\n",
    "    except Exception as e:\n",
    "        print('three_multiple 함수에서 예외 발생!', e)\n",
    "        raise\n",
    "\n",
    "# three_multiple()\n",
    "\n",
    "try:\n",
    "    three_multiple()\n",
    "except Exception as e:\n",
    "    print('예외 발생!', e)"
   ]
  },
  {
   "cell_type": "code",
   "execution_count": 257,
   "metadata": {},
   "outputs": [
    {
     "name": "stdout",
     "output_type": "stream",
     "text": [
      "three_multiple 함수에서 예외 발생! 3의 배수가 아닙니다.\n",
      "예외 발생! three_multiple 함수에서 예외 발생!!!\n"
     ]
    }
   ],
   "source": [
    "# 에러 이름 만들기 \n",
    "def three_multiple():\n",
    "    try:\n",
    "        x = int(input('3의 배수를 입력하세요'))\n",
    "        if x % 3 != 0:\n",
    "            raise Exception('3의 배수가 아닙니다.')\n",
    "        print(x)\n",
    "    except Exception as e:\n",
    "        print('three_multiple 함수에서 예외 발생!', e)\n",
    "        raise RuntimeError('three_multiple 함수에서 예외 발생!!!')\n",
    "\n",
    "# three_multiple()\n",
    "\n",
    "try:\n",
    "    three_multiple()\n",
    "except Exception as e:\n",
    "    print('예외 발생!', e)"
   ]
  },
  {
   "cell_type": "code",
   "execution_count": 259,
   "metadata": {},
   "outputs": [
    {
     "name": "stdout",
     "output_type": "stream",
     "text": [
      "three_multiple 함수에서 예외 발생! 3의 배수가 아닙니다.\n"
     ]
    }
   ],
   "source": [
    "# 예외 처리 클래스로 만들기 \n",
    "class NotThreeMultipleError(Exception):\n",
    "    def __init__(self):\n",
    "        super().__init__('3의 배수가 아닙니다.')\n",
    "\n",
    "def three_multiple():\n",
    "    try:\n",
    "        x = int(input('3의 배수를 입력하세요'))\n",
    "        if x % 3 != 0:\n",
    "            raise NotThreeMultipleError\n",
    "        print(x)\n",
    "    except Exception as e:\n",
    "        print('three_multiple 함수에서 예외 발생!', e)\n",
    "        \n",
    "three_multiple()"
   ]
  }
 ],
 "metadata": {
  "kernelspec": {
   "display_name": "Python 3.10.0 64-bit",
   "language": "python",
   "name": "python3"
  },
  "language_info": {
   "codemirror_mode": {
    "name": "ipython",
    "version": 3
   },
   "file_extension": ".py",
   "mimetype": "text/x-python",
   "name": "python",
   "nbconvert_exporter": "python",
   "pygments_lexer": "ipython3",
   "version": "3.10.0"
  },
  "orig_nbformat": 4,
  "vscode": {
   "interpreter": {
    "hash": "1ed1f76483e4d532c2a47a0bad31080b16a7f7d0106ba342ff005fcfacb5105f"
   }
  }
 },
 "nbformat": 4,
 "nbformat_minor": 2
}
