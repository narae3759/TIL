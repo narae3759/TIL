{
  "nbformat": 4,
  "nbformat_minor": 0,
  "metadata": {
    "colab": {
      "provenance": []
    },
    "kernelspec": {
      "name": "python3",
      "display_name": "Python 3"
    },
    "language_info": {
      "name": "python"
    },
    "accelerator": "TPU",
    "gpuClass": "standard"
  },
  "cells": [
    {
      "cell_type": "markdown",
      "source": [
        "# 자연어 처리"
      ],
      "metadata": {
        "id": "7GgBLcfvyHJX"
      }
    },
    {
      "cell_type": "code",
      "execution_count": null,
      "metadata": {
        "colab": {
          "base_uri": "https://localhost:8080/"
        },
        "id": "DwnKpr4NaVXn",
        "outputId": "b6ff139e-15cf-4ab4-d6fc-0a6f7095ce56"
      },
      "outputs": [
        {
          "output_type": "execute_result",
          "data": {
            "text/plain": [
              "[[4, 1, 5, 6],\n",
              " [7, 1, 8, 9],\n",
              " [10, 2, 3, 11],\n",
              " [12, 2, 3, 13],\n",
              " [14, 1, 15, 16],\n",
              " [17, 18, 19, 20]]"
            ]
          },
          "metadata": {},
          "execution_count": 2
        }
      ],
      "source": [
        "import tensorflow as tf\n",
        "from tensorflow.keras import layers\n",
        "from tensorflow.keras import preprocessing\n",
        "\n",
        "samples = ['너 오늘 이뻐 보인다',\n",
        "           '나는 오늘 기분이 더러워',\n",
        "           '끝내주는데, 좋은 일이 있나봐',\n",
        "           '나 좋은 일이 생겼어',\n",
        "           '아 오늘 진짜 짜증나',\n",
        "           '환상적인데, 정말 좋은거 같아']\n",
        "\n",
        "targets = [[1], [0], [1], [1], [0], [1]]          # 1: 긍정, 0: 부정\n",
        "\n",
        "# 토큰화\n",
        "tokenizer = preprocessing.text.Tokenizer()\n",
        "tokenizer.fit_on_texts(samples)                   # 문장을 학습해서 토큰화\n",
        "sequences = tokenizer.texts_to_sequences(samples) # 리스트로 반환\n",
        "sequences"
      ]
    },
    {
      "cell_type": "code",
      "source": [
        "# 리스트를 배열로 변환하기\n",
        "import numpy as np\n",
        "input_sequences = np.array(sequences)\n",
        "labels = np.array(targets)\n",
        "input_sequences, labels"
      ],
      "metadata": {
        "colab": {
          "base_uri": "https://localhost:8080/"
        },
        "id": "VBN809lpuj9w",
        "outputId": "c1eb0907-4db3-440e-a433-a57b870c6aa6"
      },
      "execution_count": null,
      "outputs": [
        {
          "output_type": "execute_result",
          "data": {
            "text/plain": [
              "(array([[ 4,  1,  5,  6],\n",
              "        [ 7,  1,  8,  9],\n",
              "        [10,  2,  3, 11],\n",
              "        [12,  2,  3, 13],\n",
              "        [14,  1, 15, 16],\n",
              "        [17, 18, 19, 20]]), array([[1],\n",
              "        [0],\n",
              "        [1],\n",
              "        [1],\n",
              "        [0],\n",
              "        [1]]))"
            ]
          },
          "metadata": {},
          "execution_count": 3
        }
      ]
    },
    {
      "cell_type": "code",
      "source": [
        "# 토큰화 작업과정 보기\n",
        "word_index = tokenizer.word_index\n",
        "word_index"
      ],
      "metadata": {
        "colab": {
          "base_uri": "https://localhost:8080/"
        },
        "id": "smNIBW7RvIa0",
        "outputId": "b3a53c7b-3a95-499f-a9fe-5713652dff42"
      },
      "execution_count": null,
      "outputs": [
        {
          "output_type": "execute_result",
          "data": {
            "text/plain": [
              "{'오늘': 1,\n",
              " '좋은': 2,\n",
              " '일이': 3,\n",
              " '너': 4,\n",
              " '이뻐': 5,\n",
              " '보인다': 6,\n",
              " '나는': 7,\n",
              " '기분이': 8,\n",
              " '더러워': 9,\n",
              " '끝내주는데': 10,\n",
              " '있나봐': 11,\n",
              " '나': 12,\n",
              " '생겼어': 13,\n",
              " '아': 14,\n",
              " '진짜': 15,\n",
              " '짜증나': 16,\n",
              " '환상적인데': 17,\n",
              " '정말': 18,\n",
              " '좋은거': 19,\n",
              " '같아': 20}"
            ]
          },
          "metadata": {},
          "execution_count": 4
        }
      ]
    },
    {
      "cell_type": "code",
      "source": [
        "# 책의 오탈자.\n",
        "# (전) 앞에서 다룬 내용이므로 전처리 과정에 대한 설명은 생략한다.\n",
        "# (후) 전처리 과정은 뒤에서 다시 다룰 예정이므로 여기서는 간단하게 넘어가도록 한다. 간단히 설명하면 텍스트를 모델에 들어갈 수 있는 구조로 만든 것이다."
      ],
      "metadata": {
        "id": "ya4pqLlewl2z"
      },
      "execution_count": null,
      "outputs": []
    },
    {
      "cell_type": "code",
      "source": [
        "# Settings\n",
        "batch_size = 2\n",
        "num_epochs = 100\n",
        "vocab_size = len(word_index) + 1            # 0을 포함해서 1을 더한다.\n",
        "emb_size = 128                              # 임베딩 수, 벡터화 하기 위함\n",
        "hidden_dimension = 256                      # 은닉층 수\n",
        "output_dimension = 1                        # 출력층"
      ],
      "metadata": {
        "id": "a6daZu2Swn4a"
      },
      "execution_count": null,
      "outputs": []
    },
    {
      "cell_type": "markdown",
      "source": [
        "## (1) Keras Sequential API (p.40)\n",
        "### Sequential API를 활용해 심층 신경망 모델 생성"
      ],
      "metadata": {
        "id": "3RKGZe_cyyFS"
      }
    },
    {
      "cell_type": "code",
      "source": [
        "# modeling 1\n",
        "model1 = tf.keras.Sequential()\n",
        "model1.add(layers.Embedding(vocab_size, emb_size, input_length = 4))     # samples에서 한 문장당 단어가 4개로 이루어져 있었다.\n",
        "model1.add(layers.Lambda(lambda x: tf.reduce_mean(x, axis = 1)))\n",
        "model1.add(layers.Dense(hidden_dimension, activation = 'relu'))\n",
        "model1.add(layers.Dense(output_dimension, activation = 'sigmoid'))\n",
        "model1.summary()"
      ],
      "metadata": {
        "id": "_qY_QDXNxNbH",
        "colab": {
          "base_uri": "https://localhost:8080/"
        },
        "outputId": "43d0cd8e-52b2-43f0-e7e8-6dc3edd961be"
      },
      "execution_count": null,
      "outputs": [
        {
          "output_type": "stream",
          "name": "stdout",
          "text": [
            "Model: \"sequential\"\n",
            "_________________________________________________________________\n",
            " Layer (type)                Output Shape              Param #   \n",
            "=================================================================\n",
            " embedding (Embedding)       (None, 4, 128)            2688      \n",
            "                                                                 \n",
            " lambda (Lambda)             (None, 128)               0         \n",
            "                                                                 \n",
            " dense (Dense)               (None, 256)               33024     \n",
            "                                                                 \n",
            " dense_1 (Dense)             (None, 1)                 257       \n",
            "                                                                 \n",
            "=================================================================\n",
            "Total params: 35,969\n",
            "Trainable params: 35,969\n",
            "Non-trainable params: 0\n",
            "_________________________________________________________________\n"
          ]
        }
      ]
    },
    {
      "cell_type": "markdown",
      "source": [
        "### 모델 컴파일"
      ],
      "metadata": {
        "id": "z1WiCFXpzsJb"
      }
    },
    {
      "cell_type": "code",
      "source": [
        "# modeling 1 (다른 표현)\n",
        "model2 = tf.keras.Sequential([\n",
        "    layers.Embedding(vocab_size, emb_size, input_length = 4),\n",
        "    layers.Lambda(lambda x: tf.reduce_mean(x, axis = 1)),\n",
        "    layers.Dense(hidden_dimension, activation = 'relu'),\n",
        "    layers.Dense(output_dimension, activation = 'sigmoid')\n",
        "])\n",
        "model2.summary()"
      ],
      "metadata": {
        "id": "WDVAzNIQy-nl",
        "colab": {
          "base_uri": "https://localhost:8080/"
        },
        "outputId": "1e650021-dedc-40ca-95cc-8114943761d9"
      },
      "execution_count": null,
      "outputs": [
        {
          "output_type": "stream",
          "name": "stdout",
          "text": [
            "Model: \"sequential_1\"\n",
            "_________________________________________________________________\n",
            " Layer (type)                Output Shape              Param #   \n",
            "=================================================================\n",
            " embedding_1 (Embedding)     (None, 4, 128)            2688      \n",
            "                                                                 \n",
            " lambda_1 (Lambda)           (None, 128)               0         \n",
            "                                                                 \n",
            " dense_2 (Dense)             (None, 256)               33024     \n",
            "                                                                 \n",
            " dense_3 (Dense)             (None, 1)                 257       \n",
            "                                                                 \n",
            "=================================================================\n",
            "Total params: 35,969\n",
            "Trainable params: 35,969\n",
            "Non-trainable params: 0\n",
            "_________________________________________________________________\n"
          ]
        }
      ]
    },
    {
      "cell_type": "code",
      "source": [
        "# model compile\n",
        "model1.compile(optimizer=tf.keras.optimizers.Adam(learning_rate=0.001),\n",
        "              loss = 'binary_crossentropy',\n",
        "              metrics = ['accuracy'])"
      ],
      "metadata": {
        "id": "XdOvaDnYxM9B"
      },
      "execution_count": null,
      "outputs": []
    },
    {
      "cell_type": "markdown",
      "source": [
        "### 모델 학습"
      ],
      "metadata": {
        "id": "56pc2fza0ELZ"
      }
    },
    {
      "cell_type": "code",
      "source": [
        "# model fit\n",
        "model1.fit(input_sequences, labels, epochs=num_epochs, batch_size=batch_size)        # 지도 학습"
      ],
      "metadata": {
        "colab": {
          "base_uri": "https://localhost:8080/"
        },
        "id": "T1fwpAxz0Dt3",
        "outputId": "b9a1beda-b534-421f-da35-20c4ff1c93a0"
      },
      "execution_count": null,
      "outputs": [
        {
          "output_type": "stream",
          "name": "stdout",
          "text": [
            "Epoch 1/100\n",
            "3/3 [==============================] - 3s 6ms/step - loss: 0.6962 - accuracy: 0.1667\n",
            "Epoch 2/100\n",
            "3/3 [==============================] - 0s 6ms/step - loss: 0.6765 - accuracy: 1.0000\n",
            "Epoch 3/100\n",
            "3/3 [==============================] - 0s 4ms/step - loss: 0.6609 - accuracy: 1.0000\n",
            "Epoch 4/100\n",
            "3/3 [==============================] - 0s 5ms/step - loss: 0.6425 - accuracy: 1.0000\n",
            "Epoch 5/100\n",
            "3/3 [==============================] - 0s 5ms/step - loss: 0.6230 - accuracy: 1.0000\n",
            "Epoch 6/100\n",
            "3/3 [==============================] - 0s 5ms/step - loss: 0.6002 - accuracy: 1.0000\n",
            "Epoch 7/100\n",
            "3/3 [==============================] - 0s 4ms/step - loss: 0.5746 - accuracy: 1.0000\n",
            "Epoch 8/100\n",
            "3/3 [==============================] - 0s 5ms/step - loss: 0.5423 - accuracy: 1.0000\n",
            "Epoch 9/100\n",
            "3/3 [==============================] - 0s 6ms/step - loss: 0.5058 - accuracy: 1.0000\n",
            "Epoch 10/100\n",
            "3/3 [==============================] - 0s 5ms/step - loss: 0.4645 - accuracy: 1.0000\n",
            "Epoch 11/100\n",
            "3/3 [==============================] - 0s 5ms/step - loss: 0.4187 - accuracy: 1.0000\n",
            "Epoch 12/100\n",
            "3/3 [==============================] - 0s 4ms/step - loss: 0.3698 - accuracy: 1.0000\n",
            "Epoch 13/100\n",
            "3/3 [==============================] - 0s 5ms/step - loss: 0.3196 - accuracy: 1.0000\n",
            "Epoch 14/100\n",
            "3/3 [==============================] - 0s 8ms/step - loss: 0.2692 - accuracy: 1.0000\n",
            "Epoch 15/100\n",
            "3/3 [==============================] - 0s 5ms/step - loss: 0.2221 - accuracy: 1.0000\n",
            "Epoch 16/100\n",
            "3/3 [==============================] - 0s 5ms/step - loss: 0.1794 - accuracy: 1.0000\n",
            "Epoch 17/100\n",
            "3/3 [==============================] - 0s 5ms/step - loss: 0.1420 - accuracy: 1.0000\n",
            "Epoch 18/100\n",
            "3/3 [==============================] - 0s 5ms/step - loss: 0.1103 - accuracy: 1.0000\n",
            "Epoch 19/100\n",
            "3/3 [==============================] - 0s 5ms/step - loss: 0.0856 - accuracy: 1.0000\n",
            "Epoch 20/100\n",
            "3/3 [==============================] - 0s 5ms/step - loss: 0.0670 - accuracy: 1.0000\n",
            "Epoch 21/100\n",
            "3/3 [==============================] - 0s 5ms/step - loss: 0.0519 - accuracy: 1.0000\n",
            "Epoch 22/100\n",
            "3/3 [==============================] - 0s 5ms/step - loss: 0.0386 - accuracy: 1.0000\n",
            "Epoch 23/100\n",
            "3/3 [==============================] - 0s 5ms/step - loss: 0.0311 - accuracy: 1.0000\n",
            "Epoch 24/100\n",
            "3/3 [==============================] - 0s 5ms/step - loss: 0.0254 - accuracy: 1.0000\n",
            "Epoch 25/100\n",
            "3/3 [==============================] - 0s 5ms/step - loss: 0.0201 - accuracy: 1.0000\n",
            "Epoch 26/100\n",
            "3/3 [==============================] - 0s 5ms/step - loss: 0.0166 - accuracy: 1.0000\n",
            "Epoch 27/100\n",
            "3/3 [==============================] - 0s 9ms/step - loss: 0.0140 - accuracy: 1.0000\n",
            "Epoch 28/100\n",
            "3/3 [==============================] - 0s 5ms/step - loss: 0.0120 - accuracy: 1.0000\n",
            "Epoch 29/100\n",
            "3/3 [==============================] - 0s 5ms/step - loss: 0.0104 - accuracy: 1.0000\n",
            "Epoch 30/100\n",
            "3/3 [==============================] - 0s 5ms/step - loss: 0.0091 - accuracy: 1.0000\n",
            "Epoch 31/100\n",
            "3/3 [==============================] - 0s 5ms/step - loss: 0.0081 - accuracy: 1.0000\n",
            "Epoch 32/100\n",
            "3/3 [==============================] - 0s 5ms/step - loss: 0.0072 - accuracy: 1.0000\n",
            "Epoch 33/100\n",
            "3/3 [==============================] - 0s 5ms/step - loss: 0.0066 - accuracy: 1.0000\n",
            "Epoch 34/100\n",
            "3/3 [==============================] - 0s 5ms/step - loss: 0.0060 - accuracy: 1.0000\n",
            "Epoch 35/100\n",
            "3/3 [==============================] - 0s 5ms/step - loss: 0.0056 - accuracy: 1.0000\n",
            "Epoch 36/100\n",
            "3/3 [==============================] - 0s 5ms/step - loss: 0.0051 - accuracy: 1.0000\n",
            "Epoch 37/100\n",
            "3/3 [==============================] - 0s 5ms/step - loss: 0.0047 - accuracy: 1.0000\n",
            "Epoch 38/100\n",
            "3/3 [==============================] - 0s 5ms/step - loss: 0.0044 - accuracy: 1.0000\n",
            "Epoch 39/100\n",
            "3/3 [==============================] - 0s 5ms/step - loss: 0.0041 - accuracy: 1.0000\n",
            "Epoch 40/100\n",
            "3/3 [==============================] - 0s 5ms/step - loss: 0.0039 - accuracy: 1.0000\n",
            "Epoch 41/100\n",
            "3/3 [==============================] - 0s 5ms/step - loss: 0.0037 - accuracy: 1.0000\n",
            "Epoch 42/100\n",
            "3/3 [==============================] - 0s 5ms/step - loss: 0.0035 - accuracy: 1.0000\n",
            "Epoch 43/100\n",
            "3/3 [==============================] - 0s 5ms/step - loss: 0.0033 - accuracy: 1.0000\n",
            "Epoch 44/100\n",
            "3/3 [==============================] - 0s 5ms/step - loss: 0.0031 - accuracy: 1.0000\n",
            "Epoch 45/100\n",
            "3/3 [==============================] - 0s 5ms/step - loss: 0.0030 - accuracy: 1.0000\n",
            "Epoch 46/100\n",
            "3/3 [==============================] - 0s 5ms/step - loss: 0.0028 - accuracy: 1.0000\n",
            "Epoch 47/100\n",
            "3/3 [==============================] - 0s 5ms/step - loss: 0.0027 - accuracy: 1.0000\n",
            "Epoch 48/100\n",
            "3/3 [==============================] - 0s 5ms/step - loss: 0.0026 - accuracy: 1.0000\n",
            "Epoch 49/100\n",
            "3/3 [==============================] - 0s 5ms/step - loss: 0.0025 - accuracy: 1.0000\n",
            "Epoch 50/100\n",
            "3/3 [==============================] - 0s 5ms/step - loss: 0.0024 - accuracy: 1.0000\n",
            "Epoch 51/100\n",
            "3/3 [==============================] - 0s 5ms/step - loss: 0.0023 - accuracy: 1.0000\n",
            "Epoch 52/100\n",
            "3/3 [==============================] - 0s 5ms/step - loss: 0.0022 - accuracy: 1.0000\n",
            "Epoch 53/100\n",
            "3/3 [==============================] - 0s 5ms/step - loss: 0.0021 - accuracy: 1.0000\n",
            "Epoch 54/100\n",
            "3/3 [==============================] - 0s 6ms/step - loss: 0.0020 - accuracy: 1.0000\n",
            "Epoch 55/100\n",
            "3/3 [==============================] - 0s 4ms/step - loss: 0.0020 - accuracy: 1.0000\n",
            "Epoch 56/100\n",
            "3/3 [==============================] - 0s 5ms/step - loss: 0.0019 - accuracy: 1.0000\n",
            "Epoch 57/100\n",
            "3/3 [==============================] - 0s 5ms/step - loss: 0.0018 - accuracy: 1.0000\n",
            "Epoch 58/100\n",
            "3/3 [==============================] - 0s 5ms/step - loss: 0.0018 - accuracy: 1.0000\n",
            "Epoch 59/100\n",
            "3/3 [==============================] - 0s 5ms/step - loss: 0.0017 - accuracy: 1.0000\n",
            "Epoch 60/100\n",
            "3/3 [==============================] - 0s 5ms/step - loss: 0.0016 - accuracy: 1.0000\n",
            "Epoch 61/100\n",
            "3/3 [==============================] - 0s 5ms/step - loss: 0.0016 - accuracy: 1.0000\n",
            "Epoch 62/100\n",
            "3/3 [==============================] - 0s 5ms/step - loss: 0.0015 - accuracy: 1.0000\n",
            "Epoch 63/100\n",
            "3/3 [==============================] - 0s 5ms/step - loss: 0.0015 - accuracy: 1.0000\n",
            "Epoch 64/100\n",
            "3/3 [==============================] - 0s 5ms/step - loss: 0.0014 - accuracy: 1.0000\n",
            "Epoch 65/100\n",
            "3/3 [==============================] - 0s 5ms/step - loss: 0.0014 - accuracy: 1.0000\n",
            "Epoch 66/100\n",
            "3/3 [==============================] - 0s 5ms/step - loss: 0.0014 - accuracy: 1.0000\n",
            "Epoch 67/100\n",
            "3/3 [==============================] - 0s 5ms/step - loss: 0.0013 - accuracy: 1.0000\n",
            "Epoch 68/100\n",
            "3/3 [==============================] - 0s 5ms/step - loss: 0.0013 - accuracy: 1.0000\n",
            "Epoch 69/100\n",
            "3/3 [==============================] - 0s 5ms/step - loss: 0.0012 - accuracy: 1.0000\n",
            "Epoch 70/100\n",
            "3/3 [==============================] - 0s 5ms/step - loss: 0.0012 - accuracy: 1.0000\n",
            "Epoch 71/100\n",
            "3/3 [==============================] - 0s 5ms/step - loss: 0.0012 - accuracy: 1.0000\n",
            "Epoch 72/100\n",
            "3/3 [==============================] - 0s 5ms/step - loss: 0.0011 - accuracy: 1.0000\n",
            "Epoch 73/100\n",
            "3/3 [==============================] - 0s 9ms/step - loss: 0.0011 - accuracy: 1.0000\n",
            "Epoch 74/100\n",
            "3/3 [==============================] - 0s 6ms/step - loss: 0.0011 - accuracy: 1.0000\n",
            "Epoch 75/100\n",
            "3/3 [==============================] - 0s 5ms/step - loss: 0.0010 - accuracy: 1.0000\n",
            "Epoch 76/100\n",
            "3/3 [==============================] - 0s 5ms/step - loss: 0.0010 - accuracy: 1.0000\n",
            "Epoch 77/100\n",
            "3/3 [==============================] - 0s 5ms/step - loss: 9.9241e-04 - accuracy: 1.0000\n",
            "Epoch 78/100\n",
            "3/3 [==============================] - 0s 5ms/step - loss: 9.6812e-04 - accuracy: 1.0000\n",
            "Epoch 79/100\n",
            "3/3 [==============================] - 0s 5ms/step - loss: 9.4318e-04 - accuracy: 1.0000\n",
            "Epoch 80/100\n",
            "3/3 [==============================] - 0s 5ms/step - loss: 9.2106e-04 - accuracy: 1.0000\n",
            "Epoch 81/100\n",
            "3/3 [==============================] - 0s 5ms/step - loss: 8.9848e-04 - accuracy: 1.0000\n",
            "Epoch 82/100\n",
            "3/3 [==============================] - 0s 5ms/step - loss: 8.7570e-04 - accuracy: 1.0000\n",
            "Epoch 83/100\n",
            "3/3 [==============================] - 0s 5ms/step - loss: 8.5460e-04 - accuracy: 1.0000\n",
            "Epoch 84/100\n",
            "3/3 [==============================] - 0s 6ms/step - loss: 8.3644e-04 - accuracy: 1.0000\n",
            "Epoch 85/100\n",
            "3/3 [==============================] - 0s 5ms/step - loss: 8.1862e-04 - accuracy: 1.0000\n",
            "Epoch 86/100\n",
            "3/3 [==============================] - 0s 5ms/step - loss: 7.9855e-04 - accuracy: 1.0000\n",
            "Epoch 87/100\n",
            "3/3 [==============================] - 0s 5ms/step - loss: 7.8051e-04 - accuracy: 1.0000\n",
            "Epoch 88/100\n",
            "3/3 [==============================] - 0s 5ms/step - loss: 7.6326e-04 - accuracy: 1.0000\n",
            "Epoch 89/100\n",
            "3/3 [==============================] - 0s 5ms/step - loss: 7.4731e-04 - accuracy: 1.0000\n",
            "Epoch 90/100\n",
            "3/3 [==============================] - 0s 5ms/step - loss: 7.2913e-04 - accuracy: 1.0000\n",
            "Epoch 91/100\n",
            "3/3 [==============================] - 0s 5ms/step - loss: 7.1312e-04 - accuracy: 1.0000\n",
            "Epoch 92/100\n",
            "3/3 [==============================] - 0s 5ms/step - loss: 6.9884e-04 - accuracy: 1.0000\n",
            "Epoch 93/100\n",
            "3/3 [==============================] - 0s 5ms/step - loss: 6.8397e-04 - accuracy: 1.0000\n",
            "Epoch 94/100\n",
            "3/3 [==============================] - 0s 5ms/step - loss: 6.7093e-04 - accuracy: 1.0000\n",
            "Epoch 95/100\n",
            "3/3 [==============================] - 0s 5ms/step - loss: 6.5718e-04 - accuracy: 1.0000\n",
            "Epoch 96/100\n",
            "3/3 [==============================] - 0s 5ms/step - loss: 6.4308e-04 - accuracy: 1.0000\n",
            "Epoch 97/100\n",
            "3/3 [==============================] - 0s 5ms/step - loss: 6.3006e-04 - accuracy: 1.0000\n",
            "Epoch 98/100\n",
            "3/3 [==============================] - 0s 5ms/step - loss: 6.1681e-04 - accuracy: 1.0000\n",
            "Epoch 99/100\n",
            "3/3 [==============================] - 0s 5ms/step - loss: 6.0566e-04 - accuracy: 1.0000\n",
            "Epoch 100/100\n",
            "3/3 [==============================] - 0s 5ms/step - loss: 5.9350e-04 - accuracy: 1.0000\n"
          ]
        },
        {
          "output_type": "execute_result",
          "data": {
            "text/plain": [
              "<keras.callbacks.History at 0x7f19445fa6d0>"
            ]
          },
          "metadata": {},
          "execution_count": 14
        }
      ]
    },
    {
      "cell_type": "code",
      "source": [
        "# predict\n",
        "model1.predict([input_sequences])"
      ],
      "metadata": {
        "colab": {
          "base_uri": "https://localhost:8080/"
        },
        "id": "j4w2olwC1Pax",
        "outputId": "f91a23dc-4520-4897-dcce-dc307939bedf"
      },
      "execution_count": null,
      "outputs": [
        {
          "output_type": "stream",
          "name": "stdout",
          "text": [
            "1/1 [==============================] - 0s 52ms/step\n"
          ]
        },
        {
          "output_type": "execute_result",
          "data": {
            "text/plain": [
              "array([[9.9906105e-01],\n",
              "       [6.9417118e-04],\n",
              "       [9.9973649e-01],\n",
              "       [9.9972683e-01],\n",
              "       [7.5124658e-04],\n",
              "       [9.9941421e-01]], dtype=float32)"
            ]
          },
          "metadata": {},
          "execution_count": 18
        }
      ]
    },
    {
      "cell_type": "markdown",
      "source": [
        "## (2) Keras Functional API로 모델 구현"
      ],
      "metadata": {
        "id": "Mpprl5AO4HTb"
      }
    },
    {
      "cell_type": "code",
      "source": [
        "# modeling 2\n",
        "inputs = layers.Input(shape = (4, ))\n",
        "\n",
        "embed_output = layers.Embedding(vocab_size, emb_size)(inputs)\n",
        "pooled_output = tf.reduce_mean(embed_output, axis = 1)\n",
        "hidden_layer = layers.Dense(hidden_dimension, activation = 'relu')(pooled_output)\n",
        "outputs = layers.Dense(output_dimension, activation = 'sigmoid')(hidden_layer)\n",
        "\n",
        "model2 = tf.keras.Model(inputs = inputs, outputs = outputs)\n",
        "model2.summary()"
      ],
      "metadata": {
        "id": "bOOfdHl42KU1",
        "colab": {
          "base_uri": "https://localhost:8080/"
        },
        "outputId": "990b705f-4f31-4aa8-f4e6-db91f51076b3"
      },
      "execution_count": null,
      "outputs": [
        {
          "output_type": "stream",
          "name": "stdout",
          "text": [
            "Model: \"model_1\"\n",
            "_________________________________________________________________\n",
            " Layer (type)                Output Shape              Param #   \n",
            "=================================================================\n",
            " input_3 (InputLayer)        [(None, 4)]               0         \n",
            "                                                                 \n",
            " embedding_6 (Embedding)     (None, 4, 128)            2688      \n",
            "                                                                 \n",
            " tf.math.reduce_mean_1 (TFOp  (None, 128)              0         \n",
            " Lambda)                                                         \n",
            "                                                                 \n",
            " dense_12 (Dense)            (None, 256)               33024     \n",
            "                                                                 \n",
            " dense_13 (Dense)            (None, 1)                 257       \n",
            "                                                                 \n",
            "=================================================================\n",
            "Total params: 35,969\n",
            "Trainable params: 35,969\n",
            "Non-trainable params: 0\n",
            "_________________________________________________________________\n"
          ]
        }
      ]
    },
    {
      "cell_type": "code",
      "source": [
        "# model compile\n",
        "model2.compile(optimizer=tf.keras.optimizers.Adam(learning_rate=0.001),\n",
        "              loss = 'binary_crossentropy',\n",
        "              metrics = ['accuracy'])"
      ],
      "metadata": {
        "id": "AF5qKGAY3_-8"
      },
      "execution_count": null,
      "outputs": []
    },
    {
      "cell_type": "code",
      "source": [
        "# model fit\n",
        "model2.fit(input_sequences, labels, epochs=num_epochs, batch_size=batch_size)        # 지도 학습"
      ],
      "metadata": {
        "colab": {
          "base_uri": "https://localhost:8080/"
        },
        "id": "1mk0PoFw4Ddi",
        "outputId": "53b7e88c-8c45-49e9-d7e3-f9355a2a37dd"
      },
      "execution_count": null,
      "outputs": [
        {
          "output_type": "stream",
          "name": "stdout",
          "text": [
            "Epoch 1/100\n",
            "3/3 [==============================] - 0s 4ms/step - loss: 0.6872 - accuracy: 0.8333\n",
            "Epoch 2/100\n",
            "3/3 [==============================] - 0s 3ms/step - loss: 0.6677 - accuracy: 1.0000\n",
            "Epoch 3/100\n",
            "3/3 [==============================] - 0s 3ms/step - loss: 0.6507 - accuracy: 1.0000\n",
            "Epoch 4/100\n",
            "3/3 [==============================] - 0s 3ms/step - loss: 0.6309 - accuracy: 1.0000\n",
            "Epoch 5/100\n",
            "3/3 [==============================] - 0s 3ms/step - loss: 0.6094 - accuracy: 1.0000\n",
            "Epoch 6/100\n",
            "3/3 [==============================] - 0s 3ms/step - loss: 0.5826 - accuracy: 1.0000\n",
            "Epoch 7/100\n",
            "3/3 [==============================] - 0s 2ms/step - loss: 0.5559 - accuracy: 1.0000\n",
            "Epoch 8/100\n",
            "3/3 [==============================] - 0s 4ms/step - loss: 0.5209 - accuracy: 1.0000\n",
            "Epoch 9/100\n",
            "3/3 [==============================] - 0s 3ms/step - loss: 0.4814 - accuracy: 1.0000\n",
            "Epoch 10/100\n",
            "3/3 [==============================] - 0s 3ms/step - loss: 0.4375 - accuracy: 1.0000\n",
            "Epoch 11/100\n",
            "3/3 [==============================] - 0s 3ms/step - loss: 0.3914 - accuracy: 1.0000\n",
            "Epoch 12/100\n",
            "3/3 [==============================] - 0s 3ms/step - loss: 0.3437 - accuracy: 1.0000\n",
            "Epoch 13/100\n",
            "3/3 [==============================] - 0s 3ms/step - loss: 0.2929 - accuracy: 1.0000\n",
            "Epoch 14/100\n",
            "3/3 [==============================] - 0s 3ms/step - loss: 0.2455 - accuracy: 1.0000\n",
            "Epoch 15/100\n",
            "3/3 [==============================] - 0s 3ms/step - loss: 0.2018 - accuracy: 1.0000\n",
            "Epoch 16/100\n",
            "3/3 [==============================] - 0s 3ms/step - loss: 0.1632 - accuracy: 1.0000\n",
            "Epoch 17/100\n",
            "3/3 [==============================] - 0s 3ms/step - loss: 0.1323 - accuracy: 1.0000\n",
            "Epoch 18/100\n",
            "3/3 [==============================] - 0s 3ms/step - loss: 0.1061 - accuracy: 1.0000\n",
            "Epoch 19/100\n",
            "3/3 [==============================] - 0s 3ms/step - loss: 0.0828 - accuracy: 1.0000\n",
            "Epoch 20/100\n",
            "3/3 [==============================] - 0s 3ms/step - loss: 0.0676 - accuracy: 1.0000\n",
            "Epoch 21/100\n",
            "3/3 [==============================] - 0s 3ms/step - loss: 0.0516 - accuracy: 1.0000\n",
            "Epoch 22/100\n",
            "3/3 [==============================] - 0s 3ms/step - loss: 0.0398 - accuracy: 1.0000\n",
            "Epoch 23/100\n",
            "3/3 [==============================] - 0s 3ms/step - loss: 0.0332 - accuracy: 1.0000\n",
            "Epoch 24/100\n",
            "3/3 [==============================] - 0s 3ms/step - loss: 0.0264 - accuracy: 1.0000\n",
            "Epoch 25/100\n",
            "3/3 [==============================] - 0s 3ms/step - loss: 0.0212 - accuracy: 1.0000\n",
            "Epoch 26/100\n",
            "3/3 [==============================] - 0s 3ms/step - loss: 0.0179 - accuracy: 1.0000\n",
            "Epoch 27/100\n",
            "3/3 [==============================] - 0s 4ms/step - loss: 0.0148 - accuracy: 1.0000\n",
            "Epoch 28/100\n",
            "3/3 [==============================] - 0s 3ms/step - loss: 0.0127 - accuracy: 1.0000\n",
            "Epoch 29/100\n",
            "3/3 [==============================] - 0s 3ms/step - loss: 0.0110 - accuracy: 1.0000\n",
            "Epoch 30/100\n",
            "3/3 [==============================] - 0s 3ms/step - loss: 0.0098 - accuracy: 1.0000\n",
            "Epoch 31/100\n",
            "3/3 [==============================] - 0s 3ms/step - loss: 0.0086 - accuracy: 1.0000\n",
            "Epoch 32/100\n",
            "3/3 [==============================] - 0s 3ms/step - loss: 0.0076 - accuracy: 1.0000\n",
            "Epoch 33/100\n",
            "3/3 [==============================] - 0s 3ms/step - loss: 0.0070 - accuracy: 1.0000\n",
            "Epoch 34/100\n",
            "3/3 [==============================] - 0s 4ms/step - loss: 0.0063 - accuracy: 1.0000\n",
            "Epoch 35/100\n",
            "3/3 [==============================] - 0s 3ms/step - loss: 0.0058 - accuracy: 1.0000\n",
            "Epoch 36/100\n",
            "3/3 [==============================] - 0s 3ms/step - loss: 0.0053 - accuracy: 1.0000\n",
            "Epoch 37/100\n",
            "3/3 [==============================] - 0s 3ms/step - loss: 0.0050 - accuracy: 1.0000\n",
            "Epoch 38/100\n",
            "3/3 [==============================] - 0s 3ms/step - loss: 0.0046 - accuracy: 1.0000\n",
            "Epoch 39/100\n",
            "3/3 [==============================] - 0s 3ms/step - loss: 0.0043 - accuracy: 1.0000\n",
            "Epoch 40/100\n",
            "3/3 [==============================] - 0s 3ms/step - loss: 0.0041 - accuracy: 1.0000\n",
            "Epoch 41/100\n",
            "3/3 [==============================] - 0s 3ms/step - loss: 0.0038 - accuracy: 1.0000\n",
            "Epoch 42/100\n",
            "3/3 [==============================] - 0s 3ms/step - loss: 0.0036 - accuracy: 1.0000\n",
            "Epoch 43/100\n",
            "3/3 [==============================] - 0s 3ms/step - loss: 0.0034 - accuracy: 1.0000\n",
            "Epoch 44/100\n",
            "3/3 [==============================] - 0s 3ms/step - loss: 0.0032 - accuracy: 1.0000\n",
            "Epoch 45/100\n",
            "3/3 [==============================] - 0s 4ms/step - loss: 0.0031 - accuracy: 1.0000\n",
            "Epoch 46/100\n",
            "3/3 [==============================] - 0s 3ms/step - loss: 0.0029 - accuracy: 1.0000\n",
            "Epoch 47/100\n",
            "3/3 [==============================] - 0s 3ms/step - loss: 0.0028 - accuracy: 1.0000\n",
            "Epoch 48/100\n",
            "3/3 [==============================] - 0s 3ms/step - loss: 0.0026 - accuracy: 1.0000\n",
            "Epoch 49/100\n",
            "3/3 [==============================] - 0s 3ms/step - loss: 0.0025 - accuracy: 1.0000\n",
            "Epoch 50/100\n",
            "3/3 [==============================] - 0s 3ms/step - loss: 0.0024 - accuracy: 1.0000\n",
            "Epoch 51/100\n",
            "3/3 [==============================] - 0s 3ms/step - loss: 0.0023 - accuracy: 1.0000\n",
            "Epoch 52/100\n",
            "3/3 [==============================] - 0s 3ms/step - loss: 0.0022 - accuracy: 1.0000\n",
            "Epoch 53/100\n",
            "3/3 [==============================] - 0s 3ms/step - loss: 0.0021 - accuracy: 1.0000\n",
            "Epoch 54/100\n",
            "3/3 [==============================] - 0s 3ms/step - loss: 0.0020 - accuracy: 1.0000\n",
            "Epoch 55/100\n",
            "3/3 [==============================] - 0s 3ms/step - loss: 0.0020 - accuracy: 1.0000\n",
            "Epoch 56/100\n",
            "3/3 [==============================] - 0s 3ms/step - loss: 0.0019 - accuracy: 1.0000\n",
            "Epoch 57/100\n",
            "3/3 [==============================] - 0s 3ms/step - loss: 0.0018 - accuracy: 1.0000\n",
            "Epoch 58/100\n",
            "3/3 [==============================] - 0s 3ms/step - loss: 0.0017 - accuracy: 1.0000\n",
            "Epoch 59/100\n",
            "3/3 [==============================] - 0s 3ms/step - loss: 0.0017 - accuracy: 1.0000\n",
            "Epoch 60/100\n",
            "3/3 [==============================] - 0s 3ms/step - loss: 0.0016 - accuracy: 1.0000\n",
            "Epoch 61/100\n",
            "3/3 [==============================] - 0s 3ms/step - loss: 0.0016 - accuracy: 1.0000\n",
            "Epoch 62/100\n",
            "3/3 [==============================] - 0s 3ms/step - loss: 0.0015 - accuracy: 1.0000\n",
            "Epoch 63/100\n",
            "3/3 [==============================] - 0s 3ms/step - loss: 0.0015 - accuracy: 1.0000\n",
            "Epoch 64/100\n",
            "3/3 [==============================] - 0s 3ms/step - loss: 0.0014 - accuracy: 1.0000\n",
            "Epoch 65/100\n",
            "3/3 [==============================] - 0s 3ms/step - loss: 0.0014 - accuracy: 1.0000\n",
            "Epoch 66/100\n",
            "3/3 [==============================] - 0s 3ms/step - loss: 0.0013 - accuracy: 1.0000\n",
            "Epoch 67/100\n",
            "3/3 [==============================] - 0s 3ms/step - loss: 0.0013 - accuracy: 1.0000\n",
            "Epoch 68/100\n",
            "3/3 [==============================] - 0s 3ms/step - loss: 0.0012 - accuracy: 1.0000\n",
            "Epoch 69/100\n",
            "3/3 [==============================] - 0s 3ms/step - loss: 0.0012 - accuracy: 1.0000\n",
            "Epoch 70/100\n",
            "3/3 [==============================] - 0s 3ms/step - loss: 0.0012 - accuracy: 1.0000\n",
            "Epoch 71/100\n",
            "3/3 [==============================] - 0s 3ms/step - loss: 0.0011 - accuracy: 1.0000\n",
            "Epoch 72/100\n",
            "3/3 [==============================] - 0s 3ms/step - loss: 0.0011 - accuracy: 1.0000\n",
            "Epoch 73/100\n",
            "3/3 [==============================] - 0s 3ms/step - loss: 0.0011 - accuracy: 1.0000\n",
            "Epoch 74/100\n",
            "3/3 [==============================] - 0s 3ms/step - loss: 0.0010 - accuracy: 1.0000\n",
            "Epoch 75/100\n",
            "3/3 [==============================] - 0s 3ms/step - loss: 0.0010 - accuracy: 1.0000\n",
            "Epoch 76/100\n",
            "3/3 [==============================] - 0s 3ms/step - loss: 9.8764e-04 - accuracy: 1.0000\n",
            "Epoch 77/100\n",
            "3/3 [==============================] - 0s 3ms/step - loss: 9.6332e-04 - accuracy: 1.0000\n",
            "Epoch 78/100\n",
            "3/3 [==============================] - 0s 3ms/step - loss: 9.3278e-04 - accuracy: 1.0000\n",
            "Epoch 79/100\n",
            "3/3 [==============================] - 0s 3ms/step - loss: 9.1183e-04 - accuracy: 1.0000\n",
            "Epoch 80/100\n",
            "3/3 [==============================] - 0s 3ms/step - loss: 8.8759e-04 - accuracy: 1.0000\n",
            "Epoch 81/100\n",
            "3/3 [==============================] - 0s 3ms/step - loss: 8.6127e-04 - accuracy: 1.0000\n",
            "Epoch 82/100\n",
            "3/3 [==============================] - 0s 3ms/step - loss: 8.4303e-04 - accuracy: 1.0000\n",
            "Epoch 83/100\n",
            "3/3 [==============================] - 0s 3ms/step - loss: 8.2250e-04 - accuracy: 1.0000\n",
            "Epoch 84/100\n",
            "3/3 [==============================] - 0s 3ms/step - loss: 7.9891e-04 - accuracy: 1.0000\n",
            "Epoch 85/100\n",
            "3/3 [==============================] - 0s 2ms/step - loss: 7.8102e-04 - accuracy: 1.0000\n",
            "Epoch 86/100\n",
            "3/3 [==============================] - 0s 3ms/step - loss: 7.6274e-04 - accuracy: 1.0000\n",
            "Epoch 87/100\n",
            "3/3 [==============================] - 0s 3ms/step - loss: 7.4398e-04 - accuracy: 1.0000\n",
            "Epoch 88/100\n",
            "3/3 [==============================] - 0s 3ms/step - loss: 7.2644e-04 - accuracy: 1.0000\n",
            "Epoch 89/100\n",
            "3/3 [==============================] - 0s 4ms/step - loss: 7.0970e-04 - accuracy: 1.0000\n",
            "Epoch 90/100\n",
            "3/3 [==============================] - 0s 4ms/step - loss: 6.9428e-04 - accuracy: 1.0000\n",
            "Epoch 91/100\n",
            "3/3 [==============================] - 0s 3ms/step - loss: 6.7630e-04 - accuracy: 1.0000\n",
            "Epoch 92/100\n",
            "3/3 [==============================] - 0s 3ms/step - loss: 6.6340e-04 - accuracy: 1.0000\n",
            "Epoch 93/100\n",
            "3/3 [==============================] - 0s 5ms/step - loss: 6.4767e-04 - accuracy: 1.0000\n",
            "Epoch 94/100\n",
            "3/3 [==============================] - 0s 3ms/step - loss: 6.3371e-04 - accuracy: 1.0000\n",
            "Epoch 95/100\n",
            "3/3 [==============================] - 0s 3ms/step - loss: 6.2071e-04 - accuracy: 1.0000\n",
            "Epoch 96/100\n",
            "3/3 [==============================] - 0s 3ms/step - loss: 6.0605e-04 - accuracy: 1.0000\n",
            "Epoch 97/100\n",
            "3/3 [==============================] - 0s 3ms/step - loss: 5.9463e-04 - accuracy: 1.0000\n",
            "Epoch 98/100\n",
            "3/3 [==============================] - 0s 4ms/step - loss: 5.8119e-04 - accuracy: 1.0000\n",
            "Epoch 99/100\n",
            "3/3 [==============================] - 0s 3ms/step - loss: 5.6800e-04 - accuracy: 1.0000\n",
            "Epoch 100/100\n",
            "3/3 [==============================] - 0s 3ms/step - loss: 5.5620e-04 - accuracy: 1.0000\n"
          ]
        },
        {
          "output_type": "execute_result",
          "data": {
            "text/plain": [
              "<keras.callbacks.History at 0x7f31c9646e10>"
            ]
          },
          "metadata": {},
          "execution_count": 28
        }
      ]
    },
    {
      "cell_type": "code",
      "source": [
        "# predict\n",
        "model2.predict([input_sequences])"
      ],
      "metadata": {
        "colab": {
          "base_uri": "https://localhost:8080/"
        },
        "id": "fYreEnRQ4GVp",
        "outputId": "1f4e5d5a-0e67-426c-9e6e-57fb9c5db6e8"
      },
      "execution_count": null,
      "outputs": [
        {
          "output_type": "stream",
          "name": "stdout",
          "text": [
            "1/1 [==============================] - 0s 47ms/step\n"
          ]
        },
        {
          "output_type": "execute_result",
          "data": {
            "text/plain": [
              "array([[9.9917138e-01],\n",
              "       [7.6435902e-04],\n",
              "       [9.9970919e-01],\n",
              "       [9.9975199e-01],\n",
              "       [7.1718614e-04],\n",
              "       [9.9955386e-01]], dtype=float32)"
            ]
          },
          "metadata": {},
          "execution_count": 29
        }
      ]
    },
    {
      "cell_type": "markdown",
      "source": [
        "## (3) Subclass로 구현"
      ],
      "metadata": {
        "id": "G_jmBL4P4WJ_"
      }
    },
    {
      "cell_type": "code",
      "source": [
        "# modeling 3\n",
        "class CustomModel(tf.keras.Model):\n",
        "\n",
        "    def __init__(self, vocab_size, embed_dimension, hidden_dimension, output_dimension):\n",
        "        super(CustomModel, self).__init__(name='my_model')\n",
        "        self.embedding = layers.Embedding(vocab_size, embed_dimension)\n",
        "        self.dense_layer = layers.Dense(hidden_dimension, activation = 'relu')\n",
        "        self.output_layer = layers.Dense(output_dimension, activation = 'sigmoid')\n",
        "\n",
        "    def call(self, inputs):\n",
        "        x = self.embedding(inputs)\n",
        "        x = tf.reduce_mean(x, axis = 1)\n",
        "        x = self.dense_layer(x)\n",
        "        x = self.output_layer(x)\n",
        "\n",
        "        return x\n",
        "\n",
        "model3 = CustomModel(vocab_size = vocab_size,\n",
        "                     embed_dimension = emb_size,\n",
        "                     hidden_dimension = hidden_dimension,\n",
        "                     output_dimension = output_dimension)"
      ],
      "metadata": {
        "id": "E1AAy62G4McO"
      },
      "execution_count": null,
      "outputs": []
    },
    {
      "cell_type": "code",
      "source": [
        "model3.call(inputs)"
      ],
      "metadata": {
        "colab": {
          "base_uri": "https://localhost:8080/"
        },
        "id": "2Z5hoScf_bEN",
        "outputId": "da028dec-31ae-4f3f-aa4e-23a92b63d17a"
      },
      "execution_count": null,
      "outputs": [
        {
          "output_type": "execute_result",
          "data": {
            "text/plain": [
              "<KerasTensor: shape=(None, 1) dtype=float32 (created by layer 'dense_29')>"
            ]
          },
          "metadata": {},
          "execution_count": 52
        }
      ]
    },
    {
      "cell_type": "code",
      "source": [
        "model3.compile(optimizer = tf.keras.optimizers.Adam(learning_rate=0.001),\n",
        "               loss = 'binary_crossentropy',\n",
        "               metrics = ['accuracy'])"
      ],
      "metadata": {
        "id": "eLEW59i57emX"
      },
      "execution_count": null,
      "outputs": []
    },
    {
      "cell_type": "code",
      "source": [
        "model3.fit(input_sequences, labels, epochs=num_epochs, batch_size = batch_size)"
      ],
      "metadata": {
        "colab": {
          "base_uri": "https://localhost:8080/"
        },
        "id": "8ar5X_P47wJ3",
        "outputId": "6d6e36c2-53e1-4b8c-df36-054baccbeccc"
      },
      "execution_count": null,
      "outputs": [
        {
          "output_type": "stream",
          "name": "stdout",
          "text": [
            "Epoch 1/100\n",
            "3/3 [==============================] - 0s 3ms/step - loss: 0.6919 - accuracy: 0.5000\n",
            "Epoch 2/100\n",
            "3/3 [==============================] - 0s 3ms/step - loss: 0.6730 - accuracy: 1.0000\n",
            "Epoch 3/100\n",
            "3/3 [==============================] - 0s 3ms/step - loss: 0.6585 - accuracy: 1.0000\n",
            "Epoch 4/100\n",
            "3/3 [==============================] - 0s 3ms/step - loss: 0.6427 - accuracy: 1.0000\n",
            "Epoch 5/100\n",
            "3/3 [==============================] - 0s 4ms/step - loss: 0.6251 - accuracy: 1.0000\n",
            "Epoch 6/100\n",
            "3/3 [==============================] - 0s 3ms/step - loss: 0.6038 - accuracy: 1.0000\n",
            "Epoch 7/100\n",
            "3/3 [==============================] - 0s 3ms/step - loss: 0.5792 - accuracy: 1.0000\n",
            "Epoch 8/100\n",
            "3/3 [==============================] - 0s 3ms/step - loss: 0.5494 - accuracy: 1.0000\n",
            "Epoch 9/100\n",
            "3/3 [==============================] - 0s 3ms/step - loss: 0.5145 - accuracy: 1.0000\n",
            "Epoch 10/100\n",
            "3/3 [==============================] - 0s 4ms/step - loss: 0.4777 - accuracy: 1.0000\n",
            "Epoch 11/100\n",
            "3/3 [==============================] - 0s 3ms/step - loss: 0.4359 - accuracy: 1.0000\n",
            "Epoch 12/100\n",
            "3/3 [==============================] - 0s 3ms/step - loss: 0.3907 - accuracy: 1.0000\n",
            "Epoch 13/100\n",
            "3/3 [==============================] - 0s 3ms/step - loss: 0.3457 - accuracy: 1.0000\n",
            "Epoch 14/100\n",
            "3/3 [==============================] - 0s 3ms/step - loss: 0.2969 - accuracy: 1.0000\n",
            "Epoch 15/100\n",
            "3/3 [==============================] - 0s 3ms/step - loss: 0.2502 - accuracy: 1.0000\n",
            "Epoch 16/100\n",
            "3/3 [==============================] - 0s 3ms/step - loss: 0.2086 - accuracy: 1.0000\n",
            "Epoch 17/100\n",
            "3/3 [==============================] - 0s 3ms/step - loss: 0.1712 - accuracy: 1.0000\n",
            "Epoch 18/100\n",
            "3/3 [==============================] - 0s 3ms/step - loss: 0.1382 - accuracy: 1.0000\n",
            "Epoch 19/100\n",
            "3/3 [==============================] - 0s 3ms/step - loss: 0.1091 - accuracy: 1.0000\n",
            "Epoch 20/100\n",
            "3/3 [==============================] - 0s 3ms/step - loss: 0.0854 - accuracy: 1.0000\n",
            "Epoch 21/100\n",
            "3/3 [==============================] - 0s 4ms/step - loss: 0.0688 - accuracy: 1.0000\n",
            "Epoch 22/100\n",
            "3/3 [==============================] - 0s 3ms/step - loss: 0.0536 - accuracy: 1.0000\n",
            "Epoch 23/100\n",
            "3/3 [==============================] - 0s 3ms/step - loss: 0.0413 - accuracy: 1.0000\n",
            "Epoch 24/100\n",
            "3/3 [==============================] - 0s 3ms/step - loss: 0.0319 - accuracy: 1.0000\n",
            "Epoch 25/100\n",
            "3/3 [==============================] - 0s 2ms/step - loss: 0.0259 - accuracy: 1.0000\n",
            "Epoch 26/100\n",
            "3/3 [==============================] - 0s 3ms/step - loss: 0.0219 - accuracy: 1.0000\n",
            "Epoch 27/100\n",
            "3/3 [==============================] - 0s 3ms/step - loss: 0.0178 - accuracy: 1.0000\n",
            "Epoch 28/100\n",
            "3/3 [==============================] - 0s 3ms/step - loss: 0.0153 - accuracy: 1.0000\n",
            "Epoch 29/100\n",
            "3/3 [==============================] - 0s 3ms/step - loss: 0.0126 - accuracy: 1.0000\n",
            "Epoch 30/100\n",
            "3/3 [==============================] - 0s 2ms/step - loss: 0.0110 - accuracy: 1.0000\n",
            "Epoch 31/100\n",
            "3/3 [==============================] - 0s 3ms/step - loss: 0.0096 - accuracy: 1.0000\n",
            "Epoch 32/100\n",
            "3/3 [==============================] - 0s 3ms/step - loss: 0.0084 - accuracy: 1.0000\n",
            "Epoch 33/100\n",
            "3/3 [==============================] - 0s 3ms/step - loss: 0.0074 - accuracy: 1.0000\n",
            "Epoch 34/100\n",
            "3/3 [==============================] - 0s 3ms/step - loss: 0.0068 - accuracy: 1.0000\n",
            "Epoch 35/100\n",
            "3/3 [==============================] - 0s 3ms/step - loss: 0.0062 - accuracy: 1.0000\n",
            "Epoch 36/100\n",
            "3/3 [==============================] - 0s 3ms/step - loss: 0.0057 - accuracy: 1.0000\n",
            "Epoch 37/100\n",
            "3/3 [==============================] - 0s 3ms/step - loss: 0.0052 - accuracy: 1.0000\n",
            "Epoch 38/100\n",
            "3/3 [==============================] - 0s 3ms/step - loss: 0.0049 - accuracy: 1.0000\n",
            "Epoch 39/100\n",
            "3/3 [==============================] - 0s 4ms/step - loss: 0.0045 - accuracy: 1.0000\n",
            "Epoch 40/100\n",
            "3/3 [==============================] - 0s 3ms/step - loss: 0.0043 - accuracy: 1.0000\n",
            "Epoch 41/100\n",
            "3/3 [==============================] - 0s 4ms/step - loss: 0.0040 - accuracy: 1.0000\n",
            "Epoch 42/100\n",
            "3/3 [==============================] - 0s 5ms/step - loss: 0.0037 - accuracy: 1.0000\n",
            "Epoch 43/100\n",
            "3/3 [==============================] - 0s 4ms/step - loss: 0.0035 - accuracy: 1.0000\n",
            "Epoch 44/100\n",
            "3/3 [==============================] - 0s 3ms/step - loss: 0.0034 - accuracy: 1.0000\n",
            "Epoch 45/100\n",
            "3/3 [==============================] - 0s 3ms/step - loss: 0.0032 - accuracy: 1.0000\n",
            "Epoch 46/100\n",
            "3/3 [==============================] - 0s 3ms/step - loss: 0.0030 - accuracy: 1.0000\n",
            "Epoch 47/100\n",
            "3/3 [==============================] - 0s 3ms/step - loss: 0.0029 - accuracy: 1.0000\n",
            "Epoch 48/100\n",
            "3/3 [==============================] - 0s 3ms/step - loss: 0.0028 - accuracy: 1.0000\n",
            "Epoch 49/100\n",
            "3/3 [==============================] - 0s 3ms/step - loss: 0.0026 - accuracy: 1.0000\n",
            "Epoch 50/100\n",
            "3/3 [==============================] - 0s 3ms/step - loss: 0.0025 - accuracy: 1.0000\n",
            "Epoch 51/100\n",
            "3/3 [==============================] - 0s 4ms/step - loss: 0.0024 - accuracy: 1.0000\n",
            "Epoch 52/100\n",
            "3/3 [==============================] - 0s 3ms/step - loss: 0.0023 - accuracy: 1.0000\n",
            "Epoch 53/100\n",
            "3/3 [==============================] - 0s 4ms/step - loss: 0.0022 - accuracy: 1.0000\n",
            "Epoch 54/100\n",
            "3/3 [==============================] - 0s 6ms/step - loss: 0.0021 - accuracy: 1.0000\n",
            "Epoch 55/100\n",
            "3/3 [==============================] - 0s 3ms/step - loss: 0.0021 - accuracy: 1.0000\n",
            "Epoch 56/100\n",
            "3/3 [==============================] - 0s 5ms/step - loss: 0.0020 - accuracy: 1.0000\n",
            "Epoch 57/100\n",
            "3/3 [==============================] - 0s 3ms/step - loss: 0.0019 - accuracy: 1.0000\n",
            "Epoch 58/100\n",
            "3/3 [==============================] - 0s 4ms/step - loss: 0.0018 - accuracy: 1.0000\n",
            "Epoch 59/100\n",
            "3/3 [==============================] - 0s 3ms/step - loss: 0.0018 - accuracy: 1.0000\n",
            "Epoch 60/100\n",
            "3/3 [==============================] - 0s 3ms/step - loss: 0.0017 - accuracy: 1.0000\n",
            "Epoch 61/100\n",
            "3/3 [==============================] - 0s 4ms/step - loss: 0.0017 - accuracy: 1.0000\n",
            "Epoch 62/100\n",
            "3/3 [==============================] - 0s 3ms/step - loss: 0.0016 - accuracy: 1.0000\n",
            "Epoch 63/100\n",
            "3/3 [==============================] - 0s 3ms/step - loss: 0.0015 - accuracy: 1.0000\n",
            "Epoch 64/100\n",
            "3/3 [==============================] - 0s 3ms/step - loss: 0.0015 - accuracy: 1.0000\n",
            "Epoch 65/100\n",
            "3/3 [==============================] - 0s 4ms/step - loss: 0.0015 - accuracy: 1.0000\n",
            "Epoch 66/100\n",
            "3/3 [==============================] - 0s 3ms/step - loss: 0.0014 - accuracy: 1.0000\n",
            "Epoch 67/100\n",
            "3/3 [==============================] - 0s 3ms/step - loss: 0.0014 - accuracy: 1.0000\n",
            "Epoch 68/100\n",
            "3/3 [==============================] - 0s 3ms/step - loss: 0.0013 - accuracy: 1.0000\n",
            "Epoch 69/100\n",
            "3/3 [==============================] - 0s 3ms/step - loss: 0.0013 - accuracy: 1.0000\n",
            "Epoch 70/100\n",
            "3/3 [==============================] - 0s 3ms/step - loss: 0.0012 - accuracy: 1.0000\n",
            "Epoch 71/100\n",
            "3/3 [==============================] - 0s 3ms/step - loss: 0.0012 - accuracy: 1.0000\n",
            "Epoch 72/100\n",
            "3/3 [==============================] - 0s 4ms/step - loss: 0.0012 - accuracy: 1.0000\n",
            "Epoch 73/100\n",
            "3/3 [==============================] - 0s 4ms/step - loss: 0.0011 - accuracy: 1.0000\n",
            "Epoch 74/100\n",
            "3/3 [==============================] - 0s 3ms/step - loss: 0.0011 - accuracy: 1.0000\n",
            "Epoch 75/100\n",
            "3/3 [==============================] - 0s 3ms/step - loss: 0.0011 - accuracy: 1.0000\n",
            "Epoch 76/100\n",
            "3/3 [==============================] - 0s 3ms/step - loss: 0.0011 - accuracy: 1.0000\n",
            "Epoch 77/100\n",
            "3/3 [==============================] - 0s 3ms/step - loss: 0.0010 - accuracy: 1.0000\n",
            "Epoch 78/100\n",
            "3/3 [==============================] - 0s 3ms/step - loss: 0.0010 - accuracy: 1.0000\n",
            "Epoch 79/100\n",
            "3/3 [==============================] - 0s 3ms/step - loss: 9.7847e-04 - accuracy: 1.0000\n",
            "Epoch 80/100\n",
            "3/3 [==============================] - 0s 3ms/step - loss: 9.5262e-04 - accuracy: 1.0000\n",
            "Epoch 81/100\n",
            "3/3 [==============================] - 0s 4ms/step - loss: 9.2820e-04 - accuracy: 1.0000\n",
            "Epoch 82/100\n",
            "3/3 [==============================] - 0s 4ms/step - loss: 9.0765e-04 - accuracy: 1.0000\n",
            "Epoch 83/100\n",
            "3/3 [==============================] - 0s 3ms/step - loss: 8.8624e-04 - accuracy: 1.0000\n",
            "Epoch 84/100\n",
            "3/3 [==============================] - 0s 4ms/step - loss: 8.6394e-04 - accuracy: 1.0000\n",
            "Epoch 85/100\n",
            "3/3 [==============================] - 0s 4ms/step - loss: 8.4397e-04 - accuracy: 1.0000\n",
            "Epoch 86/100\n",
            "3/3 [==============================] - 0s 3ms/step - loss: 8.2453e-04 - accuracy: 1.0000\n",
            "Epoch 87/100\n",
            "3/3 [==============================] - 0s 3ms/step - loss: 8.0504e-04 - accuracy: 1.0000\n",
            "Epoch 88/100\n",
            "3/3 [==============================] - 0s 3ms/step - loss: 7.8757e-04 - accuracy: 1.0000\n",
            "Epoch 89/100\n",
            "3/3 [==============================] - 0s 3ms/step - loss: 7.7015e-04 - accuracy: 1.0000\n",
            "Epoch 90/100\n",
            "3/3 [==============================] - 0s 3ms/step - loss: 7.5271e-04 - accuracy: 1.0000\n",
            "Epoch 91/100\n",
            "3/3 [==============================] - 0s 3ms/step - loss: 7.3645e-04 - accuracy: 1.0000\n",
            "Epoch 92/100\n",
            "3/3 [==============================] - 0s 3ms/step - loss: 7.2216e-04 - accuracy: 1.0000\n",
            "Epoch 93/100\n",
            "3/3 [==============================] - 0s 3ms/step - loss: 7.0549e-04 - accuracy: 1.0000\n",
            "Epoch 94/100\n",
            "3/3 [==============================] - 0s 3ms/step - loss: 6.9100e-04 - accuracy: 1.0000\n",
            "Epoch 95/100\n",
            "3/3 [==============================] - 0s 3ms/step - loss: 6.7690e-04 - accuracy: 1.0000\n",
            "Epoch 96/100\n",
            "3/3 [==============================] - 0s 3ms/step - loss: 6.6312e-04 - accuracy: 1.0000\n",
            "Epoch 97/100\n",
            "3/3 [==============================] - 0s 3ms/step - loss: 6.4947e-04 - accuracy: 1.0000\n",
            "Epoch 98/100\n",
            "3/3 [==============================] - 0s 3ms/step - loss: 6.3400e-04 - accuracy: 1.0000\n",
            "Epoch 99/100\n",
            "3/3 [==============================] - 0s 3ms/step - loss: 6.2291e-04 - accuracy: 1.0000\n",
            "Epoch 100/100\n",
            "3/3 [==============================] - 0s 3ms/step - loss: 6.0960e-04 - accuracy: 1.0000\n"
          ]
        },
        {
          "output_type": "execute_result",
          "data": {
            "text/plain": [
              "<keras.callbacks.History at 0x7f31c88e7f10>"
            ]
          },
          "metadata": {},
          "execution_count": 55
        }
      ]
    },
    {
      "cell_type": "code",
      "source": [
        "model3.summary()"
      ],
      "metadata": {
        "colab": {
          "base_uri": "https://localhost:8080/"
        },
        "id": "-Nax5qvo-LOK",
        "outputId": "b26ef37f-d036-40a6-f553-54102cc094c0"
      },
      "execution_count": null,
      "outputs": [
        {
          "output_type": "stream",
          "name": "stdout",
          "text": [
            "Model: \"my_model\"\n",
            "_________________________________________________________________\n",
            " Layer (type)                Output Shape              Param #   \n",
            "=================================================================\n",
            " embedding_14 (Embedding)    (None, 4, 128)            2688      \n",
            "                                                                 \n",
            " dense_28 (Dense)            (None, 256)               33024     \n",
            "                                                                 \n",
            " dense_29 (Dense)            (None, 1)                 257       \n",
            "                                                                 \n",
            "=================================================================\n",
            "Total params: 35,969\n",
            "Trainable params: 35,969\n",
            "Non-trainable params: 0\n",
            "_________________________________________________________________\n"
          ]
        }
      ]
    },
    {
      "cell_type": "markdown",
      "source": [
        "# 싸이킷런"
      ],
      "metadata": {
        "id": "BrtXn_p2CUup"
      }
    },
    {
      "cell_type": "code",
      "source": [
        "import sklearn\n",
        "sklearn.__version__"
      ],
      "metadata": {
        "colab": {
          "base_uri": "https://localhost:8080/",
          "height": 35
        },
        "id": "80_nQmhwCXLb",
        "outputId": "e5a808ba-7330-4937-d9f7-429e0fd91b29"
      },
      "execution_count": null,
      "outputs": [
        {
          "output_type": "execute_result",
          "data": {
            "text/plain": [
              "'1.0.2'"
            ],
            "application/vnd.google.colaboratory.intrinsic+json": {
              "type": "string"
            }
          },
          "metadata": {},
          "execution_count": 59
        }
      ]
    },
    {
      "cell_type": "markdown",
      "source": [
        "## Iris 데이터"
      ],
      "metadata": {
        "id": "uD_c6cZyDdvR"
      }
    },
    {
      "cell_type": "code",
      "source": [
        "from sklearn.datasets import load_iris\n",
        "\n",
        "iris_data = load_iris()\n",
        "iris_data.keys()"
      ],
      "metadata": {
        "colab": {
          "base_uri": "https://localhost:8080/"
        },
        "id": "tLflqsSJCmzt",
        "outputId": "69f428f8-1777-499f-8fb4-187314cd2d80"
      },
      "execution_count": null,
      "outputs": [
        {
          "output_type": "execute_result",
          "data": {
            "text/plain": [
              "dict_keys(['data', 'target', 'frame', 'target_names', 'DESCR', 'feature_names', 'filename', 'data_module'])"
            ]
          },
          "metadata": {},
          "execution_count": 62
        }
      ]
    },
    {
      "cell_type": "code",
      "source": [
        "# print(iris_data['data'])\n",
        "print('shape of data: {}'.format(iris_data['data'].shape))"
      ],
      "metadata": {
        "colab": {
          "base_uri": "https://localhost:8080/"
        },
        "id": "gN3az9OUC4cC",
        "outputId": "bf32abb4-4bdc-4450-908a-9433e3ea1fc1"
      },
      "execution_count": null,
      "outputs": [
        {
          "output_type": "stream",
          "name": "stdout",
          "text": [
            "shape of data: (150, 4)\n"
          ]
        }
      ]
    },
    {
      "cell_type": "code",
      "source": [
        "print(iris_data['feature_names'])"
      ],
      "metadata": {
        "colab": {
          "base_uri": "https://localhost:8080/"
        },
        "id": "q85Y5BQLDMmO",
        "outputId": "881fcca2-bf48-4037-b33e-766127b4c883"
      },
      "execution_count": null,
      "outputs": [
        {
          "output_type": "stream",
          "name": "stdout",
          "text": [
            "['sepal length (cm)', 'sepal width (cm)', 'petal length (cm)', 'petal width (cm)']\n"
          ]
        }
      ]
    },
    {
      "cell_type": "code",
      "source": [
        "print(iris_data['target_names'])"
      ],
      "metadata": {
        "colab": {
          "base_uri": "https://localhost:8080/"
        },
        "id": "x532y2NPDWR9",
        "outputId": "58f08340-a63b-48c7-9f9f-6b435365aa76"
      },
      "execution_count": null,
      "outputs": [
        {
          "output_type": "stream",
          "name": "stdout",
          "text": [
            "['setosa' 'versicolor' 'virginica']\n"
          ]
        }
      ]
    },
    {
      "cell_type": "code",
      "source": [
        "# description\n",
        "print(iris_data['DESCR'])"
      ],
      "metadata": {
        "colab": {
          "base_uri": "https://localhost:8080/"
        },
        "id": "VqWY0T2rDgFR",
        "outputId": "e793758a-6f49-4dea-e89f-1446db983e79"
      },
      "execution_count": null,
      "outputs": [
        {
          "output_type": "stream",
          "name": "stdout",
          "text": [
            ".. _iris_dataset:\n",
            "\n",
            "Iris plants dataset\n",
            "--------------------\n",
            "\n",
            "**Data Set Characteristics:**\n",
            "\n",
            "    :Number of Instances: 150 (50 in each of three classes)\n",
            "    :Number of Attributes: 4 numeric, predictive attributes and the class\n",
            "    :Attribute Information:\n",
            "        - sepal length in cm\n",
            "        - sepal width in cm\n",
            "        - petal length in cm\n",
            "        - petal width in cm\n",
            "        - class:\n",
            "                - Iris-Setosa\n",
            "                - Iris-Versicolour\n",
            "                - Iris-Virginica\n",
            "                \n",
            "    :Summary Statistics:\n",
            "\n",
            "    ============== ==== ==== ======= ===== ====================\n",
            "                    Min  Max   Mean    SD   Class Correlation\n",
            "    ============== ==== ==== ======= ===== ====================\n",
            "    sepal length:   4.3  7.9   5.84   0.83    0.7826\n",
            "    sepal width:    2.0  4.4   3.05   0.43   -0.4194\n",
            "    petal length:   1.0  6.9   3.76   1.76    0.9490  (high!)\n",
            "    petal width:    0.1  2.5   1.20   0.76    0.9565  (high!)\n",
            "    ============== ==== ==== ======= ===== ====================\n",
            "\n",
            "    :Missing Attribute Values: None\n",
            "    :Class Distribution: 33.3% for each of 3 classes.\n",
            "    :Creator: R.A. Fisher\n",
            "    :Donor: Michael Marshall (MARSHALL%PLU@io.arc.nasa.gov)\n",
            "    :Date: July, 1988\n",
            "\n",
            "The famous Iris database, first used by Sir R.A. Fisher. The dataset is taken\n",
            "from Fisher's paper. Note that it's the same as in R, but not as in the UCI\n",
            "Machine Learning Repository, which has two wrong data points.\n",
            "\n",
            "This is perhaps the best known database to be found in the\n",
            "pattern recognition literature.  Fisher's paper is a classic in the field and\n",
            "is referenced frequently to this day.  (See Duda & Hart, for example.)  The\n",
            "data set contains 3 classes of 50 instances each, where each class refers to a\n",
            "type of iris plant.  One class is linearly separable from the other 2; the\n",
            "latter are NOT linearly separable from each other.\n",
            "\n",
            ".. topic:: References\n",
            "\n",
            "   - Fisher, R.A. \"The use of multiple measurements in taxonomic problems\"\n",
            "     Annual Eugenics, 7, Part II, 179-188 (1936); also in \"Contributions to\n",
            "     Mathematical Statistics\" (John Wiley, NY, 1950).\n",
            "   - Duda, R.O., & Hart, P.E. (1973) Pattern Classification and Scene Analysis.\n",
            "     (Q327.D83) John Wiley & Sons.  ISBN 0-471-22361-1.  See page 218.\n",
            "   - Dasarathy, B.V. (1980) \"Nosing Around the Neighborhood: A New System\n",
            "     Structure and Classification Rule for Recognition in Partially Exposed\n",
            "     Environments\".  IEEE Transactions on Pattern Analysis and Machine\n",
            "     Intelligence, Vol. PAMI-2, No. 1, 67-71.\n",
            "   - Gates, G.W. (1972) \"The Reduced Nearest Neighbor Rule\".  IEEE Transactions\n",
            "     on Information Theory, May 1972, 431-433.\n",
            "   - See also: 1988 MLC Proceedings, 54-64.  Cheeseman et al\"s AUTOCLASS II\n",
            "     conceptual clustering system finds 3 classes in the data.\n",
            "   - Many, many more ...\n"
          ]
        }
      ]
    },
    {
      "cell_type": "markdown",
      "source": [
        "### 데이터 분리"
      ],
      "metadata": {
        "id": "b5MnvuzUD03l"
      }
    },
    {
      "cell_type": "code",
      "source": [
        "from sklearn.model_selection import train_test_split\n",
        "inputs = iris_data['data']\n",
        "target = iris_data['target']\n",
        "train_X, test_X, train_y, test_y = train_test_split(inputs, target, test_size = 0.25, random_state = 42)\n",
        "\n",
        "print(train_X.shape, test_X.shape, train_y.shape, test_y.shape)"
      ],
      "metadata": {
        "colab": {
          "base_uri": "https://localhost:8080/"
        },
        "id": "vNyN1AnbDuwX",
        "outputId": "b89652fb-8c0d-4f51-a1cf-025c779896e3"
      },
      "execution_count": null,
      "outputs": [
        {
          "output_type": "stream",
          "name": "stdout",
          "text": [
            "(112, 4) (38, 4) (112,) (38,)\n"
          ]
        }
      ]
    },
    {
      "cell_type": "markdown",
      "source": [
        "### 지도 학습(K-nearest neighbor classifier)"
      ],
      "metadata": {
        "id": "S78deGCYEemu"
      }
    },
    {
      "cell_type": "code",
      "source": [
        "from sklearn.neighbors import KNeighborsClassifier\n",
        "\n",
        "knn1 = KNeighborsClassifier(n_neighbors = 1)\n",
        "knn2 = KNeighborsClassifier(algorithm = 'auto', leaf_size = 30, metric = 'minkowski',\n",
        "                            metric_params = None, n_jobs = 1, n_neighbors = 1, p = 2, weights = 'uniform')\n",
        "knn1.fit(train_X, train_y)\n",
        "knn2.fit(train_X, train_y)"
      ],
      "metadata": {
        "colab": {
          "base_uri": "https://localhost:8080/"
        },
        "id": "qJoW2voeDudd",
        "outputId": "715fbd25-3db4-4b1c-b18a-2e4607f9270a"
      },
      "execution_count": null,
      "outputs": [
        {
          "output_type": "execute_result",
          "data": {
            "text/plain": [
              "KNeighborsClassifier(n_jobs=1, n_neighbors=1)"
            ]
          },
          "metadata": {},
          "execution_count": 87
        }
      ]
    },
    {
      "cell_type": "code",
      "source": [
        "# 새로운 데이터 예측\n",
        "new_input = np.array([[6.1, 2.8, 4.7, 1.2]])\n",
        "predict_y1 = knn.predict(new_input)\n",
        "predict_y2 = knn.predict(new_input)\n",
        "\n",
        "print(predict_y1, predict_y2)"
      ],
      "metadata": {
        "colab": {
          "base_uri": "https://localhost:8080/"
        },
        "id": "EaJeVL3tF3M0",
        "outputId": "0a1dcf8d-926c-4190-a9c8-1a80b9636e4b"
      },
      "execution_count": null,
      "outputs": [
        {
          "output_type": "stream",
          "name": "stdout",
          "text": [
            "[1] [1]\n"
          ]
        }
      ]
    },
    {
      "cell_type": "code",
      "source": [
        "# test data\n",
        "predict_y1 = knn1.predict(test_X)\n",
        "predict_y2 = knn2.predict(test_X)\n",
        "print(predict_y1)\n",
        "print(predict_y2)"
      ],
      "metadata": {
        "colab": {
          "base_uri": "https://localhost:8080/"
        },
        "id": "Co-ppuBAGQWG",
        "outputId": "f3099cf2-4a67-4fb1-f729-02f41ed9aa05"
      },
      "execution_count": null,
      "outputs": [
        {
          "output_type": "stream",
          "name": "stdout",
          "text": [
            "[1 0 2 1 1 0 1 2 1 1 2 0 0 0 0 1 2 1 1 2 0 2 0 2 2 2 2 2 0 0 0 0 1 0 0 2 1\n",
            " 0]\n",
            "[1 0 2 1 1 0 1 2 1 1 2 0 0 0 0 1 2 1 1 2 0 2 0 2 2 2 2 2 0 0 0 0 1 0 0 2 1\n",
            " 0]\n"
          ]
        }
      ]
    },
    {
      "cell_type": "code",
      "source": [
        "accuracy1 = np.sum(test_y == predict_y1) / len(test_y)\n",
        "accuracy2 = np.sum(test_y == predict_y2) / len(test_y)\n",
        "print('Accuracy rate = {}'.format(accuracy1))\n",
        "print('Accuracy rate = {}'.format(accuracy2))"
      ],
      "metadata": {
        "colab": {
          "base_uri": "https://localhost:8080/"
        },
        "id": "Hho4I72qGZv5",
        "outputId": "c810cc36-4f00-4060-a719-315fb3b90230"
      },
      "execution_count": null,
      "outputs": [
        {
          "output_type": "stream",
          "name": "stdout",
          "text": [
            "Accuracy rate = 1.0\n",
            "Accuracy rate = 1.0\n"
          ]
        }
      ]
    },
    {
      "cell_type": "markdown",
      "source": [
        "### 비지도학습(Kmeans Clustering)"
      ],
      "metadata": {
        "id": "V-MXeoG6HZRj"
      }
    },
    {
      "cell_type": "code",
      "source": [
        "from sklearn.cluster import KMeans\n",
        "k_means1 = KMeans(n_clusters = 3)\n",
        "# k_means2 = KMeans(algorithm = 'auto', copy_x = True, init = 'k-means++', max_iter = 300,\n",
        "#                   n_clusters = 3, n_init = 10, n_jobs = 1, precompute_distances = 'auto',\n",
        "#                   random_state = None, tol = 0.0001, verbose = 0)"
      ],
      "metadata": {
        "id": "bXjr2VDZHeAo"
      },
      "execution_count": null,
      "outputs": []
    },
    {
      "cell_type": "code",
      "source": [
        "k_means1.fit(train_X)\n",
        "# k_means2.fit(train_X)"
      ],
      "metadata": {
        "colab": {
          "base_uri": "https://localhost:8080/"
        },
        "id": "AyTvVRJYICB7",
        "outputId": "df05c31b-52c1-45cf-dd42-3fb880977765"
      },
      "execution_count": null,
      "outputs": [
        {
          "output_type": "execute_result",
          "data": {
            "text/plain": [
              "KMeans(n_clusters=3)"
            ]
          },
          "metadata": {},
          "execution_count": 94
        }
      ]
    },
    {
      "cell_type": "code",
      "source": [
        "k_means1.labels_"
      ],
      "metadata": {
        "colab": {
          "base_uri": "https://localhost:8080/"
        },
        "id": "5-f4EElBIrFg",
        "outputId": "f9bb9e42-3452-47bd-a8c4-7dfb252ae4c2"
      },
      "execution_count": null,
      "outputs": [
        {
          "output_type": "execute_result",
          "data": {
            "text/plain": [
              "array([1, 1, 2, 2, 2, 1, 1, 2, 2, 0, 2, 0, 2, 0, 2, 1, 0, 2, 1, 1, 1, 2,\n",
              "       2, 1, 1, 1, 2, 1, 2, 0, 1, 2, 2, 1, 2, 2, 2, 2, 0, 2, 1, 2, 0, 1,\n",
              "       1, 2, 0, 1, 2, 1, 1, 2, 2, 0, 2, 0, 0, 2, 1, 1, 2, 0, 1, 1, 1, 2,\n",
              "       0, 1, 0, 0, 1, 2, 2, 2, 0, 0, 1, 0, 2, 0, 2, 2, 2, 1, 2, 2, 1, 2,\n",
              "       0, 0, 1, 2, 0, 0, 1, 0, 1, 0, 0, 0, 2, 0, 2, 2, 2, 2, 1, 2, 2, 1,\n",
              "       2, 0], dtype=int32)"
            ]
          },
          "metadata": {},
          "execution_count": 95
        }
      ]
    },
    {
      "cell_type": "code",
      "source": [
        "# 분포 확인하기\n",
        "print(train_y[k_means1.labels_ == 0])\n",
        "print(train_y[k_means1.labels_ == 1])\n",
        "print(train_y[k_means1.labels_ == 2])"
      ],
      "metadata": {
        "colab": {
          "base_uri": "https://localhost:8080/"
        },
        "id": "vVIRUFByIu_z",
        "outputId": "e3e92163-db6e-443e-d63e-c82adc9761a7"
      },
      "execution_count": null,
      "outputs": [
        {
          "output_type": "stream",
          "name": "stdout",
          "text": [
            "[2 2 2 2 2 2 2 1 2 2 2 2 2 2 2 1 2 2 2 2 2 2 2 2 1 2 2 2 2]\n",
            "[0 0 0 0 0 0 0 0 0 0 0 0 0 0 0 0 0 0 0 0 0 0 0 0 0 0 0 0 0 0 0 0 0 0 0]\n",
            "[2 1 1 1 2 1 1 1 1 1 2 1 1 1 2 2 2 1 1 1 1 1 2 1 1 1 1 2 1 1 1 2 1 1 1 1 1\n",
            " 1 1 1 1 1 1 2 2 1 2 1]\n"
          ]
        }
      ]
    },
    {
      "cell_type": "code",
      "source": [
        "# 새로운 값에 대한 예측\n",
        "predict_y1 = k_means1.predict(new_input)\n",
        "predict_y1\n"
      ],
      "metadata": {
        "colab": {
          "base_uri": "https://localhost:8080/"
        },
        "id": "OX-BTxBdJVk7",
        "outputId": "5cf30ffd-ace4-4941-a3ad-98420e36b1ee"
      },
      "execution_count": null,
      "outputs": [
        {
          "output_type": "execute_result",
          "data": {
            "text/plain": [
              "array([2], dtype=int32)"
            ]
          },
          "metadata": {},
          "execution_count": 119
        }
      ]
    },
    {
      "cell_type": "code",
      "source": [
        "# 테스트셋 예측\n",
        "predict_y1 = k_means1.predict(test_X)\n",
        "predict_y1"
      ],
      "metadata": {
        "colab": {
          "base_uri": "https://localhost:8080/"
        },
        "id": "WxpdOg16Jril",
        "outputId": "51520d39-e4fe-4deb-b8b5-8ea41c9ed318"
      },
      "execution_count": null,
      "outputs": [
        {
          "output_type": "execute_result",
          "data": {
            "text/plain": [
              "array([2, 1, 0, 2, 2, 1, 2, 0, 2, 2, 0, 1, 1, 1, 1, 2, 0, 2, 2, 0, 1, 2,\n",
              "       1, 0, 0, 0, 0, 0, 1, 1, 1, 1, 2, 1, 1, 2, 2, 1], dtype=int32)"
            ]
          },
          "metadata": {},
          "execution_count": 106
        }
      ]
    },
    {
      "cell_type": "code",
      "source": [
        "test_y"
      ],
      "metadata": {
        "colab": {
          "base_uri": "https://localhost:8080/"
        },
        "id": "pN2VKtQxMLYZ",
        "outputId": "fbbbc866-da50-47ca-88ff-a2826b8f4822"
      },
      "execution_count": null,
      "outputs": [
        {
          "output_type": "execute_result",
          "data": {
            "text/plain": [
              "array([1, 0, 2, 1, 1, 0, 1, 2, 1, 1, 2, 0, 0, 0, 0, 1, 2, 1, 1, 2, 0, 2,\n",
              "       0, 2, 2, 2, 2, 2, 0, 0, 0, 0, 1, 0, 0, 2, 1, 0])"
            ]
          },
          "metadata": {},
          "execution_count": 110
        }
      ]
    },
    {
      "cell_type": "code",
      "source": [
        "# 재 그룹화\n",
        "arr_pred1 = np.array(predict_y1)\n",
        "tmp_pred1 = np.array(predict_y1)\n",
        "arr_pred1[tmp_pred1 == 0] = 2\n",
        "arr_pred1[tmp_pred1 == 1] = 0\n",
        "arr_pred1[tmp_pred1 == 2] = 1\n",
        "\n",
        "arr_pred1"
      ],
      "metadata": {
        "colab": {
          "base_uri": "https://localhost:8080/"
        },
        "id": "p4sTJkVUJ2lk",
        "outputId": "74588cab-dd60-4e06-caad-992d866d5d57"
      },
      "execution_count": null,
      "outputs": [
        {
          "output_type": "execute_result",
          "data": {
            "text/plain": [
              "array([1, 0, 2, 1, 1, 0, 1, 2, 1, 1, 2, 0, 0, 0, 0, 1, 2, 1, 1, 2, 0, 1,\n",
              "       0, 2, 2, 2, 2, 2, 0, 0, 0, 0, 1, 0, 0, 1, 1, 0], dtype=int32)"
            ]
          },
          "metadata": {},
          "execution_count": 115
        }
      ]
    },
    {
      "cell_type": "code",
      "source": [
        "accuracy1 = np.sum(test_y == arr_pred1) / len(test_y)\n",
        "print('Accuracy rate = {}'.format(accuracy1))"
      ],
      "metadata": {
        "colab": {
          "base_uri": "https://localhost:8080/"
        },
        "id": "Si0aqTD-MAm3",
        "outputId": "5dcfa38f-722c-4a43-b0a9-cd46d4b9aaeb"
      },
      "execution_count": null,
      "outputs": [
        {
          "output_type": "stream",
          "name": "stdout",
          "text": [
            "Accuracy rate = 0.9473684210526315\n"
          ]
        }
      ]
    },
    {
      "cell_type": "markdown",
      "source": [
        "## 사이킷런을 이용한 특징 추출"
      ],
      "metadata": {
        "id": "K-zFqzUPYvjn"
      }
    },
    {
      "cell_type": "markdown",
      "source": [
        "### CountVectorizer\n",
        "* 텍스트에서 단어를 기준으로 횟수를 측정하여 벡터로 만든다."
      ],
      "metadata": {
        "id": "sar7wK3xZ1k1"
      }
    },
    {
      "cell_type": "code",
      "source": [
        "from sklearn.feature_extraction.text import CountVectorizer\n",
        "\n",
        "text_data = ['나는 배가 고프다',\n",
        "             '내일 점심 뭐먹지',\n",
        "             '내일 공부 해야겠다',\n",
        "             '점심 먹고 공부해야지']\n",
        "\n",
        "# 단어 사전 만들기\n",
        "count_vectorizer = CountVectorizer()\n",
        "count_vectorizer.fit(text_data)\n",
        "print(count_vectorizer.vocabulary_)"
      ],
      "metadata": {
        "colab": {
          "base_uri": "https://localhost:8080/"
        },
        "id": "SgjdefrNYyUO",
        "outputId": "98d54dd0-3e5a-4562-f713-c5f583b86740"
      },
      "execution_count": null,
      "outputs": [
        {
          "output_type": "stream",
          "name": "stdout",
          "text": [
            "{'나는': 3, '배가': 7, '고프다': 0, '내일': 4, '점심': 8, '뭐먹지': 6, '공부': 1, '해야겠다': 9, '먹고': 5, '공부해야지': 2}\n"
          ]
        }
      ]
    },
    {
      "cell_type": "code",
      "source": [
        "# 벡터로 만들기\n",
        "for text in text_data:\n",
        "    print(count_vectorizer.transform([text]).toarray())"
      ],
      "metadata": {
        "colab": {
          "base_uri": "https://localhost:8080/"
        },
        "id": "vnO-Z_b7ZRtJ",
        "outputId": "a7a7ffef-ec40-4580-f958-17f8d46cf6d8"
      },
      "execution_count": null,
      "outputs": [
        {
          "output_type": "stream",
          "name": "stdout",
          "text": [
            "[[1 0 0 1 0 0 0 1 0 0]]\n",
            "[[0 0 0 0 1 0 1 0 1 0]]\n",
            "[[0 1 0 0 1 0 0 0 0 1]]\n",
            "[[0 0 1 0 0 1 0 0 1 0]]\n"
          ]
        }
      ]
    },
    {
      "cell_type": "code",
      "source": [
        "count_vectorizer.transform(['아이고 배 고프다. 일단 밥 먹고 해야지']).toarray()"
      ],
      "metadata": {
        "colab": {
          "base_uri": "https://localhost:8080/"
        },
        "id": "mf-bLDhccv8E",
        "outputId": "7da99685-7d66-4a3b-a143-f7fdd9ebef53"
      },
      "execution_count": null,
      "outputs": [
        {
          "output_type": "execute_result",
          "data": {
            "text/plain": [
              "array([[1, 0, 0, 0, 0, 1, 0, 0, 0, 0]])"
            ]
          },
          "metadata": {},
          "execution_count": 129
        }
      ]
    },
    {
      "cell_type": "code",
      "source": [
        "count_vectorizer.get_feature_names()        # 단어 사전의 key(id) 순서대로"
      ],
      "metadata": {
        "colab": {
          "base_uri": "https://localhost:8080/"
        },
        "id": "crhr0mtaccci",
        "outputId": "05c1fe85-f501-49dd-be3a-d97944851238"
      },
      "execution_count": null,
      "outputs": [
        {
          "output_type": "stream",
          "name": "stderr",
          "text": [
            "/usr/local/lib/python3.7/dist-packages/sklearn/utils/deprecation.py:87: FutureWarning: Function get_feature_names is deprecated; get_feature_names is deprecated in 1.0 and will be removed in 1.2. Please use get_feature_names_out instead.\n",
            "  warnings.warn(msg, category=FutureWarning)\n"
          ]
        },
        {
          "output_type": "execute_result",
          "data": {
            "text/plain": [
              "['고프다', '공부', '공부해야지', '나는', '내일', '먹고', '뭐먹지', '배가', '점심', '해야겠다']"
            ]
          },
          "metadata": {},
          "execution_count": 127
        }
      ]
    },
    {
      "cell_type": "code",
      "source": [
        "# 각 문장을 벡터로 만들기\n",
        "import pandas as pd\n",
        "df = pd.DataFrame(count_vectorizer.transform(text_data).toarray(), columns=count_vectorizer.get_feature_names())\n",
        "df\n"
      ],
      "metadata": {
        "colab": {
          "base_uri": "https://localhost:8080/",
          "height": 229
        },
        "id": "xkIARrbbdFYu",
        "outputId": "3b1ae4b9-c23e-4ae8-fd2d-3b8f240d5fc4"
      },
      "execution_count": null,
      "outputs": [
        {
          "output_type": "stream",
          "name": "stderr",
          "text": [
            "/usr/local/lib/python3.7/dist-packages/sklearn/utils/deprecation.py:87: FutureWarning: Function get_feature_names is deprecated; get_feature_names is deprecated in 1.0 and will be removed in 1.2. Please use get_feature_names_out instead.\n",
            "  warnings.warn(msg, category=FutureWarning)\n"
          ]
        },
        {
          "output_type": "execute_result",
          "data": {
            "text/plain": [
              "   고프다  공부  공부해야지  나는  내일  먹고  뭐먹지  배가  점심  해야겠다\n",
              "0    1   0      0   1   0   0    0   1   0     0\n",
              "1    0   0      0   0   1   0    1   0   1     0\n",
              "2    0   1      0   0   1   0    0   0   0     1\n",
              "3    0   0      1   0   0   1    0   0   1     0"
            ],
            "text/html": [
              "\n",
              "  <div id=\"df-0a686143-de60-4692-abb7-e15ebb952d47\">\n",
              "    <div class=\"colab-df-container\">\n",
              "      <div>\n",
              "<style scoped>\n",
              "    .dataframe tbody tr th:only-of-type {\n",
              "        vertical-align: middle;\n",
              "    }\n",
              "\n",
              "    .dataframe tbody tr th {\n",
              "        vertical-align: top;\n",
              "    }\n",
              "\n",
              "    .dataframe thead th {\n",
              "        text-align: right;\n",
              "    }\n",
              "</style>\n",
              "<table border=\"1\" class=\"dataframe\">\n",
              "  <thead>\n",
              "    <tr style=\"text-align: right;\">\n",
              "      <th></th>\n",
              "      <th>고프다</th>\n",
              "      <th>공부</th>\n",
              "      <th>공부해야지</th>\n",
              "      <th>나는</th>\n",
              "      <th>내일</th>\n",
              "      <th>먹고</th>\n",
              "      <th>뭐먹지</th>\n",
              "      <th>배가</th>\n",
              "      <th>점심</th>\n",
              "      <th>해야겠다</th>\n",
              "    </tr>\n",
              "  </thead>\n",
              "  <tbody>\n",
              "    <tr>\n",
              "      <th>0</th>\n",
              "      <td>1</td>\n",
              "      <td>0</td>\n",
              "      <td>0</td>\n",
              "      <td>1</td>\n",
              "      <td>0</td>\n",
              "      <td>0</td>\n",
              "      <td>0</td>\n",
              "      <td>1</td>\n",
              "      <td>0</td>\n",
              "      <td>0</td>\n",
              "    </tr>\n",
              "    <tr>\n",
              "      <th>1</th>\n",
              "      <td>0</td>\n",
              "      <td>0</td>\n",
              "      <td>0</td>\n",
              "      <td>0</td>\n",
              "      <td>1</td>\n",
              "      <td>0</td>\n",
              "      <td>1</td>\n",
              "      <td>0</td>\n",
              "      <td>1</td>\n",
              "      <td>0</td>\n",
              "    </tr>\n",
              "    <tr>\n",
              "      <th>2</th>\n",
              "      <td>0</td>\n",
              "      <td>1</td>\n",
              "      <td>0</td>\n",
              "      <td>0</td>\n",
              "      <td>1</td>\n",
              "      <td>0</td>\n",
              "      <td>0</td>\n",
              "      <td>0</td>\n",
              "      <td>0</td>\n",
              "      <td>1</td>\n",
              "    </tr>\n",
              "    <tr>\n",
              "      <th>3</th>\n",
              "      <td>0</td>\n",
              "      <td>0</td>\n",
              "      <td>1</td>\n",
              "      <td>0</td>\n",
              "      <td>0</td>\n",
              "      <td>1</td>\n",
              "      <td>0</td>\n",
              "      <td>0</td>\n",
              "      <td>1</td>\n",
              "      <td>0</td>\n",
              "    </tr>\n",
              "  </tbody>\n",
              "</table>\n",
              "</div>\n",
              "      <button class=\"colab-df-convert\" onclick=\"convertToInteractive('df-0a686143-de60-4692-abb7-e15ebb952d47')\"\n",
              "              title=\"Convert this dataframe to an interactive table.\"\n",
              "              style=\"display:none;\">\n",
              "        \n",
              "  <svg xmlns=\"http://www.w3.org/2000/svg\" height=\"24px\"viewBox=\"0 0 24 24\"\n",
              "       width=\"24px\">\n",
              "    <path d=\"M0 0h24v24H0V0z\" fill=\"none\"/>\n",
              "    <path d=\"M18.56 5.44l.94 2.06.94-2.06 2.06-.94-2.06-.94-.94-2.06-.94 2.06-2.06.94zm-11 1L8.5 8.5l.94-2.06 2.06-.94-2.06-.94L8.5 2.5l-.94 2.06-2.06.94zm10 10l.94 2.06.94-2.06 2.06-.94-2.06-.94-.94-2.06-.94 2.06-2.06.94z\"/><path d=\"M17.41 7.96l-1.37-1.37c-.4-.4-.92-.59-1.43-.59-.52 0-1.04.2-1.43.59L10.3 9.45l-7.72 7.72c-.78.78-.78 2.05 0 2.83L4 21.41c.39.39.9.59 1.41.59.51 0 1.02-.2 1.41-.59l7.78-7.78 2.81-2.81c.8-.78.8-2.07 0-2.86zM5.41 20L4 18.59l7.72-7.72 1.47 1.35L5.41 20z\"/>\n",
              "  </svg>\n",
              "      </button>\n",
              "      \n",
              "  <style>\n",
              "    .colab-df-container {\n",
              "      display:flex;\n",
              "      flex-wrap:wrap;\n",
              "      gap: 12px;\n",
              "    }\n",
              "\n",
              "    .colab-df-convert {\n",
              "      background-color: #E8F0FE;\n",
              "      border: none;\n",
              "      border-radius: 50%;\n",
              "      cursor: pointer;\n",
              "      display: none;\n",
              "      fill: #1967D2;\n",
              "      height: 32px;\n",
              "      padding: 0 0 0 0;\n",
              "      width: 32px;\n",
              "    }\n",
              "\n",
              "    .colab-df-convert:hover {\n",
              "      background-color: #E2EBFA;\n",
              "      box-shadow: 0px 1px 2px rgba(60, 64, 67, 0.3), 0px 1px 3px 1px rgba(60, 64, 67, 0.15);\n",
              "      fill: #174EA6;\n",
              "    }\n",
              "\n",
              "    [theme=dark] .colab-df-convert {\n",
              "      background-color: #3B4455;\n",
              "      fill: #D2E3FC;\n",
              "    }\n",
              "\n",
              "    [theme=dark] .colab-df-convert:hover {\n",
              "      background-color: #434B5C;\n",
              "      box-shadow: 0px 1px 3px 1px rgba(0, 0, 0, 0.15);\n",
              "      filter: drop-shadow(0px 1px 2px rgba(0, 0, 0, 0.3));\n",
              "      fill: #FFFFFF;\n",
              "    }\n",
              "  </style>\n",
              "\n",
              "      <script>\n",
              "        const buttonEl =\n",
              "          document.querySelector('#df-0a686143-de60-4692-abb7-e15ebb952d47 button.colab-df-convert');\n",
              "        buttonEl.style.display =\n",
              "          google.colab.kernel.accessAllowed ? 'block' : 'none';\n",
              "\n",
              "        async function convertToInteractive(key) {\n",
              "          const element = document.querySelector('#df-0a686143-de60-4692-abb7-e15ebb952d47');\n",
              "          const dataTable =\n",
              "            await google.colab.kernel.invokeFunction('convertToInteractive',\n",
              "                                                     [key], {});\n",
              "          if (!dataTable) return;\n",
              "\n",
              "          const docLinkHtml = 'Like what you see? Visit the ' +\n",
              "            '<a target=\"_blank\" href=https://colab.research.google.com/notebooks/data_table.ipynb>data table notebook</a>'\n",
              "            + ' to learn more about interactive tables.';\n",
              "          element.innerHTML = '';\n",
              "          dataTable['output_type'] = 'display_data';\n",
              "          await google.colab.output.renderOutput(dataTable, element);\n",
              "          const docLink = document.createElement('div');\n",
              "          docLink.innerHTML = docLinkHtml;\n",
              "          element.appendChild(docLink);\n",
              "        }\n",
              "      </script>\n",
              "    </div>\n",
              "  </div>\n",
              "  "
            ]
          },
          "metadata": {},
          "execution_count": 131
        }
      ]
    },
    {
      "cell_type": "markdown",
      "source": [
        "CountVectorizer는 다음과 같은 세가지 작업을 수행한다.\n",
        "\n",
        "1. 문서를 토큰 리스트로 변환한다.\n",
        "\n",
        "2. 각 문서에서 토큰의 출현 빈도를 센다.\n",
        "\n",
        "3. 각 문서를 BOW 인코딩 벡터로 변환한다.\n"
      ],
      "metadata": {
        "id": "H3aBw9W7dXuZ"
      }
    },
    {
      "cell_type": "code",
      "source": [
        "from sklearn.feature_extraction.text import CountVectorizer\n",
        "\n",
        "corpus = [\n",
        "    'This is the first document.',\n",
        "    'This is the second second document.',\n",
        "    'And the third one.',\n",
        "    'Is this the first document?',\n",
        "    'The last document?',\n",
        "]\n",
        "\n",
        "vect = CountVectorizer()\n",
        "vect.fit(corpus)\n",
        "vect.vocabulary_"
      ],
      "metadata": {
        "colab": {
          "base_uri": "https://localhost:8080/"
        },
        "id": "KYu_JZs6dZ1e",
        "outputId": "86001627-68a3-4ab5-a763-752354b7c095"
      },
      "execution_count": null,
      "outputs": [
        {
          "output_type": "execute_result",
          "data": {
            "text/plain": [
              "{'this': 9,\n",
              " 'is': 3,\n",
              " 'the': 7,\n",
              " 'first': 2,\n",
              " 'document': 1,\n",
              " 'second': 6,\n",
              " 'and': 0,\n",
              " 'third': 8,\n",
              " 'one': 5,\n",
              " 'last': 4}"
            ]
          },
          "metadata": {},
          "execution_count": 132
        }
      ]
    },
    {
      "cell_type": "code",
      "source": [
        "count_vectorizer.transform(['Something completely new.']).toarray()"
      ],
      "metadata": {
        "colab": {
          "base_uri": "https://localhost:8080/"
        },
        "id": "XfZNyiZ2e2fz",
        "outputId": "d2107753-059b-41cd-eb25-bbc66917661e"
      },
      "execution_count": null,
      "outputs": [
        {
          "output_type": "execute_result",
          "data": {
            "text/plain": [
              "array([[0, 0, 0, 0, 0, 0, 0, 0, 0, 0]])"
            ]
          },
          "metadata": {},
          "execution_count": 140
        }
      ]
    },
    {
      "cell_type": "code",
      "source": [
        "# 벡터로 만들기\n",
        "for text in corpus:\n",
        "    print(vect.transform([text]).toarray())"
      ],
      "metadata": {
        "colab": {
          "base_uri": "https://localhost:8080/"
        },
        "id": "ivHhxyrAd225",
        "outputId": "c9d595fa-4c9b-45f8-f0aa-f3e46948a177"
      },
      "execution_count": null,
      "outputs": [
        {
          "output_type": "stream",
          "name": "stdout",
          "text": [
            "[[0 1 1 1 0 0 0 1 0 1]]\n",
            "[[0 1 0 1 0 0 2 1 0 1]]\n",
            "[[1 0 0 0 0 1 0 1 1 0]]\n",
            "[[0 1 1 1 0 0 0 1 0 1]]\n",
            "[[0 1 0 0 1 0 0 1 0 0]]\n"
          ]
        }
      ]
    },
    {
      "cell_type": "code",
      "source": [
        "vect.get_feature_names()        # 단어 사전의 key(id) 순서대로"
      ],
      "metadata": {
        "colab": {
          "base_uri": "https://localhost:8080/"
        },
        "id": "-zTi3Jikd9yk",
        "outputId": "2510ea6c-129a-457a-bb14-334d982975ba"
      },
      "execution_count": null,
      "outputs": [
        {
          "output_type": "stream",
          "name": "stderr",
          "text": [
            "/usr/local/lib/python3.7/dist-packages/sklearn/utils/deprecation.py:87: FutureWarning: Function get_feature_names is deprecated; get_feature_names is deprecated in 1.0 and will be removed in 1.2. Please use get_feature_names_out instead.\n",
            "  warnings.warn(msg, category=FutureWarning)\n"
          ]
        },
        {
          "output_type": "execute_result",
          "data": {
            "text/plain": [
              "['and',\n",
              " 'document',\n",
              " 'first',\n",
              " 'is',\n",
              " 'last',\n",
              " 'one',\n",
              " 'second',\n",
              " 'the',\n",
              " 'third',\n",
              " 'this']"
            ]
          },
          "metadata": {},
          "execution_count": 139
        }
      ]
    },
    {
      "cell_type": "code",
      "source": [
        "# 각 문장을 벡터로 만들기\n",
        "import pandas as pd\n",
        "df = pd.DataFrame(vect.transform(text_data).toarray(), columns=vect.get_feature_names())\n",
        "df\n"
      ],
      "metadata": {
        "colab": {
          "base_uri": "https://localhost:8080/",
          "height": 229
        },
        "id": "qQ5dthWCeDJf",
        "outputId": "00885329-bb46-4d73-822d-47277387395c"
      },
      "execution_count": null,
      "outputs": [
        {
          "output_type": "stream",
          "name": "stderr",
          "text": [
            "/usr/local/lib/python3.7/dist-packages/sklearn/utils/deprecation.py:87: FutureWarning: Function get_feature_names is deprecated; get_feature_names is deprecated in 1.0 and will be removed in 1.2. Please use get_feature_names_out instead.\n",
            "  warnings.warn(msg, category=FutureWarning)\n"
          ]
        },
        {
          "output_type": "execute_result",
          "data": {
            "text/plain": [
              "   and  document  first  is  last  one  second  the  third  this\n",
              "0    0         0      0   0     0    0       0    0      0     0\n",
              "1    0         0      0   0     0    0       0    0      0     0\n",
              "2    0         0      0   0     0    0       0    0      0     0\n",
              "3    0         0      0   0     0    0       0    0      0     0"
            ],
            "text/html": [
              "\n",
              "  <div id=\"df-611e4936-7207-4767-bee9-d4142d1fa887\">\n",
              "    <div class=\"colab-df-container\">\n",
              "      <div>\n",
              "<style scoped>\n",
              "    .dataframe tbody tr th:only-of-type {\n",
              "        vertical-align: middle;\n",
              "    }\n",
              "\n",
              "    .dataframe tbody tr th {\n",
              "        vertical-align: top;\n",
              "    }\n",
              "\n",
              "    .dataframe thead th {\n",
              "        text-align: right;\n",
              "    }\n",
              "</style>\n",
              "<table border=\"1\" class=\"dataframe\">\n",
              "  <thead>\n",
              "    <tr style=\"text-align: right;\">\n",
              "      <th></th>\n",
              "      <th>and</th>\n",
              "      <th>document</th>\n",
              "      <th>first</th>\n",
              "      <th>is</th>\n",
              "      <th>last</th>\n",
              "      <th>one</th>\n",
              "      <th>second</th>\n",
              "      <th>the</th>\n",
              "      <th>third</th>\n",
              "      <th>this</th>\n",
              "    </tr>\n",
              "  </thead>\n",
              "  <tbody>\n",
              "    <tr>\n",
              "      <th>0</th>\n",
              "      <td>0</td>\n",
              "      <td>0</td>\n",
              "      <td>0</td>\n",
              "      <td>0</td>\n",
              "      <td>0</td>\n",
              "      <td>0</td>\n",
              "      <td>0</td>\n",
              "      <td>0</td>\n",
              "      <td>0</td>\n",
              "      <td>0</td>\n",
              "    </tr>\n",
              "    <tr>\n",
              "      <th>1</th>\n",
              "      <td>0</td>\n",
              "      <td>0</td>\n",
              "      <td>0</td>\n",
              "      <td>0</td>\n",
              "      <td>0</td>\n",
              "      <td>0</td>\n",
              "      <td>0</td>\n",
              "      <td>0</td>\n",
              "      <td>0</td>\n",
              "      <td>0</td>\n",
              "    </tr>\n",
              "    <tr>\n",
              "      <th>2</th>\n",
              "      <td>0</td>\n",
              "      <td>0</td>\n",
              "      <td>0</td>\n",
              "      <td>0</td>\n",
              "      <td>0</td>\n",
              "      <td>0</td>\n",
              "      <td>0</td>\n",
              "      <td>0</td>\n",
              "      <td>0</td>\n",
              "      <td>0</td>\n",
              "    </tr>\n",
              "    <tr>\n",
              "      <th>3</th>\n",
              "      <td>0</td>\n",
              "      <td>0</td>\n",
              "      <td>0</td>\n",
              "      <td>0</td>\n",
              "      <td>0</td>\n",
              "      <td>0</td>\n",
              "      <td>0</td>\n",
              "      <td>0</td>\n",
              "      <td>0</td>\n",
              "      <td>0</td>\n",
              "    </tr>\n",
              "  </tbody>\n",
              "</table>\n",
              "</div>\n",
              "      <button class=\"colab-df-convert\" onclick=\"convertToInteractive('df-611e4936-7207-4767-bee9-d4142d1fa887')\"\n",
              "              title=\"Convert this dataframe to an interactive table.\"\n",
              "              style=\"display:none;\">\n",
              "        \n",
              "  <svg xmlns=\"http://www.w3.org/2000/svg\" height=\"24px\"viewBox=\"0 0 24 24\"\n",
              "       width=\"24px\">\n",
              "    <path d=\"M0 0h24v24H0V0z\" fill=\"none\"/>\n",
              "    <path d=\"M18.56 5.44l.94 2.06.94-2.06 2.06-.94-2.06-.94-.94-2.06-.94 2.06-2.06.94zm-11 1L8.5 8.5l.94-2.06 2.06-.94-2.06-.94L8.5 2.5l-.94 2.06-2.06.94zm10 10l.94 2.06.94-2.06 2.06-.94-2.06-.94-.94-2.06-.94 2.06-2.06.94z\"/><path d=\"M17.41 7.96l-1.37-1.37c-.4-.4-.92-.59-1.43-.59-.52 0-1.04.2-1.43.59L10.3 9.45l-7.72 7.72c-.78.78-.78 2.05 0 2.83L4 21.41c.39.39.9.59 1.41.59.51 0 1.02-.2 1.41-.59l7.78-7.78 2.81-2.81c.8-.78.8-2.07 0-2.86zM5.41 20L4 18.59l7.72-7.72 1.47 1.35L5.41 20z\"/>\n",
              "  </svg>\n",
              "      </button>\n",
              "      \n",
              "  <style>\n",
              "    .colab-df-container {\n",
              "      display:flex;\n",
              "      flex-wrap:wrap;\n",
              "      gap: 12px;\n",
              "    }\n",
              "\n",
              "    .colab-df-convert {\n",
              "      background-color: #E8F0FE;\n",
              "      border: none;\n",
              "      border-radius: 50%;\n",
              "      cursor: pointer;\n",
              "      display: none;\n",
              "      fill: #1967D2;\n",
              "      height: 32px;\n",
              "      padding: 0 0 0 0;\n",
              "      width: 32px;\n",
              "    }\n",
              "\n",
              "    .colab-df-convert:hover {\n",
              "      background-color: #E2EBFA;\n",
              "      box-shadow: 0px 1px 2px rgba(60, 64, 67, 0.3), 0px 1px 3px 1px rgba(60, 64, 67, 0.15);\n",
              "      fill: #174EA6;\n",
              "    }\n",
              "\n",
              "    [theme=dark] .colab-df-convert {\n",
              "      background-color: #3B4455;\n",
              "      fill: #D2E3FC;\n",
              "    }\n",
              "\n",
              "    [theme=dark] .colab-df-convert:hover {\n",
              "      background-color: #434B5C;\n",
              "      box-shadow: 0px 1px 3px 1px rgba(0, 0, 0, 0.15);\n",
              "      filter: drop-shadow(0px 1px 2px rgba(0, 0, 0, 0.3));\n",
              "      fill: #FFFFFF;\n",
              "    }\n",
              "  </style>\n",
              "\n",
              "      <script>\n",
              "        const buttonEl =\n",
              "          document.querySelector('#df-611e4936-7207-4767-bee9-d4142d1fa887 button.colab-df-convert');\n",
              "        buttonEl.style.display =\n",
              "          google.colab.kernel.accessAllowed ? 'block' : 'none';\n",
              "\n",
              "        async function convertToInteractive(key) {\n",
              "          const element = document.querySelector('#df-611e4936-7207-4767-bee9-d4142d1fa887');\n",
              "          const dataTable =\n",
              "            await google.colab.kernel.invokeFunction('convertToInteractive',\n",
              "                                                     [key], {});\n",
              "          if (!dataTable) return;\n",
              "\n",
              "          const docLinkHtml = 'Like what you see? Visit the ' +\n",
              "            '<a target=\"_blank\" href=https://colab.research.google.com/notebooks/data_table.ipynb>data table notebook</a>'\n",
              "            + ' to learn more about interactive tables.';\n",
              "          element.innerHTML = '';\n",
              "          dataTable['output_type'] = 'display_data';\n",
              "          await google.colab.output.renderOutput(dataTable, element);\n",
              "          const docLink = document.createElement('div');\n",
              "          docLink.innerHTML = docLinkHtml;\n",
              "          element.appendChild(docLink);\n",
              "        }\n",
              "      </script>\n",
              "    </div>\n",
              "  </div>\n",
              "  "
            ]
          },
          "metadata": {},
          "execution_count": 138
        }
      ]
    },
    {
      "cell_type": "code",
      "source": [
        "#### Stop Words\n",
        "vect = CountVectorizer(stop_words=['and', 'is', 'the', 'this']).fit(corpus)\n",
        "vect.vocabulary_"
      ],
      "metadata": {
        "colab": {
          "base_uri": "https://localhost:8080/"
        },
        "id": "A6AcElPmf5yZ",
        "outputId": "5bca586f-c8ac-4846-f9d3-450ab88ca79f"
      },
      "execution_count": null,
      "outputs": [
        {
          "output_type": "execute_result",
          "data": {
            "text/plain": [
              "{'first': 1, 'document': 0, 'second': 4, 'third': 5, 'one': 3, 'last': 2}"
            ]
          },
          "metadata": {},
          "execution_count": 142
        }
      ]
    },
    {
      "cell_type": "code",
      "source": [
        "#### Token\n",
        "vect = CountVectorizer(analyzer='word').fit(corpus)\n",
        "print(vect.vocabulary_)\n",
        "vect = CountVectorizer(token_pattern='t\\w+').fit(corpus)        # 't'로 시작하며 문자 수가 1개 이상인 것\n",
        "print(vect.vocabulary_)"
      ],
      "metadata": {
        "colab": {
          "base_uri": "https://localhost:8080/"
        },
        "id": "uLxng8htgIaU",
        "outputId": "6a271594-a236-4c02-e08c-1f43fcdca025"
      },
      "execution_count": null,
      "outputs": [
        {
          "output_type": "stream",
          "name": "stdout",
          "text": [
            "{'this': 9, 'is': 3, 'the': 7, 'first': 2, 'document': 1, 'second': 6, 'and': 0, 'third': 8, 'one': 5, 'last': 4}\n",
            "{'this': 2, 'the': 0, 'third': 1}\n"
          ]
        }
      ]
    },
    {
      "cell_type": "code",
      "source": [
        "#### Ngram\n",
        "# N그램은 단어장 생성에 사용할 토큰의 크기를 결정한다. 모노그램(monogram)은 토큰 하나만 단어로 사용하며 바이그램(bigram)은 두 개의 연결된 토큰을 하나의 단어로 사용한다.\n",
        "vect = CountVectorizer(ngram_range=(2, 3)).fit(corpus)\n",
        "vect.vocabulary_"
      ],
      "metadata": {
        "colab": {
          "base_uri": "https://localhost:8080/"
        },
        "id": "Dd1epAAwgtkk",
        "outputId": "4349b617-95f0-46ea-a6e8-9d8e3c6c00d4"
      },
      "execution_count": null,
      "outputs": [
        {
          "output_type": "execute_result",
          "data": {
            "text/plain": [
              "{'this is': 21,\n",
              " 'is the': 3,\n",
              " 'the first': 12,\n",
              " 'first document': 2,\n",
              " 'this is the': 22,\n",
              " 'is the first': 4,\n",
              " 'the first document': 13,\n",
              " 'the second': 16,\n",
              " 'second second': 10,\n",
              " 'second document': 9,\n",
              " 'is the second': 5,\n",
              " 'the second second': 17,\n",
              " 'second second document': 11,\n",
              " 'and the': 0,\n",
              " 'the third': 18,\n",
              " 'third one': 20,\n",
              " 'and the third': 1,\n",
              " 'the third one': 19,\n",
              " 'is this': 6,\n",
              " 'this the': 23,\n",
              " 'is this the': 7,\n",
              " 'this the first': 24,\n",
              " 'the last': 14,\n",
              " 'last document': 8,\n",
              " 'the last document': 15}"
            ]
          },
          "metadata": {},
          "execution_count": 145
        }
      ]
    },
    {
      "cell_type": "markdown",
      "source": [
        "### TfidfVectorizer\n",
        "* TF-IDF라는 특정한 값을 사용해서 추출한다.\n",
        "* TF: 한 데이터 안에서 특정 단어가 나타나는 횟수\n",
        "* DF: 문서 빈도값, 특정 단어가 여러 데이터에 얼마나 자주 나타나는지 알려주는 척도\n",
        "\n",
        "Frequency - Inversed Document Frequency)\n",
        "\n",
        "TF-IDF(Term Frequency – Inverse Document Frequency) 인코딩은 단어를 갯수 그대로 카운트하지 않고 모든 문서에 공통적으로 들어있는 단어의 경우 문서 구별 능력이 떨어진다고 보아 가중치를 축소하는 방법이다.\n",
        "\n",
        "\n",
        "구제적으로는 문서 $d$(document)와 단어 $t$ 에 대해 다음과 같이 계산한다.\n",
        "\n",
        "$$ \\text{tf-idf}(d, t) = \\text{tf}(d, t) \\cdot \\text{idf}(t) $$\n",
        "\n",
        "\n",
        "여기에서\n",
        "\n",
        "* $\\text{tf}(d, t)$: term frequency. 특정한 단어의 빈도수\n",
        "* $\\text{idf}(t)$ : inverse document frequency. 특정한 단어가 들어 있는 문서의 수에 반비례하는 수\n",
        "\n",
        " $$ \\text{idf}(d, t) = \\log \\dfrac{n}{1 + \\text{df}(t)} $$\n",
        "\n",
        "* $n$ : 전체 문서의 수\n",
        "* $\\text{df}(t)$:  단어 $t$를 가진 문서의 수\n"
      ],
      "metadata": {
        "id": "sGkXlKfBaEIa"
      }
    },
    {
      "cell_type": "code",
      "source": [
        "from sklearn.feature_extraction.text import TfidfVectorizer\n",
        "\n",
        "text_data = ['나는 배가 고프다',\n",
        "             '내일 점심 뭐먹지',\n",
        "             '내일 공부 해야겠다',\n",
        "             '점심 먹고 공부해야지']\n",
        "\n",
        "# 단어 사전 만들기\n",
        "tfidf_vectorizer = TfidfVectorizer()\n",
        "tfidf_vectorizer.fit(text_data)\n",
        "print(tfidf_vectorizer.vocabulary_)"
      ],
      "metadata": {
        "colab": {
          "base_uri": "https://localhost:8080/"
        },
        "id": "kZzPq3_gabOq",
        "outputId": "7e8c9ee0-b655-4958-b1ed-85b2fa05d66b"
      },
      "execution_count": null,
      "outputs": [
        {
          "output_type": "stream",
          "name": "stdout",
          "text": [
            "{'나는': 3, '배가': 7, '고프다': 0, '내일': 4, '점심': 8, '뭐먹지': 6, '공부': 1, '해야겠다': 9, '먹고': 5, '공부해야지': 2}\n"
          ]
        }
      ]
    },
    {
      "cell_type": "code",
      "source": [
        "# 벡터로 만들기\n",
        "for text in text_data:\n",
        "    print(tfidf_vectorizer.transform([text]).toarray())"
      ],
      "metadata": {
        "colab": {
          "base_uri": "https://localhost:8080/"
        },
        "id": "vK-Zh26Ca_xX",
        "outputId": "c3b9117f-5b88-41cb-873e-387f33282a82"
      },
      "execution_count": null,
      "outputs": [
        {
          "output_type": "stream",
          "name": "stdout",
          "text": [
            "[[0.57735027 0.         0.         0.57735027 0.         0.\n",
            "  0.         0.57735027 0.         0.        ]]\n",
            "[[0.         0.         0.         0.         0.52640543 0.\n",
            "  0.66767854 0.         0.52640543 0.        ]]\n",
            "[[0.         0.61761437 0.         0.         0.48693426 0.\n",
            "  0.         0.         0.         0.61761437]]\n",
            "[[0.         0.         0.61761437 0.         0.         0.61761437\n",
            "  0.         0.         0.48693426 0.        ]]\n"
          ]
        }
      ]
    },
    {
      "cell_type": "code",
      "source": [
        "corpus = [\n",
        "    'This is the first document.',\n",
        "    'This is the second second document.',\n",
        "    'And the third one.',\n",
        "    'Is this the first document?',\n",
        "    'The last document?',\n",
        "]\n",
        "\n",
        "# 단어 사전 만들기\n",
        "tfidf_vectorizer = TfidfVectorizer()\n",
        "tfidf_vectorizer.fit(corpus)\n",
        "\n",
        "# 각 문장을 벡터로 만들기\n",
        "import pandas as pd\n",
        "df = pd.DataFrame(tfidf_vectorizer.transform(corpus).toarray(), columns=tfidf_vectorizer.get_feature_names())\n",
        "df"
      ],
      "metadata": {
        "colab": {
          "base_uri": "https://localhost:8080/",
          "height": 261
        },
        "id": "kMRb11r7uYBl",
        "outputId": "4acb379e-cf17-4498-c66b-39abd661eae7"
      },
      "execution_count": null,
      "outputs": [
        {
          "output_type": "stream",
          "name": "stderr",
          "text": [
            "/usr/local/lib/python3.7/dist-packages/sklearn/utils/deprecation.py:87: FutureWarning: Function get_feature_names is deprecated; get_feature_names is deprecated in 1.0 and will be removed in 1.2. Please use get_feature_names_out instead.\n",
            "  warnings.warn(msg, category=FutureWarning)\n"
          ]
        },
        {
          "output_type": "execute_result",
          "data": {
            "text/plain": [
              "        and  document     first        is      last       one    second  \\\n",
              "0  0.000000  0.389476  0.557751  0.462983  0.000000  0.000000  0.000000   \n",
              "1  0.000000  0.241515  0.000000  0.287097  0.000000  0.000000  0.857376   \n",
              "2  0.556669  0.000000  0.000000  0.000000  0.000000  0.556669  0.000000   \n",
              "3  0.000000  0.389476  0.557751  0.462983  0.000000  0.000000  0.000000   \n",
              "4  0.000000  0.453331  0.000000  0.000000  0.804659  0.000000  0.000000   \n",
              "\n",
              "        the     third      this  \n",
              "0  0.329417  0.000000  0.462983  \n",
              "1  0.204272  0.000000  0.287097  \n",
              "2  0.265256  0.556669  0.000000  \n",
              "3  0.329417  0.000000  0.462983  \n",
              "4  0.383424  0.000000  0.000000  "
            ],
            "text/html": [
              "\n",
              "  <div id=\"df-5e49dc9d-cd04-4c43-b462-6e57d590eee0\">\n",
              "    <div class=\"colab-df-container\">\n",
              "      <div>\n",
              "<style scoped>\n",
              "    .dataframe tbody tr th:only-of-type {\n",
              "        vertical-align: middle;\n",
              "    }\n",
              "\n",
              "    .dataframe tbody tr th {\n",
              "        vertical-align: top;\n",
              "    }\n",
              "\n",
              "    .dataframe thead th {\n",
              "        text-align: right;\n",
              "    }\n",
              "</style>\n",
              "<table border=\"1\" class=\"dataframe\">\n",
              "  <thead>\n",
              "    <tr style=\"text-align: right;\">\n",
              "      <th></th>\n",
              "      <th>and</th>\n",
              "      <th>document</th>\n",
              "      <th>first</th>\n",
              "      <th>is</th>\n",
              "      <th>last</th>\n",
              "      <th>one</th>\n",
              "      <th>second</th>\n",
              "      <th>the</th>\n",
              "      <th>third</th>\n",
              "      <th>this</th>\n",
              "    </tr>\n",
              "  </thead>\n",
              "  <tbody>\n",
              "    <tr>\n",
              "      <th>0</th>\n",
              "      <td>0.000000</td>\n",
              "      <td>0.389476</td>\n",
              "      <td>0.557751</td>\n",
              "      <td>0.462983</td>\n",
              "      <td>0.000000</td>\n",
              "      <td>0.000000</td>\n",
              "      <td>0.000000</td>\n",
              "      <td>0.329417</td>\n",
              "      <td>0.000000</td>\n",
              "      <td>0.462983</td>\n",
              "    </tr>\n",
              "    <tr>\n",
              "      <th>1</th>\n",
              "      <td>0.000000</td>\n",
              "      <td>0.241515</td>\n",
              "      <td>0.000000</td>\n",
              "      <td>0.287097</td>\n",
              "      <td>0.000000</td>\n",
              "      <td>0.000000</td>\n",
              "      <td>0.857376</td>\n",
              "      <td>0.204272</td>\n",
              "      <td>0.000000</td>\n",
              "      <td>0.287097</td>\n",
              "    </tr>\n",
              "    <tr>\n",
              "      <th>2</th>\n",
              "      <td>0.556669</td>\n",
              "      <td>0.000000</td>\n",
              "      <td>0.000000</td>\n",
              "      <td>0.000000</td>\n",
              "      <td>0.000000</td>\n",
              "      <td>0.556669</td>\n",
              "      <td>0.000000</td>\n",
              "      <td>0.265256</td>\n",
              "      <td>0.556669</td>\n",
              "      <td>0.000000</td>\n",
              "    </tr>\n",
              "    <tr>\n",
              "      <th>3</th>\n",
              "      <td>0.000000</td>\n",
              "      <td>0.389476</td>\n",
              "      <td>0.557751</td>\n",
              "      <td>0.462983</td>\n",
              "      <td>0.000000</td>\n",
              "      <td>0.000000</td>\n",
              "      <td>0.000000</td>\n",
              "      <td>0.329417</td>\n",
              "      <td>0.000000</td>\n",
              "      <td>0.462983</td>\n",
              "    </tr>\n",
              "    <tr>\n",
              "      <th>4</th>\n",
              "      <td>0.000000</td>\n",
              "      <td>0.453331</td>\n",
              "      <td>0.000000</td>\n",
              "      <td>0.000000</td>\n",
              "      <td>0.804659</td>\n",
              "      <td>0.000000</td>\n",
              "      <td>0.000000</td>\n",
              "      <td>0.383424</td>\n",
              "      <td>0.000000</td>\n",
              "      <td>0.000000</td>\n",
              "    </tr>\n",
              "  </tbody>\n",
              "</table>\n",
              "</div>\n",
              "      <button class=\"colab-df-convert\" onclick=\"convertToInteractive('df-5e49dc9d-cd04-4c43-b462-6e57d590eee0')\"\n",
              "              title=\"Convert this dataframe to an interactive table.\"\n",
              "              style=\"display:none;\">\n",
              "        \n",
              "  <svg xmlns=\"http://www.w3.org/2000/svg\" height=\"24px\"viewBox=\"0 0 24 24\"\n",
              "       width=\"24px\">\n",
              "    <path d=\"M0 0h24v24H0V0z\" fill=\"none\"/>\n",
              "    <path d=\"M18.56 5.44l.94 2.06.94-2.06 2.06-.94-2.06-.94-.94-2.06-.94 2.06-2.06.94zm-11 1L8.5 8.5l.94-2.06 2.06-.94-2.06-.94L8.5 2.5l-.94 2.06-2.06.94zm10 10l.94 2.06.94-2.06 2.06-.94-2.06-.94-.94-2.06-.94 2.06-2.06.94z\"/><path d=\"M17.41 7.96l-1.37-1.37c-.4-.4-.92-.59-1.43-.59-.52 0-1.04.2-1.43.59L10.3 9.45l-7.72 7.72c-.78.78-.78 2.05 0 2.83L4 21.41c.39.39.9.59 1.41.59.51 0 1.02-.2 1.41-.59l7.78-7.78 2.81-2.81c.8-.78.8-2.07 0-2.86zM5.41 20L4 18.59l7.72-7.72 1.47 1.35L5.41 20z\"/>\n",
              "  </svg>\n",
              "      </button>\n",
              "      \n",
              "  <style>\n",
              "    .colab-df-container {\n",
              "      display:flex;\n",
              "      flex-wrap:wrap;\n",
              "      gap: 12px;\n",
              "    }\n",
              "\n",
              "    .colab-df-convert {\n",
              "      background-color: #E8F0FE;\n",
              "      border: none;\n",
              "      border-radius: 50%;\n",
              "      cursor: pointer;\n",
              "      display: none;\n",
              "      fill: #1967D2;\n",
              "      height: 32px;\n",
              "      padding: 0 0 0 0;\n",
              "      width: 32px;\n",
              "    }\n",
              "\n",
              "    .colab-df-convert:hover {\n",
              "      background-color: #E2EBFA;\n",
              "      box-shadow: 0px 1px 2px rgba(60, 64, 67, 0.3), 0px 1px 3px 1px rgba(60, 64, 67, 0.15);\n",
              "      fill: #174EA6;\n",
              "    }\n",
              "\n",
              "    [theme=dark] .colab-df-convert {\n",
              "      background-color: #3B4455;\n",
              "      fill: #D2E3FC;\n",
              "    }\n",
              "\n",
              "    [theme=dark] .colab-df-convert:hover {\n",
              "      background-color: #434B5C;\n",
              "      box-shadow: 0px 1px 3px 1px rgba(0, 0, 0, 0.15);\n",
              "      filter: drop-shadow(0px 1px 2px rgba(0, 0, 0, 0.3));\n",
              "      fill: #FFFFFF;\n",
              "    }\n",
              "  </style>\n",
              "\n",
              "      <script>\n",
              "        const buttonEl =\n",
              "          document.querySelector('#df-5e49dc9d-cd04-4c43-b462-6e57d590eee0 button.colab-df-convert');\n",
              "        buttonEl.style.display =\n",
              "          google.colab.kernel.accessAllowed ? 'block' : 'none';\n",
              "\n",
              "        async function convertToInteractive(key) {\n",
              "          const element = document.querySelector('#df-5e49dc9d-cd04-4c43-b462-6e57d590eee0');\n",
              "          const dataTable =\n",
              "            await google.colab.kernel.invokeFunction('convertToInteractive',\n",
              "                                                     [key], {});\n",
              "          if (!dataTable) return;\n",
              "\n",
              "          const docLinkHtml = 'Like what you see? Visit the ' +\n",
              "            '<a target=\"_blank\" href=https://colab.research.google.com/notebooks/data_table.ipynb>data table notebook</a>'\n",
              "            + ' to learn more about interactive tables.';\n",
              "          element.innerHTML = '';\n",
              "          dataTable['output_type'] = 'display_data';\n",
              "          await google.colab.output.renderOutput(dataTable, element);\n",
              "          const docLink = document.createElement('div');\n",
              "          docLink.innerHTML = docLinkHtml;\n",
              "          element.appendChild(docLink);\n",
              "        }\n",
              "      </script>\n",
              "    </div>\n",
              "  </div>\n",
              "  "
            ]
          },
          "metadata": {},
          "execution_count": 147
        }
      ]
    }
  ]
}