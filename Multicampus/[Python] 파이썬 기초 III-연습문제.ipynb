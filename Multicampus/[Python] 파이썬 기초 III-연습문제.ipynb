{
 "cells": [
  {
   "cell_type": "markdown",
   "metadata": {},
   "source": [
    "# 계산기 만들기"
   ]
  },
  {
   "cell_type": "markdown",
   "metadata": {},
   "source": [
    "## Version 1"
   ]
  },
  {
   "cell_type": "code",
   "execution_count": null,
   "metadata": {},
   "outputs": [
    {
     "name": "stdout",
     "output_type": "stream",
     "text": [
      "==================================================\n",
      "1. 더하기\n",
      "2. 빼기\n",
      "3. 곱하기\n",
      "4. 나누기\n",
      "5. 나머지구하기\n",
      "==================================================\n",
      "0으로 나눌 수 없습니다.\n",
      "연산 결과: 50.0 / 0.0 = None\n",
      "==================================================\n",
      "1. 더하기\n",
      "2. 빼기\n",
      "3. 곱하기\n",
      "4. 나누기\n",
      "5. 나머지구하기\n",
      "==================================================\n",
      "0으로 나눌 수 없습니다.\n",
      "연산 결과: 50.0 / 0.0 = None\n",
      "종료를 선택하셨습니다. 프로그램을 종료합니다.\n"
     ]
    }
   ],
   "source": [
    "# 연습문제(여러 이용하기)\n",
    "## 함수 \n",
    "\n",
    "def add(a, b):  # 1.더하기\n",
    "    return a + b\n",
    "\n",
    "def sub(a, b):  # 2.빼기\n",
    "    return a - b\n",
    "\n",
    "def mul(a, b):  # 3. 곱하기\n",
    "    return a * b\n",
    "\n",
    "def div(a, b):  # 4.나누기\n",
    "    return a / b\n",
    "\n",
    "def rem(a, b):  # 5.나머지\n",
    "    return a % b\n",
    "\n",
    "def mycalc(a, b, op):\n",
    "    if op >= 4 and b == 0:\n",
    "        return print('0으로 나눌 수 없습니다.')\n",
    "    elif op == 1:\n",
    "        return add(a, b)\n",
    "    elif op == 2:\n",
    "        return sub(a, b)\n",
    "    elif op == 3:\n",
    "        return mul(a, b)\n",
    "    elif op == 4:\n",
    "        return div(a, b)\n",
    "    else:\n",
    "        return rem(a, b)\n",
    "\n",
    "def intro():\n",
    "    print('='*50)\n",
    "    print('1. 더하기','2. 빼기','3. 곱하기','4. 나누기','5. 나머지구하기',sep='\\n')\n",
    "    print('='*50)\n",
    "\n",
    "symbol = ['+', '-', '*', '/', '%']\n",
    "\n",
    "# 계산기 시작\n",
    "num1 = float(input('첫번째 숫자를 입력하세요'))\n",
    "num2 = float(input('두번째 숫자를 입력하세요'))\n",
    "\n",
    "while True:\n",
    "    intro()\n",
    "    op = int(input('원하는 연산자를 입력하세요.'))\n",
    "    if op in range(1,len(symbol)+1):\n",
    "        result = mycalc(num1, num2, op)\n",
    "        \n",
    "        print('연산 결과:',num1 ,symbol[op-1], num2,'=', result)\n",
    "        \n",
    "        reset = int(input('새로 입력하시겠습니까?(1:Yes, 2:No, 3: 종료)'))\n",
    "        if reset == 1:\n",
    "            num1 = float(input('첫번째 숫자를 입력하세요'))\n",
    "            num2 = float(input('두번째 숫자를 입력하세요'))\n",
    "        elif reset == 2:\n",
    "            continue\n",
    "        elif reset == 3:\n",
    "            print('종료를 선택하셨습니다. 프로그램을 종료합니다.')\n",
    "            break\n",
    "        else:\n",
    "            print('잘못 선택하셨습니다. 다시 입력해주세요.')\n",
    "            reset = int(input('새로 입력하시겠습니까?(1:Yes, 2:No, 3: 종료)'))\n",
    "    else:\n",
    "        print('잘못 선택하셨습니다. 프로그램을 종료합니다.')\n",
    "        break"
   ]
  },
  {
   "cell_type": "code",
   "execution_count": null,
   "metadata": {},
   "outputs": [
    {
     "name": "stdout",
     "output_type": "stream",
     "text": [
      "연산 결과: 5.0 * 2.0 = 1.0\n"
     ]
    }
   ],
   "source": [
    "num1 = 5.0\n",
    "num2 = 2.0\n",
    "op = 3\n",
    "symbol = ['+', '-', '*', '/', '%']\n",
    "print('연산 결과:',num1 ,symbol[op-1], num2,'=', result)\n",
    "# print('연산 결과:',num1 ,symbol[op-1], num2,'=', result[op-1])"
   ]
  },
  {
   "cell_type": "markdown",
   "metadata": {},
   "source": [
    "## Version 2"
   ]
  },
  {
   "cell_type": "code",
   "execution_count": null,
   "metadata": {},
   "outputs": [],
   "source": [
    "### 계산기 프로그램\n",
    "\n",
    "def add(a, b):  # 1.더하기\n",
    "    return a + b\n",
    "\n",
    "def sub(a, b):  # 2.빼기\n",
    "    return a - b\n",
    "\n",
    "def mul(a, b):  # 3. 곱하기\n",
    "    return a * b\n",
    "\n",
    "def div(a, b):  # 4.나누기\n",
    "    return a / b\n",
    "\n",
    "def rem(a, b):  # 5.나머지\n",
    "## 메인 프로그램 시작\n",
    "while True:\n",
    "    intro()\n",
    "    menu = int(input(\"원하는 연산자를 입력하세요: \"))\n",
    "\n",
    "    if menu in [1, 2, 3, 4, 5]:\n",
    "        x = int(input(\"첫번째 숫자를 입력하세요 : \"))\n",
    "        y = int(input(\"두번째 숫자를 입력하세요 : \"))\n",
    "        \n",
    "        if y == 0 and (menu == 4 or menu == 5): # 0으로 나누는 경우\n",
    "            print(\"@@@ 0으로 나눌수 없습니다!\")\n",
    "            continue\n",
    "        result = process(menu, x, y)\n",
    "        print(f\"결과는 {result}입니다.\")  \n",
    "              \n",
    "    elif menu == 6: # 6.나가기\n",
    "        print(\"종료를 선택하셨습니다. 프로그램을 종료합니다!!!\")\n",
    "        break\n",
    "    else:  # 잘못입력\n",
    "        print(\"잘못 입력하셨습니다. 다시 입력해 주세요.\")\n"
   ]
  },
  {
   "cell_type": "markdown",
   "metadata": {},
   "source": [
    "# 함수를 만들고 계산하기"
   ]
  },
  {
   "cell_type": "code",
   "execution_count": null,
   "metadata": {},
   "outputs": [
    {
     "name": "stdout",
     "output_type": "stream",
     "text": [
      "11\n",
      "4\n",
      "15\n",
      "121\n",
      "151\n"
     ]
    }
   ],
   "source": [
    "# 연습문제 \n",
    "def f(x):\n",
    "    return 2 * x + 7\n",
    "def g(x):\n",
    "    return x ** 2\n",
    "\n",
    "x = 2\n",
    "\n",
    "print(f(2))\n",
    "print(g(2))\n",
    "print(f(g(x)))\n",
    "print(g(f(x)))\n",
    "print(f(x) + g(x) + f(g(x)) + g(f(x)))"
   ]
  },
  {
   "cell_type": "markdown",
   "metadata": {},
   "source": [
    "# 재귀함수"
   ]
  },
  {
   "cell_type": "code",
   "execution_count": null,
   "metadata": {},
   "outputs": [
    {
     "name": "stdout",
     "output_type": "stream",
     "text": [
      "Hello, world 5\n",
      "Hello, world 4\n",
      "Hello, world 3\n",
      "Hello, world 2\n",
      "Hello, world 1\n"
     ]
    }
   ],
   "source": [
    "# 연습문제 \n",
    "def hello(count):\n",
    "    if count == 0:\n",
    "        return \n",
    "    \n",
    "    print('Hello, world', count)\n",
    "    \n",
    "    count -= 1\n",
    "    hello(count)\n",
    "\n",
    "hello(5)"
   ]
  },
  {
   "cell_type": "code",
   "execution_count": null,
   "metadata": {},
   "outputs": [
    {
     "name": "stdout",
     "output_type": "stream",
     "text": [
      "120\n"
     ]
    }
   ],
   "source": [
    "# 팩토리얼 함수 \n",
    "def factorial(n):\n",
    "    if n == 1:\n",
    "        return 1\n",
    "    return n* factorial(n-1)\n",
    "\n",
    "print(factorial(5))"
   ]
  },
  {
   "cell_type": "markdown",
   "metadata": {},
   "source": [
    "# Lambda 함수"
   ]
  },
  {
   "cell_type": "code",
   "execution_count": null,
   "metadata": {},
   "outputs": [
    {
     "name": "stdout",
     "output_type": "stream",
     "text": [
      "11\n",
      "[11, 12, 13]\n",
      "11\n",
      "[11, 12, 13]\n"
     ]
    }
   ],
   "source": [
    "# 람다로 함수 만들기 \n",
    "def plus_ten(x):\n",
    "    return x + 10\n",
    "print(plus_ten(1))\n",
    "print(list(map(plus_ten, [1, 2, 3])))\n",
    "\n",
    "plus_ten = lambda x: x+ 10\n",
    "print(plus_ten(1))\n",
    "\n",
    "print(list(map(plus_ten, [1, 2, 3])))"
   ]
  },
  {
   "cell_type": "code",
   "execution_count": null,
   "metadata": {},
   "outputs": [
    {
     "name": "stdout",
     "output_type": "stream",
     "text": [
      "[1, 2, '3', 4, 5, '6', 7, 8, '9', 10]\n",
      "['1', 2.0, 13, 14, 15, 16, 17, 18, 19, 20]\n"
     ]
    }
   ],
   "source": [
    "# 람다 조건식\n",
    "a = [1, 2, 3, 4, 5, 6, 7, 8, 9, 10]\n",
    "\n",
    "result = list(map(lambda x: str(x) if x % 3 == 0 else x, a))\n",
    "print(result)\n",
    "\n",
    "result = list(map(lambda x: str(x) if x == 1 else float(x) if x == 2 else x+ 10, a))\n",
    "print(result)"
   ]
  },
  {
   "cell_type": "code",
   "execution_count": null,
   "metadata": {},
   "outputs": [
    {
     "name": "stdout",
     "output_type": "stream",
     "text": [
      "[2, 8, 18, 32, 50]\n"
     ]
    }
   ],
   "source": [
    "#  객체 여러 개 \n",
    "a = [1, 2, 3, 4, 5]\n",
    "b = [2, 4, 6, 8, 10]\n",
    "\n",
    "print(list(map(lambda x,y: x*y, a, b)))"
   ]
  },
  {
   "cell_type": "markdown",
   "metadata": {},
   "source": [
    "# Filter 함수"
   ]
  },
  {
   "cell_type": "code",
   "execution_count": null,
   "metadata": {},
   "outputs": [
    {
     "name": "stdout",
     "output_type": "stream",
     "text": [
      "[8, 7, 9]\n"
     ]
    }
   ],
   "source": [
    "# filter \n",
    "def f(x): \n",
    "    return x > 5 and x < 10\n",
    "\n",
    "a = [8, 3, 2, 10, 15, 7, 1, 9, 0, 11]\n",
    "print(list(filter(f, a)))\n",
    "\n"
   ]
  },
  {
   "cell_type": "markdown",
   "metadata": {},
   "source": [
    "# Reduce 함수"
   ]
  },
  {
   "cell_type": "code",
   "execution_count": null,
   "metadata": {},
   "outputs": [
    {
     "name": "stdout",
     "output_type": "stream",
     "text": [
      "15\n",
      "15\n"
     ]
    }
   ],
   "source": [
    "# reduce \n",
    "def f(x, y):\n",
    "    return x + y\n",
    "\n",
    "a = [1, 2, 3, 4, 5]\n",
    "from functools import reduce\n",
    "print(reduce(f, a))\n",
    "    \n",
    "print(reduce(lambda x, y: x + y, a))"
   ]
  },
  {
   "cell_type": "markdown",
   "metadata": {},
   "source": [
    "# 함수에 따른 변수 이해"
   ]
  },
  {
   "cell_type": "code",
   "execution_count": null,
   "metadata": {},
   "outputs": [
    {
     "name": "stdout",
     "output_type": "stream",
     "text": [
      "10\n",
      "10\n"
     ]
    }
   ],
   "source": [
    "def foo():\n",
    "    print(x) \n",
    "    \n",
    "x = 10 \n",
    "foo()\n",
    "print(x)"
   ]
  },
  {
   "cell_type": "code",
   "execution_count": null,
   "metadata": {},
   "outputs": [
    {
     "name": "stdout",
     "output_type": "stream",
     "text": [
      "10\n",
      "5\n"
     ]
    }
   ],
   "source": [
    "def foo():\n",
    "    x = 10 \n",
    "    print(x)\n",
    "\n",
    "x = 5    \n",
    "foo()\n",
    "print(x)"
   ]
  },
  {
   "cell_type": "code",
   "execution_count": null,
   "metadata": {},
   "outputs": [
    {
     "name": "stdout",
     "output_type": "stream",
     "text": [
      "10\n",
      "10\n"
     ]
    }
   ],
   "source": [
    "def foo():\n",
    "    global x\n",
    "    x = 10 \n",
    "    print(x)\n",
    "\n",
    "x = 5    \n",
    "foo()\n",
    "print(x)"
   ]
  },
  {
   "cell_type": "markdown",
   "metadata": {},
   "source": [
    "# 함수 안의 함수"
   ]
  },
  {
   "cell_type": "code",
   "execution_count": null,
   "metadata": {},
   "outputs": [
    {
     "name": "stdout",
     "output_type": "stream",
     "text": [
      "Hello, world!\n"
     ]
    }
   ],
   "source": [
    "def print_hello():\n",
    "    hello = 'Hello, world!'\n",
    "    def print_message():\n",
    "        print(hello)\n",
    "    print_message()\n",
    "\n",
    "print_hello()"
   ]
  },
  {
   "cell_type": "code",
   "execution_count": null,
   "metadata": {},
   "outputs": [
    {
     "name": "stdout",
     "output_type": "stream",
     "text": [
      "10\n"
     ]
    }
   ],
   "source": [
    "def A():\n",
    "    x = 10 \n",
    "    def B():\n",
    "        x = 20\n",
    "    \n",
    "    B()\n",
    "    print(x)\n",
    "\n",
    "A()"
   ]
  },
  {
   "cell_type": "code",
   "execution_count": null,
   "metadata": {},
   "outputs": [
    {
     "name": "stdout",
     "output_type": "stream",
     "text": [
      "20\n",
      "10\n"
     ]
    }
   ],
   "source": [
    "def A():\n",
    "    x = 5\n",
    "    def B():\n",
    "        nonlocal x\n",
    "        x = 20\n",
    "    \n",
    "    B()\n",
    "    print(x)\n",
    "\n",
    "A()\n",
    "print(x)"
   ]
  },
  {
   "cell_type": "code",
   "execution_count": null,
   "metadata": {},
   "outputs": [
    {
     "name": "stdout",
     "output_type": "stream",
     "text": [
      "50\n",
      "400\n"
     ]
    }
   ],
   "source": [
    "def A():\n",
    "    x = 10 \n",
    "    y = 100\n",
    "    def B():\n",
    "        x = 20 \n",
    "        def C():\n",
    "            nonlocal x\n",
    "            nonlocal y\n",
    "            x = x + 30\n",
    "            y = y + 300\n",
    "            print(x)\n",
    "            print(y)\n",
    "        C()\n",
    "    B()\n",
    "A()"
   ]
  },
  {
   "cell_type": "code",
   "execution_count": null,
   "metadata": {},
   "outputs": [
    {
     "name": "stdout",
     "output_type": "stream",
     "text": [
      "31\n",
      "31\n"
     ]
    }
   ],
   "source": [
    "x = 1\n",
    "def A():\n",
    "    x = 10 \n",
    "    def B():\n",
    "        x = 20 \n",
    "        def C():  \n",
    "            global x\n",
    "            x = x + 30\n",
    "            print(x)\n",
    "        C()\n",
    "    B()\n",
    "    \n",
    "A()\n",
    "print(x)"
   ]
  },
  {
   "cell_type": "code",
   "execution_count": null,
   "metadata": {},
   "outputs": [
    {
     "name": "stdout",
     "output_type": "stream",
     "text": [
      "[0, 1]\n"
     ]
    }
   ],
   "source": [
    "def spam(eggs):\n",
    "    eggs.append(1)\n",
    "    eggs = [2, 3]\n",
    "\n",
    "ham = [0]\n",
    "spam(ham)\n",
    "print(ham)"
   ]
  }
 ],
 "metadata": {
  "language_info": {
   "name": "python"
  },
  "orig_nbformat": 4
 },
 "nbformat": 4,
 "nbformat_minor": 2
}
