{
 "cells": [
  {
   "cell_type": "markdown",
   "metadata": {},
   "source": [
    "# 20220920 파이썬 기초(3)\n",
    "\n",
    "## 리스트의 할당과 복사"
   ]
  },
  {
   "cell_type": "code",
   "execution_count": 3,
   "metadata": {},
   "outputs": [
    {
     "name": "stdout",
     "output_type": "stream",
     "text": [
      "a, ['삽입', 0, 0, 0, 0, 0] b, ['삽입', 0, 0, 0, 0, 0]\n",
      "True\n",
      "2424183772672 2424183772672\n"
     ]
    }
   ],
   "source": [
    "a = [0, 0, 0, 0, 0]\n",
    "b = a\n",
    "\n",
    "a.insert(0,'삽입')\n",
    "print('a,',a,'b,',b)\n",
    "\n",
    "print(a is b)\n",
    "print(id(a), id(b))"
   ]
  },
  {
   "cell_type": "code",
   "execution_count": 6,
   "metadata": {},
   "outputs": [
    {
     "name": "stdout",
     "output_type": "stream",
     "text": [
      "a, ['삽입', 0, 0, 0, 0, 0] b, [0, 0, 0, 0, 0]\n",
      "False\n",
      "2424135789248 2424169609408\n"
     ]
    }
   ],
   "source": [
    "a = [0, 0, 0, 0, 0]\n",
    "b = a.copy()\n",
    "\n",
    "a.insert(0,'삽입')\n",
    "print('a,',a,'b,',b)\n",
    "\n",
    "print(a is b)\n",
    "print(id(a), id(b))"
   ]
  },
  {
   "cell_type": "markdown",
   "metadata": {},
   "source": [
    "## 리스트의 인덱스와 요소 함께 출력하기"
   ]
  },
  {
   "cell_type": "code",
   "execution_count": 16,
   "metadata": {},
   "outputs": [
    {
     "name": "stdout",
     "output_type": "stream",
     "text": [
      "[(0, 38), (1, 21), (2, 53), (3, 62), (4, 19)]\n",
      "0 38\n",
      "1 21\n",
      "2 53\n",
      "3 62\n",
      "4 19\n",
      "==============================\n",
      "0 38\n",
      "1 21\n",
      "2 53\n",
      "3 62\n",
      "4 19\n"
     ]
    }
   ],
   "source": [
    "a = [38, 21, 53, 62, 19]\n",
    "print(list(enumerate(a)))\n",
    "\n",
    "for index, value in enumerate(a):\n",
    "    print(index,value)\n",
    "\n",
    "print('='*30)\n",
    "    \n",
    "for i in range(len(a)):\n",
    "    print(i, a[i])"
   ]
  },
  {
   "cell_type": "code",
   "execution_count": 12,
   "metadata": {},
   "outputs": [
    {
     "name": "stdout",
     "output_type": "stream",
     "text": [
      "[1, 4, 6, 10]\n"
     ]
    }
   ],
   "source": [
    "# 연습문제 \n",
    "a = [10, 20, 30, 40, 20, 50, 20, 30, 60, 70, 20]\n",
    "result = []\n",
    "for index, value in enumerate(a):\n",
    "    if value == 20:\n",
    "        result.append(index)\n",
    "\n",
    "print(result)"
   ]
  },
  {
   "cell_type": "markdown",
   "metadata": {},
   "source": [
    "## While문에서 인덱스와 요소 함께 출력하기"
   ]
  },
  {
   "cell_type": "code",
   "execution_count": 14,
   "metadata": {},
   "outputs": [
    {
     "name": "stdout",
     "output_type": "stream",
     "text": [
      "0 38\n",
      "1 21\n",
      "2 53\n",
      "3 62\n",
      "4 19\n"
     ]
    }
   ],
   "source": [
    "a = [38, 21, 53, 62, 19]\n",
    "i = 0\n",
    "\n",
    "while i < len(a):\n",
    "    print(i, a[i])\n",
    "    i += 1"
   ]
  },
  {
   "cell_type": "markdown",
   "metadata": {},
   "source": [
    "## 정렬"
   ]
  },
  {
   "cell_type": "code",
   "execution_count": 25,
   "metadata": {},
   "outputs": [
    {
     "name": "stdout",
     "output_type": "stream",
     "text": [
      "19 62\n"
     ]
    }
   ],
   "source": [
    "# 연습문제 \n",
    "a = [38, 21, 53, 62, 19]\n",
    "minvalue = a[0]\n",
    "maxvalue = a[0]\n",
    "for value in a:\n",
    "    if value < minvalue:\n",
    "        minvalue = value\n",
    "    if value > maxvalue:\n",
    "        maxvalue = value\n",
    "\n",
    "print(minvalue, maxvalue)    "
   ]
  },
  {
   "cell_type": "code",
   "execution_count": 34,
   "metadata": {},
   "outputs": [
    {
     "name": "stdout",
     "output_type": "stream",
     "text": [
      "19\n",
      "62\n"
     ]
    }
   ],
   "source": [
    "a = [38, 21, 53, 62, 19]\n",
    "\n",
    "a.sort()\n",
    "print(a[0])\n",
    "\n",
    "a.sort(reverse=True)\n",
    "print(a[0])"
   ]
  },
  {
   "cell_type": "markdown",
   "metadata": {},
   "source": [
    "## 리스트 표현식 사용하기"
   ]
  },
  {
   "cell_type": "code",
   "execution_count": 41,
   "metadata": {},
   "outputs": [
    {
     "name": "stdout",
     "output_type": "stream",
     "text": [
      "[0, 1, 2, 3, 4, 5, 6, 7, 8, 9]\n",
      "[0, 1, 2, 3, 4, 5, 6, 7, 8, 9]\n",
      "[0, 0, 0, 0, 0, 0, 0, 0, 0, 0]\n",
      "[0, 1, 4, 9, 16, 25, 36, 49, 64, 81]\n",
      "[0, 2, 4, 6, 8]\n"
     ]
    }
   ],
   "source": [
    "a = [i for i in range(10)]\n",
    "print(a)\n",
    "\n",
    "b = list(i for i in range(10))\n",
    "print(b)\n",
    "\n",
    "c = [0 for i in range(10)]\n",
    "print(c)\n",
    "\n",
    "d = [i**2 for i in range(10)]\n",
    "print(d)\n",
    "\n",
    "e = [i for i in range(10) if i % 2==0]\n",
    "print(e)"
   ]
  },
  {
   "cell_type": "code",
   "execution_count": 44,
   "metadata": {},
   "outputs": [
    {
     "name": "stdout",
     "output_type": "stream",
     "text": [
      "[2, 4, 6, 8, 10, 12, 14, 16, 18, 3, 6, 9, 12, 15, 18, 21, 24, 27, 4, 8, 12, 16, 20, 24, 28, 32, 36, 5, 10, 15, 20, 25, 30, 35, 40, 45, 6, 12, 18, 24, 30, 36, 42, 48, 54, 7, 14, 21, 28, 35, 42, 49, 56, 63, 8, 16, 24, 32, 40, 48, 56, 64, 72, 9, 18, 27, 36, 45, 54, 63, 72, 81]\n"
     ]
    }
   ],
   "source": [
    "a = [i * j for i in range(2,10) \n",
    "           for j in range(1,10)]\n",
    "print(a)"
   ]
  },
  {
   "cell_type": "markdown",
   "metadata": {},
   "source": [
    "## map 사용하기"
   ]
  },
  {
   "cell_type": "code",
   "execution_count": 50,
   "metadata": {},
   "outputs": [
    {
     "name": "stdout",
     "output_type": "stream",
     "text": [
      "[1, 2, 3, 4]\n",
      "[1, 2, 3, 4]\n",
      "['1.2', '2.5', '3.7', '4.6']\n",
      "[1.2, 2.5, 3.7, 4.6]\n",
      "[1, 2, 3, 4, 5, 6]\n",
      "[1, 2, 3, 4, 5, 6]\n",
      "['1', '2', '3', '4', '5', '6']\n",
      "[1.0, 2.0, 3.0, 4.0, 5.0, 6.0]\n"
     ]
    }
   ],
   "source": [
    "a = [1.2, 2.5, 3.7, 4.6]\n",
    "\n",
    "print([int(i) for i in a])\n",
    "print(list(map(int,a)))\n",
    "print(list(map(str,a)))\n",
    "print(list(map(float,a)))\n",
    "\n",
    "b = \"123456\"\n",
    "print([int(i) for i in b])\n",
    "print(list(map(int,b)))\n",
    "print(list(map(str,b)))\n",
    "print(list(map(float,b)))\n"
   ]
  },
  {
   "cell_type": "markdown",
   "metadata": {},
   "source": [
    "## 튜플 응용하기"
   ]
  },
  {
   "cell_type": "code",
   "execution_count": 54,
   "metadata": {},
   "outputs": [
    {
     "name": "stdout",
     "output_type": "stream",
     "text": [
      "(1, 2, 3, 4)\n",
      "(1, 2, 3, 4)\n",
      "('1.2', '2.5', '3.7', '4.6')\n",
      "(1.2, 2.5, 3.7, 4.6)\n",
      "(1, 2, 3, 4, 5, 6)\n",
      "(1, 2, 3, 4, 5, 6)\n",
      "('1', '2', '3', '4', '5', '6')\n",
      "(1.0, 2.0, 3.0, 4.0, 5.0, 6.0)\n"
     ]
    }
   ],
   "source": [
    "# 수정이 불가한데 왜 바뀌는가? 수정하는게 아니고 새로운 객체를 만드는 것이다.\n",
    "a = [1.2, 2.5, 3.7, 4.6]\n",
    "\n",
    "print(tuple(int(i) for i in a))\n",
    "print(tuple(map(int,a)))\n",
    "print(tuple(map(str,a)))\n",
    "print(tuple(map(float,a)))\n",
    "\n",
    "b = \"123456\"\n",
    "print(tuple(int(i) for i in b))\n",
    "print(tuple(map(int,b)))\n",
    "print(tuple(map(str,b)))\n",
    "print(tuple(map(float,b)))\n"
   ]
  },
  {
   "cell_type": "code",
   "execution_count": 56,
   "metadata": {},
   "outputs": [
    {
     "name": "stdout",
     "output_type": "stream",
     "text": [
      "['alpha', 'bravo', 'delta', 'hotel', 'india']\n"
     ]
    }
   ],
   "source": [
    "# 연습문제 \n",
    "a = ['alpha', 'bravo', 'charlie', 'delta', 'echo', 'foxtrot', 'golf', 'hotel', 'india']\n",
    "b = [i for i in a if len(i)==5]\n",
    "\n",
    "print(b)"
   ]
  },
  {
   "cell_type": "code",
   "execution_count": 70,
   "metadata": {},
   "outputs": [
    {
     "name": "stdout",
     "output_type": "stream",
     "text": [
      "[1024, 4096, 8192, 16384, 32768, 65536, 131072, 262144, 1048576]\n"
     ]
    }
   ],
   "source": [
    "# 연습문제\n",
    "x, y= map(int,input('두 개의 정수를 입력하세요(공백으로 구분)').split())\n",
    "\n",
    "\n",
    "lst = list(range(x,y+1))\n",
    "del lst[1], lst[-2]\n",
    "\n",
    "print([2**i for i in lst])"
   ]
  },
  {
   "cell_type": "code",
   "execution_count": 74,
   "metadata": {},
   "outputs": [
    {
     "name": "stdout",
     "output_type": "stream",
     "text": [
      "[8, 18, 20, 23, 23, 30, 32]\n",
      "[4, 8, 9, 19, 39, 41, 44]\n",
      "[5, 9, 11, 13, 14, 37, 39]\n",
      "[9, 14, 28, 37, 43, 44, 50]\n",
      "[6, 14, 17, 29, 34, 42, 42]\n",
      "[9, 10, 14, 26, 27, 43, 50]\n",
      "[14, 17, 20, 22, 24, 33, 43]\n",
      "[8, 12, 12, 20, 35, 35, 44]\n",
      "[1, 8, 8, 13, 23, 32, 43]\n",
      "[4, 10, 28, 36, 37, 37, 43]\n"
     ]
    }
   ],
   "source": [
    "# 로또 번호 생성기 만들기 \n",
    "import random \n",
    "\n",
    "for i in range(10):\n",
    "    lotto = [random.randint(1,50) for i in range(7)]\n",
    "    lotto.sort()\n",
    "    print(lotto)"
   ]
  },
  {
   "cell_type": "code",
   "execution_count": 81,
   "metadata": {},
   "outputs": [
    {
     "name": "stdout",
     "output_type": "stream",
     "text": [
      "[4, 9, 15, 17, 28, 45, 49]\n",
      "[11, 14, 20, 29, 36, 38, 49]\n",
      "[5, 20, 25, 26, 37, 42]\n",
      "[6, 18, 23, 24, 28, 46]\n",
      "[4, 7, 25, 32, 38, 40]\n",
      "[2, 5, 11, 13, 33, 37, 44]\n",
      "[5, 6, 16, 33, 42, 48]\n",
      "[5, 15, 16, 18, 22, 33, 35]\n",
      "[3, 25, 29, 30, 37, 46, 50]\n",
      "[1, 8, 21, 23, 40, 46, 50]\n"
     ]
    }
   ],
   "source": [
    "# 로또 번호 생성기 만들기 (동일숫자 안나오게 하기) - 1\n",
    "import random \n",
    "\n",
    "for i in range(10):\n",
    "    lotto = []\n",
    "    for j in range(7):\n",
    "        rd = random.randint(1,50)\n",
    "        if rd in lotto:\n",
    "            continue\n",
    "        else:\n",
    "            lotto.append(rd)\n",
    "    lotto.sort()\n",
    "    print(lotto)"
   ]
  },
  {
   "cell_type": "code",
   "execution_count": 82,
   "metadata": {},
   "outputs": [
    {
     "name": "stdout",
     "output_type": "stream",
     "text": [
      "[4, 5, 6, 7, 11, 27, 49]\n",
      "[11, 19, 22, 34, 37, 42, 48]\n",
      "[1, 4, 6, 19, 20, 29, 47]\n",
      "[2, 15, 18, 25, 29, 35, 47]\n",
      "[12, 27, 31, 35, 41, 43, 47]\n",
      "[11, 17, 28, 32, 37, 42, 49]\n",
      "[3, 5, 16, 29, 41, 45, 49]\n",
      "[12, 22, 24, 25, 32, 37, 38]\n",
      "[11, 16, 20, 33, 35, 38, 40]\n",
      "[13, 29, 31, 33, 37, 39, 50]\n"
     ]
    }
   ],
   "source": [
    "# 로또 번호 생성기 만들기 (동일숫자 안나오게 하기) - 2\n",
    "import random \n",
    "\n",
    "for i in range(10):\n",
    "    lotto = []\n",
    "    while len(lotto) < 7:\n",
    "        rd = random.randint(1, 50)\n",
    "        if rd not in lotto:\n",
    "            lotto.append(rd)\n",
    "    lotto.sort()\n",
    "    print(lotto)"
   ]
  },
  {
   "cell_type": "code",
   "execution_count": 83,
   "metadata": {},
   "outputs": [
    {
     "name": "stdout",
     "output_type": "stream",
     "text": [
      "[4, 18, 29, 38, 41, 43, 45]\n",
      "[5, 14, 15, 19, 20, 25, 47]\n",
      "[2, 6, 23, 26, 33, 43, 48]\n",
      "[15, 16, 19, 27, 37, 43, 44]\n",
      "[7, 11, 21, 34, 39, 42, 46]\n",
      "[8, 19, 23, 26, 30, 31, 37]\n",
      "[3, 9, 10, 25, 26, 34, 45]\n",
      "[4, 10, 18, 30, 39, 43, 48]\n",
      "[4, 9, 11, 13, 15, 22, 26]\n",
      "[6, 17, 26, 31, 38, 40, 46]\n"
     ]
    }
   ],
   "source": [
    "# 로또 번호 생성기 만들기 (동일숫자 안나오게 하기) - 3\n",
    "import random \n",
    "\n",
    "for i in range(10):\n",
    "    lotto = random.sample(range(1,51),7)\n",
    "    lotto.sort()\n",
    "    print(lotto)"
   ]
  },
  {
   "cell_type": "markdown",
   "metadata": {},
   "source": [
    "## 이차원 리스트"
   ]
  },
  {
   "cell_type": "code",
   "execution_count": 94,
   "metadata": {},
   "outputs": [
    {
     "name": "stdout",
     "output_type": "stream",
     "text": [
      "40\n",
      "50\n"
     ]
    }
   ],
   "source": [
    "a = [[10, 20], [30, 40], [50, 60]]\n",
    "\n",
    "print(a[1][1])\n",
    "print(a[2][0])"
   ]
  },
  {
   "cell_type": "code",
   "execution_count": 102,
   "metadata": {},
   "outputs": [
    {
     "name": "stdout",
     "output_type": "stream",
     "text": [
      "10 20 \n",
      "30 40 \n",
      "50 60 \n",
      "==============================\n",
      "10 20\n",
      "30 40\n",
      "50 60\n",
      "==============================\n",
      "10 20\n",
      "30 40\n",
      "50 60\n",
      "==============================\n",
      "10 20\n",
      "30 40\n",
      "50 60\n",
      "==============================\n",
      "10 20 \n",
      "30 40 \n",
      "50 60 \n"
     ]
    }
   ],
   "source": [
    "a = [[10, 20], [30, 40],[50, 60]]\n",
    "\n",
    "for i in range(len(a)):\n",
    "    for j in range(len(a[i])):\n",
    "        print(a[i][j],end=' ')\n",
    "    print('')\n",
    "    \n",
    "print('='*30)\n",
    "    \n",
    "for i in range(len(a)):\n",
    "    print(a[i][0],a[i][1])\n",
    "    \n",
    "print('='*30)\n",
    "\n",
    "for x, y in a:\n",
    "    print(x, y)\n",
    "\n",
    "print('='*30)\n",
    "\n",
    "i = 0\n",
    "while i < len(a):\n",
    "    x, y = a[i]\n",
    "    print(x, y)\n",
    "    i += 1 \n",
    "\n",
    "print('='*30)\n",
    "\n",
    "i = 0\n",
    "while i < len(a):\n",
    "    j = 0\n",
    "    while j < len(a[i]):\n",
    "        print(a[i][j],end=' ')\n",
    "        j += 1\n",
    "    print()\n",
    "    i += 1 "
   ]
  },
  {
   "cell_type": "code",
   "execution_count": 106,
   "metadata": {},
   "outputs": [
    {
     "name": "stdout",
     "output_type": "stream",
     "text": [
      "1 2 3 \n",
      "5 6 7 \n",
      "8 9 10 \n",
      "12 13 14 \n",
      "==============================\n",
      "1 2 3\n",
      "5 6 7\n",
      "8 9 10\n",
      "12 13 14\n",
      "==============================\n",
      "1 2 3\n",
      "5 6 7\n",
      "8 9 10\n",
      "12 13 14\n",
      "==============================\n",
      "1 2 3\n",
      "5 6 7\n",
      "8 9 10\n",
      "12 13 14\n",
      "==============================\n",
      "1 2 3 \n",
      "5 6 7 \n",
      "8 9 10 \n",
      "12 13 14 \n"
     ]
    }
   ],
   "source": [
    "# 연습문제 \n",
    "a = [[1, 2, 3],[5, 6, 7],[8, 9, 10],[12, 13, 14]]\n",
    "\n",
    "for i in range(len(a)):\n",
    "    for j in range(len(a[i])):\n",
    "        print(a[i][j],end=' ')\n",
    "    print('')\n",
    "    \n",
    "print('='*30)\n",
    "    \n",
    "for i in range(len(a)):\n",
    "    print(a[i][0],a[i][1],a[i][2])\n",
    "    \n",
    "print('='*30)\n",
    "\n",
    "for x, y, z in a:\n",
    "    print(x, y, z)\n",
    "\n",
    "print('='*30)\n",
    "\n",
    "i = 0\n",
    "while i < len(a):\n",
    "    x, y, z = a[i]\n",
    "    print(x, y, z)\n",
    "    i += 1 \n",
    "\n",
    "print('='*30)\n",
    "\n",
    "i = 0\n",
    "while i < len(a):\n",
    "    j = 0\n",
    "    while j < len(a[i]):\n",
    "        print(a[i][j],end=' ')\n",
    "        j += 1\n",
    "    print()\n",
    "    i += 1 "
   ]
  },
  {
   "cell_type": "code",
   "execution_count": 115,
   "metadata": {},
   "outputs": [
    {
     "name": "stdout",
     "output_type": "stream",
     "text": [
      "[[0, 0], [0, 0], [0, 0]]\n",
      "[[0, 0], [0, 0], [0, 0]]\n"
     ]
    }
   ],
   "source": [
    "a = []\n",
    "\n",
    "for i in range(3):\n",
    "    line = []\n",
    "    for j in range(2):\n",
    "        line.append(0)\n",
    "    a.append(line)\n",
    "    \n",
    "print(a)\n",
    "\n",
    "a = [[0 for j in range(2)] for i in range(3)]\n",
    "print(a)"
   ]
  },
  {
   "cell_type": "code",
   "execution_count": 119,
   "metadata": {},
   "outputs": [
    {
     "name": "stdout",
     "output_type": "stream",
     "text": [
      "[[0, 0, 0], [0], [0, 0, 0], [0, 0], [0, 0, 0, 0, 0]]\n",
      "[[0, 0, 0], [0], [0, 0, 0], [0, 0], [0, 0, 0, 0, 0]]\n"
     ]
    }
   ],
   "source": [
    "# 연습문제 \n",
    "a = [3, 1, 3, 2, 5]\n",
    "\n",
    "result = [[0]*i for i in a]\n",
    "print(result)\n",
    "\n",
    "result = [[0 for j in range(i)] for i in a]\n",
    "print(result)"
   ]
  },
  {
   "cell_type": "code",
   "execution_count": 135,
   "metadata": {},
   "outputs": [
    {
     "name": "stdout",
     "output_type": "stream",
     "text": [
      "True False False\n",
      "2424172108688 2424172108688 2424172108688 2424061231952\n",
      "[[10, 999], [30, 40], [50, 60]]\n",
      "[[10, 999], [30, 40], [50, 60]]\n",
      "[[10, 999], [30, 40], [50, 60]]\n",
      "[[10, 20], [30, 40], [50, 60]]\n"
     ]
    }
   ],
   "source": [
    "# 2차원 그래프는 copy를 해도 값이 바뀐다.\n",
    "# 처음 리스트는 copy되지만, 그 안의 리스트는 copy되지 않는다.\n",
    "a = [[10, 20], [30, 40], [50, 60]]\n",
    "b = a\n",
    "c = a.copy()\n",
    "import copy\n",
    "d = copy.deepcopy(a)\n",
    "\n",
    "b[0][1] = 999\n",
    "\n",
    "print(a is b, a is c, a is d)\n",
    "print(id(a[0][1]),id(b[0][1]),id(c[0][1]),id(d[0][1]))\n",
    "\n",
    "print(a, b, c, d, sep='\\n')"
   ]
  },
  {
   "cell_type": "markdown",
   "metadata": {},
   "source": [
    "## 3차원 리스트"
   ]
  },
  {
   "cell_type": "code",
   "execution_count": 136,
   "metadata": {},
   "outputs": [
    {
     "name": "stdout",
     "output_type": "stream",
     "text": [
      "[[[10, 20], [30, 40], [50, 60]], [[10, 20], [30, 40], [50, 60]], [[10, 20], [30, 40], [50, 60]]]\n"
     ]
    }
   ],
   "source": [
    "a = [[[10, 20], [30, 40], [50, 60]],\n",
    " [[10, 20], [30, 40], [50, 60]],\n",
    " [[10, 20], [30, 40], [50, 60]]]\n",
    "\n",
    "print(a)"
   ]
  },
  {
   "cell_type": "code",
   "execution_count": 139,
   "metadata": {},
   "outputs": [
    {
     "name": "stdout",
     "output_type": "stream",
     "text": [
      "[[[0, 0, 0], [0, 0, 0], [0, 0, 0], [0, 0, 0]], [[0, 0, 0], [0, 0, 0], [0, 0, 0], [0, 0, 0]]]\n"
     ]
    }
   ],
   "source": [
    "a = [[[0 for c in range(3)] for r in range(4)] for h in range(2)]\n",
    "\n",
    "print(a)"
   ]
  },
  {
   "cell_type": "code",
   "execution_count": 144,
   "metadata": {},
   "outputs": [
    {
     "name": "stdout",
     "output_type": "stream",
     "text": [
      "1 부터 100 까지의 합은 5050 입니다.\n"
     ]
    }
   ],
   "source": [
    "# 반복문 예제\n",
    "n, m = [1, 100]\n",
    "\n",
    "sum = 0\n",
    "for i in range(n,m+1):\n",
    "    sum += i\n",
    "    \n",
    "print(n,'부터',m,'까지의 합은',sum,'입니다.')"
   ]
  },
  {
   "cell_type": "code",
   "execution_count": 147,
   "metadata": {},
   "outputs": [
    {
     "name": "stdout",
     "output_type": "stream",
     "text": [
      "4 부터 7 까지의 수 중 짝수들의 제곱합은 52 입니다.\n"
     ]
    }
   ],
   "source": [
    "n, m = [4, 7]\n",
    "\n",
    "sum = 0\n",
    "for i in range(n,m+1):\n",
    "    if i % 2 ==0:\n",
    "        sum += i**2\n",
    "\n",
    "print(n,'부터',m,'까지의 수 중 짝수들의 제곱합은',sum,'입니다.')"
   ]
  },
  {
   "cell_type": "code",
   "execution_count": 9,
   "metadata": {},
   "outputs": [
    {
     "name": "stdout",
     "output_type": "stream",
     "text": [
      "홍길동 학생의 실기 평균 점수는 79.0 점 입니다.\n"
     ]
    }
   ],
   "source": [
    "# 연습문제 \n",
    "name = input('학생 이름을 입력하세요')\n",
    "Scores = list(map(int,input('학생의 실기 점수를 입력하세요').split()))\n",
    "\n",
    "tot = 0\n",
    "\n",
    "lowest = Scores[0]\n",
    "highest = Scores[0]\n",
    "\n",
    "for score in Scores:\n",
    "    if score < lowest:\n",
    "        lowest = score\n",
    "        \n",
    "    if score > highest:\n",
    "        highest = score\n",
    "\n",
    "    tot += score\n",
    "    \n",
    "tot = tot - lowest - highest\n",
    "avg = tot / (len(Scores)-2)\n",
    "\n",
    "print(name,'학생의 실기 평균 점수는',avg,'점 입니다.')"
   ]
  },
  {
   "cell_type": "code",
   "execution_count": 20,
   "metadata": {},
   "outputs": [
    {
     "name": "stdout",
     "output_type": "stream",
     "text": [
      "[2, 1, 1, 1, 0]\n"
     ]
    }
   ],
   "source": [
    "# 연습문제 \n",
    "Scores = [86, 72, 98, 60, 45]\n",
    "\n",
    "grade_counter = [0] * len(Scores)\n",
    "for score in Scores:\n",
    "    if score >= 85:\n",
    "        grade_counter[0] += 1\n",
    "    elif score >= 70:\n",
    "        grade_counter[1] += 1\n",
    "    elif score >= 55:\n",
    "        grade_counter[2] += 1\n",
    "    elif score >= 40:\n",
    "        grade_counter[3] += 1\n",
    "    else:\n",
    "        grade_counter[4] += 1\n",
    "\n",
    "\n",
    "print(grade_counter)"
   ]
  },
  {
   "cell_type": "code",
   "execution_count": 21,
   "metadata": {},
   "outputs": [
    {
     "name": "stdout",
     "output_type": "stream",
     "text": [
      "m 또는 h가 이름에 포함된 사람은 3 명 입니다.\n"
     ]
    }
   ],
   "source": [
    "# 연습문제 \n",
    "name_list = ['matthew', 'mark', 'luke', 'john', 'paul', 'peter']\n",
    "\n",
    "cnt = 0\n",
    "for name in name_list:\n",
    "    if 'm' in name or 'h' in name:\n",
    "        cnt += 1\n",
    "\n",
    "print('m 또는 h가 이름에 포함된 사람은',cnt,'명 입니다.')\n"
   ]
  },
  {
   "cell_type": "code",
   "execution_count": 23,
   "metadata": {},
   "outputs": [
    {
     "name": "stdout",
     "output_type": "stream",
     "text": [
      "m 또는 h가 이름에 포함된 사람은 3 명 입니다.\n"
     ]
    }
   ],
   "source": [
    "# 연습문제 \n",
    "name_list = ['matthew', 'mark', 'luke', 'john', 'paul', 'peter']\n",
    "\n",
    "cnt = 0\n",
    "for name in name_list:\n",
    "    for letter in name:\n",
    "        if letter == 'm' or letter == 'h':\n",
    "            cnt += 1\n",
    "            break\n",
    "\n",
    "print('m 또는 h가 이름에 포함된 사람은',cnt,'명 입니다.')\n"
   ]
  },
  {
   "cell_type": "code",
   "execution_count": 29,
   "metadata": {},
   "outputs": [
    {
     "name": "stdout",
     "output_type": "stream",
     "text": [
      "2x1=2\t3x1=3\t4x1=4\t5x1=5\t6x1=6\t7x1=7\t8x1=8\t9x1=9\t\n",
      "2x2=4\t3x2=6\t4x2=8\t5x2=10\t6x2=12\t7x2=14\t8x2=16\t9x2=18\t\n",
      "2x3=6\t3x3=9\t4x3=12\t5x3=15\t6x3=18\t7x3=21\t8x3=24\t9x3=27\t\n",
      "2x4=8\t3x4=12\t4x4=16\t5x4=20\t6x4=24\t7x4=28\t8x4=32\t9x4=36\t\n",
      "2x5=10\t3x5=15\t4x5=20\t5x5=25\t6x5=30\t7x5=35\t8x5=40\t9x5=45\t\n",
      "2x6=12\t3x6=18\t4x6=24\t5x6=30\t6x6=36\t7x6=42\t8x6=48\t9x6=54\t\n",
      "2x7=14\t3x7=21\t4x7=28\t5x7=35\t6x7=42\t7x7=49\t8x7=56\t9x7=63\t\n",
      "2x8=16\t3x8=24\t4x8=32\t5x8=40\t6x8=48\t7x8=56\t8x8=64\t9x8=72\t\n",
      "2x9=18\t3x9=27\t4x9=36\t5x9=45\t6x9=54\t7x9=63\t8x9=72\t9x9=81\t\n"
     ]
    }
   ],
   "source": [
    "# 구구단 전체 프린트 하기 \n",
    "\n",
    "for j in range(1,10):\n",
    "    for i in range(2,10):\n",
    "        print(i,'x',j,'=',i*j,sep='',end='\\t')\n",
    "    print()\n",
    "        "
   ]
  },
  {
   "cell_type": "code",
   "execution_count": 39,
   "metadata": {},
   "outputs": [
    {
     "name": "stdout",
     "output_type": "stream",
     "text": [
      "투표결과: [0, 2, 1, 2, 1, 4]\n",
      "김태형 후보가 총 4 표를 얻어 당선되었습니다.\n"
     ]
    }
   ],
   "source": [
    "# 연습문제 \n",
    "votes = [2, 5, 3, 4, 1, 5, 1, 5, 5, 3]\n",
    "candidates = ['', '전정국','김남준','박지민','정호석','김태형']\n",
    "\n",
    "cnt = [0] * len(candidates)\n",
    "largest = 0\n",
    "\n",
    "for vote in votes:\n",
    "    cnt[vote] += 1\n",
    "\n",
    "for ind, a in enumerate(cnt):\n",
    "    if a > largest:\n",
    "        largest = a\n",
    "        elected = ind\n",
    "\n",
    "print('투표결과:',cnt)\n",
    "print(candidates[elected],'후보가 총',largest,'표를 얻어 당선되었습니다.')"
   ]
  },
  {
   "cell_type": "markdown",
   "metadata": {},
   "source": [
    "## 문자열 조작하기"
   ]
  },
  {
   "cell_type": "code",
   "execution_count": 45,
   "metadata": {},
   "outputs": [
    {
     "name": "stdout",
     "output_type": "stream",
     "text": [
      "Hello, Python!\n",
      "Hello, World!\n",
      "Hello, Python!\n",
      "Hello, World!\n"
     ]
    }
   ],
   "source": [
    "# replace\n",
    "text = 'Hello, Python!'\n",
    "print(text)\n",
    "print(text.replace('Python','World'))\n",
    "print(text)\n",
    "text = text.replace('Python','World')\n",
    "print(text)"
   ]
  },
  {
   "cell_type": "code",
   "execution_count": 47,
   "metadata": {},
   "outputs": [
    {
     "name": "stdout",
     "output_type": "stream",
     "text": [
      "['apple', 'pear', 'grape', 'pineapple', 'orange']\n",
      "['apple', 'pear', 'grape', 'pineapple', 'orange']\n"
     ]
    }
   ],
   "source": [
    "# split\n",
    "text ='apple pear grape pineapple orange'\n",
    "print(text.split())\n",
    "\n",
    "text ='apple, pear, grape, pineapple, orange'\n",
    "print(text.split(', '))"
   ]
  },
  {
   "cell_type": "code",
   "execution_count": 49,
   "metadata": {},
   "outputs": [
    {
     "name": "stdout",
     "output_type": "stream",
     "text": [
      "apple pear grape pineapple orange\n",
      "apple-pear-grape-pineapple-orange\n"
     ]
    }
   ],
   "source": [
    "# join \n",
    "text = ['apple', 'pear', 'grape', 'pineapple', 'orange']\n",
    "\n",
    "sep = ' '\n",
    "print(sep.join(text))\n",
    "sep = '-'\n",
    "print(sep.join(text))"
   ]
  },
  {
   "cell_type": "code",
   "execution_count": 52,
   "metadata": {},
   "outputs": [
    {
     "name": "stdout",
     "output_type": "stream",
     "text": [
      "PYTHON\n",
      "python\n",
      "python\n",
      "PYTHON\n"
     ]
    }
   ],
   "source": [
    "# upper \n",
    "text = 'python'\n",
    "print(text.upper())\n",
    "print(text)\n",
    "\n",
    "# lower \n",
    "text2 = text.upper()\n",
    "print(text2.lower())\n",
    "print(text2)"
   ]
  },
  {
   "cell_type": "code",
   "execution_count": 69,
   "metadata": {},
   "outputs": [
    {
     "name": "stdout",
     "output_type": "stream",
     "text": [
      "|    python      |\n",
      "|    python|\n",
      "|python      |\n",
      "|python|\n",
      ".,,, ..., python ,... .,,,\n",
      "python ,... .,,,\n",
      ".,,, ..., python\n",
      "python\n",
      "|python|\n",
      "|python    |\n",
      "|    python|\n",
      "|  python  |\n",
      "|   python  |\n",
      "0035\n",
      "000035\n",
      "0000000035\n"
     ]
    }
   ],
   "source": [
    "# lstrip / rstrip / strip \n",
    "text = '    python      '\n",
    "print('|',text,'|',sep=\"\")\n",
    "print('|',text.rstrip(),'|',sep=\"\")\n",
    "print('|',text.lstrip(),'|',sep=\"\")\n",
    "print('|',text.strip(),'|',sep=\"\")\n",
    "\n",
    "text = '.,,, ..., python ,... .,,,'\n",
    "print(text)\n",
    "print(text.lstrip('., '))\n",
    "print(text.rstrip('., '))\n",
    "print(text.strip('., '))\n",
    "\n",
    "# ljust / rjust / center\n",
    "text = 'python'\n",
    "print('|',text,'|',sep=\"\")\n",
    "print('|',text.ljust(10),'|',sep=\"\")\n",
    "print('|',text.rjust(10),'|',sep=\"\")\n",
    "print('|',text.center(10),'|',sep=\"\")\n",
    "print('|',text.center(11),'|',sep=\"\")\n",
    "\n",
    "# zfill\n",
    "text = '35'\n",
    "print(text.zfill(4))\n",
    "print(text.zfill(6))\n",
    "print(text.zfill(10))"
   ]
  },
  {
   "cell_type": "code",
   "execution_count": 73,
   "metadata": {},
   "outputs": [
    {
     "name": "stdout",
     "output_type": "stream",
     "text": [
      "2\n",
      "2\n",
      "12\n",
      "12\n",
      "-1\n"
     ]
    },
    {
     "ename": "ValueError",
     "evalue": "substring not found",
     "output_type": "error",
     "traceback": [
      "\u001b[1;31m---------------------------------------------------------------------------\u001b[0m",
      "\u001b[1;31mValueError\u001b[0m                                Traceback (most recent call last)",
      "\u001b[1;32m~\\AppData\\Local\\Temp\\ipykernel_26524\\3647588065.py\u001b[0m in \u001b[0;36m<module>\u001b[1;34m\u001b[0m\n\u001b[0;32m      7\u001b[0m \u001b[0mprint\u001b[0m\u001b[1;33m(\u001b[0m\u001b[0mtext\u001b[0m\u001b[1;33m.\u001b[0m\u001b[0mrindex\u001b[0m\u001b[1;33m(\u001b[0m\u001b[1;34m'pl'\u001b[0m\u001b[1;33m)\u001b[0m\u001b[1;33m)\u001b[0m\u001b[1;33m\u001b[0m\u001b[1;33m\u001b[0m\u001b[0m\n\u001b[0;32m      8\u001b[0m \u001b[0mprint\u001b[0m\u001b[1;33m(\u001b[0m\u001b[0mtext\u001b[0m\u001b[1;33m.\u001b[0m\u001b[0mfind\u001b[0m\u001b[1;33m(\u001b[0m\u001b[1;34m'xy'\u001b[0m\u001b[1;33m)\u001b[0m\u001b[1;33m)\u001b[0m\u001b[1;33m\u001b[0m\u001b[1;33m\u001b[0m\u001b[0m\n\u001b[1;32m----> 9\u001b[1;33m \u001b[0mprint\u001b[0m\u001b[1;33m(\u001b[0m\u001b[0mtext\u001b[0m\u001b[1;33m.\u001b[0m\u001b[0mindex\u001b[0m\u001b[1;33m(\u001b[0m\u001b[1;34m'xy'\u001b[0m\u001b[1;33m)\u001b[0m\u001b[1;33m)\u001b[0m\u001b[1;33m\u001b[0m\u001b[1;33m\u001b[0m\u001b[0m\n\u001b[0m",
      "\u001b[1;31mValueError\u001b[0m: substring not found"
     ]
    }
   ],
   "source": [
    "# find, 찾을 수 없으면 -1로 반환한다.\n",
    "# find와 index는 똑같은 기능. 차이점은 index의 경우 찾는 값이 없으면 오류가 난다.\n",
    "text = 'apple pineapple'\n",
    "print(text.find('pl'))\n",
    "print(text.index('pl'))\n",
    "print(text.rfind('pl'))\n",
    "print(text.rindex('pl'))\n",
    "print(text.find('xy'))\n",
    "print(text.index('xy'))"
   ]
  },
  {
   "cell_type": "code",
   "execution_count": 75,
   "metadata": {},
   "outputs": [
    {
     "name": "stdout",
     "output_type": "stream",
     "text": [
      "2\n"
     ]
    }
   ],
   "source": [
    "# count\n",
    "text = 'apple pineapple'\n",
    "print(text.count('pl'))"
   ]
  },
  {
   "cell_type": "code",
   "execution_count": 102,
   "metadata": {},
   "outputs": [
    {
     "name": "stdout",
     "output_type": "stream",
     "text": [
      "제 이름은 James입니다.\n",
      "제 이름은 James입니다.\n",
      "제 이름은      James입니다.\n",
      "제 이름은 James     입니다.\n",
      "제 기말고사 점수는 93입니다.\n",
      "2.50는 실수입니다.\n",
      "James의 기말고사 점수는 93점 입니다.\n",
      "제가 좋아하는 과일은 grape apple orange입니다.\n",
      "제가 좋아하는 과일은 grape grape grape입니다.\n",
      "제가 좋아하는 과일은 orange grape apple입니다.\n",
      "Hello, Python 3.6\n",
      "James의 기말고사 점수는 93점 입니다.\n",
      "Hello, Python 3.6\n"
     ]
    }
   ],
   "source": [
    "# 문자열 포매팅(string: %s / integer: %d / float: %f(default, 소수점 6자리))\n",
    "name = 'James'\n",
    "score = 93\n",
    "num = 2.5\n",
    "\n",
    "print('제 이름은 {0}입니다.'.format(name))\n",
    "print('제 이름은 %s입니다.' % name)\n",
    "print('제 이름은 %10s입니다.' % name)\n",
    "print('제 이름은 %-10s입니다.' % name)\n",
    "print('제 기말고사 점수는 %d입니다.' % score)\n",
    "print('%.2f는 실수입니다.' % num)\n",
    "\n",
    "print('%s의 기말고사 점수는 %d점 입니다.' % (name, score))\n",
    "\n",
    "print('제가 좋아하는 과일은 {1} {2} {0}입니다.'.format('orange','grape','apple'))\n",
    "print('제가 좋아하는 과일은 {1} {1} {1}입니다.'.format('orange','grape','apple'))\n",
    "print('제가 좋아하는 과일은 {} {} {}입니다.'.format('orange','grape','apple'))\n",
    "\n",
    "print('Hello, {language} {version}'.format(language='Python',version=3.6))\n",
    "\n",
    "print(f'{name}의 기말고사 점수는 {score}점 입니다.')\n",
    "language = 'Python'\n",
    "version = 3.6\n",
    "print(f'Hello, {language} {version}')"
   ]
  },
  {
   "cell_type": "code",
   "execution_count": 111,
   "metadata": {},
   "outputs": [
    {
     "name": "stdout",
     "output_type": "stream",
     "text": [
      "|    Python|\n",
      "|Python    |\n",
      "|Python    |\n",
      "|    Python|\n",
      "|Python    |\n",
      "|    Python|\n",
      "|Python    |       123|abc       |\n"
     ]
    }
   ],
   "source": [
    "print('|%10s|' % 'Python')\n",
    "print('|%-10s|' % 'Python')\n",
    "print('|{0:<10}|'.format('Python'))\n",
    "print('|{0:>10}|'.format('Python'))\n",
    "print('|{:<10}|'.format('Python'))\n",
    "print('|{:>10}|'.format('Python'))\n",
    "print('|{0:<10}|{2:>10}|{1:<10}|'.format('Python','abc',123))"
   ]
  },
  {
   "cell_type": "code",
   "execution_count": 118,
   "metadata": {},
   "outputs": [
    {
     "name": "stdout",
     "output_type": "stream",
     "text": [
      "001\n",
      "003, 00012, 05\n",
      "00003.60\n",
      "00340.20, 25.55, 3.1416\n"
     ]
    }
   ],
   "source": [
    "print('%03d' % 1)\n",
    "print('{0:03d}, {2:05d}, {1:02d}'.format(3, 5, 12))\n",
    "\n",
    "print('%08.2f' % 3.6)\n",
    "print('{0:08.2f}, {1:05.2f}, {2:05.4f}'.format(340.2, 25.555, 3.141592))"
   ]
  },
  {
   "cell_type": "code",
   "execution_count": 123,
   "metadata": {},
   "outputs": [
    {
     "name": "stdout",
     "output_type": "stream",
     "text": [
      "0000000015\n",
      "xxxxxxxx15\n",
      "2XXXXXX\n"
     ]
    }
   ],
   "source": [
    "print('{0:0>10}'.format(15))\n",
    "print('{0:x>10}'.format(15))\n",
    "print('{0:X<7}'.format(2))"
   ]
  },
  {
   "cell_type": "code",
   "execution_count": 130,
   "metadata": {},
   "outputs": [
    {
     "name": "stdout",
     "output_type": "stream",
     "text": [
      "C:\\Users\\Edu\\AppData\\Local\\Programs\\Python\\Python36-32\\data.txt\n",
      "['C:', 'Users', 'Edu', 'AppData', 'Local', 'Programs', 'Python', 'Python36-32', 'data.txt']\n",
      "data.txt\n"
     ]
    }
   ],
   "source": [
    "# 연습문제 \n",
    "path = 'C:\\\\Users\\\\Edu\\\\AppData\\\\Local\\\\Programs\\\\Python\\\\Python36-32\\\\data.txt'\n",
    "lst = path.split('\\\\')\n",
    "\n",
    "print(path)\n",
    "print(lst)\n",
    "print(lst[-1])\n"
   ]
  },
  {
   "cell_type": "code",
   "execution_count": 152,
   "metadata": {},
   "outputs": [
    {
     "name": "stdout",
     "output_type": "stream",
     "text": [
      "6\n",
      "['the', 'the', 'the', 'the,', 'the', 'the.']\n"
     ]
    }
   ],
   "source": [
    "text = '''\n",
    "the grown-ups' response, this time, was to advise me to lay aside my drawings of boa constrictors, whether from the inside or the outside, and devote myself instead to geography, history, arithmetic, and grammar. That is why, at the, age of six, I gave up what might have been a magnificent career as a painter. I had been disheartened by the failure of my Drawing Number One and my Drawing Number Two. Grown-ups never understand anything by themselves, and it is tiresome for children to be always and forever explaining things to the.\n",
    "'''\n",
    "\n",
    "cnt = 0\n",
    "result = []\n",
    "text2 = text.split()\n",
    "for txt in text2:\n",
    "    if txt == 'the' or txt == 'the,' or txt == 'the.':\n",
    "        result.append(txt)\n",
    "        cnt += 1\n",
    "\n",
    "print(cnt)\n",
    "print(result)\n",
    "# 답이 6이 나와야 한다."
   ]
  },
  {
   "cell_type": "code",
   "execution_count": 155,
   "metadata": {},
   "outputs": [
    {
     "name": "stdout",
     "output_type": "stream",
     "text": [
      "True\n",
      "False\n",
      "False\n",
      "True\n",
      "False\n"
     ]
    }
   ],
   "source": [
    "print('123'.isdigit())\n",
    "print('1 23'.isdigit())\n",
    "print('1.23'.isdigit())\n",
    "\n",
    "print('GOOD MORNING'.isupper())\n",
    "print('good morning'.isupper())"
   ]
  },
  {
   "cell_type": "markdown",
   "metadata": {},
   "source": [
    "## 함수(Function)"
   ]
  },
  {
   "cell_type": "code",
   "execution_count": 157,
   "metadata": {},
   "outputs": [
    {
     "name": "stdout",
     "output_type": "stream",
     "text": [
      "Hello python!\n",
      "<class 'function'>\n"
     ]
    }
   ],
   "source": [
    "def hello():\n",
    "    print('Hello python!')\n",
    "\n",
    "hello()\n",
    "print(type(hello))"
   ]
  },
  {
   "cell_type": "code",
   "execution_count": 164,
   "metadata": {},
   "outputs": [
    {
     "name": "stdout",
     "output_type": "stream",
     "text": [
      "10+20=30\n",
      "10+20=30\n",
      "None\n",
      "None\n",
      "==============================\n",
      "30\n",
      "30\n"
     ]
    }
   ],
   "source": [
    "# 덧셈 함수 만들기 \n",
    "def add(a, b):\n",
    "    print(f'{a}+{b}={a+b}')\n",
    "\n",
    "plus = add(10, 20)\n",
    "print(add(10, 20))\n",
    "print(plus)\n",
    "\n",
    "print('='*30)\n",
    "\n",
    "def add(a, b):\n",
    "    return a + b\n",
    "\n",
    "plus = add(10, 20)\n",
    "print(add(10, 20))\n",
    "print(plus)"
   ]
  },
  {
   "cell_type": "code",
   "execution_count": 165,
   "metadata": {},
   "outputs": [
    {
     "name": "stdout",
     "output_type": "stream",
     "text": [
      "60\n"
     ]
    }
   ],
   "source": [
    "# 연습문제\n",
    "def product(a, b, c):\n",
    "    return a * b * c\n",
    "\n",
    "result = product(3, 4, 5)\n",
    "print(result)"
   ]
  },
  {
   "cell_type": "code",
   "execution_count": 169,
   "metadata": {},
   "outputs": [
    {
     "name": "stdout",
     "output_type": "stream",
     "text": [
      "30 -10 <class 'int'> <class 'int'>\n",
      "(30, -10) <class 'tuple'>\n"
     ]
    }
   ],
   "source": [
    "# 연습문제 \n",
    "def mycalc(a, b):\n",
    "    add = a + b\n",
    "    minus = a - b\n",
    "    return add, minus\n",
    "\n",
    "x, y = mycalc(10, 20)\n",
    "z = mycalc(10, 20)\n",
    "print(x, y, type(x), type(y))\n",
    "print(z, type(z))"
   ]
  },
  {
   "cell_type": "code",
   "execution_count": 176,
   "metadata": {},
   "outputs": [
    {
     "name": "stdout",
     "output_type": "stream",
     "text": [
      "+=30.00 -=-10.00 *=200.00 /=0.50\n"
     ]
    }
   ],
   "source": [
    "# 연습문제 \n",
    "def mycalc(a, b):\n",
    "    return a+b, a-b, a*b, a/b\n",
    "    \n",
    "x, y, w, z = mycalc(10, 20)\n",
    "print('+=%.2f -=%.2f *=%.2f /=%.2f' % (x, y, w, z))"
   ]
  },
  {
   "cell_type": "code",
   "execution_count": 180,
   "metadata": {},
   "outputs": [
    {
     "name": "stdout",
     "output_type": "stream",
     "text": [
      "몫: 3, 나머지: 1\n"
     ]
    }
   ],
   "source": [
    "# 연습문제 \n",
    "\n",
    "def get_quotient_remainder(a, b):\n",
    "    return a // b, a % b\n",
    "\n",
    "quotient, remainder = get_quotient_remainder(10,3)\n",
    "print('몫: {0}, 나머지: {1}'.format(quotient,remainder))"
   ]
  }
 ],
 "metadata": {
  "kernelspec": {
   "display_name": "Python 3.10.0 64-bit",
   "language": "python",
   "name": "python3"
  },
  "language_info": {
   "codemirror_mode": {
    "name": "ipython",
    "version": 3
   },
   "file_extension": ".py",
   "mimetype": "text/x-python",
   "name": "python",
   "nbconvert_exporter": "python",
   "pygments_lexer": "ipython3",
   "version": "3.10.0"
  },
  "orig_nbformat": 4,
  "vscode": {
   "interpreter": {
    "hash": "1ed1f76483e4d532c2a47a0bad31080b16a7f7d0106ba342ff005fcfacb5105f"
   }
  }
 },
 "nbformat": 4,
 "nbformat_minor": 2
}
