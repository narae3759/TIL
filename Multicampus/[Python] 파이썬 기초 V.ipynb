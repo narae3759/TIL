{
 "cells": [
  {
   "cell_type": "markdown",
   "metadata": {},
   "source": [
    "# 20220920 파이썬 기초(5)"
   ]
  },
  {
   "cell_type": "markdown",
   "metadata": {},
   "source": [
    "## 클래스 이해하기"
   ]
  },
  {
   "cell_type": "code",
   "execution_count": 3,
   "metadata": {},
   "outputs": [
    {
     "name": "stdout",
     "output_type": "stream",
     "text": [
      "[<__main__.Car object at 0x000002727E3BC3A0>, <__main__.Car object at 0x000002727EDF6B00>, <__main__.Car object at 0x000002727EDF7FA0>, <__main__.Car object at 0x000002727EDF7070>, <__main__.Car object at 0x000002727EDF7F40>]\n"
     ]
    }
   ],
   "source": [
    "class Car:\n",
    "    color = ''\n",
    "    speed = 0\n",
    "    \n",
    "    def __init__(self):\n",
    "        self.color = '빨강'\n",
    "        self.speed = 0\n",
    "\n",
    "\n",
    "car_list = []\n",
    "for _ in range(5):\n",
    "    car_list.append(Car())\n",
    "    \n",
    "print(car_list)"
   ]
  },
  {
   "cell_type": "markdown",
   "metadata": {},
   "source": [
    "## 함수의 파라미터 이해하기"
   ]
  },
  {
   "cell_type": "code",
   "execution_count": 9,
   "metadata": {},
   "outputs": [
    {
     "name": "stdout",
     "output_type": "stream",
     "text": [
      "10\n",
      "20\n",
      "30\n",
      "====================\n",
      "10\n",
      "20\n",
      "30\n",
      "====================\n",
      "10\n",
      "20\n",
      "30\n"
     ]
    }
   ],
   "source": [
    "def print_numbers(a, b, c):\n",
    "    print(a)\n",
    "    print(b)\n",
    "    print(c)\n",
    "    \n",
    "print_numbers(10, 20, 30)\n",
    "\n",
    "print('='*20)\n",
    "\n",
    "# '*'를 앞에 붙이면 언패킹 할 수 있다.\n",
    "x = [10, 20, 30]\n",
    "print_numbers(*x) \n",
    "\n",
    "print('='*20)\n",
    "\n",
    "x = (10, 20, 30)\n",
    "print_numbers(*x)"
   ]
  },
  {
   "cell_type": "code",
   "execution_count": 45,
   "metadata": {},
   "outputs": [
    {
     "name": "stdout",
     "output_type": "stream",
     "text": [
      "(10,) <class 'tuple'>\n",
      "10\n",
      "====================\n",
      "(10, 20, 30, 'Hello') <class 'tuple'>\n",
      "10\n",
      "20\n",
      "30\n",
      "Hello\n",
      "====================\n",
      "([1, True, None, 'Python'],) <class 'tuple'>\n",
      "[1, True, None, 'Python']\n",
      "====================\n",
      "(1, True, None, 'Python') <class 'tuple'>\n",
      "1\n",
      "True\n",
      "None\n",
      "Python\n"
     ]
    }
   ],
   "source": [
    "def print_numbers(*args):\n",
    "    print(args,type(args))\n",
    "    for arg in args:\n",
    "        print(arg)\n",
    "\n",
    "print_numbers(10)\n",
    "print('='*20)\n",
    "print_numbers(10, 20, 30, 'Hello')\n",
    "print('='*20)\n",
    "print_numbers([1 ,True, None, 'Python'])\n",
    "print('='*20)\n",
    "print_numbers(*[1 ,True, None, 'Python'])\n"
   ]
  },
  {
   "cell_type": "code",
   "execution_count": 31,
   "metadata": {},
   "outputs": [
    {
     "name": "stdout",
     "output_type": "stream",
     "text": [
      "이름: 김석진\n",
      "나이: 30\n",
      "주소: 경기도 안양시\n",
      "==============================\n",
      "이름: 김석진\n",
      "나이: 30\n",
      "주소: 경기도 안양시\n",
      "==============================\n",
      "이름: 김석진\n",
      "나이: 30\n",
      "주소: 경기도 안양시\n",
      "==============================\n",
      "이름: name\n",
      "나이: age\n",
      "주소: address\n",
      "==============================\n",
      "이름: 박지민\n",
      "나이: 27\n",
      "주소: 부산시 금정구\n",
      "==============================\n",
      "이름: 박지민\n",
      "나이: 27\n",
      "주소: 부산시 금정구\n"
     ]
    }
   ],
   "source": [
    "def personal_info(name, age, address):\n",
    "    print('이름:', name)\n",
    "    print('나이:', age)\n",
    "    print('주소:', address)\n",
    "\n",
    "personal_info('김석진', 30, '경기도 안양시')    \n",
    "print('='*30)\n",
    "personal_info(name='김석진', age=30, address='경기도 안양시')\n",
    "print('='*30)\n",
    "personal_info(address='경기도 안양시', name='김석진', age=30)\n",
    "print('='*30)\n",
    "\n",
    "x = {'name':'박지민', 'age':27, 'address':'부산시 금정구'}\n",
    "personal_info(*x)\n",
    "print('='*30)\n",
    "personal_info(**x)\n",
    "print('='*30)\n",
    "x = {'name':'박지민', 'address':'부산시 금정구', 'age':27}\n",
    "personal_info(**x)"
   ]
  },
  {
   "cell_type": "code",
   "execution_count": 34,
   "metadata": {},
   "outputs": [
    {
     "name": "stdout",
     "output_type": "stream",
     "text": [
      "{'name': '민윤기', 'age': 29} <class 'dict'>\n",
      "name:민윤기\n",
      "age:29\n",
      "==============================\n",
      "{'name': '민윤기', 'age': 29, 'address': '대구시 북구'} <class 'dict'>\n",
      "name:민윤기\n",
      "age:29\n",
      "address:대구시 북구\n",
      "==============================\n",
      "{'name': '정호석'} <class 'dict'>\n",
      "name:정호석\n",
      "==============================\n",
      "{'name': '정호석', 'age': 28, 'address': '광주광역시 북구'} <class 'dict'>\n",
      "name:정호석\n",
      "age:28\n",
      "address:광주광역시 북구\n"
     ]
    }
   ],
   "source": [
    "def personal_info(**kwards):\n",
    "    print(kwards, type(kwards))\n",
    "    for kw, arg in kwards.items():\n",
    "        print(kw, ':', arg, sep='')\n",
    "        \n",
    "personal_info(name='민윤기', age=29)\n",
    "print('='*30)\n",
    "personal_info(name='민윤기', age=29, address='대구시 북구')\n",
    "print('='*30)\n",
    "\n",
    "x = {'name':'정호석'}\n",
    "personal_info(**x)\n",
    "print('='*30)\n",
    "\n",
    "x = {'name':'정호석', 'age':28, 'address':'광주광역시 북구'}\n",
    "personal_info(**x)\n"
   ]
  },
  {
   "cell_type": "code",
   "execution_count": 40,
   "metadata": {},
   "outputs": [
    {
     "name": "stdout",
     "output_type": "stream",
     "text": [
      "이름: 김태형\n",
      "나이: 27\n"
     ]
    }
   ],
   "source": [
    "def personal_info(**kwards):\n",
    "    if 'name' in kwards.keys():\n",
    "        print('이름:', kwards['name'])\n",
    "    if 'age' in kwards.keys():\n",
    "        print('나이:', kwards['age'])\n",
    "    if 'address' in kwards.keys():\n",
    "        print('주소:', kwards['addres'])\n",
    "\n",
    "x = {'name':'김태형', 'age':27, 'hobby':'음악감상'}\n",
    "personal_info(**x)"
   ]
  },
  {
   "cell_type": "code",
   "execution_count": 42,
   "metadata": {},
   "outputs": [
    {
     "name": "stdout",
     "output_type": "stream",
     "text": [
      "이름: 김태형\n",
      "나이: 27\n",
      "주소: 비공개\n"
     ]
    }
   ],
   "source": [
    "def personal_info(name, age, address='비공개'):\n",
    "    print('이름:', name)\n",
    "    print('나이:', age)\n",
    "    print('주소:', address)\n",
    "\n",
    "x = {'name':'김태형', 'age':27}\n",
    "personal_info(**x)\n",
    "\n"
   ]
  },
  {
   "cell_type": "markdown",
   "metadata": {},
   "source": [
    "### 실습 1"
   ]
  },
  {
   "cell_type": "code",
   "execution_count": 52,
   "metadata": {},
   "outputs": [
    {
     "name": "stdout",
     "output_type": "stream",
     "text": [
      "높은 점수: 100\n",
      "높은 점수: 91\n",
      "==============================\n",
      "높은 점수: 100\n",
      "높은 점수: 91\n"
     ]
    }
   ],
   "source": [
    "# 연습문제 \n",
    "kor, eng, math, sci = 100, 86, 81, 91\n",
    "\n",
    "def get_max_score(*args):\n",
    "    max_score = max(args)\n",
    "    return max_score\n",
    "\n",
    "max_score = get_max_score(kor, eng, math, sci)\n",
    "print('높은 점수:',max_score)\n",
    "\n",
    "max_score = get_max_score(eng, sci)\n",
    "print('높은 점수:',max_score)\n",
    "\n",
    "print('='*30)\n",
    "\n",
    "def get_max_score2(*args):\n",
    "    maxnum = 0\n",
    "    for num in args:\n",
    "        if num > maxnum:\n",
    "            maxnum = num\n",
    "    return maxnum\n",
    "\n",
    "max_score = get_max_score2(kor, eng, math, sci)\n",
    "print('높은 점수:',max_score)\n",
    "\n",
    "max_score = get_max_score2(eng, sci)\n",
    "print('높은 점수:',max_score)"
   ]
  },
  {
   "cell_type": "markdown",
   "metadata": {},
   "source": [
    "### 실습 2"
   ]
  },
  {
   "cell_type": "code",
   "execution_count": 59,
   "metadata": {},
   "outputs": [
    {
     "name": "stdout",
     "output_type": "stream",
     "text": [
      "국영수과 평균: 70.0\n",
      "국영 평균: 75.0\n"
     ]
    }
   ],
   "source": [
    "kor, eng, math, sci = map(int, input().split())\n",
    "\n",
    "def get_average(**args):\n",
    "    values = args.values()\n",
    "    return sum(values) / len(values)\n",
    "    \n",
    "arv_score = get_average(kor=kor, eng=eng, math=math, sci=sci)\n",
    "print('국영수과 평균:', arv_score)\n",
    "\n",
    "arv_score = get_average(kor=kor, eng=eng)\n",
    "print('국영 평균:', arv_score)"
   ]
  },
  {
   "cell_type": "markdown",
   "metadata": {},
   "source": [
    "### 실습 3"
   ]
  },
  {
   "cell_type": "code",
   "execution_count": 62,
   "metadata": {},
   "outputs": [
    {
     "name": "stdout",
     "output_type": "stream",
     "text": [
      "#국영수과# 낮은 점수: 70.00, 높은 점수: 90.00, 평균 점수: 82.50\n",
      "#영수# 낮은 점수: 90.00, 높은 점수: 90.00, 평균 점수: 90.00\n"
     ]
    }
   ],
   "source": [
    "korean, english, mathematics, science = map(int, input().split())\n",
    "\n",
    "def get_min_max_score(*args):\n",
    "    maxscore = max(args)\n",
    "    minscore = min(args)\n",
    "    return [minscore, maxscore]\n",
    "\n",
    "def get_average(**args):\n",
    "    scores = args.values()\n",
    "    avgscore = sum(scores)/len(scores)\n",
    "    return avgscore\n",
    "\n",
    "min_score, max_score = get_min_max_score(korean, english, mathematics, science)\n",
    "average_score = get_average(korean=korean, english=english,\n",
    "                            mathematics=mathematics, science=science)\n",
    "print('#국영수과# 낮은 점수: {0:.2f}, 높은 점수: {1:.2f}, 평균 점수: {2:.2f}'\n",
    "      .format(min_score, max_score, average_score))\n",
    " \n",
    "min_score, max_score = get_min_max_score(english, mathematics)\n",
    "average_score = get_average(english=english, mathematics=mathematics)\n",
    "print('#영수# 낮은 점수: {0:.2f}, 높은 점수: {1:.2f}, 평균 점수: {2:.2f}'\n",
    "      .format(min_score, max_score, average_score))\n"
   ]
  },
  {
   "cell_type": "markdown",
   "metadata": {},
   "source": [
    "### 실습 4"
   ]
  },
  {
   "cell_type": "code",
   "execution_count": 91,
   "metadata": {},
   "outputs": [
    {
     "name": "stdout",
     "output_type": "stream",
     "text": [
      "==================================================\n",
      "1:더하기\n",
      "2:빼기\n",
      "3:곱하기\n",
      "4:나누기\n",
      "5:나누기 후 나머지\n",
      "6:나가기\n",
      "==================================================\n",
      "연산 결과: 5.0 % 5.0 = 0.0\n",
      "==================================================\n",
      "1:더하기\n",
      "2:빼기\n",
      "3:곱하기\n",
      "4:나누기\n",
      "5:나누기 후 나머지\n",
      "6:나가기\n",
      "==================================================\n",
      "연산 결과: 5.0 / 5.0 = 1.0\n",
      "==================================================\n",
      "1:더하기\n",
      "2:빼기\n",
      "3:곱하기\n",
      "4:나누기\n",
      "5:나누기 후 나머지\n",
      "6:나가기\n",
      "==================================================\n",
      "종료를 선택하셨습니다.\n",
      "프로그램을 종료합니다. 이용해주셔서 감사합니다.\n"
     ]
    }
   ],
   "source": [
    "# 연습문제 \n",
    "def intro():\n",
    "    print('='*50)\n",
    "    print('1:더하기\\n2:빼기\\n3:곱하기\\n4:나누기\\n5:나누기 후 나머지\\n6:나가기')\n",
    "    print('='*50)\n",
    "\n",
    "def add(a,b):\n",
    "    return a + b\n",
    "def sub(a,b):\n",
    "    return a - b\n",
    "def mul(a,b):\n",
    "    return a * b\n",
    "def div(a,b):\n",
    "    return a / b\n",
    "def rem(a,b):\n",
    "    return a % b\n",
    "\n",
    "def mycalc(a, b, op):\n",
    "    if op == 1:\n",
    "        return add(a, b)\n",
    "    elif op == 2:\n",
    "        return sub(a, b)\n",
    "    elif op == 3:\n",
    "        return mul(a, b)\n",
    "    elif op == 4:\n",
    "        return div(a, b)\n",
    "    else:\n",
    "        return rem(a, b)\n",
    "\n",
    "symbol = ['+','-','*','/','%']\n",
    "\n",
    "try:\n",
    "    num1 = float(input('첫번째 숫자를 입력하세요'))\n",
    "    num2 = float(input('두번째 숫자를 입력하세요'))\n",
    "\n",
    "    while True:\n",
    "        intro()\n",
    "        op = int(input('원하는 연산자를 입력하세요.'))\n",
    "        if op in range(1,len(symbol)+1):\n",
    "            result = mycalc(num1, num2, op)\n",
    "            \n",
    "            print('연산 결과:',num1 ,symbol[op-1], num2,'=', result)\n",
    "            reset = int(input('새로 입력하시겠습니까?(1:Yes, 2:No, 3: 종료)'))\n",
    "                \n",
    "            while reset not in [1, 2, 3]:\n",
    "                print('잘못 입력하셨습니다. 다시 입력해주세요')\n",
    "                reset = int(input('새로 입력하시겠습니까?(1:Yes, 2:No, 3: 종료)'))\n",
    "                \n",
    "            if reset == 1:\n",
    "                num1 = float(input('첫번째 숫자를 입력하세요'))\n",
    "                num2 = float(input('두번째 숫자를 입력하세요'))\n",
    "            elif reset == 2:\n",
    "                continue\n",
    "            else:\n",
    "                print('종료를 선택하셨습니다.')\n",
    "                break\n",
    "        elif op == 6:\n",
    "            print('종료를 선택하셨습니다.')\n",
    "            break\n",
    "        else:\n",
    "            raise Exception('잘못 입력하셨습니다! 1~6 사이의 값을 입력하셔야 합니다.')\n",
    "\n",
    "except ZeroDivisionError as e:\n",
    "    print('0으로 나눌 수 없습니다.', e)\n",
    "except ValueError as e:\n",
    "    print('잘못 입력하셨습니다. 숫자를 입력해주세요.', e)\n",
    "except Exception as e:\n",
    "    print('Error 발생: ', e)\n",
    "finally:\n",
    "    print('프로그램을 종료합니다. 이용해주셔서 감사합니다.')"
   ]
  },
  {
   "cell_type": "markdown",
   "metadata": {},
   "source": [
    "## 딕셔너리 심화"
   ]
  },
  {
   "cell_type": "code",
   "execution_count": 6,
   "metadata": {},
   "outputs": [
    {
     "name": "stdout",
     "output_type": "stream",
     "text": [
      "{'a': 10, 'b': 20, 'c': 30, 'd': 40, 'e': None}\n",
      "{'a': 10, 'b': 20, 'c': 30, 'd': 40, 'e': None, 'f': 100}\n",
      "{'a': 10, 'b': 20, 'c': 30, 'd': 40, 'e': None, 'f': 100, 'g': 'Hello'}\n",
      "{'a': 10, 'b': 20, 'c': 30, 'd': 40, 'e': None, 'f': 100, 'g': 'Hello', 'h': True}\n"
     ]
    }
   ],
   "source": [
    "x = {'a': 10, 'b': 20, 'c': 30, 'd':40}\n",
    "x.setdefault('e')\n",
    "print(x)\n",
    "\n",
    "x.setdefault('f', 100)\n",
    "print(x)\n",
    "\n",
    "x.update(g = 'Hello')\n",
    "print(x)\n",
    "\n",
    "x['h'] = True\n",
    "print(x)"
   ]
  },
  {
   "cell_type": "code",
   "execution_count": 11,
   "metadata": {},
   "outputs": [
    {
     "name": "stdout",
     "output_type": "stream",
     "text": [
      "{'a': 900, 'b': 20, 'c': 30, 'd': 40, 'e': 20}\n",
      "{1: 'ONE', 2: 'two', 3: 'THREE'}\n",
      "{1: 'ONE', 2: 'TWO', 3: 'THREE', 4: 'FOUR'}\n",
      "{1: 'one', 2: 'two', 3: 'THREE', 4: 'FOUR'}\n"
     ]
    }
   ],
   "source": [
    "x = {'a': 10, 'b': 20, 'c': 30, 'd':40}\n",
    "x.update(a = 900, e = 20)\n",
    "print(x)\n",
    "\n",
    "y = {1:'one', 2:'two'}\n",
    "y.update({1:'ONE', 3:'THREE'})\n",
    "print(y)\n",
    "\n",
    "y.update([[2, 'TWO'], [4, 'FOUR']])\n",
    "print(y)\n",
    "\n",
    "y.update(zip([1, 2], ['one','two']))\n",
    "print(y)"
   ]
  },
  {
   "cell_type": "code",
   "execution_count": 20,
   "metadata": {},
   "outputs": [
    {
     "name": "stdout",
     "output_type": "stream",
     "text": [
      "10 {'b': 20, 'c': 30, 'd': 40}\n",
      "999 {'b': 20, 'c': 30, 'd': 40}\n",
      "{'b': 20, 'd': 40}\n",
      "('d', 40) {'b': 20}\n",
      "None\n"
     ]
    }
   ],
   "source": [
    "x = {'a': 10, 'b': 20, 'c': 30, 'd':40}\n",
    "print(x.pop('a'), x)\n",
    "\n",
    "print(x.pop('z', 999), x)\n",
    "\n",
    "del x['c']\n",
    "print(x)\n",
    "\n",
    "print(x.popitem(), x)\n",
    "\n",
    "print(x.clear())\n"
   ]
  },
  {
   "cell_type": "code",
   "execution_count": 24,
   "metadata": {},
   "outputs": [
    {
     "name": "stdout",
     "output_type": "stream",
     "text": [
      "20\n",
      "0\n",
      "dict_items([('a', 10), ('b', 20), ('c', 30), ('d', 40)])\n",
      "dict_keys(['a', 'b', 'c', 'd'])\n",
      "dict_values([10, 20, 30, 40])\n"
     ]
    }
   ],
   "source": [
    "x = {'a': 10, 'b': 20, 'c': 30, 'd':40}\n",
    "print(x.get('b'))\n",
    "\n",
    "print(x.get('z',0))\n",
    "\n",
    "print(x.items())\n",
    "print(x.keys())\n",
    "print(x.values())"
   ]
  },
  {
   "cell_type": "code",
   "execution_count": 26,
   "metadata": {},
   "outputs": [
    {
     "name": "stdout",
     "output_type": "stream",
     "text": [
      "{'a': None, 'b': None, 'c': None, 'd': None}\n",
      "{'a': 999, 'b': 999, 'c': 999, 'd': 999}\n"
     ]
    }
   ],
   "source": [
    "keys = ['a', 'b', 'c', 'd']\n",
    "x = dict.fromkeys(keys)\n",
    "print(x)\n",
    "x = dict.fromkeys(keys, 999)\n",
    "print(x)\n"
   ]
  },
  {
   "cell_type": "code",
   "execution_count": 38,
   "metadata": {},
   "outputs": [
    {
     "name": "stdout",
     "output_type": "stream",
     "text": [
      "abcd\n",
      "key: a value: 10\n",
      "key: b value: 20\n",
      "key: c value: 30\n",
      "key: d value: 40\n",
      "{'a': 999, 'b': 999, 'c': 999, 'd': 999}\n",
      "{'a': 0, 'b': 0, 'c': 0, 'd': 0}\n",
      "{10: 'a', 20: 'b', 30: 'c', 40: 'd'}\n"
     ]
    }
   ],
   "source": [
    "x = {'a': 10, 'b': 20, 'c': 30, 'd':40}\n",
    "for i in x:\n",
    "    print(i , end='')\n",
    "    \n",
    "print('')\n",
    "for key, val in x.items():\n",
    "    print('key:',key,'value:',val)\n",
    "    \n",
    "keys = ['a', 'b', 'c', 'd']\n",
    "x = {key:value for key, value in dict.fromkeys(keys,999).items()}\n",
    "print(x)\n",
    "\n",
    "y = {key:0 for key, value in {'a': 10, 'b': 20, 'c': 30, 'd':40}.items()}\n",
    "print(y)\n",
    "\n",
    "z = {value:key for key, value in {'a': 10, 'b': 20, 'c': 30, 'd':40}.items()}\n",
    "print(z)"
   ]
  },
  {
   "cell_type": "code",
   "execution_count": 2,
   "metadata": {},
   "outputs": [
    {
     "name": "stdout",
     "output_type": "stream",
     "text": [
      "{'a': 10, 'c': 30, 'd': 40}\n"
     ]
    }
   ],
   "source": [
    "x = {'a': 10, 'b': 20, 'c': 30, 'd':40}\n",
    "\n",
    "for key, value in x.items():\n",
    "    if value == 20:\n",
    "        del x[key]\n",
    "        break\n",
    "        \n",
    "print(x)"
   ]
  },
  {
   "cell_type": "code",
   "execution_count": 40,
   "metadata": {},
   "outputs": [
    {
     "name": "stdout",
     "output_type": "stream",
     "text": [
      "{'a': 10, 'b': 20, 'c': 30, 'd': 40}\n"
     ]
    }
   ],
   "source": [
    "x = {'a': 10, 'b': 20, 'c': 30, 'd':40}\n",
    "x = {key:value for key, value in x.items() if key != 20}\n",
    "print(x)"
   ]
  },
  {
   "cell_type": "code",
   "execution_count": 43,
   "metadata": {},
   "outputs": [
    {
     "name": "stdout",
     "output_type": "stream",
     "text": [
      "{'Mercury': {'mean_radius': 2439.7, 'mass': 3.3022e+23, 'orbital_period': 87.969}, 'Venus': {'mean_radius': 6051.8, 'mass': 4.8676e+24, 'orbital_period': 224.70069}, 'Earth': {'mean_radius': 6371.0, 'mass': 5.97219e+24, 'orbital_period': 365.25641}, 'Mars': {'mean_radius': 3389.5, 'mass': 6.4185e+23, 'orbital_period': 686.96}}\n",
      "6051.8\n"
     ]
    }
   ],
   "source": [
    "terrestrial_planet = {\n",
    "    'Mercury' : {\n",
    "        'mean_radius': 2439.7,\n",
    "        'mass': 3.3022E+23,\n",
    "        'orbital_period': 87.969\n",
    "    },\n",
    "    'Venus': {\n",
    "        'mean_radius': 6051.8,\n",
    "        'mass': 4.8676E+24,\n",
    "        'orbital_period': 224.70069\n",
    "    },\n",
    "    'Earth': {\n",
    "        'mean_radius': 6371.0,\n",
    "        'mass': 5.97219E+24,\n",
    "        'orbital_period': 365.25641\n",
    "    },\n",
    "    'Mars': {\n",
    "        'mean_radius': 3389.5,\n",
    "        'mass': 6.4185E+23,\n",
    "        'orbital_period': 686.9600\n",
    "    }\n",
    "}\n",
    "\n",
    "print(terrestrial_planet)\n",
    "print(terrestrial_planet['Venus']['mean_radius'])"
   ]
  },
  {
   "cell_type": "code",
   "execution_count": 45,
   "metadata": {},
   "outputs": [
    {
     "name": "stdout",
     "output_type": "stream",
     "text": [
      "True\n",
      "{'a': 10, 'b': 999, 'c': 30, 'd': 40}\n",
      "{'a': 10, 'b': 999, 'c': 30, 'd': 40}\n",
      "False\n",
      "{'a': 10, 'b': 999, 'c': 30, 'd': 40}\n",
      "{'a': 10, 'b': 999, 'c': 'Hello', 'd': 40}\n"
     ]
    }
   ],
   "source": [
    "x = {'a': 10, 'b': 20, 'c': 30, 'd':40}\n",
    "y = x\n",
    "\n",
    "print(x is y)\n",
    "\n",
    "y['b'] = 999\n",
    "print(x)\n",
    "print(y)\n",
    "\n",
    "z = x.copy()\n",
    "\n",
    "print(x is z)\n",
    "\n",
    "z['c'] = 'Hello'\n",
    "print(x)\n",
    "print(z)\n"
   ]
  },
  {
   "cell_type": "code",
   "execution_count": 48,
   "metadata": {},
   "outputs": [
    {
     "name": "stdout",
     "output_type": "stream",
     "text": [
      "False\n",
      "{'a': {'python': '2.7.15'}, 'b': {'python': 3.6}}\n",
      "{'a': {'python': '2.7.15'}, 'b': {'python': 3.6}}\n",
      "True\n",
      "{'a': {'python': '2.7'}, 'b': {'python': 3.6}}\n",
      "{'a': {'python': '2.7.15'}, 'b': {'python': 3.6}}\n",
      "False\n"
     ]
    }
   ],
   "source": [
    "x = {'a': {'python': 2.7}, 'b':{'python':3.6}}\n",
    "y = x.copy()\n",
    "print(x is y)\n",
    "\n",
    "y['a']['python'] = '2.7.15'\n",
    "print(x)\n",
    "print(y)\n",
    "\n",
    "print(x['a'] is y['a'])\n",
    "\n",
    "import copy\n",
    "z = copy.deepcopy(x)\n",
    "x['a']['python'] = '2.7'\n",
    "print(x)\n",
    "print(z)\n",
    "\n",
    "print(x['a'] is z['a'])"
   ]
  },
  {
   "cell_type": "markdown",
   "metadata": {},
   "source": [
    "### 실습"
   ]
  },
  {
   "cell_type": "code",
   "execution_count": 80,
   "metadata": {},
   "outputs": [
    {
     "name": "stdout",
     "output_type": "stream",
     "text": [
      "정국 : 24 / 채영 : 24 / 제니 : 25 / 리사 : 24 / "
     ]
    }
   ],
   "source": [
    "# 연습문제 \n",
    "ai_classes = {\n",
    "    'bts' : [\n",
    "        {'name': '남준', 'age': 27},\n",
    "        {'name': '지민', 'age': 26},\n",
    "        {'name': '호석', 'age': 27},\n",
    "        {'name': '석진', 'age': 29},\n",
    "        {'name': '태형', 'age': 26},\n",
    "        {'name': '윤기', 'age': 28},\n",
    "        {'name': '정국', 'age': 24}\n",
    "    ],\n",
    "    'blackpink' : [\n",
    "        {'name': '채영', 'age': 24},\n",
    "        {'name': '제니', 'age': 25},\n",
    "        {'name': '지수', 'age': 26},\n",
    "        {'name': '리사', 'age': 24}\n",
    "    ]\n",
    "}\n",
    "\n",
    "for group in ai_classes.keys():\n",
    "    for member in ai_classes[group]:\n",
    "        name, age = member.values()\n",
    "        if age <= 25:\n",
    "            print(f'{name} : {age}', end=' / ')"
   ]
  },
  {
   "cell_type": "code",
   "execution_count": null,
   "metadata": {},
   "outputs": [],
   "source": []
  }
 ],
 "metadata": {
  "kernelspec": {
   "display_name": "Python 3.10.0 64-bit",
   "language": "python",
   "name": "python3"
  },
  "language_info": {
   "codemirror_mode": {
    "name": "ipython",
    "version": 3
   },
   "file_extension": ".py",
   "mimetype": "text/x-python",
   "name": "python",
   "nbconvert_exporter": "python",
   "pygments_lexer": "ipython3",
   "version": "3.10.10"
  },
  "orig_nbformat": 4,
  "vscode": {
   "interpreter": {
    "hash": "1ed1f76483e4d532c2a47a0bad31080b16a7f7d0106ba342ff005fcfacb5105f"
   }
  }
 },
 "nbformat": 4,
 "nbformat_minor": 2
}
