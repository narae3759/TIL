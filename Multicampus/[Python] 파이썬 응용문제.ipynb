{
 "cells": [
  {
   "cell_type": "markdown",
   "metadata": {},
   "source": [
    "## 문제 1"
   ]
  },
  {
   "cell_type": "code",
   "execution_count": 1,
   "metadata": {},
   "outputs": [
    {
     "name": "stdout",
     "output_type": "stream",
     "text": [
      "I like Black Pink!\n",
      "I like BTS!\n",
      "My lucky number * * *\n",
      "My lucky number * * *\n",
      "My lucky number 2 7 99\n"
     ]
    }
   ],
   "source": [
    "import re\n",
    "s = 'I like BTS!'\n",
    "print(re.sub('BTS','Black Pink',s))\n",
    "print(s)\n",
    "\n",
    "s = 'My lucky number 2 7 99'\n",
    "print(re.sub('[0-9]+', '*', s))\n",
    "print(re.sub('\\d+', '*', s))\n",
    "print(s)"
   ]
  },
  {
   "cell_type": "markdown",
   "metadata": {},
   "source": [
    "# 문제 2"
   ]
  },
  {
   "cell_type": "code",
   "execution_count": 2,
   "metadata": {},
   "outputs": [
    {
     "name": "stdout",
     "output_type": "stream",
     "text": [
      "Good Morning!   I like Python \n"
     ]
    }
   ],
   "source": [
    "# Tweet = input('트윗을 입력하세요.')\n",
    "Tweet = 'Good Morning! RT @PythonUser I like Python #Python'\n",
    "\n",
    "at = '@\\w+'\n",
    "tag = '#\\w+'\n",
    "RT = 'RT'\n",
    "CC = 'CC'\n",
    "email = '[a-zA-Z0-9]+[a-zA-Z0-9_.-]*@[a-zA-Z0-9]+.[a-zA-Z0-9]+[a-zA-Z0-9.]*'\n",
    "\n",
    "Tweet = re.sub(at, '', Tweet)\n",
    "Tweet = re.sub(tag, '', Tweet)\n",
    "Tweet = re.sub(RT, '', Tweet)\n",
    "print(Tweet)"
   ]
  },
  {
   "cell_type": "markdown",
   "metadata": {},
   "source": [
    "# 문제 3"
   ]
  },
  {
   "cell_type": "code",
   "execution_count": 3,
   "metadata": {},
   "outputs": [
    {
     "name": "stdout",
     "output_type": "stream",
     "text": [
      "Good Morning!   I like Python \n"
     ]
    }
   ],
   "source": [
    "# Tweet = input('트윗을 입력하세요.')\n",
    "Tweet = 'Good Morning! RT @PythonUser I like Python #Python'\n",
    "\n",
    "Tweet = re.sub('RT|@\\w+|#\\w+','',Tweet)\n",
    "print(Tweet)\n",
    "\n",
    "# 구글 사이트 참고 : https://support.google.com/a/answer/1346938?hl=ko\n"
   ]
  },
  {
   "cell_type": "markdown",
   "metadata": {},
   "source": [
    "# 문제 4"
   ]
  },
  {
   "cell_type": "code",
   "execution_count": null,
   "metadata": {},
   "outputs": [
    {
     "name": "stdout",
     "output_type": "stream",
     "text": [
      "*\n",
      "**\n",
      "***\n",
      "****\n",
      "*****\n",
      "==================================================\n",
      " *\n",
      "  *\n",
      "   *\n",
      "    *\n",
      "     *\n",
      "==================================================\n",
      "      *\n",
      "     ***\n",
      "    *****\n",
      "   *******\n",
      "  *********\n",
      "==================================================\n",
      "      *\n",
      "     ***\n",
      "    *****\n",
      "   *******\n",
      "  *********\n",
      "==================================================\n",
      "*****\n",
      " ****\n",
      "  ***\n",
      "   **\n",
      "    *\n"
     ]
    }
   ],
   "source": [
    "# 계단식으로 별 출력하기 (for 문 2개)\n",
    "\n",
    "step = 5\n",
    "for i in range(1,step+1):\n",
    "    print('*'*i)\n",
    "    \n",
    "print('='*50)\n",
    "for i in range(step):\n",
    "    print(' '*i, '*')\n",
    "\n",
    "print('='*50)\n",
    "step = 5\n",
    "for i in range(step):\n",
    "    print(' '*(step-i+1) + '*'*(2*i+1))\n",
    "\n",
    "print('='*50)\n",
    "for i in range(step):\n",
    "    for j in range(step-i+1):\n",
    "        print(' ', end='')\n",
    "    for k in range(0,2*i+1):   \n",
    "        print('*', end='')\n",
    "    print()\n",
    "\n",
    "print('='*50)\n",
    "for i in range(step):\n",
    "    print(' '*i + '*'*(step-i))\n"
   ]
  },
  {
   "cell_type": "code",
   "execution_count": null,
   "metadata": {},
   "outputs": [
    {
     "name": "stdout",
     "output_type": "stream",
     "text": [
      "         *\n",
      "        ***\n",
      "       *****\n",
      "      *******\n",
      "     *********\n",
      "    ***********\n",
      "   *************\n",
      "  ***************\n",
      " *****************\n",
      "*******************\n",
      "==================================================\n",
      "*******************\n",
      " *****************\n",
      "  ***************\n",
      "   *************\n",
      "    ***********\n",
      "     *********\n",
      "      *******\n",
      "       *****\n",
      "        ***\n",
      "         *\n"
     ]
    }
   ],
   "source": [
    "# 이등변 삼각형\n",
    "def tree(depth):\n",
    "    for i in range(depth):\n",
    "        print(' '*(depth-i-1) + '*'*(2*i+1))\n",
    "        \n",
    "# 역삼각형\n",
    "def invtree(depth):\n",
    "    for i in range(depth):\n",
    "        print(' '*i + '*'*(2*(depth-i)-1))\n",
    "     \n",
    "depth = 10 \n",
    "tree(depth)        \n",
    "print('='*50)\n",
    "invtree(depth)\n"
   ]
  },
  {
   "cell_type": "markdown",
   "metadata": {},
   "source": [
    "# 문제 5"
   ]
  },
  {
   "cell_type": "code",
   "execution_count": null,
   "metadata": {},
   "outputs": [
    {
     "name": "stdout",
     "output_type": "stream",
     "text": [
      "number 1\n",
      "number 2\n",
      "number 3 Fizz\n",
      "number 4\n",
      "number 5 Buzz\n",
      "number 6 Fizz\n",
      "number 7\n",
      "number 8\n",
      "number 9 Fizz\n",
      "number 10 Buzz\n",
      "number 11\n",
      "number 12 Fizz\n",
      "number 13\n",
      "number 14\n",
      "number 15 FizzBuzz\n",
      "number 16\n",
      "number 17\n",
      "number 18 Fizz\n",
      "number 19\n",
      "number 20 Buzz\n",
      "number 21 Fizz\n",
      "number 22\n",
      "number 23\n",
      "number 24 Fizz\n",
      "number 25 Buzz\n",
      "number 26\n",
      "number 27 Fizz\n",
      "number 28\n",
      "number 29\n",
      "number 30 FizzBuzz\n",
      "number 31\n",
      "number 32\n",
      "number 33 Fizz\n",
      "number 34\n",
      "number 35 Buzz\n",
      "number 36 Fizz\n",
      "number 37\n",
      "number 38\n",
      "number 39 Fizz\n",
      "number 40 Buzz\n",
      "number 41\n",
      "number 42 Fizz\n",
      "number 43\n",
      "number 44\n",
      "number 45 FizzBuzz\n",
      "number 46\n",
      "number 47\n",
      "number 48 Fizz\n",
      "number 49\n",
      "number 50 Buzz\n",
      "number 51 Fizz\n",
      "number 52\n",
      "number 53\n",
      "number 54 Fizz\n",
      "number 55 Buzz\n",
      "number 56\n",
      "number 57 Fizz\n",
      "number 58\n",
      "number 59\n",
      "number 60 FizzBuzz\n",
      "number 61\n",
      "number 62\n",
      "number 63 Fizz\n",
      "number 64\n",
      "number 65 Buzz\n",
      "number 66 Fizz\n",
      "number 67\n",
      "number 68\n",
      "number 69 Fizz\n",
      "number 70 Buzz\n",
      "number 71\n",
      "number 72 Fizz\n",
      "number 73\n",
      "number 74\n",
      "number 75 FizzBuzz\n",
      "number 76\n",
      "number 77\n",
      "number 78 Fizz\n",
      "number 79\n",
      "number 80 Buzz\n",
      "number 81 Fizz\n",
      "number 82\n",
      "number 83\n",
      "number 84 Fizz\n",
      "number 85 Buzz\n",
      "number 86\n",
      "number 87 Fizz\n",
      "number 88\n",
      "number 89\n",
      "number 90 FizzBuzz\n",
      "number 91\n",
      "number 92\n",
      "number 93 Fizz\n",
      "number 94\n",
      "number 95 Buzz\n",
      "number 96 Fizz\n",
      "number 97\n",
      "number 98\n",
      "number 99 Fizz\n",
      "number 100 Buzz\n"
     ]
    }
   ],
   "source": [
    "# 연습문제 FizzBuzz\n",
    "for num in range(1,100+1):\n",
    "    if num % 3 == 0 and num % 5 == 0:\n",
    "        print('number',num,'FizzBuzz')\n",
    "    elif num % 3 == 0:\n",
    "        print('number',num,'Fizz')\n",
    "    elif num % 5 == 0:\n",
    "        print('number',num,'Buzz')\n",
    "    else:\n",
    "        print('number',num)"
   ]
  },
  {
   "cell_type": "code",
   "execution_count": null,
   "metadata": {},
   "outputs": [
    {
     "name": "stdout",
     "output_type": "stream",
     "text": [
      "1\n",
      "2\n",
      "Fizz\n",
      "4\n",
      "Buzz\n",
      "Fizz\n",
      "7\n",
      "8\n",
      "Fizz\n",
      "Buzz\n",
      "11\n",
      "Fizz\n",
      "13\n",
      "14\n",
      "FizzBuzz\n",
      "16\n",
      "17\n",
      "Fizz\n",
      "19\n",
      "Buzz\n",
      "Fizz\n",
      "22\n",
      "23\n",
      "Fizz\n",
      "Buzz\n",
      "26\n",
      "Fizz\n",
      "28\n",
      "29\n",
      "FizzBuzz\n",
      "31\n",
      "32\n",
      "Fizz\n",
      "34\n",
      "Buzz\n",
      "Fizz\n",
      "37\n",
      "38\n",
      "Fizz\n",
      "Buzz\n",
      "41\n",
      "Fizz\n",
      "43\n",
      "44\n",
      "FizzBuzz\n",
      "46\n",
      "47\n",
      "Fizz\n",
      "49\n",
      "Buzz\n",
      "Fizz\n",
      "52\n",
      "53\n",
      "Fizz\n",
      "Buzz\n",
      "56\n",
      "Fizz\n",
      "58\n",
      "59\n",
      "FizzBuzz\n",
      "61\n",
      "62\n",
      "Fizz\n",
      "64\n",
      "Buzz\n",
      "Fizz\n",
      "67\n",
      "68\n",
      "Fizz\n",
      "Buzz\n",
      "71\n",
      "Fizz\n",
      "73\n",
      "74\n",
      "FizzBuzz\n",
      "76\n",
      "77\n",
      "Fizz\n",
      "79\n",
      "Buzz\n",
      "Fizz\n",
      "82\n",
      "83\n",
      "Fizz\n",
      "Buzz\n",
      "86\n",
      "Fizz\n",
      "88\n",
      "89\n",
      "FizzBuzz\n",
      "91\n",
      "92\n",
      "Fizz\n",
      "94\n",
      "Buzz\n",
      "Fizz\n",
      "97\n",
      "98\n",
      "Fizz\n",
      "Buzz\n"
     ]
    }
   ],
   "source": [
    "# 연습문제 FizzBuzz(indicator function 이용)\n",
    "for i in range(1,100+1):\n",
    "    print('Fizz'*(i % 3 == 0) + 'Buzz'*(i % 5 ==0) or i)"
   ]
  },
  {
   "cell_type": "markdown",
   "metadata": {},
   "source": [
    "# 문제 6"
   ]
  },
  {
   "cell_type": "code",
   "execution_count": 10,
   "metadata": {},
   "outputs": [
    {
     "name": "stdout",
     "output_type": "stream",
     "text": [
      "투입한 돈: 5000\n",
      "물건값: 100\n",
      "거스름 돈: 4900\n",
      "500원 동전의 수: 9개, 100원 동전의 수: 4개\n"
     ]
    }
   ],
   "source": [
    "# 자동 판매기 프로그램 \n",
    "money = int(input('금액을 투입해주세요.'))\n",
    "price = int(input('물건값을 설정해주세요.'))\n",
    "\n",
    "changes = money - price \n",
    "m500 = changes // 500\n",
    "m100 = (changes % 500) // 100\n",
    "\n",
    "print(f'투입한 돈: {money}')\n",
    "print(f'물건값: {price}')\n",
    "print(f'거스름 돈: {changes}')\n",
    "print(f'500원 동전의 수: {m500}개, 100원 동전의 수: {m100}개')"
   ]
  },
  {
   "cell_type": "markdown",
   "metadata": {},
   "source": [
    "# 문제 7"
   ]
  },
  {
   "cell_type": "code",
   "execution_count": 28,
   "metadata": {},
   "outputs": [
    {
     "name": "stdout",
     "output_type": "stream",
     "text": [
      "경우의 수: 81\n",
      "경우의 수: 81\n"
     ]
    }
   ],
   "source": [
    "# 모든 샌드위치 종류 출력하기 \n",
    "bread = ['호밀빵', '위트', '화이트']\n",
    "meat = ['미트볼', '소시지', '닭가슴살']\n",
    "vegetable = ['양상추', '토마토', '오이']\n",
    "sauce = ['마요네즈', '허니 머스타드', '칠리']\n",
    "\n",
    "result = []\n",
    "for x in range(len(bread)):\n",
    "    for y in range(len(meat)):\n",
    "        for w in range(len(vegetable)):\n",
    "            for z in range(len(sauce)):\n",
    "                # print(f'{bread[x]} + {meat[y]} + {vegetable[w]} + {sauce[z]}')\n",
    "                result.append([f'{bread[x]} + {meat[y]} + {vegetable[w]} + {sauce[z]}'])\n",
    "\n",
    "print('경우의 수:',len(result))\n",
    "\n",
    "result = []\n",
    "for b in bread:\n",
    "    for m in meat:\n",
    "        for v in vegetable:\n",
    "            for s in sauce:\n",
    "                # print(f'{b} + {m} + {v} + {s}')\n",
    "                result.append([f'{b} + {m} + {v} + {s}'])\n",
    "\n",
    "print('경우의 수:',len(result))\n",
    "\n",
    "## 문제점 : 반복문의 중첩이 너무 많다. 되도록이면 반복문의 중첩은 3중 이상은 안하는 것을 추천한다. "
   ]
  },
  {
   "cell_type": "markdown",
   "metadata": {},
   "source": [
    "# 문제 8"
   ]
  },
  {
   "cell_type": "code",
   "execution_count": 49,
   "metadata": {},
   "outputs": [
    {
     "name": "stdout",
     "output_type": "stream",
     "text": [
      "주급은 420000.0원 입니다.\n"
     ]
    }
   ],
   "source": [
    "# 주급 계산 프로그램 \n",
    "r = float(input('시급을 입력하세요'))\n",
    "h = float(input('근무 시간을 입력하세요.'))\n",
    "\n",
    "def weeklyPay(rate, hour):\n",
    "    weekly = rate * hour + (hour > 30) * rate * (hour - 30) * 0.5\n",
    "    \n",
    "    print('주급은 {}원 입니다.'.format(weekly))\n",
    "\n",
    "def weeklyPay(rate, hour):\n",
    "    if hour > 30:\n",
    "        weekly = rate * 30 + rate * (hour - 30) * 1.5\n",
    "    else:\n",
    "        weekly = rate * hour \n",
    "    \n",
    "    print('주급은 {}원 입니다.'.format(weekly))\n",
    "    \n",
    "weeklyPay(rate=r, hour=h)\n",
    "\n",
    "# 코드의 길이보다는 가독성에 집중하자. "
   ]
  },
  {
   "cell_type": "markdown",
   "metadata": {},
   "source": [
    "# 문제 9"
   ]
  },
  {
   "cell_type": "code",
   "execution_count": 44,
   "metadata": {},
   "outputs": [
    {
     "name": "stdout",
     "output_type": "stream",
     "text": [
      "5\n"
     ]
    }
   ],
   "source": [
    "# 피보나치 수열 (0, 1, 1, 2, 3, 5, ....)\n",
    "def fibonacci(n):\n",
    "    if n == 1:\n",
    "        return 0\n",
    "    elif n == 2:\n",
    "        return 1\n",
    "    else:\n",
    "        return fibonacci(n-2) + fibonacci(n-1)\n",
    "\n",
    "print(fibonacci(6))"
   ]
  },
  {
   "cell_type": "markdown",
   "metadata": {},
   "source": [
    "# 문제 10"
   ]
  },
  {
   "cell_type": "code",
   "execution_count": 88,
   "metadata": {},
   "outputs": [
    {
     "name": "stdout",
     "output_type": "stream",
     "text": [
      "Error!! 없는 상품이거나 잘못 입력하셨습니다.\n"
     ]
    }
   ],
   "source": [
    "# 편의점 재고 관리 프로그램을 만들자 \n",
    "\n",
    "items = {'커피음료':7, '펜': 3, '종이컵':2, '우유':1, '콜라':4, '책':5}\n",
    "\n",
    "try:\n",
    "    while True:\n",
    "        menu = int(input('메뉴를 선택하시오 1) 재고조회 2) 입고 3) 출고 4) 종료'))\n",
    "        if menu == 1:\n",
    "            item = input('[재고조회] 물건의 이름을 입력하시오:')\n",
    "            if item not in items.keys():\n",
    "                raise Exception(\"없는 상품이거나 잘못 입력하셨습니다.\")\n",
    "\n",
    "        elif menu == 2:\n",
    "            item, cnt = input('물건의 이름과 수량을 입력하시오(공백으로 구분)').split()\n",
    "            if item not in items.keys():\n",
    "                raise Exception(\"없는 상품이거나 잘못 입력하셨습니다.\")\n",
    "\n",
    "            items[item] += int(cnt)\n",
    "        elif menu == 3:\n",
    "            item, cnt = input('물건의 이름과 수량을 입력하시오(공백으로 구분)').split()\n",
    "            if item not in items.keys():\n",
    "                raise Exception(\"없는 상품이거나 잘못 입력하셨습니다.\")\n",
    "\n",
    "            if items[item] < int(cnt):\n",
    "                print('재고가 부족합니다.')\n",
    "            else:\n",
    "                items[item] -= int(cnt)\n",
    "        elif menu == 4:\n",
    "            print('프로그램을 종료합니다.')\n",
    "            break\n",
    "        else:\n",
    "            print('잘못 입력하셨습니다.')\n",
    "            continue\n",
    "        \n",
    "        print('{} 재고: {}'.format(item, items[item]))\n",
    "except Exception as e:\n",
    "    print('Error!!', e)\n",
    "\n"
   ]
  },
  {
   "cell_type": "code",
   "execution_count": 98,
   "metadata": {},
   "outputs": [
    {
     "name": "stdout",
     "output_type": "stream",
     "text": [
      "{'커피음료': 7, '펜': 3, '종이컵': 2, '우유': 1, '콜라': 4, '책': 5}\n",
      "Error!! 상품이 없거나 잘못 입력하셨습니다. invalid literal for int() with base 10: ''\n"
     ]
    }
   ],
   "source": [
    "# 편의점 재고 관리 프로그램을 만들자 \n",
    "\n",
    "items = {'커피음료':7, '펜': 3, '종이컵':2, '우유':1, '콜라':4, '책':5}\n",
    "\n",
    "try:\n",
    "    while True:\n",
    "        menu = int(input('메뉴를 선택하시오 1) 재고조회 2) 입고 3) 출고 4) 종료'))\n",
    "        if menu == 1:\n",
    "            item = input('[재고조회] 물건의 이름을 입력하시오(전체조회 all):')\n",
    "            if item == 'all':\n",
    "                print(items)\n",
    "                continue\n",
    "        elif menu == 2:\n",
    "            item, cnt = input('물건의 이름과 수량을 입력하시오(공백으로 구분)').split()\n",
    "            if item not in items:\n",
    "                print('새로운 상품이 입고되었습니다.')\n",
    "                items[item] = int(cnt)\n",
    "            else:\n",
    "                items[item] += int(cnt)\n",
    "        elif menu == 3:\n",
    "            item, cnt = input('물건의 이름과 수량을 입력하시오(공백으로 구분)').split()\n",
    "\n",
    "            if items[item] < int(cnt):\n",
    "                print('재고가 부족합니다.')\n",
    "            else:\n",
    "                items[item] -= int(cnt)\n",
    "        elif menu == 4:\n",
    "            print('프로그램을 종료합니다.')\n",
    "            break\n",
    "        else:\n",
    "            print('잘못 입력하셨습니다.')\n",
    "            continue\n",
    "        \n",
    "        print('{} 재고: {}'.format(item, items[item]))\n",
    "except Exception as e:\n",
    "    print('Error!! 상품이 없거나 잘못 입력하셨습니다.', e)\n",
    "\n"
   ]
  },
  {
   "cell_type": "markdown",
   "metadata": {},
   "source": [
    "# 문제 11"
   ]
  },
  {
   "cell_type": "code",
   "execution_count": 128,
   "metadata": {},
   "outputs": [
    {
     "name": "stdout",
     "output_type": "stream",
     "text": [
      "사전 프로그램 시작... 종료는 q를 입력하세요.\n",
      "Error!! not enough values to unpack (expected 2, got 0)\n",
      "$ q\n",
      "사전을 종료합니다. 이용해주셔서 감사합니다.\n"
     ]
    }
   ],
   "source": [
    "# 영한 사전 만들기 \n",
    "# 공백으로 인한 오류도 생각해보자. .strip()으로 해결\n",
    "# 입력을 다 하지 않아서 생기는 오류를 세분화해보자.\n",
    "mydict = {}\n",
    "print('사전 프로그램 시작... 종료는 q를 입력하세요.')\n",
    "\n",
    "while True:\n",
    "    try:\n",
    "        text = input('안녕하세요. 영한 사전입니다. 명령어를 입력하세요.')\n",
    "        if text == 'q':\n",
    "            print(f'$ {text}')\n",
    "            print('사전을 종료합니다. 이용해주셔서 감사합니다.')\n",
    "            break\n",
    "        \n",
    "        cmd, content = text.split()\n",
    "\n",
    "        if cmd == '<':\n",
    "            key, value = content.split(':')\n",
    "            mydict[key.strip()] = value.strip()\n",
    "            print('$ {} {}'.format(cmd, content))\n",
    "        elif cmd == '>':\n",
    "            if content not in mydict.keys():\n",
    "                print(f'$ {content}')\n",
    "                print(f'{content}가 사전에 없습니다.')\n",
    "                continue\n",
    "            print('$ {} {}'.format(cmd, content))\n",
    "            print(mydict[content])\n",
    "        else:\n",
    "            print('딕셔너리 형식으로 입력해주세요')\n",
    "    except Exception as e:\n",
    "        print('Error!!', e)\n"
   ]
  }
 ],
 "metadata": {
  "kernelspec": {
   "display_name": "Python 3.10.0 64-bit",
   "language": "python",
   "name": "python3"
  },
  "language_info": {
   "codemirror_mode": {
    "name": "ipython",
    "version": 3
   },
   "file_extension": ".py",
   "mimetype": "text/x-python",
   "name": "python",
   "nbconvert_exporter": "python",
   "pygments_lexer": "ipython3",
   "version": "3.10.0"
  },
  "orig_nbformat": 4,
  "vscode": {
   "interpreter": {
    "hash": "1ed1f76483e4d532c2a47a0bad31080b16a7f7d0106ba342ff005fcfacb5105f"
   }
  }
 },
 "nbformat": 4,
 "nbformat_minor": 2
}
