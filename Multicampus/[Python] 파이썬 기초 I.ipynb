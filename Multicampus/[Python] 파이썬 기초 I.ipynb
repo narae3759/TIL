{
 "cells": [
  {
   "cell_type": "markdown",
   "metadata": {},
   "source": [
    "# 20220920 파이썬 기초(1)\n",
    "\n",
    "## input\n",
    "* input으로 받는 값으 문자열(string)으로 인식한다. <br>\n",
    "따라서 숫자로 인식하기 위해서는 `int()` 함수를 사용해야 한다. \n",
    "* input으로 여러 변수를 받는 경우에는 `.split()`으로 구분하게 되는데 이 때 리스트(list)로 인식한다.<br>\n",
    "따라서 숫자로 인식하기 위해서는 `map(int,input().split())`을 사용해야 한다.  "
   ]
  },
  {
   "cell_type": "code",
   "execution_count": null,
   "metadata": {},
   "outputs": [],
   "source": []
  },
  {
   "cell_type": "code",
   "execution_count": 1,
   "metadata": {},
   "outputs": [
    {
     "name": "stdout",
     "output_type": "stream",
     "text": [
      "과일\n",
      "사과\n"
     ]
    }
   ],
   "source": [
    "a, b = input('문자열 두 개를 입력하세요(:로 구분)').split(':')\n",
    "\n",
    "print(a)\n",
    "print(b)"
   ]
  },
  {
   "cell_type": "code",
   "execution_count": 13,
   "metadata": {},
   "outputs": [
    {
     "name": "stdout",
     "output_type": "stream",
     "text": [
      "a=5, b=4이므로 a+b=9입니다.\n"
     ]
    }
   ],
   "source": [
    "a, b = map(int,input('덧셈할 두 정수를 입력해주세요(공백으로 구분)').split())\n",
    "print('a=',a,', b=',b,'이므로 a+b=',a+b,'입니다.',sep=\"\")\n"
   ]
  },
  {
   "cell_type": "code",
   "execution_count": 8,
   "metadata": {},
   "outputs": [
    {
     "name": "stdout",
     "output_type": "stream",
     "text": [
      "입력한 5개의 점수 합은 15입니다.\n"
     ]
    }
   ],
   "source": [
    "i1, i2, i3, i4, i5 = map(int, input('덧셈할 5개의 정수를 입력해주세요(공백 구분)').split())\n",
    "print('입력한 5개의 점수 합은 ',i1+i2+i3+i4+i5,'입니다.',sep=\"\")"
   ]
  },
  {
   "cell_type": "code",
   "execution_count": 15,
   "metadata": {},
   "outputs": [
    {
     "name": "stdout",
     "output_type": "stream",
     "text": [
      "88 90 78 67의 2학기 중간고사 평균 점수는 80점 입니다.\n"
     ]
    }
   ],
   "source": [
    "# 연습문제 \n",
    "name = input('학생의 이름을 입력하세요')\n",
    "kor, eng, math, science = map(int,input('국어, 영어, 수학, 과학 점수를 입력하세요(공백으로 구분)').split())\n",
    "avg = (kor + eng + math + science)/4\n",
    "print(name,'의 2학기 중간고사 평균 점수는 ', int(avg),'점 입니다.', sep=\"\")"
   ]
  },
  {
   "cell_type": "code",
   "execution_count": 20,
   "metadata": {},
   "outputs": [
    {
     "name": "stdout",
     "output_type": "stream",
     "text": [
      "아버지가 방에 들어가신다\n",
      "아버지가방에들어가신다\n",
      "234x567\n",
      "[쿵쿵따]\n",
      "파이썬\n",
      "썬글라스\n",
      "스위스\n"
     ]
    }
   ],
   "source": [
    "print('아버지가','방에','들어가신다')\n",
    "print('아버지가','방에','들어가신다',sep='')\n",
    "print(234,567,sep='x')\n",
    "print('[쿵쿵따]','파이썬','썬글라스','스위스',sep='\\n')"
   ]
  },
  {
   "cell_type": "code",
   "execution_count": 28,
   "metadata": {},
   "outputs": [
    {
     "name": "stdout",
     "output_type": "stream",
     "text": [
      "홍길동의 2학기 중간고사 총합 점수는\n",
      "95+90+85+80\n",
      "=350점 입니다.\n"
     ]
    }
   ],
   "source": [
    "# 연습문제\n",
    "name = input('학생의 이름을 입력하세요')\n",
    "kor, eng, mat, sci = map(int,input('국어, 영어, 수학, 과학 점수를 입력하세요(공백으로 구분)').split())\n",
    "sum = (kor + eng + mat + sci)\n",
    "print(name,'의 2학기 중간고사 총합 점수는',sep=\"\")\n",
    "print(kor, eng, mat, sci,sep='+')\n",
    "print('=',int(sum),'점 입니다.', sep=\"\")"
   ]
  },
  {
   "cell_type": "code",
   "execution_count": 30,
   "metadata": {},
   "outputs": [
    {
     "name": "stdout",
     "output_type": "stream",
     "text": [
      "Enter를 하고 싶지 않습니다.space로 연결하고 싶습니다. '|'로 연결하고 싶습니다.|확인합시다.\n"
     ]
    }
   ],
   "source": [
    "print('Enter를 하고 싶지 않습니다.',end=\"\")\n",
    "print('space로 연결하고 싶습니다.',end=' ')\n",
    "print('\\'|\\'로 연결하고 싶습니다.',end='|')\n",
    "print('확인합시다.')"
   ]
  },
  {
   "cell_type": "code",
   "execution_count": 34,
   "metadata": {},
   "outputs": [
    {
     "name": "stdout",
     "output_type": "stream",
     "text": [
      "실행 결과 1\n",
      "2019/1/31\n",
      "10:33:57\n",
      "실행 결과 2\n",
      "2019/1/31 10:33:57\n"
     ]
    }
   ],
   "source": [
    "# 연습문제\n",
    "year = 2019\n",
    "month = 1\n",
    "day = 31\n",
    "hour = 10\n",
    "minute = 33\n",
    "second = 57\n",
    "print('실행 결과 1')\n",
    "print(year, month, day, sep=\"/\")\n",
    "print(hour ,minute, second, sep=\":\")\n",
    "\n",
    "print('실행 결과 2')\n",
    "print(year, month, day, sep=\"/\",end=' ')\n",
    "print(hour ,minute, second, sep=\":\")"
   ]
  },
  {
   "cell_type": "markdown",
   "metadata": {},
   "source": [
    "## 논리 연산자\n",
    "* True(1) / False(0)\n",
    "* `and`는 뒤가 결정자. `or`은 앞이 결정자.\n",
    "\n",
    "|코드          |결과   |코드            |결과   | \n",
    "|------------- |-------|---------------|-------|\n",
    "|True and True | True  |True and False | False |\n",
    "|False and True| False |False and False| True  |\n",
    "|True or True  | True  |True or False  | True  |\n",
    "|False or False| True  |True or True   | True  |"
   ]
  },
  {
   "cell_type": "code",
   "execution_count": 41,
   "metadata": {},
   "outputs": [
    {
     "name": "stdout",
     "output_type": "stream",
     "text": [
      "True\n",
      "False\n",
      "True\n",
      "True\n",
      "False\n",
      "True\n",
      "Python\n",
      "True\n",
      "True\n",
      "Python\n"
     ]
    }
   ],
   "source": [
    "print(bool(1))\n",
    "print(bool(0))\n",
    "print(bool(1.5))\n",
    "print(bool('False'))\n",
    "print(bool(''))\n",
    "print(bool(' '))\n",
    "print(True and 'Python')\n",
    "print('Python' and True)\n",
    "print(True or 'Python')\n",
    "print('Python' or True)"
   ]
  },
  {
   "cell_type": "code",
   "execution_count": 48,
   "metadata": {},
   "outputs": [
    {
     "name": "stdout",
     "output_type": "stream",
     "text": [
      "True False\n"
     ]
    }
   ],
   "source": [
    "# 연습문제 \n",
    "# 한 과목이라도 50점 이상이면 합격\n",
    "kor, eng, mat, sci = [92, 47, 86, 81]\n",
    "is50_1 = kor < 50 or eng < 50 or math < 50 or sci < 50          # 하나라도 50 미만인가?\n",
    "is50_2 = kor >= 50 and eng >= 50 and math >= 50 and sci >= 50   # 모두 50점 이상인가?\n",
    "print(is50_1, is50_2)"
   ]
  },
  {
   "cell_type": "code",
   "execution_count": 53,
   "metadata": {},
   "outputs": [
    {
     "name": "stdout",
     "output_type": "stream",
     "text": [
      "국어: 85 영어: 75 수학: 90 과학: 95\n",
      "False\n"
     ]
    }
   ],
   "source": [
    "# 연습문제 \n",
    "kor, eng, mat, sci = map(int,input('국어,영어,수학,과학 점수를 차례대로 입력하세요(공백으로 구분)').split())\n",
    "print('국어:',kor,'영어:',eng,'수학:',mat,'과학:',sci)\n",
    "print(kor >= 90 and eng > 80 and math > 85 and sci >= 80)\n",
    "                         "
   ]
  },
  {
   "cell_type": "code",
   "execution_count": 55,
   "metadata": {},
   "outputs": [
    {
     "name": "stdout",
     "output_type": "stream",
     "text": [
      "안녕하세요 홍길동입니다.\n"
     ]
    }
   ],
   "source": [
    "name = input('닉네임을 입력해주세요')\n",
    "text = input(name + '님! 문자를 입력해주세요')\n",
    "print(text)"
   ]
  },
  {
   "cell_type": "markdown",
   "metadata": {},
   "source": [
    "## 리스트(List)\n",
    "* `list(range(a,b))`: a부터 시작해서 b전 값까지 리스트로 출력 (*b는 포함되지 않음을 기억하자*) <br>\n",
    "`list(range(n))`: 두 개의 값을 쓰지 않고 하나만 쓴다면 a를 0으로 인식해서 0부터 n 전 값까지 리스트로 출력 <br>\n",
    "`list(range(a,b,step))`: a부터 시작해서 b전 값가지 step만큼 증가하면서 리스트로 출력"
   ]
  },
  {
   "cell_type": "code",
   "execution_count": 68,
   "metadata": {},
   "outputs": [
    {
     "name": "stdout",
     "output_type": "stream",
     "text": [
      "[5, 6, 7, 8, 9, 10, 11, 12, 13, 14, 15, 16, 17, 18, 19, 20]\n",
      "[0, 1, 2, 3, 4, 5, 6, 7, 8, 9]\n",
      "[5, 7, 9, 11, 13, 15, 17, 19]\n",
      "[10, 9, 8, 7, 6, 5, 4, 3, 2, 1]\n"
     ]
    }
   ],
   "source": [
    "print(list(range(5,21)))\n",
    "print(list(range(10)))\n",
    "print(list(range(5,21,2)))\n",
    "print(list(range(10,0,-1)))"
   ]
  },
  {
   "cell_type": "code",
   "execution_count": 71,
   "metadata": {},
   "outputs": [
    {
     "name": "stdout",
     "output_type": "stream",
     "text": [
      "[0, 1, 2, 3, 4, 5, 6, 7, 8, 9, 10]\n",
      "[0, 2, 4, 6, 8, 10, 12]\n",
      "[13, 11, 9, 7, 5, 3]\n",
      "[-8, -6, -4, -2, 0, 2, 4, 6, 8]\n",
      "[-100, -50, 0, 50, 100]\n"
     ]
    }
   ],
   "source": [
    "# 연습문제 \n",
    "print(list(range(11)))\n",
    "print(list(range(0,13,2)))\n",
    "print(list(range(13,2,-2)))\n",
    "print(list(range(-8,9,2)))\n",
    "print(list(range(-100,101,50)))"
   ]
  },
  {
   "cell_type": "code",
   "execution_count": 95,
   "metadata": {},
   "outputs": [
    {
     "name": "stdout",
     "output_type": "stream",
     "text": [
      "['black', 'red', 'blue', 'purple', 'orange', 'cyan']\n",
      "['black', 'red', 'blue', 'black', 'red', 'blue']\n",
      "True\n",
      "False\n",
      "False\n",
      "True\n"
     ]
    }
   ],
   "source": [
    "color1 = ['black', 'red', 'blue']\n",
    "color2 = ['purple', 'orange', 'cyan']\n",
    "\n",
    "print(color1 + color2)\n",
    "print(color1 * 2)\n",
    "print('blue' in color1)\n",
    "print('blue' in color2)\n",
    "print('blue' not in color1)\n",
    "print('blue' not in color2)"
   ]
  },
  {
   "cell_type": "code",
   "execution_count": 98,
   "metadata": {},
   "outputs": [
    {
     "name": "stdout",
     "output_type": "stream",
     "text": [
      "[1, 3, 5, 7, 9, 11, 13, 15, 17, 19]\n",
      "False\n",
      "True\n"
     ]
    }
   ],
   "source": [
    "# 연습문제 \n",
    "seq = range(1,21,2)\n",
    "print(list(seq))\n",
    "print(13 not in seq)\n",
    "print(4 not in seq)"
   ]
  },
  {
   "cell_type": "code",
   "execution_count": 141,
   "metadata": {},
   "outputs": [
    {
     "name": "stdout",
     "output_type": "stream",
     "text": [
      "[15, 10, 25]\n",
      "[15, 10]\n"
     ]
    }
   ],
   "source": [
    "# 연습문제 \n",
    "a = [0, 0, 0]\n",
    "a[0] = 15\n",
    "a[1] = 10\n",
    "a[2] = 25\n",
    "print(a)\n"
   ]
  },
  {
   "cell_type": "code",
   "execution_count": 173,
   "metadata": {},
   "outputs": [
    {
     "name": "stdout",
     "output_type": "stream",
     "text": [
      "[0, 10, 20, 30, 40, 50, 60, 70, 80, 90, 100]\n",
      "[10, 20, 30, 40, 50, 60, 70, 80, 90, 100]\n",
      "[20, 30, 40]\n",
      "[]\n",
      "[20]\n",
      "[30, 40, 50, 60, 70, 80]\n",
      "[20, 40, 60, 80]\n",
      "[10, 20, 30, 40, 50]\n",
      "[70, 80, 90, 100]\n",
      "[10, 20, 30, 40, 50, 60, 70, 80, 90, 100]\n",
      "[10, 20, 30, 40, 50, 60, 70, 80, 90, 100]\n",
      "[10, 20, 40, 60, 80, 90, 100]\n"
     ]
    }
   ],
   "source": [
    "# 연습문제 \n",
    "x = list(range(0,101,10))\n",
    "print(x)\n",
    "\n",
    "del x[0]\n",
    "print(x)\n",
    "\n",
    "print(x[1:4])\n",
    "print(x[1:1])\n",
    "print(x[1:2])\n",
    "print(x[2:-2])\n",
    "print(x[1:9:2])\n",
    "print(x[:5])\n",
    "print(x[6:])\n",
    "print(x[::])\n",
    "print(x[0:len(x)])\n",
    "\n",
    "del x[2:8:2]\n",
    "print(x)"
   ]
  },
  {
   "cell_type": "code",
   "execution_count": 172,
   "metadata": {},
   "outputs": [
    {
     "name": "stdout",
     "output_type": "stream",
     "text": [
      "[0, 10, 20, 30, 40, 50, 60, 70, 80, 90, 100] len = 11\n",
      "[0, 10, 1, 2, 3, 50, 60, 70, 80, 90, 100] len = 11\n",
      "[0, 10, 1, 2, 3, 50, 60, 'A', 'B', 100] len = 10\n",
      "[0, 10, '가', 2, '나', 50, '다', 'A', 'B', 100] len = 10\n",
      "[0, 10, '가', 2, '나', 50, '다', \"I'm\", 'very', 'hungry'] len = 10\n"
     ]
    }
   ],
   "source": [
    "x = list(range(0,101,10))\n",
    "print(x, 'len =',len(x)) \n",
    "\n",
    "x[2:5] = [1, 2, 3]\n",
    "print(x, 'len =',len(x))\n",
    "\n",
    "x[7:10] = ['A',\"B\"]\n",
    "print(x, 'len =',len(x))\n",
    "\n",
    "x[2:8:2] = ['가','나','다']\n",
    "print(x, 'len =',len(x))\n",
    "\n",
    "x[7:10] = ['I\\'m','very','hungry']\n",
    "print(x, 'len =',len(x))"
   ]
  },
  {
   "cell_type": "code",
   "execution_count": 183,
   "metadata": {},
   "outputs": [
    {
     "name": "stdout",
     "output_type": "stream",
     "text": [
      "[2011, 2012, 2013, 2014, 2015, 2016, 2017, 2018]\n",
      "최근 3년간 연도 [2016, 2017, 2018]\n",
      "최근 3년간 인구수 [9930616, 9857426, 9838892]\n",
      "최근 3년간 인구 평균 9875644.67 명\n"
     ]
    }
   ],
   "source": [
    "# 연습문제 : 최근 3년간 연도와 인구수가 리스트로 출력되게 만드세요\n",
    "year = list(range(2011,2019))\n",
    "population = [10249679, 10195318, 10143645, 10103233, 10022181, 9930616, 9857426, 9838892]\n",
    "print(year)\n",
    "print('최근 3년간 연도',year[-3:])\n",
    "print('최근 3년간 인구수',population[-3:])\n",
    "print('최근 3년간 인구 평균',round((population[-1]+population[-2]+population[-3])/3,2),'명')"
   ]
  },
  {
   "cell_type": "markdown",
   "metadata": {},
   "source": [
    "## 튜플(Tuple)\n",
    "* 수정이 불가하다.\n",
    "* 요소가 1개인 튜플은 `(a,)` 또는 `tuple([a])`로 설정해야 한다.\n",
    "* `tuple(range(a,b))`: a부터 시작해서 b전 값까지 튜플로 출력 (*b는 포함되지 않음을 기억하자*) <br>\n",
    "`tuple(range(n))`: 두 개의 값을 쓰지 않고 하나만 쓴다면 a를 0으로 인식해서 0부터 n 전 값까지 튜플로 출력 <br>\n",
    "`tuple(range(a,b,step))`: a부터 시작해서 b전 값가지 step만큼 증가하면서 튜플로 출력"
   ]
  },
  {
   "cell_type": "code",
   "execution_count": 72,
   "metadata": {},
   "outputs": [
    {
     "name": "stdout",
     "output_type": "stream",
     "text": [
      "(38, 21, 53, 62, 19) (38, 21, 53, 62, 13)\n"
     ]
    }
   ],
   "source": [
    "a = 38, 21, 53, 62, 19\n",
    "b = (38, 21, 53, 62, 13)\n",
    "print(a,b)"
   ]
  },
  {
   "cell_type": "code",
   "execution_count": 82,
   "metadata": {},
   "outputs": [
    {
     "name": "stdout",
     "output_type": "stream",
     "text": [
      "(1, 2, 3, 4, 5) <class 'tuple'>\n",
      "[1, 2, 3, 4, 5] <class 'list'>\n",
      "6 7 8\n",
      "6 7 8\n"
     ]
    }
   ],
   "source": [
    "a = [1, 2, 3 , 4, 5]\n",
    "print(tuple(a), type(tuple(a)))\n",
    "\n",
    "b = (1, 2, 3, 4, 5)\n",
    "print(list(b), type(list(b)))\n",
    "\n",
    "(x, y, z) = [6, 7, 8]\n",
    "print(x, y, z)\n",
    "[x, y, z] = (6, 7, 8)\n",
    "print(x, y, z)\n"
   ]
  },
  {
   "cell_type": "code",
   "execution_count": 84,
   "metadata": {},
   "outputs": [
    {
     "name": "stdout",
     "output_type": "stream",
     "text": [
      "1 2 3\n",
      "1 2 3\n"
     ]
    }
   ],
   "source": [
    "# 언패킹\n",
    "x = [1, 2, 3]\n",
    "a, b, c = x\n",
    "print(a, b, c)\n",
    "\n",
    "x = (1, 2, 3)\n",
    "a, b, c = x\n",
    "print(a, b, c)"
   ]
  },
  {
   "cell_type": "code",
   "execution_count": 76,
   "metadata": {},
   "outputs": [
    {
     "name": "stdout",
     "output_type": "stream",
     "text": [
      "['h', 'e', 'l', 'l', 'o'] ('p', 'y', 't', 'h', 'o', 'n')\n"
     ]
    }
   ],
   "source": [
    "print(list('hello'),tuple('python'))"
   ]
  },
  {
   "cell_type": "code",
   "execution_count": 87,
   "metadata": {},
   "outputs": [
    {
     "name": "stdout",
     "output_type": "stream",
     "text": [
      "['10', '20', '30']\n",
      "['10', '20', '30']\n"
     ]
    }
   ],
   "source": [
    "print(input('첫번째, 입력하세요').split())\n",
    "\n",
    "x = input('두번째, 입력하세요').split()\n",
    "print(x)"
   ]
  },
  {
   "cell_type": "code",
   "execution_count": 91,
   "metadata": {},
   "outputs": [
    {
     "name": "stdout",
     "output_type": "stream",
     "text": [
      "<map object at 0x000001892739B250>\n",
      "[10, 20]\n"
     ]
    }
   ],
   "source": [
    "print(map(int, ['10','20']))\n",
    "print(list(map(int, ['10','20'])))"
   ]
  },
  {
   "cell_type": "code",
   "execution_count": 96,
   "metadata": {},
   "outputs": [
    {
     "name": "stdout",
     "output_type": "stream",
     "text": [
      "('black', 'red', 'blue', 'purple', 'orange', 'cyan')\n",
      "('black', 'red', 'blue', 'black', 'red', 'blue')\n",
      "True\n",
      "False\n",
      "False\n",
      "True\n"
     ]
    }
   ],
   "source": [
    "color1 = ('black', 'red', 'blue')\n",
    "color2 = ('purple', 'orange', 'cyan')\n",
    "\n",
    "print(color1 + color2)\n",
    "print(color1 * 2)\n",
    "print('blue' in color1)\n",
    "print('blue' in color2)\n",
    "print('blue' not in color1)\n",
    "print('blue' not in color2)"
   ]
  },
  {
   "cell_type": "code",
   "execution_count": 107,
   "metadata": {},
   "outputs": [
    {
     "name": "stdout",
     "output_type": "stream",
     "text": [
      "(0, 1, 2, 0, 1)\n",
      "[0, 1, 2, 0, 1]\n",
      "Hello Python\n"
     ]
    },
    {
     "ename": "TypeError",
     "evalue": "unsupported operand type(s) for +: 'range' and 'range'",
     "output_type": "error",
     "traceback": [
      "\u001b[1;31m---------------------------------------------------------------------------\u001b[0m",
      "\u001b[1;31mTypeError\u001b[0m                                 Traceback (most recent call last)",
      "\u001b[1;32m~\\AppData\\Local\\Temp\\ipykernel_27048\\3709577372.py\u001b[0m in \u001b[0;36m<module>\u001b[1;34m\u001b[0m\n\u001b[0;32m      3\u001b[0m \u001b[0mprint\u001b[0m\u001b[1;33m(\u001b[0m\u001b[0mlist\u001b[0m\u001b[1;33m(\u001b[0m\u001b[0mrange\u001b[0m\u001b[1;33m(\u001b[0m\u001b[1;36m3\u001b[0m\u001b[1;33m)\u001b[0m\u001b[1;33m)\u001b[0m \u001b[1;33m+\u001b[0m \u001b[0mlist\u001b[0m\u001b[1;33m(\u001b[0m\u001b[0mrange\u001b[0m\u001b[1;33m(\u001b[0m\u001b[1;36m2\u001b[0m\u001b[1;33m)\u001b[0m\u001b[1;33m)\u001b[0m\u001b[1;33m)\u001b[0m\u001b[1;33m\u001b[0m\u001b[1;33m\u001b[0m\u001b[0m\n\u001b[0;32m      4\u001b[0m \u001b[0mprint\u001b[0m\u001b[1;33m(\u001b[0m\u001b[1;34m'Hello'\u001b[0m\u001b[1;33m,\u001b[0m\u001b[1;34m'Python'\u001b[0m\u001b[1;33m)\u001b[0m\u001b[1;33m\u001b[0m\u001b[1;33m\u001b[0m\u001b[0m\n\u001b[1;32m----> 5\u001b[1;33m \u001b[0mprint\u001b[0m\u001b[1;33m(\u001b[0m\u001b[0mrange\u001b[0m\u001b[1;33m(\u001b[0m\u001b[1;36m3\u001b[0m\u001b[1;33m)\u001b[0m \u001b[1;33m+\u001b[0m \u001b[0mrange\u001b[0m\u001b[1;33m(\u001b[0m\u001b[1;36m2\u001b[0m\u001b[1;33m)\u001b[0m\u001b[1;33m)\u001b[0m\u001b[1;33m\u001b[0m\u001b[1;33m\u001b[0m\u001b[0m\n\u001b[0m",
      "\u001b[1;31mTypeError\u001b[0m: unsupported operand type(s) for +: 'range' and 'range'"
     ]
    }
   ],
   "source": [
    "# 연습문제 \n",
    "print(tuple(range(3)) + tuple(range(2)))\n",
    "print(list(range(3)) + list(range(2)))\n",
    "print('Hello','Python')\n",
    "print(range(3) + range(2))      # 오류"
   ]
  },
  {
   "cell_type": "code",
   "execution_count": 111,
   "metadata": {},
   "outputs": [
    {
     "name": "stdout",
     "output_type": "stream",
     "text": [
      "[1, 2, 3, 1, 2, 3]\n",
      "(1, 2, 3, 1, 2, 3)\n",
      "[1, 2, 3][1, 2, 3]\n"
     ]
    },
    {
     "ename": "TypeError",
     "evalue": "unsupported operand type(s) for *: 'range' and 'int'",
     "output_type": "error",
     "traceback": [
      "\u001b[1;31m---------------------------------------------------------------------------\u001b[0m",
      "\u001b[1;31mTypeError\u001b[0m                                 Traceback (most recent call last)",
      "\u001b[1;32m~\\AppData\\Local\\Temp\\ipykernel_27048\\2413440718.py\u001b[0m in \u001b[0;36m<module>\u001b[1;34m\u001b[0m\n\u001b[0;32m      3\u001b[0m \u001b[0mprint\u001b[0m\u001b[1;33m(\u001b[0m\u001b[1;33m(\u001b[0m\u001b[1;36m1\u001b[0m\u001b[1;33m,\u001b[0m \u001b[1;36m2\u001b[0m\u001b[1;33m,\u001b[0m \u001b[1;36m3\u001b[0m\u001b[1;33m)\u001b[0m\u001b[1;33m*\u001b[0m\u001b[1;36m2\u001b[0m\u001b[1;33m)\u001b[0m\u001b[1;33m\u001b[0m\u001b[1;33m\u001b[0m\u001b[0m\n\u001b[0;32m      4\u001b[0m \u001b[0mprint\u001b[0m\u001b[1;33m(\u001b[0m\u001b[1;34m'[1, 2, 3]'\u001b[0m\u001b[1;33m*\u001b[0m\u001b[1;36m2\u001b[0m\u001b[1;33m)\u001b[0m\u001b[1;33m\u001b[0m\u001b[1;33m\u001b[0m\u001b[0m\n\u001b[1;32m----> 5\u001b[1;33m \u001b[0mprint\u001b[0m\u001b[1;33m(\u001b[0m\u001b[0mrange\u001b[0m\u001b[1;33m(\u001b[0m\u001b[1;36m4\u001b[0m\u001b[1;33m)\u001b[0m\u001b[1;33m*\u001b[0m\u001b[1;36m2\u001b[0m\u001b[1;33m)\u001b[0m\u001b[1;33m\u001b[0m\u001b[1;33m\u001b[0m\u001b[0m\n\u001b[0m",
      "\u001b[1;31mTypeError\u001b[0m: unsupported operand type(s) for *: 'range' and 'int'"
     ]
    }
   ],
   "source": [
    "# 연습문제 \n",
    "print([1, 2, 3]*2)\n",
    "print((1, 2, 3)*2)\n",
    "print('[1, 2, 3]'*2)\n",
    "print(range(4)*2)       # 오류\n"
   ]
  },
  {
   "cell_type": "code",
   "execution_count": 116,
   "metadata": {},
   "outputs": [
    {
     "name": "stdout",
     "output_type": "stream",
     "text": [
      "a=[1, 2, 3, 4, 5], len = 5\n",
      "a=(1, 2, 3, 4, 5), len = 5\n",
      "a=range(3), len = 3\n",
      "a=\"Hello, Python!\", len = 14\n",
      "a=\"Hello,\n",
      "Python!\", len = 14\n"
     ]
    }
   ],
   "source": [
    "# 연습문제 \n",
    "print('a=[1, 2, 3, 4, 5], len =',len([1, 2, 3, 4, 5]))\n",
    "print('a=(1, 2, 3, 4, 5), len =',len((1, 2, 3, 4, 5)))\n",
    "print('a=range(3), len =',len(range(3)))\n",
    "print('a=\"Hello, Python!\", len =',len('Hello, Python!'))\n",
    "print('a=\"Hello,\\nPython!\", len =',len('Hello,\\nPython!')) # \\n은 하나의 문자이다."
   ]
  },
  {
   "cell_type": "code",
   "execution_count": 132,
   "metadata": {},
   "outputs": [
    {
     "name": "stdout",
     "output_type": "stream",
     "text": [
      "1, 3, 5, 7, 9 / Hello, Python!\n",
      "3 3 3 P\n",
      "9 9 9 h\n",
      "마지막 요소 추출하기 9 9 9 !\n"
     ]
    },
    {
     "ename": "IndexError",
     "evalue": "string index out of range",
     "output_type": "error",
     "traceback": [
      "\u001b[1;31m---------------------------------------------------------------------------\u001b[0m",
      "\u001b[1;31mIndexError\u001b[0m                                Traceback (most recent call last)",
      "\u001b[1;32m~\\AppData\\Local\\Temp\\ipykernel_27048\\1426186741.py\u001b[0m in \u001b[0;36m<module>\u001b[1;34m\u001b[0m\n\u001b[0;32m      9\u001b[0m \u001b[0mprint\u001b[0m\u001b[1;33m(\u001b[0m\u001b[0mx1\u001b[0m\u001b[1;33m[\u001b[0m\u001b[1;33m-\u001b[0m\u001b[1;36m1\u001b[0m\u001b[1;33m]\u001b[0m\u001b[1;33m,\u001b[0m\u001b[0mx2\u001b[0m\u001b[1;33m[\u001b[0m\u001b[1;33m-\u001b[0m\u001b[1;36m1\u001b[0m\u001b[1;33m]\u001b[0m\u001b[1;33m,\u001b[0m\u001b[0mx3\u001b[0m\u001b[1;33m[\u001b[0m\u001b[1;33m-\u001b[0m\u001b[1;36m1\u001b[0m\u001b[1;33m]\u001b[0m\u001b[1;33m,\u001b[0m\u001b[0mx4\u001b[0m\u001b[1;33m[\u001b[0m\u001b[1;33m-\u001b[0m\u001b[1;36m4\u001b[0m\u001b[1;33m]\u001b[0m\u001b[1;33m)\u001b[0m\u001b[1;33m\u001b[0m\u001b[1;33m\u001b[0m\u001b[0m\n\u001b[0;32m     10\u001b[0m \u001b[0mprint\u001b[0m\u001b[1;33m(\u001b[0m\u001b[1;34m'마지막 요소 추출하기'\u001b[0m\u001b[1;33m,\u001b[0m\u001b[0mx1\u001b[0m\u001b[1;33m[\u001b[0m\u001b[0mlen\u001b[0m\u001b[1;33m(\u001b[0m\u001b[0mx1\u001b[0m\u001b[1;33m)\u001b[0m\u001b[1;33m-\u001b[0m\u001b[1;36m1\u001b[0m\u001b[1;33m]\u001b[0m\u001b[1;33m,\u001b[0m\u001b[0mx2\u001b[0m\u001b[1;33m[\u001b[0m\u001b[0mlen\u001b[0m\u001b[1;33m(\u001b[0m\u001b[0mx2\u001b[0m\u001b[1;33m)\u001b[0m\u001b[1;33m-\u001b[0m\u001b[1;36m1\u001b[0m\u001b[1;33m]\u001b[0m\u001b[1;33m,\u001b[0m\u001b[0mx3\u001b[0m\u001b[1;33m[\u001b[0m\u001b[0mlen\u001b[0m\u001b[1;33m(\u001b[0m\u001b[0mx3\u001b[0m\u001b[1;33m)\u001b[0m\u001b[1;33m-\u001b[0m\u001b[1;36m1\u001b[0m\u001b[1;33m]\u001b[0m\u001b[1;33m,\u001b[0m\u001b[0mx4\u001b[0m\u001b[1;33m[\u001b[0m\u001b[0mlen\u001b[0m\u001b[1;33m(\u001b[0m\u001b[0mx4\u001b[0m\u001b[1;33m)\u001b[0m\u001b[1;33m-\u001b[0m\u001b[1;36m1\u001b[0m\u001b[1;33m]\u001b[0m\u001b[1;33m)\u001b[0m\u001b[1;33m\u001b[0m\u001b[1;33m\u001b[0m\u001b[0m\n\u001b[1;32m---> 11\u001b[1;33m \u001b[0mprint\u001b[0m\u001b[1;33m(\u001b[0m\u001b[0mx4\u001b[0m\u001b[1;33m[\u001b[0m\u001b[0mlen\u001b[0m\u001b[1;33m(\u001b[0m\u001b[0mx4\u001b[0m\u001b[1;33m)\u001b[0m\u001b[1;33m]\u001b[0m\u001b[1;33m)\u001b[0m\u001b[1;33m\u001b[0m\u001b[1;33m\u001b[0m\u001b[0m\n\u001b[0m",
      "\u001b[1;31mIndexError\u001b[0m: string index out of range"
     ]
    }
   ],
   "source": [
    "# 연습문제\n",
    "x1 = list(range(1, 10, 2))\n",
    "x2 = tuple(range(1, 10, 2))\n",
    "x3 = range(1, 10, 2)\n",
    "x4 = 'Hello, Python!'\n",
    "\n",
    "print('1, 3, 5, 7, 9 /', x4)\n",
    "print(x1[1],x2[1],x3[1],x4[7])\n",
    "print(x1[-1],x2[-1],x3[-1],x4[-4])\n",
    "print('마지막 요소 추출하기',x1[len(x1)-1],x2[len(x2)-1],x3[len(x3)-1],x4[len(x4)-1])\n",
    "print(x4[len(x4)])          # 인덱스 번호와 변수의 길이 헷갈리지 않게 주의"
   ]
  },
  {
   "cell_type": "code",
   "execution_count": 157,
   "metadata": {},
   "outputs": [
    {
     "name": "stdout",
     "output_type": "stream",
     "text": [
      "(0, 10, 20, 30, 40, 50, 60, 70, 80, 90, 100)\n",
      "(10, 20, 30)\n",
      "()\n",
      "(10,)\n",
      "(20, 30, 40, 50, 60, 70, 80)\n",
      "(10, 30, 50, 70)\n",
      "(0, 10, 20, 30, 40)\n",
      "(60, 70, 80, 90, 100)\n",
      "(0, 10, 20, 30, 40, 50, 60, 70, 80, 90, 100)\n",
      "(0, 10, 20, 30, 40, 50, 60, 70, 80, 90, 100)\n"
     ]
    }
   ],
   "source": [
    "# 연습문제 \n",
    "x = tuple(range(0,101,10))\n",
    "print(x)\n",
    "\n",
    "print(x[1:4])\n",
    "print(x[1:1])\n",
    "print(x[1:2])\n",
    "print(x[2:-2])\n",
    "print(x[1:9:2])\n",
    "print(x[:5])\n",
    "print(x[6:])\n",
    "print(x[::])\n",
    "print(x[0:len(x)])"
   ]
  },
  {
   "cell_type": "code",
   "execution_count": 159,
   "metadata": {},
   "outputs": [
    {
     "name": "stdout",
     "output_type": "stream",
     "text": [
      "range(0, 101, 10)\n",
      "range(10, 40, 10)\n",
      "range(10, 10, 10)\n",
      "range(10, 20, 10)\n",
      "range(20, 90, 10)\n",
      "range(10, 90, 20)\n",
      "range(0, 50, 10)\n",
      "range(60, 110, 10)\n",
      "range(0, 110, 10)\n",
      "range(0, 110, 10)\n"
     ]
    }
   ],
   "source": [
    "# 연습문제 \n",
    "x = range(0,101,10)\n",
    "print(x)\n",
    "\n",
    "print(x[1:4])\n",
    "print(x[1:1])\n",
    "print(x[1:2])\n",
    "print(x[2:-2])\n",
    "print(x[1:9:2])\n",
    "print(x[:5])\n",
    "print(x[6:])\n",
    "print(x[::])\n",
    "print(x[0:len(x)])"
   ]
  },
  {
   "cell_type": "code",
   "execution_count": 188,
   "metadata": {},
   "outputs": [
    {
     "name": "stdout",
     "output_type": "stream",
     "text": [
      "첫번째 문자열 입력 : abcde \n",
      "두번재 문자열 입력 : 123456\n",
      "결과 : bd135\n"
     ]
    }
   ],
   "source": [
    "# 연습문제 \n",
    "x = input(\"첫 번째 문자열을 입력하세요:\")\n",
    "y = input(\"두 번째 문자열을 입력하세요:\")\n",
    "print('첫번째 문자열 입력 :',x,'\\n두번재 문자열 입력 :',y)\n",
    "print('결과 : ',x[1::2],y[::2],sep=\"\")"
   ]
  },
  {
   "cell_type": "markdown",
   "metadata": {},
   "source": [
    "## 딕셔너리(Dictionary)\n",
    "* `{key1:value1,key2:value2,...}`형식이다.\n",
    "* `key`는 고유해야 하며 리스트는 사용 불가하다. 튜플은 가능하다."
   ]
  },
  {
   "cell_type": "code",
   "execution_count": 3,
   "metadata": {},
   "outputs": [
    {
     "name": "stdout",
     "output_type": "stream",
     "text": [
      "{'apple': 1200, 'banana': 700, 'orange': 1500, 'pineapple': 2000} <class 'dict'>\n",
      "1200\n"
     ]
    }
   ],
   "source": [
    "fruits = {'apple': 1000, 'apple': 1200, 'banana': 700, 'orange': 1500, 'pineapple': 2000}\n",
    "print(fruits, type(fruits))\n",
    "\n",
    "print(fruits['apple'])"
   ]
  },
  {
   "cell_type": "code",
   "execution_count": 7,
   "metadata": {},
   "outputs": [
    {
     "name": "stdout",
     "output_type": "stream",
     "text": [
      "{100: 'hundred', False: 0, 3.5: [3.5, 3.5], (1, 2, 3): 1000}\n",
      "{} {}\n"
     ]
    }
   ],
   "source": [
    "x = {100:'hundred', False:0, 3.5:[3.5,3.5], (1, 2, 3):1000}\n",
    "print(x)\n",
    "\n",
    "y = {}\n",
    "z = dict()\n",
    "\n",
    "print(y, z)"
   ]
  },
  {
   "cell_type": "code",
   "execution_count": 22,
   "metadata": {},
   "outputs": [
    {
     "name": "stdout",
     "output_type": "stream",
     "text": [
      "score1 = {'kor': 88, 'eng': 92, 'mat': 95, 'sci': 78}\n",
      "score2 = {'kor': 88, 'eng': 92, 'mat': 95, 'sci': 78}\n",
      "score3 = {'kor': 88, 'eng': 92, 'mat': 95, 'sci': 78}\n",
      "score4 = {'kor': 88, 'eng': 92, 'mat': 95, 'sci': 78}\n",
      "score5 = {'kor': 88, 'eng': 92, 'mat': 95, 'sci': 78}\n",
      "[('kor', 88), ('eng', 92), ('mat', 95), ('sci', 78)]\n",
      "type(z): <class 'list'> len(z): 4 z[0]= ('kor', 88) type(z[0]): <class 'tuple'>\n"
     ]
    }
   ],
   "source": [
    "score1 = {'kor':88, 'eng':92, 'mat':95, 'sci':78}\n",
    "score2 = dict(kor=88, eng=92, mat=95, sci=78)\n",
    "score3 = dict(zip(['kor','eng','mat','sci'],[88,92,95,78]))\n",
    "score4 = dict([('kor',88),('eng',92),('mat',95),('sci',78)])\n",
    "score5 = dict({'kor':88, 'eng':92, 'mat':95, 'sci':78})\n",
    "print('score1 =',score1)\n",
    "print('score2 =',score2)\n",
    "print('score3 =',score3)\n",
    "print('score4 =',score4)\n",
    "print('score5 =',score5)\n",
    "\n",
    "subject = ['kor','eng','mat','sci']\n",
    "grade = [88,92,95,78]\n",
    "z = list(zip(subject,grade))\n",
    "print(z)\n",
    "\n",
    "print('type(z):',type(z),'len(z):',len(z), 'z[0]=',z[0], 'type(z[0]):',type(z[0]))"
   ]
  },
  {
   "cell_type": "code",
   "execution_count": 27,
   "metadata": {},
   "outputs": [
    {
     "name": "stdout",
     "output_type": "stream",
     "text": [
      "88\n",
      "95\n",
      "{(1, 2): 100, range(0, 10): [100, 200]}\n",
      "100\n",
      "[100, 200]\n"
     ]
    }
   ],
   "source": [
    "score = {'kor':88, 'eng':92, 'mat':95, 'sci':78}\n",
    "\n",
    "print(score['kor'])\n",
    "print(score['mat'])\n",
    "\n",
    "d = {(1,2):100, range(10):[100,200]}\n",
    "print(d)\n",
    "\n",
    "print(d[(1,2)])\n",
    "print(d[range(10)])"
   ]
  },
  {
   "cell_type": "code",
   "execution_count": 29,
   "metadata": {},
   "outputs": [
    {
     "name": "stdout",
     "output_type": "stream",
     "text": [
      "선택한 orange 의 가격은 1500 원 입니다.\n"
     ]
    }
   ],
   "source": [
    "# 연습문제 \n",
    "fruits = {'apple': 1000, 'banana': 700, 'orange': 1500, 'pineapple': 2000}\n",
    "\n",
    "fruit = input('과일이름을 입력하세요:')\n",
    "print('선택한',fruit,'의 가격은',fruits[fruit],'원 입니다.')"
   ]
  },
  {
   "cell_type": "code",
   "execution_count": 40,
   "metadata": {},
   "outputs": [
    {
     "name": "stdout",
     "output_type": "stream",
     "text": [
      "{'kor': 88, 'eng': 92, 'mat': 95, 'sci': 78}\n",
      "{'kor': 99, 'eng': 92, 'mat': 95, 'sci': 70}\n",
      "True\n",
      "False\n",
      "True\n"
     ]
    },
    {
     "ename": "KeyError",
     "evalue": "'music'",
     "output_type": "error",
     "traceback": [
      "\u001b[1;31m---------------------------------------------------------------------------\u001b[0m",
      "\u001b[1;31mKeyError\u001b[0m                                  Traceback (most recent call last)",
      "\u001b[1;32m~\\AppData\\Local\\Temp\\ipykernel_29048\\161926309.py\u001b[0m in \u001b[0;36m<module>\u001b[1;34m\u001b[0m\n\u001b[0;32m     10\u001b[0m \u001b[0mprint\u001b[0m\u001b[1;33m(\u001b[0m\u001b[1;34m'music'\u001b[0m \u001b[1;32mnot\u001b[0m \u001b[1;32min\u001b[0m \u001b[0mscore\u001b[0m\u001b[1;33m)\u001b[0m\u001b[1;33m\u001b[0m\u001b[1;33m\u001b[0m\u001b[0m\n\u001b[0;32m     11\u001b[0m \u001b[1;33m\u001b[0m\u001b[0m\n\u001b[1;32m---> 12\u001b[1;33m \u001b[0mprint\u001b[0m\u001b[1;33m(\u001b[0m\u001b[0mscore\u001b[0m\u001b[1;33m[\u001b[0m\u001b[1;34m'music'\u001b[0m\u001b[1;33m]\u001b[0m\u001b[1;33m)\u001b[0m\u001b[1;33m\u001b[0m\u001b[1;33m\u001b[0m\u001b[0m\n\u001b[0m",
      "\u001b[1;31mKeyError\u001b[0m: 'music'"
     ]
    }
   ],
   "source": [
    "score = {'kor':88, 'eng':92, 'mat':95, 'sci':78}\n",
    "print(score)\n",
    "\n",
    "score['kor'] = 99\n",
    "score['sci'] = 70\n",
    "print(score)\n",
    "\n",
    "print('kor' in score)\n",
    "print('sci' not in score)\n",
    "print('music' not in score)\n",
    "\n",
    "print(score['music'])               # 딕셔너리에 없는 key를 입력하면 오류가 난다."
   ]
  },
  {
   "cell_type": "code",
   "execution_count": 37,
   "metadata": {},
   "outputs": [
    {
     "name": "stdout",
     "output_type": "stream",
     "text": [
      "변경 전: {'apple': 1000, 'banana': 700, 'orange': 1500, 'pineapple': 2000}\n",
      "변경 후: {'apple': 1000, 'banana': 700, 'orange': 2000, 'pineapple': 2000}\n",
      "변경 후2: {'apple': 1000, 'banana': 700, 'orange': 2000, 'pineapple': 2000, 'grape': 1300}\n"
     ]
    }
   ],
   "source": [
    "# 연습문제 \n",
    "fruits = {'apple': 1000, 'banana': 700, 'orange': 1500, 'pineapple': 2000}\n",
    "print('변경 전:',fruits)\n",
    "\n",
    "fruit = input('변경하고자 하는 과일이름을 입력하세요:')\n",
    "price = int(input('가격을 입력하세요.'))\n",
    "fruits[fruit] = price\n",
    "\n",
    "print('변경 후:',fruits)\n",
    "\n",
    "fruit = input('변경하고자 하는 과일이름을 입력하세요:')\n",
    "price = int(input('가격을 입력하세요.'))\n",
    "fruits[fruit] = price\n",
    "\n",
    "print('변경 후2:',fruits)\n"
   ]
  }
 ],
 "metadata": {
  "kernelspec": {
   "display_name": "Python 3.10.0 64-bit",
   "language": "python",
   "name": "python3"
  },
  "language_info": {
   "codemirror_mode": {
    "name": "ipython",
    "version": 3
   },
   "file_extension": ".py",
   "mimetype": "text/x-python",
   "name": "python",
   "nbconvert_exporter": "python",
   "pygments_lexer": "ipython3",
   "version": "3.10.0"
  },
  "orig_nbformat": 4,
  "vscode": {
   "interpreter": {
    "hash": "1ed1f76483e4d532c2a47a0bad31080b16a7f7d0106ba342ff005fcfacb5105f"
   }
  }
 },
 "nbformat": 4,
 "nbformat_minor": 2
}
