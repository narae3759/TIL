{
  "cells": [
    {
      "cell_type": "markdown",
      "metadata": {
        "id": "VpfEdDKEKn5H"
      },
      "source": [
        "# Tensorflow를 이용한 로지스틱회귀분석"
      ]
    },
    {
      "cell_type": "markdown",
      "metadata": {
        "id": "RUL4S1uTP0K8"
      },
      "source": [
        "## 1) Tensorflow 사용하지 않기"
      ]
    },
    {
      "cell_type": "code",
      "execution_count": null,
      "metadata": {
        "colab": {
          "base_uri": "https://localhost:8080/",
          "height": 456
        },
        "id": "H2xFuG7DP5Xo",
        "outputId": "29575fdf-53f2-4f4c-d2be-9adffa23df16"
      },
      "outputs": [
        {
          "name": "stdout",
          "output_type": "stream",
          "text": [
            "epoch=0, 기울기=99.6571, 절편=9.9143  Cost=1.7354\n",
            "epoch=100, 기울기=65.3714, 절편=1.3429  Cost=1.7354\n",
            "epoch=200, 기울기=31.0857, 절편=-7.2286  Cost=1.7354\n",
            "epoch=300, 기울기=2.0650, 절편=-14.2327  Cost=1.7494\n",
            "epoch=400, 기울기=2.0706, 절편=-14.3300  Cost=1.7501\n",
            "epoch=500, 기울기=2.0841, 절편=-14.4248  Cost=1.7499\n",
            "epoch=600, 기울기=2.0974, 절편=-14.5183  Cost=1.7498\n",
            "epoch=700, 기울기=2.1105, 절편=-14.6106  Cost=1.7496\n",
            "epoch=800, 기울기=2.1235, 절편=-14.7017  Cost=1.7494\n",
            "epoch=900, 기울기=2.1363, 절편=-14.7917  Cost=1.7492\n",
            "epoch=1000, 기울기=2.1489, 절편=-14.8805  Cost=1.7491\n"
          ]
        },
        {
          "data": {
            "image/png": "[encoded data removed]",
            "text/plain": [
              "<Figure size 432x288 with 1 Axes>"
            ]
          },
          "metadata": {
            "needs_background": "light"
          },
          "output_type": "display_data"
        }
      ],
      "source": [
        "#################################################################\n",
        "#  로지스틱 회귀 (Sigmoid) : (1) numpy로 학습\n",
        "#  - 공부시간과 학습 예제\n",
        "#################################################################\n",
        "import numpy as np\n",
        "import matplotlib.pyplot as plt\n",
        "\n",
        "#공부시간 X와 성적 Y의 리스트를 만듭니다.\n",
        "data = np.array([[2, 0], [4, 0], [6, 0], [8, 1], [10, 1], [12, 1], [14, 1]])\n",
        "X = data[:, 0]  # shape: (7, )\n",
        "Y = data[:, 1]  # shape: (7, )\n",
        "\n",
        "# 임의의 초기값 설정\n",
        "a, b = 100, 10  # 기울기, 절편\n",
        "lr = 0.1        # 학습률\n",
        "\n",
        "#시그모이드 함수를 정의합니다.\n",
        "def sigmoid(z):\n",
        "    return 1 / (1 + np.exp(-z))  # shape: (7, )\n",
        "\n",
        "# cost 함수 정의\n",
        "def cost(a, b):  # 실수\n",
        "    return - (Y * np.log(sigmoid(a * X + b)) +(1 - Y) * np.log(1 - sigmoid(X))).mean()\n",
        "\n",
        "#경사 하강법을 실행합니다.\n",
        "for i in range(1001):\n",
        "    error = sigmoid(a * X + b) - Y  # 편차 : shape: (7, )\n",
        "    a_diff = 2 * (error * X).mean()   # 실수\n",
        "    b_diff = 2 * error.mean()         # 실수\n",
        "\n",
        "    a = a - lr * a_diff     # 실수\n",
        "    b = b - lr * b_diff     # 실수\n",
        "    if i % 100 == 0:    # 1000번 반복될 때마다 각 x_data값에 대한 현재의 a값, b값을 출력합니다.\n",
        "        print(\"epoch=%.f, 기울기=%.04f, 절편=%.04f  Cost=%.4f\" % (i, a, b, cost(a, b)))\n",
        "\n",
        "# 앞서 구한 기울기와 절편을 이용해 그래프를 그려 봅니다.\n",
        "plt.scatter(X, Y)   # X: (7, ), Y:(7, )\n",
        "plt.xlim(0, 15)\n",
        "plt.ylim(-.1, 1.1)\n",
        "x_range = (np.arange(0, 15, 0.1)) #그래프로 나타낼 x값의 범위 설정\n",
        "plt.plot(x_range, sigmoid(a * x_range + b),\"r\")\n",
        "plt.show()"
      ]
    },
    {
      "cell_type": "markdown",
      "metadata": {
        "id": "ZB5CqrlFQY6H"
      },
      "source": [
        "## 2) Tensorflow version 1"
      ]
    },
    {
      "cell_type": "code",
      "execution_count": null,
      "metadata": {
        "colab": {
          "base_uri": "https://localhost:8080/",
          "height": 1000
        },
        "id": "MriJca5jK5l3",
        "outputId": "74b0ffad-00f4-491d-a95b-640b9d3f0515"
      },
      "outputs": [
        {
          "name": "stdout",
          "output_type": "stream",
          "text": [
            "Epoch: 0, loss 0.8233, slope a = -0.0134, y intercept b = -0.5799\n",
            "Epoch: 200, loss 0.2661, slope a = 0.4330, y intercept b = -2.5106\n",
            "Epoch: 400, loss 0.2004, slope a = 0.5790, y intercept b = -3.6401\n",
            "Epoch: 600, loss 0.1672, slope a = 0.6861, y intercept b = -4.4452\n",
            "Epoch: 800, loss 0.1466, slope a = 0.7719, y intercept b = -5.0810\n",
            "Epoch: 1000, loss 0.1321, slope a = 0.8444, y intercept b = -5.6130\n",
            "Epoch: 1200, loss 0.1213, slope a = 0.9078, y intercept b = -6.0745\n",
            "Epoch: 1400, loss 0.1127, slope a = 0.9644, y intercept b = -6.4846\n",
            "Epoch: 1600, loss 0.1057, slope a = 1.0158, y intercept b = -6.8557\n",
            "Epoch: 1800, loss 0.0998, slope a = 1.0631, y intercept b = -7.1959\n",
            "Epoch: 2000, loss 0.0947, slope a = 1.1070, y intercept b = -7.5109\n",
            "Epoch: 2200, loss 0.0903, slope a = 1.1480, y intercept b = -7.8051\n",
            "Epoch: 2400, loss 0.0864, slope a = 1.1867, y intercept b = -8.0815\n",
            "Epoch: 2600, loss 0.0829, slope a = 1.2233, y intercept b = -8.3427\n",
            "Epoch: 2800, loss 0.0798, slope a = 1.2581, y intercept b = -8.5906\n",
            "Epoch: 3000, loss 0.0770, slope a = 1.2913, y intercept b = -8.8269\n",
            "Epoch: 3200, loss 0.0744, slope a = 1.3230, y intercept b = -9.0528\n",
            "Epoch: 3400, loss 0.0720, slope a = 1.3535, y intercept b = -9.2695\n",
            "Epoch: 3600, loss 0.0698, slope a = 1.3829, y intercept b = -9.4777\n",
            "Epoch: 3800, loss 0.0677, slope a = 1.4112, y intercept b = -9.6783\n",
            "Epoch: 4000, loss 0.0658, slope a = 1.4385, y intercept b = -9.8720\n",
            "Epoch: 4200, loss 0.0640, slope a = 1.4649, y intercept b = -10.0592\n",
            "Epoch: 4400, loss 0.0623, slope a = 1.4905, y intercept b = -10.2406\n",
            "Epoch: 4600, loss 0.0607, slope a = 1.5154, y intercept b = -10.4165\n",
            "Epoch: 4800, loss 0.0593, slope a = 1.5395, y intercept b = -10.5874\n",
            "Epoch: 5000, loss 0.0578, slope a = 1.5630, y intercept b = -10.7535\n",
            "Epoch: 5200, loss 0.0565, slope a = 1.5859, y intercept b = -10.9152\n",
            "Epoch: 5400, loss 0.0552, slope a = 1.6082, y intercept b = -11.0727\n",
            "Epoch: 5600, loss 0.0540, slope a = 1.6300, y intercept b = -11.2264\n",
            "Epoch: 5800, loss 0.0529, slope a = 1.6512, y intercept b = -11.3763\n",
            "Epoch: 6000, loss 0.0518, slope a = 1.6719, y intercept b = -11.5228\n",
            "Epoch: 6200, loss 0.0508, slope a = 1.6922, y intercept b = -11.6659\n",
            "Epoch: 6400, loss 0.0498, slope a = 1.7121, y intercept b = -11.8060\n",
            "Epoch: 6600, loss 0.0488, slope a = 1.7315, y intercept b = -11.9430\n",
            "Epoch: 6800, loss 0.0479, slope a = 1.7506, y intercept b = -12.0773\n",
            "Epoch: 7000, loss 0.0470, slope a = 1.7692, y intercept b = -12.2088\n",
            "Epoch: 7200, loss 0.0461, slope a = 1.7875, y intercept b = -12.3378\n",
            "Epoch: 7400, loss 0.0453, slope a = 1.8055, y intercept b = -12.4643\n",
            "Epoch: 7600, loss 0.0445, slope a = 1.8231, y intercept b = -12.5884\n",
            "Epoch: 7800, loss 0.0438, slope a = 1.8404, y intercept b = -12.7103\n",
            "Epoch: 8000, loss 0.0431, slope a = 1.8574, y intercept b = -12.8300\n",
            "Epoch: 8200, loss 0.0424, slope a = 1.8741, y intercept b = -12.9476\n",
            "Epoch: 8400, loss 0.0417, slope a = 1.8905, y intercept b = -13.0632\n",
            "Epoch: 8600, loss 0.0410, slope a = 1.9067, y intercept b = -13.1768\n",
            "Epoch: 8800, loss 0.0404, slope a = 1.9226, y intercept b = -13.2886\n",
            "Epoch: 9000, loss 0.0398, slope a = 1.9382, y intercept b = -13.3986\n",
            "Epoch: 9200, loss 0.0392, slope a = 1.9536, y intercept b = -13.5069\n",
            "Epoch: 9400, loss 0.0386, slope a = 1.9687, y intercept b = -13.6135\n",
            "Epoch: 9600, loss 0.0380, slope a = 1.9836, y intercept b = -13.7185\n",
            "Epoch: 9800, loss 0.0375, slope a = 1.9983, y intercept b = -13.8219\n",
            "Epoch: 10000, loss 0.0369, slope a = 2.0128, y intercept b = -13.9237\n"
          ]
        },
        {
          "data": {
            "image/png": "[encoded data removed]",
            "text/plain": [
              "<Figure size 432x288 with 1 Axes>"
            ]
          },
          "metadata": {
            "needs_background": "light"
          },
          "output_type": "display_data"
        }
      ],
      "source": [
        "##########################################################\n",
        "# 이진 분류(Activation: sigmoid, Loss:binary_crossentropy)\n",
        "##########################################################\n",
        "import tensorflow.compat.v1 as tf\n",
        "tf.disable_v2_behavior()                    # not using tenserflow 2.x version\n",
        "import numpy as np\n",
        "import matplotlib.pyplot as plt\n",
        "\n",
        "# 공부시간 X와 성적 Y의 리스트\n",
        "data = np.array([[2, 0],\n",
        "                 [4, 0],\n",
        "                 [6, 0],\n",
        "                 [8, 1],\n",
        "                 [10, 1],\n",
        "                 [12, 1],\n",
        "                 [14, 1]])\n",
        "X = data[:, 0]\n",
        "Y = data[:, 1]\n",
        "\n",
        "# a와 b의 초기값\n",
        "a = tf.Variable(tf.random_normal([], dtype=tf.float64, seed=0))\n",
        "b = tf.Variable(tf.random_normal([], dtype=tf.float64, seed=0))\n",
        "\n",
        "# Activation function\n",
        "hypothesis = 1 / (1 + tf.exp(-(a * X + b)))\n",
        "\n",
        "# Loss function\n",
        "loss = -tf.reduce_mean(Y * tf.log(hypothesis) + (1 - Y) * tf.log(1 - hypothesis))\n",
        "\n",
        "# Settings\n",
        "epochs = 10000\n",
        "learning_rate = 0.1\n",
        "\n",
        "# optimization method : Gradient Descent\n",
        "optimizer = tf.train.GradientDescentOptimizer(learning_rate).minimize(loss)\n",
        "\n",
        "# Learning\n",
        "with tf.Session() as sess:\n",
        "    sess.run(tf.global_variables_initializer())         # Variable tensor 초기화\n",
        "\n",
        "    for i in range(epochs + 1):\n",
        "        sess.run(optimizer)\n",
        "        if i % 200 == 0:\n",
        "            print('Epoch: %.f, loss %.4f, slope a = %.4f, y intercept b = %.4f' %\n",
        "                  (i, sess.run(loss), sess.run(a), sess.run(b)))\n",
        "\n",
        "    # with tf.Session() as sess:\n",
        "    last_a = sess.run(a)\n",
        "    last_b = sess.run(b)\n",
        "\n",
        "# Plot\n",
        "plt.scatter(X, Y)\n",
        "plt.xlim(0, 15)\n",
        "plt.ylim(-0.1, 1.1)\n",
        "\n",
        "x_range = (np.arange(0, 15, 0.1))\n",
        "plt.plot(x_range, 1/(1 + np.exp(-(last_a * x_range + last_b))), 'r')\n",
        "plt.show()"
      ]
    },
    {
      "cell_type": "markdown",
      "metadata": {
        "id": "G0aT9vfIV79X"
      },
      "source": [
        "## 3) Tensorflow version 2\n",
        "##### ※ 주의! <br>\n",
        "위에서 tensorflow version 1만 사용하도록 option을 지정했었기 때문에 런타임 재시작 후 실행해야 한다."
      ]
    },
    {
      "cell_type": "code",
      "execution_count": null,
      "metadata": {
        "colab": {
          "base_uri": "https://localhost:8080/",
          "height": 582
        },
        "id": "b1C6EW7XWCpr",
        "outputId": "edc5911b-fbc9-40e9-83e7-4250f4425b0d"
      },
      "outputs": [
        {
          "name": "stdout",
          "output_type": "stream",
          "text": [
            "Epoch: 0,\t loss = 1.4207,\t accuracy = 0.4286,\tslope a = -0.0928,\t y intercept b = -1.2233\n",
            "Epoch: 200,\t loss = 0.1117,\t accuracy = 1.0000,\tslope a = 0.9716,\t y intercept b = -6.5375\n",
            "Epoch: 400,\t loss = 0.0859,\t accuracy = 1.0000,\tslope a = 1.1920,\t y intercept b = -8.1190\n",
            "Epoch: 600,\t loss = 0.0716,\t accuracy = 1.0000,\tslope a = 1.3578,\t y intercept b = -9.2997\n"
          ]
        },
        {
          "data": {
            "image/png": "[encoded data removed]",
            "text/plain": [
              "<Figure size 432x288 with 1 Axes>"
            ]
          },
          "metadata": {
            "needs_background": "light"
          },
          "output_type": "display_data"
        },
        {
          "data": {
            "image/png": "[encoded data removed]",
            "text/plain": [
              "<Figure size 432x288 with 1 Axes>"
            ]
          },
          "metadata": {
            "needs_background": "light"
          },
          "output_type": "display_data"
        }
      ],
      "source": [
        "import tensorflow as tf\n",
        "import numpy as np\n",
        "import matplotlib.pyplot as plt\n",
        "\n",
        "# 공부시간 X와 성적 Y의 리스트\n",
        "data = np.array([[2, 0],\n",
        "                 [4, 0],\n",
        "                 [6, 0],\n",
        "                 [8, 1],\n",
        "                 [10, 1],\n",
        "                 [12, 1],\n",
        "                 [14, 1]])\n",
        "X = data[:, 0]\n",
        "Y = data[:, 1]\n",
        "\n",
        "# a와 b의 초기값 (v1: tf.random_normal, v2: tf.random.normal)\n",
        "a = tf.Variable(tf.random.normal([], dtype=tf.float64, seed=0))\n",
        "b = tf.Variable(tf.random.normal([], dtype=tf.float64, seed=0))\n",
        "\n",
        "# Activation function\n",
        "def hypothesis(a, b):\n",
        "    return 1 / (1 + tf.exp(-(a * X + b)))\n",
        "\n",
        "# Loss function\n",
        "def cost(*args):        # function 용도\n",
        "    return -tf.reduce_mean(Y * tf.math.log(hypothesis(a, b))\n",
        "                           + (1 - Y) * tf.math.log(1 - hypothesis(a, b)))\n",
        "\n",
        "# Optimization method : Gradient Descent\n",
        "opt = tf.keras.optimizers.SGD(learning_rate=0.5)\n",
        "history = {'loss':[], 'accuracy':[]}\n",
        "for i in range(601):\n",
        "    opt.minimize(cost, var_list=[a, b])     # cost를 minimize하도록 a와 b를 변경\n",
        "    accuracy = (((hypothesis(a, b).numpy() > 0.5) * 1) == Y).mean()\n",
        "    history['loss'].append(cost(a,b).numpy())\n",
        "    history['accuracy'].append(accuracy)\n",
        "    if i % 200 == 0:\n",
        "        print('Epoch: %.f,\\t loss = %.4f,\\t accuracy = %.4f,\\tslope a = %.4f,\\t y intercept b = %.4f' %\n",
        "              (i, cost(a, b), accuracy, a.numpy(), b.numpy()))\n",
        "\n",
        "# Plot\n",
        "plt.scatter(X, Y)\n",
        "plt.xlim(0, 15)\n",
        "plt.ylim(-0.1, 1.1)\n",
        "\n",
        "x_range = (np.arange(0, 15, 0.1))\n",
        "plt.plot(x_range, 1/(1 + np.exp(-(a.numpy() * x_range + b.numpy()))), 'r')\n",
        "plt.show()\n",
        "\n",
        "# Plot\n",
        "import pandas as pd\n",
        "df_history = pd.DataFrame(history)\n",
        "df_history.plot()\n",
        "plt.show()"
      ]
    },
    {
      "cell_type": "code",
      "execution_count": null,
      "metadata": {
        "id": "k5CeJNvqUxkk"
      },
      "outputs": [],
      "source": [
        "from google.colab import drive\n",
        "drive.mount('/content/drive')"
      ]
    },
    {
      "cell_type": "markdown",
      "metadata": {
        "id": "ECtMDS1Qbl-G"
      },
      "source": [
        "# Tensorflow를 이용한 다중로지스틱회귀분석"
      ]
    },
    {
      "cell_type": "markdown",
      "metadata": {
        "id": "PmmLBkPQbtEW"
      },
      "source": [
        "## 1) Tensorflow version 1"
      ]
    },
    {
      "cell_type": "code",
      "execution_count": null,
      "metadata": {
        "colab": {
          "base_uri": "https://localhost:8080/",
          "height": 131
        },
        "id": "theKbNv_bsWY",
        "outputId": "209a4b69-9796-4fbe-c795-662efd89476f"
      },
      "outputs": [
        {
          "ename": "SyntaxError",
          "evalue": "ignored",
          "output_type": "error",
          "traceback": [
            "\u001b[0;36m  File \u001b[0;32m\"<ipython-input-1-805206bca70b>\"\u001b[0;36m, line \u001b[0;32m48\u001b[0m\n\u001b[0;31m    \u001b[0m\n\u001b[0m    ^\u001b[0m\n\u001b[0;31mSyntaxError\u001b[0m\u001b[0;31m:\u001b[0m unexpected EOF while parsing\n"
          ]
        }
      ],
      "source": [
        "##########################################################\n",
        "# 다중 분류(Activation: softmax, Loss:binary_crossentropy)\n",
        "##########################################################\n",
        "import tensorflow.compat.v1 as tf\n",
        "tf.disable_v2_behavior()                    # not using tenserflow 2.x version\n",
        "from tensorflow.keras.utils import to_categorical\n",
        "import numpy as np\n",
        "import matplotlib.pyplot as plt\n",
        "\n",
        "# 실행할 때마다 같은 결과를 출력하기 위한 seed 값 설정\n",
        "seed = 0\n",
        "np.random.seed(seed)\n",
        "\n",
        "# x, y의 데이터 값\n",
        "X = np.array([[2, 3],[4, 3],[6, 4],[8, 6],[10, 7],[12, 8],[14, 9]], dtype=np.float32)  # shape=(7, 2)\n",
        "Y = np.array([0, 0, 0, 1, 1, 1, 1], dtype=np.float32).reshape(7, 1)   # shape=(7,1)\n",
        "# Y = to_categorical(Y)\n",
        "\n",
        "# a와 b의 초기값\n",
        "W = tf.Variable(tf.random_normal([2, 1], dtype=tf.float64, seed=0))\n",
        "b = tf.Variable(tf.random_normal([2], dtype=tf.float64, seed=0))\n",
        "\n",
        "# Activation function\n",
        "hypothesis = tf.nn.softmax(tf.matmul(X, W) + b)\n",
        "\n",
        "# Loss function\n",
        "loss = -tf.reduce_mean(Y * tf.log(hypothesis) + (1 - Y) * tf.log(1 - hypothesis), axis=1)\n",
        "\n",
        "# Settings\n",
        "epochs = 10000\n",
        "learning_rate = 0.1\n",
        "\n",
        "# optimization method : Gradient Descent\n",
        "optimizer = tf.train.GradientDescentOptimizer(learning_rate).minimize(loss)\n",
        "\n",
        "# Learning\n",
        "with tf.Session() as sess:\n",
        "    sess.run(tf.global_variables_initializer())         # Variable tensor 초기화\n",
        "\n",
        "    for i in range(epochs + 1):\n",
        "        sess.run(optimizer)\n",
        "        if i % 200 == 0:\n",
        "            print('Epoch: %.f, loss %.4f' % (i, sess.run(loss))\n",
        "\n",
        "    # with tf.Session() as sess:\n",
        "    # last_w = sess.run(w)\n",
        "    # last_b = sess.run(b)\n",
        "\n"
      ]
    },
    {
      "cell_type": "code",
      "execution_count": null,
      "metadata": {
        "colab": {
          "base_uri": "https://localhost:8080/"
        },
        "id": "ODr1bvS9gJyA",
        "outputId": "971f678a-5b17-4a77-9f5c-28a269fb88a5"
      },
      "outputs": [
        {
          "data": {
            "text/plain": [
              "array([[1., 0.],\n",
              "       [1., 0.],\n",
              "       [1., 0.],\n",
              "       [0., 1.],\n",
              "       [0., 1.],\n",
              "       [0., 1.],\n",
              "       [0., 1.]], dtype=float32)"
            ]
          },
          "execution_count": 14,
          "metadata": {},
          "output_type": "execute_result"
        }
      ],
      "source": [
        "from tensorflow.keras.utils import to_categorical\n",
        "Y = np.array([0, 0, 0, 1, 1, 1, 1], dtype=np.float32).reshape(7, 1)   # shape=(7,1)\n",
        "Y= to_categorical(Y)"
      ]
    }
  ],
  "metadata": {
    "colab": {
      "provenance": []
    },
    "kernelspec": {
      "display_name": "Python 3",
      "name": "python3"
    },
    "language_info": {
      "name": "python"
    }
  },
  "nbformat": 4,
  "nbformat_minor": 0
}
