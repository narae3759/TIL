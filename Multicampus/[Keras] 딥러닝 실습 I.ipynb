{
 "cells": [
  {
   "cell_type": "markdown",
   "metadata": {},
   "source": [
    "# MNIST 데이터셋 분석"
   ]
  },
  {
   "cell_type": "code",
   "execution_count": null,
   "metadata": {},
   "outputs": [
    {
     "name": "stdout",
     "output_type": "stream",
     "text": [
      "Converting train-images-idx3-ubyte.gz to NumPy Array ...\n",
      "Done\n",
      "Converting train-labels-idx1-ubyte.gz to NumPy Array ...\n",
      "Done\n",
      "Converting t10k-images-idx3-ubyte.gz to NumPy Array ...\n",
      "Done\n",
      "Converting t10k-labels-idx1-ubyte.gz to NumPy Array ...\n",
      "Done\n",
      "Creating pickle file ...\n",
      "Done!\n",
      "(60000, 1, 28, 28)\n",
      "(60000,)\n",
      "(10000, 1, 28, 28)\n",
      "(10000,)\n"
     ]
    }
   ],
   "source": [
    "import sys, os\n",
    "sys.path.append('deep-learning-from-scratch-master')\n",
    "import numpy as np \n",
    "from dataset.mnist import load_mnist\n",
    "\n",
    "(x_train, t_train), (x_test, t_test) = load_mnist(flatten=False, normalize=False)\n",
    "\n",
    "print(x_train.shape)\n",
    "print(t_train.shape)\n",
    "print(x_test.shape)\n",
    "print(t_test.shape)"
   ]
  },
  {
   "cell_type": "code",
   "execution_count": null,
   "metadata": {},
   "outputs": [
    {
     "name": "stdout",
     "output_type": "stream",
     "text": [
      "[[[  0   0   0   0   0   0   0   0   0   0   0   0   0   0   0   0   0\n",
      "     0   0   0   0   0   0   0   0   0   0   0]\n",
      "  [  0   0   0   0   0   0   0   0   0   0   0   0   0   0   0   0   0\n",
      "     0   0   0   0   0   0   0   0   0   0   0]\n",
      "  [  0   0   0   0   0   0   0   0   0   0   0   0   0   0   0   0   0\n",
      "     0   0   0   0   0   0   0   0   0   0   0]\n",
      "  [  0   0   0   0   0   0   0   0   0   0   0   0   0   0   0   0   0\n",
      "     0   0   0   0   0   0   0   0   0   0   0]\n",
      "  [  0   0   0   0   0   0   0   0   0   0   0   0   0   0   0   0   0\n",
      "     0   0   0   0   0   0   0   0   0   0   0]\n",
      "  [  0   0   0   0   0   0   0   0   0   0   0   0   3  18  18  18 126\n",
      "   136 175  26 166 255 247 127   0   0   0   0]\n",
      "  [  0   0   0   0   0   0   0   0  30  36  94 154 170 253 253 253 253\n",
      "   253 225 172 253 242 195  64   0   0   0   0]\n",
      "  [  0   0   0   0   0   0   0  49 238 253 253 253 253 253 253 253 253\n",
      "   251  93  82  82  56  39   0   0   0   0   0]\n",
      "  [  0   0   0   0   0   0   0  18 219 253 253 253 253 253 198 182 247\n",
      "   241   0   0   0   0   0   0   0   0   0   0]\n",
      "  [  0   0   0   0   0   0   0   0  80 156 107 253 253 205  11   0  43\n",
      "   154   0   0   0   0   0   0   0   0   0   0]\n",
      "  [  0   0   0   0   0   0   0   0   0  14   1 154 253  90   0   0   0\n",
      "     0   0   0   0   0   0   0   0   0   0   0]\n",
      "  [  0   0   0   0   0   0   0   0   0   0   0 139 253 190   2   0   0\n",
      "     0   0   0   0   0   0   0   0   0   0   0]\n",
      "  [  0   0   0   0   0   0   0   0   0   0   0  11 190 253  70   0   0\n",
      "     0   0   0   0   0   0   0   0   0   0   0]\n",
      "  [  0   0   0   0   0   0   0   0   0   0   0   0  35 241 225 160 108\n",
      "     1   0   0   0   0   0   0   0   0   0   0]\n",
      "  [  0   0   0   0   0   0   0   0   0   0   0   0   0  81 240 253 253\n",
      "   119  25   0   0   0   0   0   0   0   0   0]\n",
      "  [  0   0   0   0   0   0   0   0   0   0   0   0   0   0  45 186 253\n",
      "   253 150  27   0   0   0   0   0   0   0   0]\n",
      "  [  0   0   0   0   0   0   0   0   0   0   0   0   0   0   0  16  93\n",
      "   252 253 187   0   0   0   0   0   0   0   0]\n",
      "  [  0   0   0   0   0   0   0   0   0   0   0   0   0   0   0   0   0\n",
      "   249 253 249  64   0   0   0   0   0   0   0]\n",
      "  [  0   0   0   0   0   0   0   0   0   0   0   0   0   0  46 130 183\n",
      "   253 253 207   2   0   0   0   0   0   0   0]\n",
      "  [  0   0   0   0   0   0   0   0   0   0   0   0  39 148 229 253 253\n",
      "   253 250 182   0   0   0   0   0   0   0   0]\n",
      "  [  0   0   0   0   0   0   0   0   0   0  24 114 221 253 253 253 253\n",
      "   201  78   0   0   0   0   0   0   0   0   0]\n",
      "  [  0   0   0   0   0   0   0   0  23  66 213 253 253 253 253 198  81\n",
      "     2   0   0   0   0   0   0   0   0   0   0]\n",
      "  [  0   0   0   0   0   0  18 171 219 253 253 253 253 195  80   9   0\n",
      "     0   0   0   0   0   0   0   0   0   0   0]\n",
      "  [  0   0   0   0  55 172 226 253 253 253 253 244 133  11   0   0   0\n",
      "     0   0   0   0   0   0   0   0   0   0   0]\n",
      "  [  0   0   0   0 136 253 253 253 212 135 132  16   0   0   0   0   0\n",
      "     0   0   0   0   0   0   0   0   0   0   0]\n",
      "  [  0   0   0   0   0   0   0   0   0   0   0   0   0   0   0   0   0\n",
      "     0   0   0   0   0   0   0   0   0   0   0]\n",
      "  [  0   0   0   0   0   0   0   0   0   0   0   0   0   0   0   0   0\n",
      "     0   0   0   0   0   0   0   0   0   0   0]\n",
      "  [  0   0   0   0   0   0   0   0   0   0   0   0   0   0   0   0   0\n",
      "     0   0   0   0   0   0   0   0   0   0   0]]]\n"
     ]
    }
   ],
   "source": [
    "print(x_train[0])"
   ]
  },
  {
   "cell_type": "code",
   "execution_count": null,
   "metadata": {},
   "outputs": [
    {
     "name": "stdout",
     "output_type": "stream",
     "text": [
      "학습셋 이미지 수 : 60000 개\n",
      "테스트셋 이미지 수 : 10000 개\n"
     ]
    }
   ],
   "source": [
    "from tensorflow.keras.datasets import mnist\n",
    "from tensorflow.keras.utils import to_categorical\n",
    "import matplotlib.pyplot as plt\n",
    "\n",
    "# MNIST 데이터셋을 불러와 학습셋과 테스트셋으로 저장합니다. \n",
    "(X_train, y_train), (X_test, y_test) = mnist.load_data()\n",
    "\n",
    "# 학습셋과 테스트셋이 각각 몇 개의 이미지로 되어 있는지 확인합니다. \n",
    "print(\"학습셋 이미지 수 : %d 개\" % (X_train.shape[0]))\n",
    "print(\"테스트셋 이미지 수 : %d 개\" % (X_test.shape[0]))\n"
   ]
  },
  {
   "cell_type": "code",
   "execution_count": null,
   "metadata": {},
   "outputs": [
    {
     "data": {
      "text/plain": [
       "((60000, 28, 28), (60000,), (10000, 28, 28), (10000,))"
      ]
     },
     "metadata": {},
     "output_type": "display_data"
    }
   ],
   "source": [
    "X_train.shape, y_train.shape, X_test.shape, y_test.shape"
   ]
  },
  {
   "cell_type": "code",
   "execution_count": null,
   "metadata": {},
   "outputs": [
    {
     "data": {
      "text/plain": [
       "array([5, 0, 4, ..., 5, 6, 8], dtype=uint8)"
      ]
     },
     "metadata": {},
     "output_type": "display_data"
    }
   ],
   "source": [
    "y_train"
   ]
  },
  {
   "cell_type": "code",
   "execution_count": null,
   "metadata": {},
   "outputs": [
    {
     "data": {
      "image/png": "[encoded data removed]",
      "text/plain": [
       "<Figure size 432x288 with 1 Axes>"
      ]
     },
     "metadata": {},
     "output_type": "display_data"
    }
   ],
   "source": [
    "# 첫번째 이미지 확인 \n",
    "plt.imshow(X_train[0])\n",
    "plt.show()"
   ]
  },
  {
   "cell_type": "code",
   "execution_count": null,
   "metadata": {},
   "outputs": [
    {
     "data": {
      "image/png": "[encoded data removed]",
      "text/plain": [
       "<PIL.Image.Image image mode=L size=28x28>"
      ]
     },
     "metadata": {},
     "output_type": "display_data"
    }
   ],
   "source": [
    "from PIL import Image \n",
    "Image.fromarray(X_train[0])"
   ]
  },
  {
   "cell_type": "code",
   "execution_count": null,
   "metadata": {},
   "outputs": [
    {
     "data": {
      "image/png": "[encoded data removed]",
      "text/plain": [
       "<Figure size 432x288 with 1 Axes>"
      ]
     },
     "metadata": {},
     "output_type": "display_data"
    }
   ],
   "source": [
    "plt.imshow(X_train[0], cmap='Greys')\n",
    "plt.show()"
   ]
  },
  {
   "cell_type": "code",
   "execution_count": null,
   "metadata": {},
   "outputs": [
    {
     "name": "stdout",
     "output_type": "stream",
     "text": [
      "0  0  0  0  0  0  0  0  0  0  0  0  0  0  0  0  0  0  0  0  0  0  0  0  0  0  0  0  \n",
      "0  0  0  0  0  0  0  0  0  0  0  0  0  0  0  0  0  0  0  0  0  0  0  0  0  0  0  0  \n",
      "0  0  0  0  0  0  0  0  0  0  0  0  0  0  0  0  0  0  0  0  0  0  0  0  0  0  0  0  \n",
      "0  0  0  0  0  0  0  0  0  0  0  0  0  0  0  0  0  0  0  0  0  0  0  0  0  0  0  0  \n",
      "0  0  0  0  0  0  0  0  0  0  0  0  0  0  0  0  0  0  0  0  0  0  0  0  0  0  0  0  \n",
      "0  0  0  0  0  0  0  0  0  0  0  0  3  18 18 18 12613617526 1662552471270  0  0  0  \n",
      "0  0  0  0  0  0  0  0  30 36 94 15417025325325325325322517225324219564 0  0  0  0  \n",
      "0  0  0  0  0  0  0  49 23825325325325325325325325325193 82 82 56 39 0  0  0  0  0  \n",
      "0  0  0  0  0  0  0  18 2192532532532532531981822472410  0  0  0  0  0  0  0  0  0  \n",
      "0  0  0  0  0  0  0  0  80 15610725325320511 0  43 1540  0  0  0  0  0  0  0  0  0  \n",
      "0  0  0  0  0  0  0  0  0  14 1  15425390 0  0  0  0  0  0  0  0  0  0  0  0  0  0  \n",
      "0  0  0  0  0  0  0  0  0  0  0  1392531902  0  0  0  0  0  0  0  0  0  0  0  0  0  \n",
      "0  0  0  0  0  0  0  0  0  0  0  11 19025370 0  0  0  0  0  0  0  0  0  0  0  0  0  \n",
      "0  0  0  0  0  0  0  0  0  0  0  0  35 2412251601081  0  0  0  0  0  0  0  0  0  0  \n",
      "0  0  0  0  0  0  0  0  0  0  0  0  0  81 24025325311925 0  0  0  0  0  0  0  0  0  \n",
      "0  0  0  0  0  0  0  0  0  0  0  0  0  0  45 18625325315027 0  0  0  0  0  0  0  0  \n",
      "0  0  0  0  0  0  0  0  0  0  0  0  0  0  0  16 93 2522531870  0  0  0  0  0  0  0  \n",
      "0  0  0  0  0  0  0  0  0  0  0  0  0  0  0  0  0  24925324964 0  0  0  0  0  0  0  \n",
      "0  0  0  0  0  0  0  0  0  0  0  0  0  0  46 1301832532532072  0  0  0  0  0  0  0  \n",
      "0  0  0  0  0  0  0  0  0  0  0  0  39 1482292532532532501820  0  0  0  0  0  0  0  \n",
      "0  0  0  0  0  0  0  0  0  0  24 11422125325325325320178 0  0  0  0  0  0  0  0  0  \n",
      "0  0  0  0  0  0  0  0  23 66 21325325325325319881 2  0  0  0  0  0  0  0  0  0  0  \n",
      "0  0  0  0  0  0  18 17121925325325325319580 9  0  0  0  0  0  0  0  0  0  0  0  0  \n",
      "0  0  0  0  55 17222625325325325324413311 0  0  0  0  0  0  0  0  0  0  0  0  0  0  \n",
      "0  0  0  0  13625325325321213513216 0  0  0  0  0  0  0  0  0  0  0  0  0  0  0  0  \n",
      "0  0  0  0  0  0  0  0  0  0  0  0  0  0  0  0  0  0  0  0  0  0  0  0  0  0  0  0  \n",
      "0  0  0  0  0  0  0  0  0  0  0  0  0  0  0  0  0  0  0  0  0  0  0  0  0  0  0  0  \n",
      "0  0  0  0  0  0  0  0  0  0  0  0  0  0  0  0  0  0  0  0  0  0  0  0  0  0  0  0  \n"
     ]
    }
   ],
   "source": [
    "# 이미지가 인식되는 원리를 알아봅시다.\n",
    "import sys\n",
    "for x in X_train[0]:\n",
    "    for i in x:\n",
    "        sys.stdout.write(\"%-3s\" % i)\n",
    "    sys.stdout.write('\\n')\n"
   ]
  },
  {
   "cell_type": "code",
   "execution_count": null,
   "metadata": {},
   "outputs": [
    {
     "data": {
      "text/plain": [
       "5"
      ]
     },
     "metadata": {},
     "output_type": "display_data"
    }
   ],
   "source": [
    "# 정답 \n",
    "y_train[0]"
   ]
  },
  {
   "cell_type": "code",
   "execution_count": null,
   "metadata": {},
   "outputs": [
    {
     "name": "stdout",
     "output_type": "stream",
     "text": [
      "(60000, 28, 28)\n",
      "(60000, 784)\n"
     ]
    }
   ],
   "source": [
    "# 변형시키기 \n",
    "print(X_train.shape)\n",
    "X_train = X_train.reshape(X_train.shape[0], 28*28)\n",
    "print(X_train.shape)"
   ]
  },
  {
   "cell_type": "code",
   "execution_count": null,
   "metadata": {},
   "outputs": [
    {
     "data": {
      "text/plain": [
       "array([[0, 0, 0, ..., 0, 0, 0],\n",
       "       [0, 0, 0, ..., 0, 0, 0],\n",
       "       [0, 0, 0, ..., 0, 0, 0],\n",
       "       ...,\n",
       "       [0, 0, 0, ..., 0, 0, 0],\n",
       "       [0, 0, 0, ..., 0, 0, 0],\n",
       "       [0, 0, 0, ..., 0, 0, 0]], dtype=uint8)"
      ]
     },
     "metadata": {},
     "output_type": "display_data"
    }
   ],
   "source": [
    "X_train"
   ]
  },
  {
   "cell_type": "code",
   "execution_count": null,
   "metadata": {},
   "outputs": [],
   "source": [
    "from tensorflow.keras.models import Sequential\n",
    "from tensorflow.keras.layers import Dense\n",
    "from tensorflow.keras.callbacks import ModelCheckpoint,EarlyStopping\n",
    "from tensorflow.keras.datasets import mnist\n",
    "from tensorflow.keras.utils import to_categorical\n",
    "\n",
    "import matplotlib.pyplot as plt\n",
    "import numpy as np\n",
    "import os\n",
    "\n",
    "# MNIST 데이터를 불러옵니다. \n",
    "(X_train, y_train), (X_test, y_test) = mnist.load_data()\n",
    "\n",
    "# 차원 변환 후, 테스트셋과 학습셋으로 나눕니다.\n",
    "# type을 왜 바꿀까?\n",
    "X_train = X_train.reshape(X_train.shape[0], 28*28).astype('float32') / 255\n",
    "X_test = X_test.reshape(X_test.shape[0], 784).astype('float32') / 255\n",
    "\n",
    "# one_hot_encoding\n",
    "y_train = to_categorical(y_train, 10)\n",
    "y_test = to_categorical(y_test, 10)"
   ]
  },
  {
   "cell_type": "code",
   "execution_count": null,
   "metadata": {},
   "outputs": [
    {
     "data": {
      "text/plain": [
       "array([[0., 0., 0., ..., 0., 0., 0.],\n",
       "       [0., 0., 0., ..., 0., 0., 0.],\n",
       "       [0., 0., 0., ..., 0., 0., 0.],\n",
       "       [0., 0., 0., ..., 0., 0., 0.],\n",
       "       [0., 0., 0., ..., 0., 0., 0.]], dtype=float32)"
      ]
     },
     "metadata": {},
     "output_type": "display_data"
    }
   ],
   "source": [
    "X_train[:5]"
   ]
  },
  {
   "cell_type": "code",
   "execution_count": null,
   "metadata": {},
   "outputs": [
    {
     "name": "stdout",
     "output_type": "stream",
     "text": [
      "Model: \"sequential_1\"\n",
      "_________________________________________________________________\n",
      " Layer (type)                Output Shape              Param #   \n",
      "=================================================================\n",
      " dense_2 (Dense)             (None, 512)               401920    \n",
      "                                                                 \n",
      " dense_3 (Dense)             (None, 512)               262656    \n",
      "                                                                 \n",
      " dense_4 (Dense)             (None, 10)                5130      \n",
      "                                                                 \n",
      "=================================================================\n",
      "Total params: 669,706\n",
      "Trainable params: 669,706\n",
      "Non-trainable params: 0\n",
      "_________________________________________________________________\n"
     ]
    }
   ],
   "source": [
    "# 모델 구조 설정 \n",
    "model = Sequential()\n",
    "model.add(Dense(512, input_dim=784, activation='sigmoid'))\n",
    "model.add(Dense(512, activation='sigmoid'))\n",
    "model.add(Dense(10, activation='softmax'))\n",
    "model.summary()     # 모델 살펴보기\n"
   ]
  },
  {
   "cell_type": "code",
   "execution_count": null,
   "metadata": {},
   "outputs": [
    {
     "name": "stdout",
     "output_type": "stream",
     "text": [
      "Epoch 1/30\n",
      "225/225 [==============================] - 21s 71ms/step - loss: 0.7324 - accuracy: 0.7885 - val_loss: 0.3117 - val_accuracy: 0.9038\n",
      "Epoch 2/30\n",
      "225/225 [==============================] - 17s 76ms/step - loss: 0.2719 - accuracy: 0.9208 - val_loss: 0.2371 - val_accuracy: 0.9303\n",
      "Epoch 3/30\n",
      "225/225 [==============================] - 14s 61ms/step - loss: 0.2172 - accuracy: 0.9359 - val_loss: 0.1970 - val_accuracy: 0.9433\n",
      "Epoch 4/30\n",
      "225/225 [==============================] - 14s 63ms/step - loss: 0.1751 - accuracy: 0.9482 - val_loss: 0.1735 - val_accuracy: 0.9499\n",
      "Epoch 5/30\n",
      "225/225 [==============================] - 15s 67ms/step - loss: 0.1485 - accuracy: 0.9559 - val_loss: 0.1589 - val_accuracy: 0.9523\n",
      "Epoch 6/30\n",
      "225/225 [==============================] - 16s 71ms/step - loss: 0.1222 - accuracy: 0.9640 - val_loss: 0.1537 - val_accuracy: 0.9553\n",
      "Epoch 7/30\n",
      "225/225 [==============================] - 16s 69ms/step - loss: 0.1031 - accuracy: 0.9697 - val_loss: 0.1364 - val_accuracy: 0.9593\n",
      "Epoch 8/30\n",
      "225/225 [==============================] - 17s 73ms/step - loss: 0.0863 - accuracy: 0.9740 - val_loss: 0.1209 - val_accuracy: 0.9630\n",
      "Epoch 9/30\n",
      "225/225 [==============================] - 16s 73ms/step - loss: 0.0737 - accuracy: 0.9777 - val_loss: 0.1164 - val_accuracy: 0.9659\n",
      "Epoch 10/30\n",
      "225/225 [==============================] - 14s 63ms/step - loss: 0.0622 - accuracy: 0.9818 - val_loss: 0.1035 - val_accuracy: 0.9694\n",
      "Epoch 11/30\n",
      "225/225 [==============================] - 15s 69ms/step - loss: 0.0526 - accuracy: 0.9844 - val_loss: 0.0995 - val_accuracy: 0.9706\n",
      "Epoch 12/30\n",
      "225/225 [==============================] - 14s 62ms/step - loss: 0.0448 - accuracy: 0.9870 - val_loss: 0.1074 - val_accuracy: 0.9671\n",
      "Epoch 13/30\n",
      "225/225 [==============================] - 16s 71ms/step - loss: 0.0368 - accuracy: 0.9896 - val_loss: 0.0961 - val_accuracy: 0.9707\n",
      "Epoch 14/30\n",
      "225/225 [==============================] - 17s 74ms/step - loss: 0.0304 - accuracy: 0.9919 - val_loss: 0.0979 - val_accuracy: 0.9711\n",
      "Epoch 15/30\n",
      "225/225 [==============================] - 16s 70ms/step - loss: 0.0266 - accuracy: 0.9924 - val_loss: 0.0974 - val_accuracy: 0.9728\n",
      "Epoch 16/30\n",
      "225/225 [==============================] - 16s 69ms/step - loss: 0.0209 - accuracy: 0.9948 - val_loss: 0.0966 - val_accuracy: 0.9731\n",
      "Epoch 17/30\n",
      "225/225 [==============================] - 16s 72ms/step - loss: 0.0187 - accuracy: 0.9950 - val_loss: 0.0958 - val_accuracy: 0.9733\n",
      "Epoch 18/30\n",
      "225/225 [==============================] - 15s 65ms/step - loss: 0.0149 - accuracy: 0.9966 - val_loss: 0.0960 - val_accuracy: 0.9738\n",
      "Epoch 19/30\n",
      "225/225 [==============================] - 18s 79ms/step - loss: 0.0120 - accuracy: 0.9971 - val_loss: 0.0908 - val_accuracy: 0.9758\n",
      "Epoch 20/30\n",
      "225/225 [==============================] - 15s 67ms/step - loss: 0.0093 - accuracy: 0.9979 - val_loss: 0.1014 - val_accuracy: 0.9732\n",
      "Epoch 21/30\n",
      "225/225 [==============================] - 16s 71ms/step - loss: 0.0077 - accuracy: 0.9985 - val_loss: 0.0963 - val_accuracy: 0.9747\n",
      "Epoch 22/30\n",
      "225/225 [==============================] - 15s 67ms/step - loss: 0.0067 - accuracy: 0.9988 - val_loss: 0.0984 - val_accuracy: 0.9758\n",
      "Epoch 23/30\n",
      "225/225 [==============================] - 15s 69ms/step - loss: 0.0058 - accuracy: 0.9990 - val_loss: 0.1036 - val_accuracy: 0.9756\n",
      "Epoch 24/30\n",
      "225/225 [==============================] - 16s 69ms/step - loss: 0.0039 - accuracy: 0.9995 - val_loss: 0.1014 - val_accuracy: 0.9753\n",
      "Epoch 25/30\n",
      "225/225 [==============================] - 17s 74ms/step - loss: 0.0029 - accuracy: 0.9996 - val_loss: 0.0978 - val_accuracy: 0.9765\n",
      "Epoch 26/30\n",
      "225/225 [==============================] - 15s 66ms/step - loss: 0.0028 - accuracy: 0.9997 - val_loss: 0.1007 - val_accuracy: 0.9765\n",
      "Epoch 27/30\n",
      "225/225 [==============================] - 15s 66ms/step - loss: 0.0019 - accuracy: 0.9999 - val_loss: 0.1028 - val_accuracy: 0.9762\n",
      "Epoch 28/30\n",
      "225/225 [==============================] - 16s 71ms/step - loss: 0.0018 - accuracy: 0.9998 - val_loss: 0.1036 - val_accuracy: 0.9767\n",
      "Epoch 29/30\n",
      "225/225 [==============================] - 17s 74ms/step - loss: 0.0048 - accuracy: 0.9987 - val_loss: 0.1278 - val_accuracy: 0.9722\n",
      "Epoch 30/30\n",
      "225/225 [==============================] - 15s 65ms/step - loss: 0.0065 - accuracy: 0.9981 - val_loss: 0.1288 - val_accuracy: 0.9739\n",
      "Wall time: 7min 54s\n"
     ]
    },
    {
     "data": {
      "text/plain": [
       "<keras.callbacks.History at 0x1ffff2a3100>"
      ]
     },
     "metadata": {},
     "output_type": "display_data"
    }
   ],
   "source": [
    "%%time\n",
    "# 모델 실행 환경을 설정합니다. \n",
    "model.compile(loss='categorical_crossentropy', optimizer='adam', metrics=['accuracy'])\n",
    "model.fit(X_train, y_train, validation_split=0.25, epochs=30, batch_size=200, verbose=1)"
   ]
  },
  {
   "cell_type": "code",
   "execution_count": null,
   "metadata": {},
   "outputs": [
    {
     "name": "stdout",
     "output_type": "stream",
     "text": [
      "5\n",
      "(1, 28, 28)\n",
      "(28, 28)\n"
     ]
    }
   ],
   "source": [
    "import sys, os\n",
    "sys.path.append('deep-learning-from-scratch-master')\n",
    "import numpy as np \n",
    "from dataset.mnist import load_mnist\n",
    "from PIL import Image \n",
    "\n",
    "def img_show(img):\n",
    "    pil_img = Image.fromarray(np.uint8(img))\n",
    "    pil_img.show()\n",
    "    \n",
    "(x_train, t_train), (x_test, t_test) = load_mnist(flatten=False, normalize=False)\n",
    "\n",
    "img = x_train[0]\n",
    "label = t_train[0]\n",
    "print(label)\n",
    "\n",
    "print(img.shape)\n",
    "img = img.reshape(28, 28)\n",
    "print(img.shape)\n",
    "\n",
    "img_show(img) # 사진 프로그램으로 실행됨"
   ]
  },
  {
   "cell_type": "code",
   "execution_count": null,
   "metadata": {},
   "outputs": [
    {
     "name": "stdout",
     "output_type": "stream",
     "text": [
      "Accuracy:0.9352\n"
     ]
    }
   ],
   "source": [
    "def get_data():\n",
    "    (x_train, t_train), (x_test, t_test) = load_mnist(normalize=True, flatten=True, one_hot_label=False)\n",
    "    return x_test, t_test\n",
    "\n",
    "\n",
    "def init_network():\n",
    "    with open(\"deep-learning-from-scratch-master/ch03/sample_weight.pkl\", 'rb') as f:\n",
    "        network = pickle.load(f)\n",
    "    return network\n",
    "\n",
    "\n",
    "def predict(network, x):\n",
    "    W1, W2, W3 = network['W1'], network['W2'], network['W3']\n",
    "    b1, b2, b3 = network['b1'], network['b2'], network['b3']\n",
    "\n",
    "    a1 = np.dot(x, W1) + b1\n",
    "    z1 = sigmoid(a1)\n",
    "    a2 = np.dot(z1, W2) + b2\n",
    "    z2 = sigmoid(a2)\n",
    "    a3 = np.dot(z2, W3) + b3\n",
    "    y = softmax(a3)\n",
    "\n",
    "    return y\n",
    "\n",
    "\n",
    "x, t = get_data()\n",
    "network = init_network()\n",
    "accuracy_cnt = 0\n",
    "for i in range(len(x)):\n",
    "    y = predict(network, x[i])\n",
    "    p= np.argmax(y) # 확률이 가장 높은 원소의 인덱스를 얻는다.\n",
    "    if p == t[i]:\n",
    "        accuracy_cnt += 1\n",
    "\n",
    "print(\"Accuracy:\" + str(float(accuracy_cnt) / len(x)))"
   ]
  },
  {
   "cell_type": "code",
   "execution_count": null,
   "metadata": {},
   "outputs": [
    {
     "name": "stdout",
     "output_type": "stream",
     "text": [
      "(10000, 784)\n",
      "(784,)\n",
      "(784, 50)\n",
      "(50, 100)\n",
      "(100, 10)\n"
     ]
    }
   ],
   "source": [
    "x, _ = get_data()\n",
    "network = init_network()\n",
    "W1, W2, W3 = network['W1'], network['W2'], network['W3']\n",
    "\n",
    "print(x.shape)\n",
    "print(x[0].shape) \n",
    "print(W1.shape)\n",
    "print(W2.shape)\n",
    "print(W3.shape)"
   ]
  },
  {
   "cell_type": "code",
   "execution_count": 92,
   "metadata": {},
   "outputs": [
    {
     "name": "stdout",
     "output_type": "stream",
     "text": [
      "train acc, test acc | 0.0974, 0.0982\n",
      "train acc, test acc | 0.8003833333333333, 0.8026\n",
      "train acc, test acc | 0.8789333333333333, 0.8818\n",
      "train acc, test acc | 0.8982833333333333, 0.9009\n",
      "train acc, test acc | 0.9073833333333333, 0.9108\n",
      "train acc, test acc | 0.9142166666666667, 0.916\n",
      "train acc, test acc | 0.9194833333333333, 0.9201\n",
      "train acc, test acc | 0.9242833333333333, 0.9246\n",
      "train acc, test acc | 0.9276833333333333, 0.9281\n",
      "train acc, test acc | 0.9314333333333333, 0.9316\n",
      "train acc, test acc | 0.93325, 0.9346\n",
      "train acc, test acc | 0.9359666666666666, 0.9357\n",
      "train acc, test acc | 0.9386166666666667, 0.9382\n",
      "train acc, test acc | 0.9413166666666667, 0.9406\n",
      "train acc, test acc | 0.94295, 0.9406\n",
      "train acc, test acc | 0.945, 0.9442\n",
      "train acc, test acc | 0.94715, 0.9466\n"
     ]
    },
    {
     "data": {
      "image/png": "[encoded data removed]",
      "text/plain": [
       "<Figure size 432x288 with 1 Axes>"
      ]
     },
     "metadata": {
      "needs_background": "light"
     },
     "output_type": "display_data"
    }
   ],
   "source": [
    "import sys, os \n",
    "sys.path.append(\"deep-learning-from-scratch-master/ch04\")\n",
    "import numpy as np\n",
    "import matplotlib.pyplot as plt\n",
    "from dataset.mnist import load_mnist\n",
    "from two_layer_net import TwoLayerNet\n",
    "\n",
    "# 데이터 읽기\n",
    "(x_train, t_train), (x_test, t_test) = load_mnist(normalize=True, one_hot_label=True)\n",
    "\n",
    "network = TwoLayerNet(input_size=784, hidden_size=50, output_size=10)\n",
    "\n",
    "# 하이퍼파라미터\n",
    "iters_num = 10000  # 반복 횟수를 적절히 설정한다.\n",
    "train_size = x_train.shape[0]\n",
    "batch_size = 100   # 미니배치 크기\n",
    "learning_rate = 0.1\n",
    "\n",
    "train_loss_list = []\n",
    "train_acc_list = []\n",
    "test_lost_lit = []\n",
    "test_acc_list = []\n",
    "\n",
    "# 1에폭당 반복 수\n",
    "iter_per_epoch = max(train_size / batch_size, 1)\n",
    "\n",
    "for i in range(iters_num):\n",
    "    # 미니배치 획득\n",
    "    batch_mask = np.random.choice(train_size, batch_size)\n",
    "    x_batch = x_train[batch_mask]\n",
    "    t_batch = t_train[batch_mask]\n",
    "    \n",
    "    # 기울기 계산\n",
    "    #grad = network.numerical_gradient(x_batch, t_batch)\n",
    "    grad = network.gradient(x_batch, t_batch)\n",
    "    \n",
    "    # 매개변수 갱신\n",
    "    for key in ('W1', 'b1', 'W2', 'b2'):\n",
    "        network.params[key] -= learning_rate * grad[key]\n",
    "    \n",
    "    # 학습 경과 기록\n",
    "    loss = network.loss(x_batch, t_batch)\n",
    "    train_loss_list.append(loss)\n",
    "    \n",
    "    # 1에폭당 정확도 계산\n",
    "    if i % iter_per_epoch == 0:\n",
    "        train_acc = network.accuracy(x_train, t_train)\n",
    "        test_acc = network.accuracy(x_test, t_test)\n",
    "        train_acc_list.append(train_acc)\n",
    "        test_acc_list.append(test_acc)\n",
    "        print(\"train acc, test acc | \" + str(train_acc) + \", \" + str(test_acc))\n",
    "\n",
    "# 그래프 그리기\n",
    "markers = {'train': 'o', 'test': 's'}\n",
    "x = np.arange(len(train_acc_list))\n",
    "plt.plot(x, train_acc_list, label='train acc')\n",
    "plt.plot(x, test_acc_list, label='test acc', linestyle='--')\n",
    "plt.xlabel(\"epochs\")\n",
    "plt.ylabel(\"accuracy\")\n",
    "plt.ylim(0, 1.0)\n",
    "plt.legend(loc='lower right')\n",
    "plt.show()\n"
   ]
  },
  {
   "cell_type": "code",
   "execution_count": 94,
   "metadata": {},
   "outputs": [
    {
     "data": {
      "image/png": "[encoded data removed]",
      "text/plain": [
       "<Figure size 432x288 with 1 Axes>"
      ]
     },
     "metadata": {
      "needs_background": "light"
     },
     "output_type": "display_data"
    }
   ],
   "source": [
    "\n",
    "markers = {'train': 'o', 'test': 's'}\n",
    "x = np.arange(len(train_loss_list))\n",
    "plt.plot(x, train_loss_list, label='train loss')\n",
    "plt.xlabel(\"epochs\")\n",
    "plt.ylabel(\"accuracy\")\n",
    "plt.ylim(0, 1.0)\n",
    "plt.show()"
   ]
  },
  {
   "cell_type": "markdown",
   "metadata": {},
   "source": [
    "# 당뇨 환자 데이터셋 분석"
   ]
  },
  {
   "cell_type": "code",
   "execution_count": 1,
   "metadata": {},
   "outputs": [
    {
     "name": "stdout",
     "output_type": "stream",
     "text": [
      "Epoch 1/5\n",
      "30/30 [==============================] - 6s 15ms/step - loss: 12.4576 - accuracy: 0.1489\n",
      "Epoch 2/5\n",
      "30/30 [==============================] - 0s 12ms/step - loss: 2.8418 - accuracy: 0.3596\n",
      "Epoch 3/5\n",
      "30/30 [==============================] - 0s 13ms/step - loss: 0.5474 - accuracy: 0.8511\n",
      "Epoch 4/5\n",
      "30/30 [==============================] - 0s 10ms/step - loss: 0.4935 - accuracy: 0.8489\n",
      "Epoch 5/5\n",
      "30/30 [==============================] - 1s 18ms/step - loss: 0.4842 - accuracy: 0.8511\n"
     ]
    }
   ],
   "source": [
    "# 텐서플로 라이브러리 안에 있는 케라스 API에서 필요한 함수들을 불러옵니다.\n",
    "from tensorflow.keras.models import Sequential\n",
    "from tensorflow.keras.layers import Dense\n",
    "\n",
    "# 데이터를 다루는 데 필요한 라이브러리를 불러옵니다.\n",
    "import numpy as np\n",
    "\n",
    "# 준비된 수술 환자 데이터를 불러옵니다.\n",
    "Data_set = np.loadtxt(\"data/ThoraricSurgery3.csv\", delimiter=\",\") \n",
    "\n",
    "X = Data_set[:,0:16]  # 환자의 진찰 기록을 X로 지정합니다.\n",
    "y = Data_set[:,16]    # 수술 1년 후 사망/생존 여부를 y로 지정합니다.\n",
    "\n",
    "# 딥러닝 모델의 구조를 결정합니다.\n",
    "model = Sequential()\n",
    "model.add(Dense(30, input_dim=16, activation='relu'))\n",
    "model.add(Dense(1, activation='sigmoid'))\n",
    "\n",
    "# 딥러닝 모델을 실행합니다.\n",
    "model.compile(loss='binary_crossentropy', optimizer='adam', metrics=['accuracy'])\n",
    "history = model.fit(X, y, epochs=5, batch_size=16)"
   ]
  },
  {
   "cell_type": "code",
   "execution_count": 2,
   "metadata": {},
   "outputs": [
    {
     "data": {
      "text/html": [
       "<div>\n",
       "<style scoped>\n",
       "    .dataframe tbody tr th:only-of-type {\n",
       "        vertical-align: middle;\n",
       "    }\n",
       "\n",
       "    .dataframe tbody tr th {\n",
       "        vertical-align: top;\n",
       "    }\n",
       "\n",
       "    .dataframe thead th {\n",
       "        text-align: right;\n",
       "    }\n",
       "</style>\n",
       "<table border=\"1\" class=\"dataframe\">\n",
       "  <thead>\n",
       "    <tr style=\"text-align: right;\">\n",
       "      <th></th>\n",
       "      <th>pregnant</th>\n",
       "      <th>plasma</th>\n",
       "      <th>pressure</th>\n",
       "      <th>thickness</th>\n",
       "      <th>insulin</th>\n",
       "      <th>bmi</th>\n",
       "      <th>pedigree</th>\n",
       "      <th>age</th>\n",
       "      <th>diabetes</th>\n",
       "    </tr>\n",
       "  </thead>\n",
       "  <tbody>\n",
       "    <tr>\n",
       "      <th>0</th>\n",
       "      <td>6</td>\n",
       "      <td>148</td>\n",
       "      <td>72</td>\n",
       "      <td>35</td>\n",
       "      <td>0</td>\n",
       "      <td>33.6</td>\n",
       "      <td>0.627</td>\n",
       "      <td>50</td>\n",
       "      <td>1</td>\n",
       "    </tr>\n",
       "    <tr>\n",
       "      <th>1</th>\n",
       "      <td>1</td>\n",
       "      <td>85</td>\n",
       "      <td>66</td>\n",
       "      <td>29</td>\n",
       "      <td>0</td>\n",
       "      <td>26.6</td>\n",
       "      <td>0.351</td>\n",
       "      <td>31</td>\n",
       "      <td>0</td>\n",
       "    </tr>\n",
       "    <tr>\n",
       "      <th>2</th>\n",
       "      <td>8</td>\n",
       "      <td>183</td>\n",
       "      <td>64</td>\n",
       "      <td>0</td>\n",
       "      <td>0</td>\n",
       "      <td>23.3</td>\n",
       "      <td>0.672</td>\n",
       "      <td>32</td>\n",
       "      <td>1</td>\n",
       "    </tr>\n",
       "    <tr>\n",
       "      <th>3</th>\n",
       "      <td>1</td>\n",
       "      <td>89</td>\n",
       "      <td>66</td>\n",
       "      <td>23</td>\n",
       "      <td>94</td>\n",
       "      <td>28.1</td>\n",
       "      <td>0.167</td>\n",
       "      <td>21</td>\n",
       "      <td>0</td>\n",
       "    </tr>\n",
       "    <tr>\n",
       "      <th>4</th>\n",
       "      <td>0</td>\n",
       "      <td>137</td>\n",
       "      <td>40</td>\n",
       "      <td>35</td>\n",
       "      <td>168</td>\n",
       "      <td>43.1</td>\n",
       "      <td>2.288</td>\n",
       "      <td>33</td>\n",
       "      <td>1</td>\n",
       "    </tr>\n",
       "  </tbody>\n",
       "</table>\n",
       "</div>"
      ],
      "text/plain": [
       "   pregnant  plasma  pressure  thickness  insulin   bmi  pedigree  age  \\\n",
       "0         6     148        72         35        0  33.6     0.627   50   \n",
       "1         1      85        66         29        0  26.6     0.351   31   \n",
       "2         8     183        64          0        0  23.3     0.672   32   \n",
       "3         1      89        66         23       94  28.1     0.167   21   \n",
       "4         0     137        40         35      168  43.1     2.288   33   \n",
       "\n",
       "   diabetes  \n",
       "0         1  \n",
       "1         0  \n",
       "2         1  \n",
       "3         0  \n",
       "4         1  "
      ]
     },
     "execution_count": 2,
     "metadata": {},
     "output_type": "execute_result"
    }
   ],
   "source": [
    "import pandas as pd\n",
    "import matplotlib.pyplot as plt \n",
    "import seaborn as sns \n",
    "\n",
    "df = pd.read_csv('data/pima-indians-diabetes3.csv')\n",
    "\n",
    "df.head(5)"
   ]
  },
  {
   "cell_type": "code",
   "execution_count": 3,
   "metadata": {},
   "outputs": [
    {
     "data": {
      "text/plain": [
       "0    500\n",
       "1    268\n",
       "Name: diabetes, dtype: int64"
      ]
     },
     "execution_count": 3,
     "metadata": {},
     "output_type": "execute_result"
    }
   ],
   "source": [
    "# 정상과 당뇨 환자의 수 조사하기 \n",
    "df['diabetes'].value_counts()"
   ]
  },
  {
   "cell_type": "code",
   "execution_count": 4,
   "metadata": {},
   "outputs": [
    {
     "data": {
      "text/html": [
       "<div>\n",
       "<style scoped>\n",
       "    .dataframe tbody tr th:only-of-type {\n",
       "        vertical-align: middle;\n",
       "    }\n",
       "\n",
       "    .dataframe tbody tr th {\n",
       "        vertical-align: top;\n",
       "    }\n",
       "\n",
       "    .dataframe thead th {\n",
       "        text-align: right;\n",
       "    }\n",
       "</style>\n",
       "<table border=\"1\" class=\"dataframe\">\n",
       "  <thead>\n",
       "    <tr style=\"text-align: right;\">\n",
       "      <th></th>\n",
       "      <th>pregnant</th>\n",
       "      <th>plasma</th>\n",
       "      <th>pressure</th>\n",
       "      <th>thickness</th>\n",
       "      <th>insulin</th>\n",
       "      <th>bmi</th>\n",
       "      <th>pedigree</th>\n",
       "      <th>age</th>\n",
       "      <th>diabetes</th>\n",
       "    </tr>\n",
       "  </thead>\n",
       "  <tbody>\n",
       "    <tr>\n",
       "      <th>count</th>\n",
       "      <td>768.000000</td>\n",
       "      <td>768.000000</td>\n",
       "      <td>768.000000</td>\n",
       "      <td>768.000000</td>\n",
       "      <td>768.000000</td>\n",
       "      <td>768.000000</td>\n",
       "      <td>768.000000</td>\n",
       "      <td>768.000000</td>\n",
       "      <td>768.000000</td>\n",
       "    </tr>\n",
       "    <tr>\n",
       "      <th>mean</th>\n",
       "      <td>3.845052</td>\n",
       "      <td>120.894531</td>\n",
       "      <td>69.105469</td>\n",
       "      <td>20.536458</td>\n",
       "      <td>79.799479</td>\n",
       "      <td>31.992578</td>\n",
       "      <td>0.471876</td>\n",
       "      <td>33.240885</td>\n",
       "      <td>0.348958</td>\n",
       "    </tr>\n",
       "    <tr>\n",
       "      <th>std</th>\n",
       "      <td>3.369578</td>\n",
       "      <td>31.972618</td>\n",
       "      <td>19.355807</td>\n",
       "      <td>15.952218</td>\n",
       "      <td>115.244002</td>\n",
       "      <td>7.884160</td>\n",
       "      <td>0.331329</td>\n",
       "      <td>11.760232</td>\n",
       "      <td>0.476951</td>\n",
       "    </tr>\n",
       "    <tr>\n",
       "      <th>min</th>\n",
       "      <td>0.000000</td>\n",
       "      <td>0.000000</td>\n",
       "      <td>0.000000</td>\n",
       "      <td>0.000000</td>\n",
       "      <td>0.000000</td>\n",
       "      <td>0.000000</td>\n",
       "      <td>0.078000</td>\n",
       "      <td>21.000000</td>\n",
       "      <td>0.000000</td>\n",
       "    </tr>\n",
       "    <tr>\n",
       "      <th>25%</th>\n",
       "      <td>1.000000</td>\n",
       "      <td>99.000000</td>\n",
       "      <td>62.000000</td>\n",
       "      <td>0.000000</td>\n",
       "      <td>0.000000</td>\n",
       "      <td>27.300000</td>\n",
       "      <td>0.243750</td>\n",
       "      <td>24.000000</td>\n",
       "      <td>0.000000</td>\n",
       "    </tr>\n",
       "    <tr>\n",
       "      <th>50%</th>\n",
       "      <td>3.000000</td>\n",
       "      <td>117.000000</td>\n",
       "      <td>72.000000</td>\n",
       "      <td>23.000000</td>\n",
       "      <td>30.500000</td>\n",
       "      <td>32.000000</td>\n",
       "      <td>0.372500</td>\n",
       "      <td>29.000000</td>\n",
       "      <td>0.000000</td>\n",
       "    </tr>\n",
       "    <tr>\n",
       "      <th>75%</th>\n",
       "      <td>6.000000</td>\n",
       "      <td>140.250000</td>\n",
       "      <td>80.000000</td>\n",
       "      <td>32.000000</td>\n",
       "      <td>127.250000</td>\n",
       "      <td>36.600000</td>\n",
       "      <td>0.626250</td>\n",
       "      <td>41.000000</td>\n",
       "      <td>1.000000</td>\n",
       "    </tr>\n",
       "    <tr>\n",
       "      <th>max</th>\n",
       "      <td>17.000000</td>\n",
       "      <td>199.000000</td>\n",
       "      <td>122.000000</td>\n",
       "      <td>99.000000</td>\n",
       "      <td>846.000000</td>\n",
       "      <td>67.100000</td>\n",
       "      <td>2.420000</td>\n",
       "      <td>81.000000</td>\n",
       "      <td>1.000000</td>\n",
       "    </tr>\n",
       "  </tbody>\n",
       "</table>\n",
       "</div>"
      ],
      "text/plain": [
       "         pregnant      plasma    pressure   thickness     insulin         bmi  \\\n",
       "count  768.000000  768.000000  768.000000  768.000000  768.000000  768.000000   \n",
       "mean     3.845052  120.894531   69.105469   20.536458   79.799479   31.992578   \n",
       "std      3.369578   31.972618   19.355807   15.952218  115.244002    7.884160   \n",
       "min      0.000000    0.000000    0.000000    0.000000    0.000000    0.000000   \n",
       "25%      1.000000   99.000000   62.000000    0.000000    0.000000   27.300000   \n",
       "50%      3.000000  117.000000   72.000000   23.000000   30.500000   32.000000   \n",
       "75%      6.000000  140.250000   80.000000   32.000000  127.250000   36.600000   \n",
       "max     17.000000  199.000000  122.000000   99.000000  846.000000   67.100000   \n",
       "\n",
       "         pedigree         age    diabetes  \n",
       "count  768.000000  768.000000  768.000000  \n",
       "mean     0.471876   33.240885    0.348958  \n",
       "std      0.331329   11.760232    0.476951  \n",
       "min      0.078000   21.000000    0.000000  \n",
       "25%      0.243750   24.000000    0.000000  \n",
       "50%      0.372500   29.000000    0.000000  \n",
       "75%      0.626250   41.000000    1.000000  \n",
       "max      2.420000   81.000000    1.000000  "
      ]
     },
     "execution_count": 4,
     "metadata": {},
     "output_type": "execute_result"
    }
   ],
   "source": [
    "df.describe()"
   ]
  },
  {
   "cell_type": "code",
   "execution_count": 5,
   "metadata": {},
   "outputs": [
    {
     "data": {
      "text/html": [
       "<div>\n",
       "<style scoped>\n",
       "    .dataframe tbody tr th:only-of-type {\n",
       "        vertical-align: middle;\n",
       "    }\n",
       "\n",
       "    .dataframe tbody tr th {\n",
       "        vertical-align: top;\n",
       "    }\n",
       "\n",
       "    .dataframe thead th {\n",
       "        text-align: right;\n",
       "    }\n",
       "</style>\n",
       "<table border=\"1\" class=\"dataframe\">\n",
       "  <thead>\n",
       "    <tr style=\"text-align: right;\">\n",
       "      <th></th>\n",
       "      <th>pregnant</th>\n",
       "      <th>plasma</th>\n",
       "      <th>pressure</th>\n",
       "      <th>thickness</th>\n",
       "      <th>insulin</th>\n",
       "      <th>bmi</th>\n",
       "      <th>pedigree</th>\n",
       "      <th>age</th>\n",
       "      <th>diabetes</th>\n",
       "    </tr>\n",
       "  </thead>\n",
       "  <tbody>\n",
       "    <tr>\n",
       "      <th>pregnant</th>\n",
       "      <td>1.000000</td>\n",
       "      <td>0.129459</td>\n",
       "      <td>0.141282</td>\n",
       "      <td>-0.081672</td>\n",
       "      <td>-0.073535</td>\n",
       "      <td>0.017683</td>\n",
       "      <td>-0.033523</td>\n",
       "      <td>0.544341</td>\n",
       "      <td>0.221898</td>\n",
       "    </tr>\n",
       "    <tr>\n",
       "      <th>plasma</th>\n",
       "      <td>0.129459</td>\n",
       "      <td>1.000000</td>\n",
       "      <td>0.152590</td>\n",
       "      <td>0.057328</td>\n",
       "      <td>0.331357</td>\n",
       "      <td>0.221071</td>\n",
       "      <td>0.137337</td>\n",
       "      <td>0.263514</td>\n",
       "      <td>0.466581</td>\n",
       "    </tr>\n",
       "    <tr>\n",
       "      <th>pressure</th>\n",
       "      <td>0.141282</td>\n",
       "      <td>0.152590</td>\n",
       "      <td>1.000000</td>\n",
       "      <td>0.207371</td>\n",
       "      <td>0.088933</td>\n",
       "      <td>0.281805</td>\n",
       "      <td>0.041265</td>\n",
       "      <td>0.239528</td>\n",
       "      <td>0.065068</td>\n",
       "    </tr>\n",
       "    <tr>\n",
       "      <th>thickness</th>\n",
       "      <td>-0.081672</td>\n",
       "      <td>0.057328</td>\n",
       "      <td>0.207371</td>\n",
       "      <td>1.000000</td>\n",
       "      <td>0.436783</td>\n",
       "      <td>0.392573</td>\n",
       "      <td>0.183928</td>\n",
       "      <td>-0.113970</td>\n",
       "      <td>0.074752</td>\n",
       "    </tr>\n",
       "    <tr>\n",
       "      <th>insulin</th>\n",
       "      <td>-0.073535</td>\n",
       "      <td>0.331357</td>\n",
       "      <td>0.088933</td>\n",
       "      <td>0.436783</td>\n",
       "      <td>1.000000</td>\n",
       "      <td>0.197859</td>\n",
       "      <td>0.185071</td>\n",
       "      <td>-0.042163</td>\n",
       "      <td>0.130548</td>\n",
       "    </tr>\n",
       "    <tr>\n",
       "      <th>bmi</th>\n",
       "      <td>0.017683</td>\n",
       "      <td>0.221071</td>\n",
       "      <td>0.281805</td>\n",
       "      <td>0.392573</td>\n",
       "      <td>0.197859</td>\n",
       "      <td>1.000000</td>\n",
       "      <td>0.140647</td>\n",
       "      <td>0.036242</td>\n",
       "      <td>0.292695</td>\n",
       "    </tr>\n",
       "    <tr>\n",
       "      <th>pedigree</th>\n",
       "      <td>-0.033523</td>\n",
       "      <td>0.137337</td>\n",
       "      <td>0.041265</td>\n",
       "      <td>0.183928</td>\n",
       "      <td>0.185071</td>\n",
       "      <td>0.140647</td>\n",
       "      <td>1.000000</td>\n",
       "      <td>0.033561</td>\n",
       "      <td>0.173844</td>\n",
       "    </tr>\n",
       "    <tr>\n",
       "      <th>age</th>\n",
       "      <td>0.544341</td>\n",
       "      <td>0.263514</td>\n",
       "      <td>0.239528</td>\n",
       "      <td>-0.113970</td>\n",
       "      <td>-0.042163</td>\n",
       "      <td>0.036242</td>\n",
       "      <td>0.033561</td>\n",
       "      <td>1.000000</td>\n",
       "      <td>0.238356</td>\n",
       "    </tr>\n",
       "    <tr>\n",
       "      <th>diabetes</th>\n",
       "      <td>0.221898</td>\n",
       "      <td>0.466581</td>\n",
       "      <td>0.065068</td>\n",
       "      <td>0.074752</td>\n",
       "      <td>0.130548</td>\n",
       "      <td>0.292695</td>\n",
       "      <td>0.173844</td>\n",
       "      <td>0.238356</td>\n",
       "      <td>1.000000</td>\n",
       "    </tr>\n",
       "  </tbody>\n",
       "</table>\n",
       "</div>"
      ],
      "text/plain": [
       "           pregnant    plasma  pressure  thickness   insulin       bmi  \\\n",
       "pregnant   1.000000  0.129459  0.141282  -0.081672 -0.073535  0.017683   \n",
       "plasma     0.129459  1.000000  0.152590   0.057328  0.331357  0.221071   \n",
       "pressure   0.141282  0.152590  1.000000   0.207371  0.088933  0.281805   \n",
       "thickness -0.081672  0.057328  0.207371   1.000000  0.436783  0.392573   \n",
       "insulin   -0.073535  0.331357  0.088933   0.436783  1.000000  0.197859   \n",
       "bmi        0.017683  0.221071  0.281805   0.392573  0.197859  1.000000   \n",
       "pedigree  -0.033523  0.137337  0.041265   0.183928  0.185071  0.140647   \n",
       "age        0.544341  0.263514  0.239528  -0.113970 -0.042163  0.036242   \n",
       "diabetes   0.221898  0.466581  0.065068   0.074752  0.130548  0.292695   \n",
       "\n",
       "           pedigree       age  diabetes  \n",
       "pregnant  -0.033523  0.544341  0.221898  \n",
       "plasma     0.137337  0.263514  0.466581  \n",
       "pressure   0.041265  0.239528  0.065068  \n",
       "thickness  0.183928 -0.113970  0.074752  \n",
       "insulin    0.185071 -0.042163  0.130548  \n",
       "bmi        0.140647  0.036242  0.292695  \n",
       "pedigree   1.000000  0.033561  0.173844  \n",
       "age        0.033561  1.000000  0.238356  \n",
       "diabetes   0.173844  0.238356  1.000000  "
      ]
     },
     "execution_count": 5,
     "metadata": {},
     "output_type": "execute_result"
    }
   ],
   "source": [
    "df.corr()"
   ]
  },
  {
   "cell_type": "code",
   "execution_count": 9,
   "metadata": {},
   "outputs": [
    {
     "data": {
      "image/png": "[encoded data removed]",
      "text/plain": [
       "<Figure size 864x864 with 2 Axes>"
      ]
     },
     "metadata": {
      "needs_background": "light"
     },
     "output_type": "display_data"
    }
   ],
   "source": [
    "import seaborn as sns \n",
    "\n",
    "plt.figure(figsize=(12, 12))\n",
    "\n",
    "sns.heatmap(df.corr(), linewidth=0.1, vmax=0.5, cmap='summer', linecolor='white', annot=True)\n",
    "plt.show()"
   ]
  },
  {
   "cell_type": "code",
   "execution_count": 10,
   "metadata": {},
   "outputs": [
    {
     "data": {
      "image/png": "[encoded data removed]",
      "text/plain": [
       "<Figure size 432x288 with 1 Axes>"
      ]
     },
     "metadata": {
      "needs_background": "light"
     },
     "output_type": "display_data"
    }
   ],
   "source": [
    "#plasma를 기준으로 각각 정상과 당뇨가 어느 정도 비율로 분포하는지 살펴봅니다. \n",
    "plt.hist(x=[df.plasma[df.diabetes==0], df.plasma[df.diabetes==1]], bins=30, \n",
    "         histtype='barstacked', label=['normal','diabetes'])\n",
    "plt.legend()\n",
    "plt.show()"
   ]
  },
  {
   "cell_type": "code",
   "execution_count": 13,
   "metadata": {},
   "outputs": [
    {
     "data": {
      "image/png": "[encoded data removed]",
      "text/plain": [
       "<Figure size 432x288 with 1 Axes>"
      ]
     },
     "metadata": {
      "needs_background": "light"
     },
     "output_type": "display_data"
    }
   ],
   "source": [
    "#plasma를 기준으로 각각 정상과 당뇨가 어느 정도 비율로 분포하는지 살펴봅니다. \n",
    "plt.hist(x=[df.bmi[df.diabetes==0], df.bmi[df.diabetes==1]], bins=30, \n",
    "         histtype='barstacked', label=['normal','diabetes'])\n",
    "plt.legend()\n",
    "plt.show()"
   ]
  },
  {
   "cell_type": "code",
   "execution_count": 49,
   "metadata": {},
   "outputs": [
    {
     "name": "stdout",
     "output_type": "stream",
     "text": [
      "Epoch 1/100\n",
      "77/77 [==============================] - 6s 11ms/step - loss: 2.8820 - accuracy: 0.5742\n",
      "Epoch 2/100\n",
      "77/77 [==============================] - 1s 15ms/step - loss: 0.7847 - accuracy: 0.6250\n",
      "Epoch 3/100\n",
      "77/77 [==============================] - 2s 20ms/step - loss: 0.7087 - accuracy: 0.6484\n",
      "Epoch 4/100\n",
      "77/77 [==============================] - 1s 11ms/step - loss: 0.7278 - accuracy: 0.6536\n",
      "Epoch 5/100\n",
      "77/77 [==============================] - 1s 10ms/step - loss: 0.6692 - accuracy: 0.6927\n",
      "Epoch 6/100\n",
      "77/77 [==============================] - 1s 10ms/step - loss: 0.6640 - accuracy: 0.6693\n",
      "Epoch 7/100\n",
      "77/77 [==============================] - 1s 12ms/step - loss: 0.6356 - accuracy: 0.6953\n",
      "Epoch 8/100\n",
      "77/77 [==============================] - 1s 18ms/step - loss: 0.6021 - accuracy: 0.6901\n",
      "Epoch 9/100\n",
      "77/77 [==============================] - 1s 16ms/step - loss: 0.5909 - accuracy: 0.7240\n",
      "Epoch 10/100\n",
      "77/77 [==============================] - 1s 19ms/step - loss: 0.6072 - accuracy: 0.7122\n",
      "Epoch 11/100\n",
      "77/77 [==============================] - 1s 16ms/step - loss: 0.5884 - accuracy: 0.7122\n",
      "Epoch 12/100\n",
      "77/77 [==============================] - 1s 16ms/step - loss: 0.5983 - accuracy: 0.6901\n",
      "Epoch 13/100\n",
      "77/77 [==============================] - 1s 13ms/step - loss: 0.6280 - accuracy: 0.7188\n",
      "Epoch 14/100\n",
      "77/77 [==============================] - 1s 15ms/step - loss: 0.6119 - accuracy: 0.7005\n",
      "Epoch 15/100\n",
      "77/77 [==============================] - 1s 15ms/step - loss: 0.6218 - accuracy: 0.7018\n",
      "Epoch 16/100\n",
      "77/77 [==============================] - 1s 16ms/step - loss: 0.6182 - accuracy: 0.7031\n",
      "Epoch 17/100\n",
      "77/77 [==============================] - 1s 15ms/step - loss: 0.5984 - accuracy: 0.7214\n",
      "Epoch 18/100\n",
      "77/77 [==============================] - 1s 10ms/step - loss: 0.5680 - accuracy: 0.7161\n",
      "Epoch 19/100\n",
      "77/77 [==============================] - 2s 20ms/step - loss: 0.5453 - accuracy: 0.7383\n",
      "Epoch 20/100\n",
      "77/77 [==============================] - 1s 16ms/step - loss: 0.5462 - accuracy: 0.7331\n",
      "Epoch 21/100\n",
      "77/77 [==============================] - 1s 11ms/step - loss: 0.5481 - accuracy: 0.7279\n",
      "Epoch 22/100\n",
      "77/77 [==============================] - 1s 14ms/step - loss: 0.5700 - accuracy: 0.7083\n",
      "Epoch 23/100\n",
      "77/77 [==============================] - 2s 20ms/step - loss: 0.5642 - accuracy: 0.7135\n",
      "Epoch 24/100\n",
      "77/77 [==============================] - 1s 12ms/step - loss: 0.6378 - accuracy: 0.6914\n",
      "Epoch 25/100\n",
      "77/77 [==============================] - 2s 21ms/step - loss: 0.5438 - accuracy: 0.7461\n",
      "Epoch 26/100\n",
      "77/77 [==============================] - 1s 10ms/step - loss: 0.5304 - accuracy: 0.7448\n",
      "Epoch 27/100\n",
      "77/77 [==============================] - 1s 17ms/step - loss: 0.5399 - accuracy: 0.7383\n",
      "Epoch 28/100\n",
      "77/77 [==============================] - 1s 15ms/step - loss: 0.5984 - accuracy: 0.7214\n",
      "Epoch 29/100\n",
      "77/77 [==============================] - 1s 18ms/step - loss: 0.5315 - accuracy: 0.7383\n",
      "Epoch 30/100\n",
      "77/77 [==============================] - 1s 18ms/step - loss: 0.5666 - accuracy: 0.7318\n",
      "Epoch 31/100\n",
      "77/77 [==============================] - 1s 20ms/step - loss: 0.5399 - accuracy: 0.7174\n",
      "Epoch 32/100\n",
      "77/77 [==============================] - 1s 13ms/step - loss: 0.5697 - accuracy: 0.7201\n",
      "Epoch 33/100\n",
      "77/77 [==============================] - 1s 14ms/step - loss: 0.5424 - accuracy: 0.7266\n",
      "Epoch 34/100\n",
      "77/77 [==============================] - 1s 13ms/step - loss: 0.5580 - accuracy: 0.7096\n",
      "Epoch 35/100\n",
      "77/77 [==============================] - 2s 21ms/step - loss: 0.5546 - accuracy: 0.7161\n",
      "Epoch 36/100\n",
      "77/77 [==============================] - 2s 24ms/step - loss: 0.5333 - accuracy: 0.7331\n",
      "Epoch 37/100\n",
      "77/77 [==============================] - 1s 16ms/step - loss: 0.5262 - accuracy: 0.7422\n",
      "Epoch 38/100\n",
      "77/77 [==============================] - 1s 15ms/step - loss: 0.5165 - accuracy: 0.7461\n",
      "Epoch 39/100\n",
      "77/77 [==============================] - 1s 16ms/step - loss: 0.5373 - accuracy: 0.7383\n",
      "Epoch 40/100\n",
      "77/77 [==============================] - 1s 17ms/step - loss: 0.5218 - accuracy: 0.7604\n",
      "Epoch 41/100\n",
      "77/77 [==============================] - 1s 15ms/step - loss: 0.5212 - accuracy: 0.7526\n",
      "Epoch 42/100\n",
      "77/77 [==============================] - 1s 17ms/step - loss: 0.5272 - accuracy: 0.7435\n",
      "Epoch 43/100\n",
      "77/77 [==============================] - 1s 14ms/step - loss: 0.5249 - accuracy: 0.7448\n",
      "Epoch 44/100\n",
      "77/77 [==============================] - 1s 10ms/step - loss: 0.5469 - accuracy: 0.7344\n",
      "Epoch 45/100\n",
      "77/77 [==============================] - 1s 13ms/step - loss: 0.5091 - accuracy: 0.7552\n",
      "Epoch 46/100\n",
      "77/77 [==============================] - 1s 17ms/step - loss: 0.5482 - accuracy: 0.7370\n",
      "Epoch 47/100\n",
      "77/77 [==============================] - 1s 18ms/step - loss: 0.5111 - accuracy: 0.7513\n",
      "Epoch 48/100\n",
      "77/77 [==============================] - 1s 17ms/step - loss: 0.5116 - accuracy: 0.7682\n",
      "Epoch 49/100\n",
      "77/77 [==============================] - 1s 16ms/step - loss: 0.5125 - accuracy: 0.7474\n",
      "Epoch 50/100\n",
      "77/77 [==============================] - 1s 16ms/step - loss: 0.5081 - accuracy: 0.7448\n",
      "Epoch 51/100\n",
      "77/77 [==============================] - 1s 15ms/step - loss: 0.5049 - accuracy: 0.7565\n",
      "Epoch 52/100\n",
      "77/77 [==============================] - 1s 18ms/step - loss: 0.5007 - accuracy: 0.7695\n",
      "Epoch 53/100\n",
      "77/77 [==============================] - 1s 14ms/step - loss: 0.5182 - accuracy: 0.7370\n",
      "Epoch 54/100\n",
      "77/77 [==============================] - 2s 22ms/step - loss: 0.5385 - accuracy: 0.7513\n",
      "Epoch 55/100\n",
      "77/77 [==============================] - 1s 14ms/step - loss: 0.5054 - accuracy: 0.7643\n",
      "Epoch 56/100\n",
      "77/77 [==============================] - 1s 12ms/step - loss: 0.4983 - accuracy: 0.7578\n",
      "Epoch 57/100\n",
      "77/77 [==============================] - 1s 18ms/step - loss: 0.5189 - accuracy: 0.7552\n",
      "Epoch 58/100\n",
      "77/77 [==============================] - 2s 20ms/step - loss: 0.4918 - accuracy: 0.7552\n",
      "Epoch 59/100\n",
      "77/77 [==============================] - 1s 16ms/step - loss: 0.5082 - accuracy: 0.7643\n",
      "Epoch 60/100\n",
      "77/77 [==============================] - 1s 12ms/step - loss: 0.4930 - accuracy: 0.7552\n",
      "Epoch 61/100\n",
      "77/77 [==============================] - 1s 14ms/step - loss: 0.4929 - accuracy: 0.7682\n",
      "Epoch 62/100\n",
      "77/77 [==============================] - 1s 10ms/step - loss: 0.4954 - accuracy: 0.7643\n",
      "Epoch 63/100\n",
      "77/77 [==============================] - 1s 14ms/step - loss: 0.5097 - accuracy: 0.7331\n",
      "Epoch 64/100\n",
      "77/77 [==============================] - 1s 16ms/step - loss: 0.4873 - accuracy: 0.7448\n",
      "Epoch 65/100\n",
      "77/77 [==============================] - 1s 19ms/step - loss: 0.4905 - accuracy: 0.7747\n",
      "Epoch 66/100\n",
      "77/77 [==============================] - 1s 19ms/step - loss: 0.4906 - accuracy: 0.7812\n",
      "Epoch 67/100\n",
      "77/77 [==============================] - 2s 20ms/step - loss: 0.4943 - accuracy: 0.7448\n",
      "Epoch 68/100\n",
      "77/77 [==============================] - 1s 13ms/step - loss: 0.5008 - accuracy: 0.7474\n",
      "Epoch 69/100\n",
      "77/77 [==============================] - 1s 12ms/step - loss: 0.4981 - accuracy: 0.7591\n",
      "Epoch 70/100\n",
      "77/77 [==============================] - 1s 13ms/step - loss: 0.4892 - accuracy: 0.7682\n",
      "Epoch 71/100\n",
      "77/77 [==============================] - 1s 12ms/step - loss: 0.5049 - accuracy: 0.7370\n",
      "Epoch 72/100\n",
      "77/77 [==============================] - 1s 13ms/step - loss: 0.4775 - accuracy: 0.7708\n",
      "Epoch 73/100\n",
      "77/77 [==============================] - 1s 16ms/step - loss: 0.4784 - accuracy: 0.7513\n",
      "Epoch 74/100\n",
      "77/77 [==============================] - 2s 23ms/step - loss: 0.4988 - accuracy: 0.7721\n",
      "Epoch 75/100\n",
      "77/77 [==============================] - 1s 11ms/step - loss: 0.4822 - accuracy: 0.7630\n",
      "Epoch 76/100\n",
      "77/77 [==============================] - 1s 13ms/step - loss: 0.4828 - accuracy: 0.7708\n",
      "Epoch 77/100\n",
      "77/77 [==============================] - 1s 17ms/step - loss: 0.4865 - accuracy: 0.7656\n",
      "Epoch 78/100\n",
      "77/77 [==============================] - 1s 19ms/step - loss: 0.4639 - accuracy: 0.7786\n",
      "Epoch 79/100\n",
      "77/77 [==============================] - 1s 11ms/step - loss: 0.4762 - accuracy: 0.7760\n",
      "Epoch 80/100\n",
      "77/77 [==============================] - 1s 16ms/step - loss: 0.4723 - accuracy: 0.7630\n",
      "Epoch 81/100\n",
      "77/77 [==============================] - 2s 20ms/step - loss: 0.4735 - accuracy: 0.7682\n",
      "Epoch 82/100\n",
      "77/77 [==============================] - 1s 16ms/step - loss: 0.4888 - accuracy: 0.7448\n",
      "Epoch 83/100\n",
      "77/77 [==============================] - 2s 21ms/step - loss: 0.4906 - accuracy: 0.7578\n",
      "Epoch 84/100\n",
      "77/77 [==============================] - 1s 15ms/step - loss: 0.4644 - accuracy: 0.7695\n",
      "Epoch 85/100\n",
      "77/77 [==============================] - 1s 18ms/step - loss: 0.4846 - accuracy: 0.7552\n",
      "Epoch 86/100\n",
      "77/77 [==============================] - 1s 16ms/step - loss: 0.4843 - accuracy: 0.7695\n",
      "Epoch 87/100\n",
      "77/77 [==============================] - 1s 16ms/step - loss: 0.4757 - accuracy: 0.7630\n",
      "Epoch 88/100\n",
      "77/77 [==============================] - 1s 14ms/step - loss: 0.4918 - accuracy: 0.7708\n",
      "Epoch 89/100\n",
      "77/77 [==============================] - 1s 11ms/step - loss: 0.4639 - accuracy: 0.7826\n",
      "Epoch 90/100\n",
      "77/77 [==============================] - 1s 10ms/step - loss: 0.4689 - accuracy: 0.7852\n",
      "Epoch 91/100\n",
      "77/77 [==============================] - 1s 12ms/step - loss: 0.4640 - accuracy: 0.7799\n",
      "Epoch 92/100\n",
      "77/77 [==============================] - 1s 16ms/step - loss: 0.4676 - accuracy: 0.7695\n",
      "Epoch 93/100\n",
      "77/77 [==============================] - 2s 21ms/step - loss: 0.4644 - accuracy: 0.7760\n",
      "Epoch 94/100\n",
      "77/77 [==============================] - 1s 13ms/step - loss: 0.4587 - accuracy: 0.7904\n",
      "Epoch 95/100\n",
      "77/77 [==============================] - 1s 11ms/step - loss: 0.4634 - accuracy: 0.7878\n",
      "Epoch 96/100\n",
      "77/77 [==============================] - 1s 14ms/step - loss: 0.4790 - accuracy: 0.7630\n",
      "Epoch 97/100\n",
      "77/77 [==============================] - 1s 11ms/step - loss: 0.4442 - accuracy: 0.7982\n",
      "Epoch 98/100\n",
      "77/77 [==============================] - 2s 20ms/step - loss: 0.4548 - accuracy: 0.7969\n",
      "Epoch 99/100\n",
      "77/77 [==============================] - 1s 13ms/step - loss: 0.4599 - accuracy: 0.7734\n",
      "Epoch 100/100\n",
      "77/77 [==============================] - 2s 23ms/step - loss: 0.4532 - accuracy: 0.7956\n"
     ]
    }
   ],
   "source": [
    "# 텐서플로 라이브러리 안에 있는 케라스 API에서 필요한 함수들을 불러옵니다.\n",
    "from tensorflow.keras.models import Sequential\n",
    "from tensorflow.keras.layers import Dense\n",
    "\n",
    "# 데이터를 다루는 데 필요한 라이브러리를 불러옵니다.\n",
    "import numpy as np\n",
    "\n",
    "X = df.drop('diabetes', axis=1)  # 환자의 진찰 기록을 X로 지정합니다.\n",
    "y = df['diabetes']    # 수술 1년 후 사망/생존 여부를 y로 지정합니다.\n",
    "\n",
    "# 딥러닝 모델의 구조를 결정합니다.\n",
    "model = Sequential()\n",
    "model.add(Dense(64, input_dim=8, activation='relu'))\n",
    "model.add(Dense(32, activation='relu'))\n",
    "model.add(Dense(1, activation='sigmoid'))\n",
    "\n",
    "# 딥러닝 모델을 실행합니다.\n",
    "model.compile(loss='binary_crossentropy', optimizer='adam', metrics=['accuracy'])\n",
    "history = model.fit(X, y, epochs=100, batch_size=10, verbose=1)"
   ]
  },
  {
   "cell_type": "code",
   "execution_count": 46,
   "metadata": {},
   "outputs": [
    {
     "data": {
      "image/png": "[encoded data removed]",
      "text/plain": [
       "<Figure size 432x288 with 1 Axes>"
      ]
     },
     "metadata": {
      "needs_background": "light"
     },
     "output_type": "display_data"
    }
   ],
   "source": [
    "plt.plot(history.history['loss'])\n",
    "plt.title('loss')\n",
    "plt.show()"
   ]
  },
  {
   "cell_type": "code",
   "execution_count": 47,
   "metadata": {},
   "outputs": [
    {
     "data": {
      "image/png": "[encoded data removed]",
      "text/plain": [
       "<Figure size 432x288 with 1 Axes>"
      ]
     },
     "metadata": {
      "needs_background": "light"
     },
     "output_type": "display_data"
    }
   ],
   "source": [
    "plt.plot(history.history['accuracy'])\n",
    "plt.title('accuracy')\n",
    "plt.show()"
   ]
  },
  {
   "cell_type": "code",
   "execution_count": 21,
   "metadata": {},
   "outputs": [
    {
     "data": {
      "text/plain": [
       "(768, 9)"
      ]
     },
     "execution_count": 21,
     "metadata": {},
     "output_type": "execute_result"
    }
   ],
   "source": [
    "df.shape"
   ]
  }
 ],
 "metadata": {
  "kernelspec": {
   "display_name": "Python 3.10.0 64-bit",
   "language": "python",
   "name": "python3"
  },
  "language_info": {
   "codemirror_mode": {
    "name": "ipython",
    "version": 3
   },
   "file_extension": ".py",
   "mimetype": "text/x-python",
   "name": "python",
   "nbconvert_exporter": "python",
   "pygments_lexer": "ipython3",
   "version": "3.10.10"
  },
  "orig_nbformat": 4,
  "vscode": {
   "interpreter": {
    "hash": "1ed1f76483e4d532c2a47a0bad31080b16a7f7d0106ba342ff005fcfacb5105f"
   }
  }
 },
 "nbformat": 4,
 "nbformat_minor": 2
}
